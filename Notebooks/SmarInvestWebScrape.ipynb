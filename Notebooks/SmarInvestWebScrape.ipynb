{
 "cells": [
  {
   "cell_type": "markdown",
   "id": "45d7e2ea-9c7c-4ae1-bc27-4b70a8eb667e",
   "metadata": {},
   "source": [
    "<hr style=\"height:5px;border-width:0;color:MediumAquamarine;background-color:MediumAquamarine\">\n",
    "\n",
    "# Data Scraping for SmartInvest\n",
    "\n",
    "- [API Reference]()\n",
    "- [Reference](https://www.cnbc.com/)\n",
    "\n",
    "<hr style=\"height:5px;border-width:0;color:MediumAquamarine;background-color:MediumAquamarine\">"
   ]
  },
  {
   "cell_type": "raw",
   "id": "24ed0212-f288-4b76-8166-96c2e720c083",
   "metadata": {},
   "source": []
  },
  {
   "cell_type": "markdown",
   "id": "b31c8516-9011-4b84-b5d0-4048acad79fc",
   "metadata": {},
   "source": [
    "### Table of Contents <a class=\"anchor\" id=\"PSCRAPE_toc\"></a>\n",
    "\n",
    "* [Table of Contents](#PSCRAPE_toc)\n",
    "    * [1. Abstract](#PSCRAPE_page_1)\n",
    "    * [2. Imported Libraries](#PSCRAPE_page_2)\n",
    "    * [3. Import Data](#PSCRAPE_page_3)\n",
    "    * [4. Setting Notebook Options](#PSCRAPE_page_4)\n",
    "    * [5. Looking at the Data](#PSCRAPE_page_5)\n",
    "    * [6. Checking the Column Names](#PSCRAPE_page_6)\n",
    "    * [7. Cleaning the Column Names](#PSCRAPE_page_7)\n",
    "    * [8. Creating a new Cleaned Dataset](#PSCRAPE_page_8)\n",
    "    * [9. Counting Columns](#PSCRAPE_page_9)\n",
    "    * [10. Get Info about the Dataset](#PSCRAPE_page_10)\n",
    "    * [11. Get Descriptive Statistics about the Dataset](#PSCRAPE_page_11)\n",
    "    * [12. Counting Rows and Removing any NANs](#PSCRAPE_page_12)\n",
    "    * [13. Correlation Analysis](#PSCRAPE_page_13)\n",
    "    * [14. Principal Component Analysis (PCA)](#PSCRAPE_page_14)\n",
    "    * [15. Group Comparison](#PSCRAPE_page_15)\n",
    "    * [16. TBD](#PSCRAPE_page_16)\n",
    "    * [17. Groupby Function](#PSCRAPE_page_17)"
   ]
  },
  {
   "cell_type": "markdown",
   "id": "5363eb5f-c618-401b-a3bb-f685ec7d91d2",
   "metadata": {},
   "source": [
    "<hr style=\"height:5px;border-width:0;color:MediumAquamarine;background-color:MediumAquamarine\">\n",
    "\n",
    "# Page 1 - Abstract <a class=\"anchor\" id=\"PSCRAPE_page_1\"></a>\n",
    "\n",
    "[Back to Top](#PSCRAPE_toc)\n",
    "\n",
    "<hr style=\"height:5px;border-width:0;color:MediumAquamarine;background-color:MediumAquamarine\">"
   ]
  },
  {
   "cell_type": "markdown",
   "id": "3f871ff6-7f22-47fc-b437-e1fa97ee7300",
   "metadata": {},
   "source": [
    ">This abstract presents the utilization of the BeautifulSoup Python library to web scrape textual data from the CNBC financial news outlet. The scraped data serves as the foundation for developing a sentiment indicator aimed at stock market analysis. By extracting relevant financial news articles and employing sentiment analysis techniques, sentiment scores are assigned to the text, indicating whether the sentiment expressed in the articles is positive, negative, or neutral. These sentiment scores can be aggregated over time to create a sentiment indicator, providing valuable insights into market sentiment and assisting traders and investors in making informed decisions."
   ]
  },
  {
   "cell_type": "markdown",
   "id": "b8f607bd-beac-4b75-ade4-0d6f6debded9",
   "metadata": {},
   "source": [
    "<hr style=\"height:5px;border-width:0;color:MediumAquamarine;background-color:MediumAquamarine\">\n",
    "\n",
    "# Page 2 - Imported Libraries<a class=\"anchor\" id=\"PSCRAPE_page_2\"></a>\n",
    "\n",
    "[Back to Top](#PSCRAPE_toc)\n",
    "\n",
    "<hr style=\"height:5px;border-width:0;color:MediumAquamarine;background-color:MediumAquamarine\">\n"
   ]
  },
  {
   "cell_type": "code",
   "execution_count": 2,
   "id": "a3eb7332-75e3-4d6c-bfca-b4fd2f3da924",
   "metadata": {},
   "outputs": [],
   "source": [
    "import requests\n",
    "from bs4 import BeautifulSoup"
   ]
  },
  {
   "cell_type": "markdown",
   "id": "1b75e5d3-4975-4148-a6fd-5021bafb540b",
   "metadata": {},
   "source": [
    "<hr style=\"height:5px;border-width:0;color:MediumAquamarine;background-color:MediumAquamarine\">\n",
    "\n",
    "# Page 3 - Import Data<a class=\"anchor\" id=\"PSCRAPE_page_3\"></a>\n",
    "\n",
    "[Back to Top](#PSCRAPE_toc)\n",
    "\n",
    "<hr style=\"height:5px;border-width:0;color:MediumAquamarine;background-color:MediumAquamarine\">\n"
   ]
  },
  {
   "cell_type": "code",
   "execution_count": 3,
   "id": "3c2f68a1-e530-4932-95e8-6f01b8778b74",
   "metadata": {},
   "outputs": [],
   "source": [
    "# Create object URL\n",
    "#URL = \"https://www.cnbc.com/\"\n",
    "#page = requests.get(URL)\n",
    "\n",
    "#soup = BeautifulSoup(page.content, \"html.parser\")"
   ]
  },
  {
   "cell_type": "code",
   "execution_count": 8,
   "id": "2d175dae-4292-4f85-866a-7fc1b32bb16d",
   "metadata": {},
   "outputs": [],
   "source": [
    "# Build error response into https requesting content from the webpage\n",
    "\n",
    "URL = \"https://www.cnbc.com/\"\n",
    "\n",
    "page = requests.get(URL)\n",
    "\n",
    "if page.status_code != 200:\n",
    "    print(\"Error fetching page\")\n",
    "    exit()\n",
    "else:\n",
    "    content = page.content\n",
    "#print(content)"
   ]
  },
  {
   "cell_type": "markdown",
   "id": "c200ff1f-c31e-471b-b3b9-6009f3e3dffa",
   "metadata": {},
   "source": [
    "## Primary Headline"
   ]
  },
  {
   "cell_type": "code",
   "execution_count": 69,
   "id": "e4714f9e-9205-4288-a9fd-dd394851436f",
   "metadata": {},
   "outputs": [],
   "source": [
    "URL = \"https://www.cnbc.com/\""
   ]
  },
  {
   "cell_type": "code",
   "execution_count": 70,
   "id": "e6d7c1f0-7989-446e-a949-cccfc48cc5f0",
   "metadata": {},
   "outputs": [],
   "source": [
    "page = requests.get(URL)"
   ]
  },
  {
   "cell_type": "code",
   "execution_count": 71,
   "id": "63b13758-d7d9-4728-9e2c-c43f09ceab46",
   "metadata": {},
   "outputs": [],
   "source": [
    "soup = BeautifulSoup(page.content, \"html.parser\")"
   ]
  },
  {
   "cell_type": "code",
   "execution_count": 72,
   "id": "e1ff7f9c-f1b2-4efe-b60e-f5e8dfca206c",
   "metadata": {},
   "outputs": [],
   "source": [
    "\n",
    "\n",
    "# This pulls pulls the URL and Main Headline Data\n",
    "soup.find('div', class_=\"FeaturedCard-packagedCardTitle\")"
   ]
  },
  {
   "cell_type": "code",
   "execution_count": 73,
   "id": "68f7237e-4321-48fa-9592-e9f491be41b7",
   "metadata": {},
   "outputs": [],
   "source": [
    "result = soup.find_all('div', class_=\"FeaturedCard-packagedCardTitle\")"
   ]
  },
  {
   "cell_type": "code",
   "execution_count": 74,
   "id": "a715d2b4-fb1d-4f11-bd7a-9ab92523d7bb",
   "metadata": {},
   "outputs": [
    {
     "name": "stdout",
     "output_type": "stream",
     "text": [
      "Dow falls to session lows as Speaker McCarthy says debt ceiling talks still hung up on spending\n"
     ]
    }
   ],
   "source": [
    "for headline in soup.find_all('div', class_=\"FeaturedCard-contentText\"):\n",
    "    links = headline.find_all(\"a\")\n",
    "    for link in links:\n",
    "        print(link.text.strip())"
   ]
  },
  {
   "cell_type": "markdown",
   "id": "05f0338a-fef5-4665-8c12-5338712f8c60",
   "metadata": {},
   "source": [
    "## Secondary Headlines"
   ]
  },
  {
   "cell_type": "code",
   "execution_count": 76,
   "id": "d37044e3-bec6-461e-91a9-2cf53aadb47c",
   "metadata": {},
   "outputs": [],
   "source": [
    "result_secondary = soup.find_all('div', class_=\"SecondaryCard-headline\")"
   ]
  },
  {
   "cell_type": "code",
   "execution_count": 77,
   "id": "1931f45e-fa7f-4c47-9998-4b4c9e225a24",
   "metadata": {},
   "outputs": [
    {
     "name": "stdout",
     "output_type": "stream",
     "text": [
      "Debt ceiling talks hit a snag over spending levels with eight days until default deadline\n",
      "Meta has started its latest round of layoffs, focusing on business groups\n"
     ]
    }
   ],
   "source": [
    "for headline in soup.find_all('div', class_=\"SecondaryCard-headline\"):\n",
    "    links = headline.find_all(\"a\")\n",
    "    for link in links:\n",
    "        print(link.text.strip())"
   ]
  },
  {
   "cell_type": "markdown",
   "id": "120bc56c-d9e2-4b6b-aab4-f1632a338882",
   "metadata": {},
   "source": [
    "## Latest News Headline"
   ]
  },
  {
   "cell_type": "code",
   "execution_count": 78,
   "id": "a23b85c3-d659-4d06-b553-1e31326f03dd",
   "metadata": {},
   "outputs": [],
   "source": [
    "result_latest = soup.find_all('div', class_=\"LatestNews-headlineWrapper\")"
   ]
  },
  {
   "cell_type": "code",
   "execution_count": 79,
   "id": "0fa1cdbc-f9fd-48c2-b04e-22dbb5d70142",
   "metadata": {},
   "outputs": [
    {
     "name": "stdout",
     "output_type": "stream",
     "text": [
      "Former JPMorgan exec Staley loses bid to dismiss suit over Jeffrey Epstein ties\n",
      "\n",
      "Here’s why retailers are beating earnings estimates, even with lackluster sales\n",
      "'Queer Eye's Jonathan Van Ness shares his No. 1 tip for healthy hair\n",
      "Top 10 best U.S. cities for new college graduates\n",
      "\n",
      "These financial stocks were most loved—and hated—by hedge funds\n",
      "\n",
      "'Chin up and don't put a lot of money to work' — why Cramer is getting worried\n",
      "Biden, Dems plan beefed-up 50-state fundraising strategy to overwhelm GOP rivals\n",
      "Fastest-growing jobs that don't require a bachelor's degree—some pay over $100K\n",
      "College enrollment continues to slide as students question the value of a four-year degree\n",
      "\n",
      "EV startups conserve cash as make-or-break moment approaches\n",
      "TSA PreCheck makes sense amid busy travel season — if you can get it in time\n",
      "Debt ceiling talks hit a snag with eight days until default deadline\n",
      "In Disney-DeSantis fight, former AG Bill Barr backs Florida governor\n",
      "Harvard brain expert shares 5 things she 'never ever' does to boost focus and stop forgetting things\n",
      "Harvard career expert: 3 strategies to land a new role in a tight job market\n",
      "\n",
      "Deutsche Bank says this small-cap stock can rally nearly 50%\n",
      "Share of high earners living paycheck to paycheck jumps year over year\n",
      "A.I. poses existential risk, ex-Google CEO Eric Schmidt says\n",
      "\n",
      "Jim Cramer's top 10 things to watch in the stock market Wednesday\n",
      "Financial coach: Why an HSA is at least 17% better than a 401(k)\n",
      "\n",
      "Wednesday's top analyst calls: Tesla, Amazon, Alphabet, Netflix, Apple & more\n",
      "Citigroup to spin off its Mexico business, Banamex, after sale efforts collapse\n",
      "Airbnb CEO: Here's 'the best piece of advice I ever got'\n",
      "Meta has started its latest round of layoffs, focusing on business groups\n",
      "SoftBank hits back at S&P after it cuts credit rating further into junk\n",
      "Abercrombie & Fitch surges more than 20% after reporting surprise profit\n",
      "\n",
      "Bank of America boosts price target on Eli Lilly to $500 on obesity drug demand\n",
      "Stocks making the biggest moves premarket: Moderna, Kohl's, Intuit & more\n",
      "Without a hint of irony, Putin rages against countries that meddle in other states\n",
      "Top EU regulator defends mega $1.3 billion privacy fine on Meta\n"
     ]
    }
   ],
   "source": [
    "for headline in soup.find_all('div', class_=\"LatestNews-headlineWrapper\"):\n",
    "    links = headline.find_all(\"a\")\n",
    "    for link in links:\n",
    "        print(link.text.strip())"
   ]
  },
  {
   "cell_type": "markdown",
   "id": "0c2e467a-5eb3-41b8-b238-5d95c633952b",
   "metadata": {},
   "source": [
    "## In the above titles there are headlines that do not contribute for sentiment analysis. The Next task is to write the loop so it omits headlines if the are categorized as health and wellness."
   ]
  },
  {
   "cell_type": "code",
   "execution_count": null,
   "id": "0b0086d7-0daa-452e-8312-41156dcf4ff7",
   "metadata": {},
   "outputs": [],
   "source": [
    "for headline in soup.find_all('div', class_=\"LatestNews-headlineWrapper\"):\n",
    "    links = headline.find_all(\"a\")\n",
    "    for link in links:\n",
    "        if headline.find_all(\"a\") = class=\"ArticleHeader-styles-makeit-eyebrow--Degp4\":\n",
    "            \n",
    "        print(link.text.strip())"
   ]
  },
  {
   "cell_type": "code",
   "execution_count": 81,
   "id": "33f334f9-37e4-4ebf-a8d4-7ddb254ee6f6",
   "metadata": {},
   "outputs": [
    {
     "name": "stdout",
     "output_type": "stream",
     "text": [
      "Former JPMorgan exec Staley loses bid to dismiss suit over Jeffrey Epstein ties\n",
      "\n",
      "Here’s why retailers are beating earnings estimates, even with lackluster sales\n",
      "'Queer Eye's Jonathan Van Ness shares his No. 1 tip for healthy hair\n",
      "Top 10 best U.S. cities for new college graduates\n",
      "\n",
      "These financial stocks were most loved—and hated—by hedge funds\n",
      "\n",
      "'Chin up and don't put a lot of money to work' — why Cramer is getting worried\n",
      "Biden, Dems plan beefed-up 50-state fundraising strategy to overwhelm GOP rivals\n",
      "Fastest-growing jobs that don't require a bachelor's degree—some pay over $100K\n",
      "College enrollment continues to slide as students question the value of a four-year degree\n",
      "\n",
      "EV startups conserve cash as make-or-break moment approaches\n",
      "TSA PreCheck makes sense amid busy travel season — if you can get it in time\n",
      "Debt ceiling talks hit a snag with eight days until default deadline\n",
      "In Disney-DeSantis fight, former AG Bill Barr backs Florida governor\n",
      "Harvard brain expert shares 5 things she 'never ever' does to boost focus and stop forgetting things\n",
      "Harvard career expert: 3 strategies to land a new role in a tight job market\n",
      "\n",
      "Deutsche Bank says this small-cap stock can rally nearly 50%\n",
      "Share of high earners living paycheck to paycheck jumps year over year\n",
      "A.I. poses existential risk, ex-Google CEO Eric Schmidt says\n",
      "\n",
      "Jim Cramer's top 10 things to watch in the stock market Wednesday\n",
      "Financial coach: Why an HSA is at least 17% better than a 401(k)\n",
      "\n",
      "Wednesday's top analyst calls: Tesla, Amazon, Alphabet, Netflix, Apple & more\n",
      "Citigroup to spin off its Mexico business, Banamex, after sale efforts collapse\n",
      "Airbnb CEO: Here's 'the best piece of advice I ever got'\n",
      "Meta has started its latest round of layoffs, focusing on business groups\n",
      "SoftBank hits back at S&P after it cuts credit rating further into junk\n",
      "Abercrombie & Fitch surges more than 20% after reporting surprise profit\n",
      "\n",
      "Bank of America boosts price target on Eli Lilly to $500 on obesity drug demand\n",
      "Stocks making the biggest moves premarket: Moderna, Kohl's, Intuit & more\n",
      "Without a hint of irony, Putin rages against countries that meddle in other states\n",
      "Top EU regulator defends mega $1.3 billion privacy fine on Meta\n"
     ]
    }
   ],
   "source": [
    "for headline in soup.find_all('div', class_=\"LatestNews-headlineWrapper\"):\n",
    "    links = headline.find_all(\"a\")\n",
    "    for link in links:\n",
    "        if \"make-it\" not in link.get('href') and \"ArticleHeader-styles-make-it-eyebrow--Degp4\" not in link.get('class', []):\n",
    "            print(link.text.strip())"
   ]
  },
  {
   "cell_type": "code",
   "execution_count": 34,
   "id": "3cf11589-2283-4c6c-a793-a9efb53ccb14",
   "metadata": {},
   "outputs": [
    {
     "name": "stdout",
     "output_type": "stream",
     "text": [
      "https://www.cnbc.com/2023/05/22/stock-market-today-live-updates.html\n",
      "\n",
      "https://www.cnbc.com/2023/05/22/stock-market-today-live-updates.html\n",
      "\n",
      "https://www.cnbc.com/2023/05/23/desantis-bundlers-presidential-campaign.html\n",
      "\n",
      "https://www.cnbc.com/2023/05/23/desantis-bundlers-presidential-campaign.html\n",
      "\n"
     ]
    }
   ],
   "source": [
    "for headline in soup.find_all('div', class_=\"SecondaryCardContainer-container\"):\n",
    "    # -- snip --\n",
    "    links = headline.find_all(\"a\")\n",
    "    for link in links:\n",
    "        link_url = link[\"href\"]\n",
    "        print(f\"{link_url}\\n\")\n",
    "        list_urls.append(link_url)"
   ]
  },
  {
   "cell_type": "code",
   "execution_count": 35,
   "id": "12e510dc-3fe0-4fe8-81cf-b6533fc64571",
   "metadata": {},
   "outputs": [
    {
     "data": {
      "text/plain": [
       "['https://www.cnbc.com/2023/05/22/stock-market-today-live-updates.html',\n",
       " 'https://www.cnbc.com/2023/05/22/stock-market-today-live-updates.html',\n",
       " 'https://www.cnbc.com/2023/05/23/desantis-bundlers-presidential-campaign.html',\n",
       " 'https://www.cnbc.com/2023/05/23/desantis-bundlers-presidential-campaign.html']"
      ]
     },
     "execution_count": 35,
     "metadata": {},
     "output_type": "execute_result"
    }
   ],
   "source": [
    "list_urls"
   ]
  },
  {
   "cell_type": "code",
   "execution_count": 36,
   "id": "e509e02a-33d3-4c24-992e-62330b21135e",
   "metadata": {},
   "outputs": [],
   "source": [
    "list_titles = []"
   ]
  },
  {
   "cell_type": "code",
   "execution_count": 38,
   "id": "6884ca63-5359-4e6c-9358-44a4659e37c2",
   "metadata": {},
   "outputs": [
    {
     "name": "stdout",
     "output_type": "stream",
     "text": [
      "\n",
      "S&P 500 closes 1% lower Tuesday as debt ceiling talks drag on in Washington\n",
      "\n",
      "Ron DeSantis lines up business leaders to raise money for 2024 presidential run\n"
     ]
    }
   ],
   "source": [
    "for headline in soup.find_all('div', class_=\"SecondaryCardContainer-container\"):\n",
    "    links = headline.find_all(\"a\")\n",
    "    for link in links:\n",
    "        title_text = link.text.strip()\n",
    "        print(title_text)\n",
    "        list_titles.append(title_text)"
   ]
  },
  {
   "cell_type": "code",
   "execution_count": 39,
   "id": "109180fb-1707-4cec-94ec-02ebdf37c6e0",
   "metadata": {},
   "outputs": [
    {
     "data": {
      "text/plain": [
       "['',\n",
       " 'S&P 500 closes 1% lower Tuesday as debt ceiling talks drag on in Washington',\n",
       " '',\n",
       " 'Ron DeSantis lines up business leaders to raise money for 2024 presidential run',\n",
       " '',\n",
       " 'S&P 500 closes 1% lower Tuesday as debt ceiling talks drag on in Washington',\n",
       " '',\n",
       " 'Ron DeSantis lines up business leaders to raise money for 2024 presidential run']"
      ]
     },
     "execution_count": 39,
     "metadata": {},
     "output_type": "execute_result"
    }
   ],
   "source": [
    "list_titles"
   ]
  },
  {
   "cell_type": "code",
   "execution_count": 46,
   "id": "701487ff-a11e-48ff-81d8-13a1ee983571",
   "metadata": {
    "collapsed": true,
    "jupyter": {
     "outputs_hidden": true
    }
   },
   "outputs": [
    {
     "data": {
      "text/plain": [
       "[]"
      ]
     },
     "execution_count": 46,
     "metadata": {},
     "output_type": "execute_result"
    }
   ],
   "source": [
    "article_text"
   ]
  },
  {
   "cell_type": "code",
   "execution_count": 59,
   "id": "b29e3cbe-a214-441f-bc50-6fe1a0c763ec",
   "metadata": {},
   "outputs": [
    {
     "name": "stdout",
     "output_type": "stream",
     "text": [
      "Stock market today: Live updatesSkip NavigationwatchliveMarketsPre-MarketsU.S. MarketsCurrenciesCryptocurrencyFutures & CommoditiesBondsFunds & ETFsBusinessEconomyFinanceHealth & ScienceMediaReal EstateEnergyClimateTransportationIndustrialsRetailWealthLifeSmall BusinessInvestingPersonal FinanceFintechFinancial AdvisorsOptions ActionETF StreetBuffett ArchiveEarningsTrader TalkTechCybersecurityEnterpriseInternetMediaMobileSocial MediaCNBC Disruptor 50Tech GuidePoliticsWhite HousePolicyDefenseCongressEquity and OpportunityCNBC TVLive TVLive AudioBusiness Day ShowsEntertainment ShowsFull EpisodesLatest VideoTop VideoCEO InterviewsCNBC DocumentariesCNBC PodcastsCNBC WorldDigital OriginalsLive TV ScheduleWatchlistInvesting ClubTrust PortfolioAnalysisTrade AlertsMeeting VideosHomestretchJim's ColumnsEducationPROPro NewsPro LiveMarket ForecastSubscribeSign InMenuMake ItselectALL SELECTCredit Cards Loans Banking Mortgages Insurance Credit Monitoring Personal Finance Small Business Taxes Help for Low Credit Scores Investing SELECTAll Credit CardsFind the Credit Card for YouBest Credit CardsBest Rewards Credit CardsBest Travel Credit CardsBest 0% APR Credit CardsBest Balance Transfer Credit CardsBest Cash Back Credit CardsBest Credit Card Welcome BonusesBest Credit Cards to Build CreditSELECTAll LoansFind the Best Personal Loan for YouBest Personal LoansBest Debt Consolidation LoansBest Loans to Refinance Credit Card DebtBest Loans with Fast FundingBest Small Personal LoansBest Large Personal LoansBest Personal Loans to Apply OnlineBest Student Loan RefinanceSELECTAll BankingFind the Savings Account for YouBest High Yield Savings AccountsBest Big Bank Savings AccountsBest Big Bank Checking AccountsBest No Fee Checking AccountsNo Overdraft Fee Checking AccountsBest Checking Account BonusesBest Money Market AccountsBest CDsBest Credit UnionsSELECTAll MortgagesBest MortgagesBest Mortgages for Small Down PaymentBest Mortgages for No Down PaymentBest Mortgages with No Origination FeeBest Mortgages for Average Credit ScoreAdjustable Rate MortgagesAffording a MortgageSELECTAll InsuranceBest Life InsuranceBest Homeowners InsuranceBest Renters InsuranceBest Car InsuranceTravel InsuranceSELECTAll Credit MonitoringBest Credit Monitoring ServicesBest Identity Theft ProtectionHow to Boost Your Credit ScoreCredit Repair ServicesSELECTAll Personal FinanceBest Budgeting AppsBest Expense Tracker AppsBest Money Transfer AppsBest Resale Apps and SitesBuy Now Pay Later (BNPL) AppsBest Debt ReliefSELECTAll Small BusinessBest Small Business Savings AccountsBest Small Business Checking AccountsBest Credit Cards for Small BusinessBest Small Business LoansBest Tax Software for Small BusinessSELECTAll TaxesBest Tax SoftwareBest Tax Software for Small BusinessesTax RefundsSELECTAll Help for Low Credit ScoresBest Credit Cards for Bad CreditBest Personal Loans for Bad CreditBest Debt Consolidation Loans for Bad CreditPersonal Loans if You Don't Have CreditBest Credit Cards for Building CreditPersonal Loans for 580 Credit Score or LowerPersonal Loans for 670 Credit Score or LowerBest Mortgages for Bad CreditBest Hardship LoansHow to Boost Your Credit ScoreSELECTAll InvestingBest IRA AccountsBest Roth IRA AccountsBest Investing AppsBest Free Stock Trading PlatformsBest Robo-AdvisorsIndex FundsMutual FundsETFsBondsUSAINTLwatchliveSearch quotes, news & videosWatchlistSIGN INCreate free accountMarketsBusinessInvestingTechPoliticsCNBC TVWatchlistInvesting ClubPROMenuUpdated Tue, May 23 20234:23 PM EDTShareShare Article via FacebookShare Article via TwitterShare Article via LinkedInShare Article via EmailS&P 500 closes 1% lower Tuesday as debt ceiling talks drag on in Washington: Live updatesSamantha SubinAlex HarringVIDEO2:2802:28Broadcom bolsters stock with new Apple deal. Here's why the experts like itMarket MoversStocks fell Tuesday as ongoing debt ceiling discussions appeared to yield little progress.The S&P 500 dropped 1.12% to settle at 4,145.58, while the Nasdaq Composite pulled back 1.26% to close at 12,560.25. The Dow Jones Industrial Average lost 231.07 points, or 0.69%, to finish at 33,055.51.Some traders interpreted the lack of any major updates on negotiations as a sign that lawmakers, perhaps, are struggling to progress as hoped.CNBCInvestors have been closely eyeing debt-limit negotiations in Washington, hoping for more certainty as the so-called June 1 X-date expected by Treasury Secretary Janet Yellen fast approaches. Some House Republicans on Tuesday questioned the accuracy of this projected default date.On Monday, Kevin McCarthy and President Joe Biden met at the White House, in a discussion that the House speaker described as \"productive\" and \"professional,\" although the hourlong talk concluded without a resolution.\"We are sending a very negative signal about our ability to run our economy, let alone be a anchor for the rest of the world,\" Mohamed El-Erian said on CNBC's \"Squawk Box\" on Tuesday. \"And the market so far has actually dealt with it very well.\"The Allianz chief economic advisor said he's \"very impressed\" by the recent market stability. El-Erian added that he views the S&P 500 as fairly priced despite this recent headwind and uncertainty surrounding the Federal Reserve's next rate move.While lawmakers should achieve a resolution to the debt ceiling woes, Aspiriant's Sandi Bragar remains cautious as recession fears persist. Recent history suggests a downturn will likely come when the Federal Reserve completes its hiking cycle, she added.\"Everyone just feels like there is a party in the market and wanting to participate,\" the chief client officer said. \"I don't think that it's really time to get too excited just yet. There's reason to be cautious here.\"Elsewhere, Apple moved 1.5% lower after announcing a multibillion-dollar chip production deal with Broadcom. The chip stock gained 1.2%. Yelp popped 5.7% as an activist investor called for the company to explore a sale.—CNBC's Christina Wilkie contributed to this report.21 Min AgoStocks finish lower on Tuesday, S&P 500 drops 1.1%Stocks sold off on Tuesday as debt ceiling negotiations pressed on.The S&P 500 dropped 1.12% to settle at 4,145.67, while the  Nasdaq Composite shed 1.26% to close at 12,560.25. The Dow Jones Industrial Average lost 231.01 points, or 0.69%, to finish at 33,055.57.— Samantha Subin42 Min AgoConsumer staples, utilities vulnerable to backup in bond yields, Strategas saysConsumer staples and utility stocks are vulnerable to this month's backup in 10-year and 30-year Treasury yields, said Chris Verrone, head of technical and macro research at Strategas Securities.\"Rates have continued to show some life over the last few weeks, and with upward pressure on yields has come downward pressure to Staples and Utilities both of which traded to multi month relative performance lows\" on Monday, Verrone wrote in a note Tuesday. Utility stocks are faring worse than staples, \"spending much of the last 6 months below the 200-day [moving average] and home to some pronounced top formations at the individual stock level.\"Ten-year Treasury note yields touched 3.725% on Tuesday, the highest since March 13, and about 46 basis points higher just since April 6. A basis point is 1/100th of a percentage point.Meanwhile, the S&P 500 Utility Index is down almost 5% in May (second worse only to energy stocks), S&P 500 Consumer Staples stocks are off by 4.2% in May, while the S&P 500 Index is down only 0.5% this month.— Scott Schnipper, Michael Bloom50 Min AgoBlackRock launches two active ETFs, including a fund run by Rick RiederBlackRock debuted two actively managed ETFs on Tuesday, managed by two of the asset management giant's top investors.The BlackRock's Flexible Income ETF (BINC) is managed by Rick Rieder, the firm's CIO of global fixed income. The actively managed fund has a net expense ratio of 0.40%, and is aiming for a yield of 7%.BlackRock also debuted an active equity fund. The BlackRock Large Cap Value ETF (BLCV) is managed by Tony DeSpirito, the firm's global CIO of fundamental equities.— Jesse Pound59 Min AgoBuy the dip on silver, Citi saysSilver futures are down more than 5% over the past month, but Citi thinks this is a buying opportunity. \"Silver prices have retraced below $24/oz ... as weak economic data have undermined confidence in China's economic rebound. Having said this, our trade recommendation remains up 4.8%, and we see this pullback as a buying opportunity and reiterate our call for silver to hit $30/oz by year-end,\" wrote Citi's Viswanathrao Kintali. \"We think this is achievable purely in response to a US growth rollover, however a major China easing would be a bullish kicker for the trade.\"Stock Chart IconStock chart iconSilver in past month— Fred Imbert, Michael Bloom1 Hour AgoCasino stocks fall as health official says China should see 65 million weekly Covid cases in new waveCasino stocks Caesars, MGM and Wynn were all down more than 5% in the final hour of Tuesday's session.Bloomberg reported Monday morning that China will likely see a peak of 65 million Covid infections a week in its next wave toward the end of June, citing a senior health official. The official said the country should see around 40 million infections per week by the end of May before reaching the peak.— Alex Harring1 Hour AgoVaccine stocks jumpShares of a slew of Covid-19 vaccine makers surged on Tuesday.Moderna popped 9.4%, while BioNTech and Pfizer jumped gained 10.1% and 2.6%, respectively.The moves came amid reports of a potential new wave of Covid-19 infections in China that could lead to millions of new cases each week.— Samantha Subin1 Hour AgoShares of hotel franchiser Wyndham jump on news of potential buy dealNews that Choice Hotels may acquire Wyndham Hotels & Resorts pushed shares of the latter to jump 7.4%, according to a report from The Wall Street Journal.Shares of Choice Hotels fell 3.6% on the news. The two budget hotel franchises are currently in serious talks, according to the report.Stock Chart IconStock chart iconShares of the hotel franchises moved in opposite directions on the news— Hakyung Kim1 Hour AgoStocks hover near lowsStocks traded near their lows as the final hour of trading commenced.The Dow was last down about 183 points, or 0.6%. The S&P 500 lost 0.9% and Nasdaq Composite traded 1.1% lower. — Samantha Subin2 Hours AgoBank of America says Broadcom is the ‘most underappreciated AI beneficiary’ Broadcom is the \"most underappreciated AI beneficiary\" after its deal with Apple, according to Bank of America.Analyst Vivek Arya hiked his price objective on the stock after Apple on Tuesday announced a multibillion-dollar deal with Broadcom for 5G radio frequency components made in the U.S., saying it removes an \"overhang\" on the stock.\"We believe this is a positive development as it removes one key overhang on AVGO stock – namely the risk of Apple's insourcing of connectivity components – surfaced in media reports earlier this year,\" Arya wrote in a Tuesday note.Shares added about 2% during Tuesday's trading session.Read more on the call here.— Sarah Min2 Hours AgoHouse Republicans question urgency of June 1 deadlineSome House Republicans on Tuesday raised skepticism over Treasury Department Secretary Janet Yellen's deadline to raise the debt ceiling and avert a default.\"We'd like to see more transparency on how they come to that date,\" House Majority Leader Rep. Steve Scalise said Tuesday at a news conference.He added that Yellen's Monday comments signal some \"openness to the idea that June 1 may not be the so called X-date.\"— Christina Wilkie, Samantha Subin2 Hours AgoWatch this chipmaker for a break into the top of artificial intelligence roster, Bank of America saysAdvanced Micro Devices could be on track to gain a greater market share of the artificial intelligence accelerator market, according to Bank of America.\"AMD is on the verge of another large opportunity in the $80bn AI accelerator market (by CY27E) where AMD's share is again effectively zero against leader Nvidia,\" analyst Vivek Arya said.Stock Chart IconStock chart iconAMD stock.The firm remains neutral on AMD stock but raised its price target on Monday.CNBC Pro subscribers can read the full story here.— Brian Evans3 Hours AgoOdds of U.S. government default are still low, BlackRock's Rieder saysBlackRock CIO of global fixed income Rick Rieder said that he remains confident lawmakers will work out a deal on the debt ceiling. \"I think the markets and myself are putting a very high probability that something gets done. The timing of that is unclear,\" Rieder said at a media event Tuesday. The fixed income investor acknowledged that Treasury Secretary Janet Yellen's warning of an early June deadline was earlier than many experts previously expected. \"I think there's a sense of urgency now that you've got to come to a conclusion on this over the next couple of weeks, and presumably get to at least a framework by the end of this week,\" Rieder added. — Jesse Pound3 Hours AgoMicrosoft is Jefferies' top pick thanks to artificial intelligence bullishness Microsoft will keep gaining traction as investors add to artificial intelligence bets, according to Jefferies.\"MSFT has taken pole position in what is likely to be a decade-long industry evolution,\" Jefferies analyst Brent Thill said. \"AMZN won round 1 of Cloud wars. MSFT could be the winner of round 2.\"Stock Chart IconStock chart iconMicrosoft stock.The firm reiterated a buy rating on Microsoft stock on Tuesday.CNBC Pro subscribers can read the full story here.— Brian Evans4 Hours AgoStocks making the biggest moves middayThese are some of the stocks making the biggest moves midday:Yelp — Shares of the online reviewing company jumped more than 9% after activist investor TCS Capital Management took a stake in the firm, saying in an open letter that the company should explore strategic alternatives, including a sale.AutoZone — The auto retailer's shares fell more than 5% after missing revenue expectations for the fiscal third quarter.Lowe's Companies — The home improvement retailer advanced 2.8% on a first-quarter earnings report that beat analyst expectations. But the company cut its full-year outlook.See the full list of stocks moving here.— Alex Harring4 Hours AgoA chill on larger deals in the biopharma space shouldn't slow M&A for smaller companies, Janus says The Federal Trade Commission's attempt to block the Amgen-Horizon Therapeutics deal will have a chilling effect on large deals, valued at $15 billion or more, in the biopharma space, said Andy Acker, a portfolio manager at Janus Henderson Investors. However, that could accelerate smaller deals, he said, speaking at a virtual conference sponsored by the asset manager.More than $70 billion in deals have been announced in the biotech and pharmaceuticals industry so far this year — more than in all of 2022, he said. Two of the key forces behind this activity are the need for larger pharmaceutical companies to replace the revenue they are losing due to patent expirations and the difficulty smaller companies are having accessing capital.Horizon shares are down more than 11% since the start of the year, as concerns about the Amgen deal weigh on its stock price.— Christina Cheddar Berk5 Hours AgoNvidia remains the company to beat in A.I. sector, Stifel saysNvidia will remain the top player in the artificial intelligence space as investments grow, according to Stifel.\"NVDA remains the best-positioned component/ systems company to benefit from the AI investment cycle in the medium term, in our view,\" Stifel analyst Ruben Roy said.The firm reiterated a hold rating on Nvidia stock with a renewed price target. Shares of Nvidia slipped 1%.Stock Chart IconStock chart iconNvidia stock.CNBC Pro subscribers can read the full story here.— Brian Evans5 Hours AgoYelp shares jump after activist investor pushes for a saleShares of Yelp jumped more than 9% after activist investor TCS Capital Management took a stake in the firm, asking in an open letter that the company should explore strategic alternatives, including a sale. TSC Capital built a bet of more than 4% in Yelp, becoming the company's top five shareholders. TCS said Yelp is \"shockingly undervalued\" and could be sold to a private equity buyer for at least $70 per share, a more than 120% premium. Another option TSC brought up is to explore a tax-free merger with  internet services company Angi to be a leader in the $500 billion home services market.— Yun Li5 Hours AgoBroadcom, Microsoft among stocks hitting multi-year highsBroadcom rose on Tuesday following a chip production deal with Apple to trade near all-time highs dating back to August 2009, when Avago went public. Microsoft also rose to trade at its highest level since January 2022, while Advanced Micro Devices hit its highest point since April 2022.These stocks also notched new 52-week highs:Exact Sciences trading at levels not seen since December 2021GXO Logistics trading at levels not seen since May 2022Dynatrace trading at levels not seen since February 2022Palantir Technologies trading at levels not seen since April 2022Viasat trading at levels not seen since Aprril 2022CCC Intelligent Solutions trading at levels not seen since Aprtil 2022Vitesse Energy trading at all-time highs back to its spin-off from Jefferies in January 2023Here are the name hitting fresh lows:Frontier Communications trading at all-time lows back to its exit from bankruptcy in April 2021Victoria's Secret & Company trading at all-time lows back to its spin-off from Bath & Body Works in August 2021Royalty Pharma trading at all-time lows back to its IPO in June 2020WeWork trading at all-time lows back to its SPAC merger in October 2021— Samantha Subin6 Hours AgoPacWest, regional banks stocks riseShares of hard-hit regional bank stock PacWest popped more than 19% on Tuesday.The move built on gains from Monday as the bank shared its plan to sell real estate loans worth about $2.6 billion to a unit of Kennedy-Wilson Holdings. Other regional banking names also moved higher, including shares of Zions Bancorporation, Comerica and KeyCorp.Amid the recent banking turmoil that contributed to the collapse of Silicon Valley Bank and Signature Bank, PacWest shares have dropped more than 64% this year and sit about 75% off their 52-week highs.— Samantha Subin6 Hours AgoSen. Ted Cruz thinks debt ceiling deal will be reachedA deal will be likely reached on the debt ceiling, Sen. Ted Cruz believes.\"\"I think a deal will be reached, but I worry that the chances of a default are greater than they ever have been,\" the Republican from Texas said in an interview with CNBC's \"Squawk Box.\"\"I worry that this White House is reckless enough to force a default. I don't think that'll happen. I think that's less likely than not. But the odds are higher than we should be happy with.\"— Michelle Fox6 Hours AgoOil rises more than 1% after Saudi minister says 'watch out' ahead of OPEC+ meetingOil prices rose after Saudi oil minister Prince Abdulaziz bin Salman told market speculators on Tuesday they should \"watch out,\" bolstering fears that there could be future challenges in the market.\"Speculators, like in any market, they are there to stay. I keep advising that they will be ouching. They did ouch in April. I don't have to show my cards, I'm not [a] poker player … but I would just tell them, watch out,\" he said during an energy-focused panel of the Qatar Economic Forum in Doha.Both Brent and WTI crudes gained more than 1%, or about $1, on Tuesday.— Alex Harring, Ruxandra Iordache6 Hours AgoEnergy stocks outperform as oil gainsEnergy stocks gained on Tuesday as oil price rose, lifting the S&P 500 sector about 1.5% during morning trading.Some of the outperformers included Chevron, rising nearly 3% on an upgrade from HSBC. APA Corp, Exxon Mobil, Marathon Oil and Occidental Petroleum rose more than 1% each, — Samantha Subin6 Hours AgoCopper reaches 2023 lowCopper prices hit a low not seen since the year began.The metal reached $3.622, its lowest since it notched $3.5955 on Nov. 29, 2022.Copper has dropped 6.8% since the month began. That puts it on track for its worse performance since June 2022, when the metal tumbled 13.6%.The prices of most metals were down in Tuesday's session on the back of a weak demand outlook for China and rising concerns over the state of U.S. debt ceiling negotiations.— Alex Harring, Gina Francolla6 Hours AgoNew home sales in April beat expectationsNew home sales rose 4.1% to 683,000 in April, according to data released Tuesday.That came in above a Dow Jones estimate of 669,000 and the previous month's print. Sales for March were revised to 656,000.Elsewhere, Richmond Fed manufacturing data for May came in at -15, the lowest reading since February. — Samantha Subin7 Hours AgoMay PMI comes in lower than expectedThe May reading for the Purchasing Managers Index (PMI) came in at 48.5. That was lower than the 50.0 consensus estimate, according to economists polled by Dow Jones. — Sarah Min7 Hours AgoMarkets are slowly taking Fed rate cuts off the tableMarkets are reacting to recent hawkish talk from Federal Reserve officials, now pricing in only one rate cut this year.Traders in the fed funds futures market were pricing in just a 23.4% chance of an interest rate increase at the June 13-14 Fed meeting, according to the CME Group.However, they also now see at most one decrease by the end of the year, assigning a 58.3% probability that the central bank will drop the funds rate to a 4.75%-5% target.In recent weeks, markets had been pricing in up to three cuts. However, policymakers in recent days have spoken against the likelihood of a loosening of policy, with Minneapolis Fed President Neel Kashkari telling CNBC on Monday that it's possible rates will rise if inflation doesn't slow.— Jeff Cox7 Hours AgoStocks fall at the openThe Dow slid more than 100 points to start Tuesday's session, while the S&P 500 and Nasdaq dipped 0.5% each. — Fred Imbert7 Hours AgoApple announces Broadcom chip dealBroadcom shares jumped 3% before the bell on news that its signed a multibillion-dollar deal with Apple to create 5G components in the U.S.Through the multi-year deal, the companies will design and build the products in across several U.S.-based facilities, including Fort Collins, Colorado. Apple shares dipped 0.6%. The company said the deal stems from its 2021 plan to invest $430 billion in the U.S. economy. — Samantha Subin8 Hours AgoYelp shares jump in the premarket Yelp shares jumped 11% in Tuesday premarket trading.The move comes after activist investor TCS Capital Management on Tuesday confirmed reports that it's built a stake of more than 4% in Yelp, and is asking the company to explore strategic alternatives including a sale, according to an open letter to the Yelp board of directors.\"We believe that Yelp is shockingly undervalued and could be sold to either a strategic or private equity buyer for at least $70 per share – or more than a 120% premium to Yelp's current stock price based on reasonable valuation assumptions,\" read the letter.Separately, the firm said Yelp should consider a merger with Angi, previously known as Angie's List, to expand into the home services market.Stock Chart IconStock chart iconYelp shares 1-day— Sarah Min8 Hours AgoPhiladelphia Fed nonmanufacturing index improves from AprilA regional nonmanufacturing reading from the Federal Reserve Bank of Philadelphia showed activity improve slightly in May.The findings from the Philadelphia Fed nonmanufacturing survey showed regional activity improve to -16 in May from -22.8 in April. It marked the third consecutive negative monthly reading of the survey.— Samantha Subin8 Hours AgoHSBC eyes Chevron in upgrade to buy from hold Chevron could be a top gainer among oil giants if oil recovers from a 6% loss so far in May, according to HSBC. Shares gained 1% before the bell as analysts upgraded the stock to a buy from a hold rating. Shares have pulled back 11.4% from the start of the year, which HSBC attributes to lower oil prices. But this could signal a buying opportunity. Stock Chart IconStock chart iconChevron stock.\"The shares' de-rating has opened up a valuation opportunity, notably compared to Exxon: its consensus-based [price-to-cash flow] multiple has fallen to a more than 3-year low vs its US Supermajor peer,\" HSBC analyst Kim Fustier said.CNBC Pro subscribers can read the full story here.— Brian Evans9 Hours AgoStocks making the biggest moves premarketCheck out the companies making headlines before the bell:Yelp — Yelp shares surged 11.4% in premarket trading. Activist investor TCS Capital Management confirmed reports that it's built a stake of more than 4% in Yelp, and is asking the company to explore strategic alternatives including a sale, according to an open letter to the Yelp board of directors on Tuesday.AutoZone — Shares of AutoZone fell more than 2% after the specialty retailer's third-quarter revenue came up short of expectations. AutoZone reported $34.12 in earnings per share on $4.09 billion in revenue. Analysts surveyed by Refinitiv were looking for $31.51 in earnings per share and $4.12 billion in revenue. AutoZone's inventory increased 7.4% year over year.Lowe's Companies — Shares dipped about 1% after the home improvement retailer lowered its full-year forecast for total sales, comparable sales and adjusted earnings per share. However, Lowe's beat on first quarter earnings and revenue.Read the full list here. — Sarah Min9 Hours AgoLordstown shares drop on reverse stock splitLordstown Motors' stock slid nearly 11% before the bell after the electric vehicle company announced a reverse 1-for-15 stock split.The split, effective May 24, is aimed at appeasing the Nasdaq's $1 minimum bid price requirement, the company said in a statement Tuesday.\"The Reverse Stock Split is intended to improve the marketability and liquidity of the Class A common stock,\" Lordstown said. \"A higher market price can make the Class A common stock more attractive to a broader range of institutional investors, professional investors, and other members of the investing public.\"Shares have tumbled nearly 74% so far this year.Stock Chart IconStock chart iconLordstown shares in 2023— Samantha Subin9 Hours AgoDick's Sporting Goods beat expectationsShares of Dick's Sporting Goods rose more than 3% before the bell after beating earnings expectations for the recent quarter and reiterating its 2023 outlook.The sports retailer reported earnings of $3.40 a share on $2.84 billion in revenue. Analysts surveyed by Refinitiv had anticipated earnings of $3.18 a share on $2.80 billion in revenue.The company reaffirmed its 2023 guidance and same-store sale expectations. Comparable store sales rose 3.4% due to more transactions and higher prices, the company said.— Samantha Subin10 Hours AgoLowe's falls after cutting full-year revenue outlookLowe's shares dipped about 1% in the premarket after the home improvement retailer lowered its fill-year sales forecast. The company now expects revenue between $87 billion and $89 billion. That's down from a range of $88 billion to $90 billion. Stock Chart IconStock chart iconLOW slides— Fred Imbert, Melissa Repko13 Hours AgoEurope stocks open lowerEuropean stocks were lower in early Tuesday trade, with the Stoxx 600 index falling 0.34% after a directionless Monday.Germany's DAX fell further still from the record high it hit Friday, down 0.13% on the previous session. France's CAC 40 dropped 0.4%, while the U.K.'s FTSE 100 was down 0.18%.Travel saw the biggest fall by sector, down 0.7%.Stock Chart IconStock chart iconStoxx 600 index.— Jenni Reid17 Hours AgoNew Zealand's central bank expected to raise rates by 25 basis points to 5.5%New Zealand's central bank is expected to raise its benchmark policy rates to 5.5% when it meets Tuesday, according to a Reuters poll of 25 economists.21 of the economists surveyed expected a hike, while the remainder expected a pause. In the same Reuters poll, the median expected rate hike is 25 basis points.A rate hike Tuesday would be the Reserve Bank of New Zealand's 12th since October 2021.The RBNZ previously surprised investors with a 50 basis points hike to 5.25% in March, when most economists had expected a raise of 25 basis points.— Lim Hui Jie19 Hours AgoJapan's factory activity expands for the first time since October 2022: au Jibun bank Japan's manufacturing sector recorded an expansion for the first time in seven months, according to flash estimates by the au Jibun Bank.The manufacturing purchasing managers index came in at 50.8 in May, a reversal from the 49.5 recorded in April, \"signalling the first improvement in operating conditions since October 2022,\" the report showed. A PMI reading above 50 indicates expansion, while a reading below that level indicates contraction.The bank noted there were renewed increases in both output and new orders, with both variables rising at the strongest rate for 13 months. Manufacturers indicated that supply chain issues  were showing signs of improvement.Japan's services PMI was 56.3 in May, higher than the 55.4 seen in April and expanding at the strongest rate since the series began. Composite PMI climbed to 54.9, up from 52.9 in April.— Lim Hui Jie20 Hours AgoHong Kong's inflation rate climbs to 2.1% in AprilHong Kong's inflation climbed 2.1% in April from a year earlier, slightly above the 2% expected by economists polled by Reuters. April inflation was also higher than the 1.7% recorded in March.A spokesman for the city's government said that prices of energy-related items continued to increase sharply year-on-year, as well as costs of clothing and footwear.The price of electricity, gas and water jumped 17.8%, while clothing and footwear prices climbed 6.4%.The price of takeaway meals and eating out also rose 4.2%, while \"price pressures on other major components remained broadly in check,\" the spokesman said.Moving forward, Hong Kong expects that domestic price pressures may increase alongside the economic recovery. Overall inflation will likely pick up in the rest of 2023, but will remain \"largely moderate\".— Lim Hui Jie22 Hours AgoThese are the sectors most likely to be hardest hit in a debt-ceiling drawdown, according to RBC’s Lori CalvasinaInvestors have turned their focus on the debt ceiling as the next potential cue for a market decline as President Joe Biden and House Speaker Kevin McCarthy meet Monday evening.Financials, energy, materials and industrials were among the worst performing sectors in the S&P 500 in previous debt ceiling-related drawdowns, Lori Calvasina of RBC Capital Markets said on CNBC's \"Fast Money\" Monday night. She cited the firm's analysis of drawdowns around the debt ceiling dating back to 2011.Defensive sectors held up the best during these declines, with health care as the worst performing corner of that sector. Tech and growth sectors were \"smack dab in the middle,\" said Calvasina, RBC's head of U.S. equity strategy.\"I do think tech gets hurt, but it probably holds up better than some of those more cyclically oriented areas if we don't get a deal,\" she added.— Darla Mercado22 Hours AgoMcCarthy and Biden meet as debt ceiling looms on marketsPresident Joe Biden and House Speaker Kevin McCarthy spoke to reporters around when they were scheduled to meet about the debt ceiling.Biden said he was hopeful about progress and emphasized the need to ensure tax loopholes are closed so wealthy people pay a fair share of taxes. McCarthy said he was looking forward to finding common ground, after saying earlier in the day that decisions have to be made at the meeting.Investors have been watching for updates on progress out of debt ceiling negotiations amid concerns for what a default could mean for the economy.— Alex Harring22 Hours AgoYellen's latest guidance: 'Highly likely' Treasury will be unable to cover debts in early June Treasury Secretary Janet Yellen has just released a new letter to congressional leaders with updated guidance on the earliest date that the U.S. could be at serious risk of a debt default. The date remains June 1 in the new letter, the same date it's been since the start of May. But the new message contains two key differences from a very similar letter Yellen penned on May 15.\"With an additional week of information now available, I am writing to note that we estimate that it is highly likely that Treasury will no longer be able to satisfy all of the government's obligations if Congress has not acted to raise or suspend the debt limit by earlyJune, and potentially as early as June 1,\" writes Yellen.The phrase \"highly likely\" is new. Last week Yellen wrote that it was merely \"likely.\" Yellen also removed an entire sentence from last week's letter that said emergency measures Treasury is currently taking could help to push that June deadline out.\"The actual date Treasury exhausts extraordinary measures could be a number of days or weeks later than these estimates,\" read Yellen's May 15 letter to congressional leaders. The new letter comes as President Joe Biden is about to meet face to face with House Speaker Kevin McCarthy, part of an increasingly urgent effort to reach a bipartisan compromise deal.— Christina Wilkie 22 Hours AgoStock futures are up slightlyStock futures were modestly higher shortly after 6 p.m. ET.Futures tied to the Dow, S&P 500 and Nasdaq 100 were all up 0.1%.— Alex HarringSubscribe to CNBC PROLicensing & ReprintsCNBC CouncilsSelect Personal FinanceCNBC on PeacockJoin the CNBC PanelSupply Chain ValuesSelect ShoppingClosed CaptioningDigital ProductsNews ReleasesInternshipsCorrectionsAbout CNBCAd ChoicesSite MapPodcastsCareersHelpContactNews TipsGot a confidential news tip? We want to hear from you.Get In TouchAdvertise With UsPlease Contact UsCNBC NewslettersSign up for free newsletters and get more CNBC delivered to your inboxSign Up NowGet this delivered to your inbox, and more info about our products and services. Privacy Policy|Do Not Sell My Personal Information|CA Notice|Terms of Service© 2023 CNBC LLC. All Rights Reserved. A Division of NBCUniversalData is a real-time snapshot *Data is delayed at least 15 minutes. Global Business and Financial News, Stock Quotes, and Market Data and Analysis.Market Data Terms of Use and DisclaimersData also provided by \n",
      "Stock market today: Live updatesSkip NavigationwatchliveMarketsPre-MarketsU.S. MarketsCurrenciesCryptocurrencyFutures & CommoditiesBondsFunds & ETFsBusinessEconomyFinanceHealth & ScienceMediaReal EstateEnergyClimateTransportationIndustrialsRetailWealthLifeSmall BusinessInvestingPersonal FinanceFintechFinancial AdvisorsOptions ActionETF StreetBuffett ArchiveEarningsTrader TalkTechCybersecurityEnterpriseInternetMediaMobileSocial MediaCNBC Disruptor 50Tech GuidePoliticsWhite HousePolicyDefenseCongressEquity and OpportunityCNBC TVLive TVLive AudioBusiness Day ShowsEntertainment ShowsFull EpisodesLatest VideoTop VideoCEO InterviewsCNBC DocumentariesCNBC PodcastsCNBC WorldDigital OriginalsLive TV ScheduleWatchlistInvesting ClubTrust PortfolioAnalysisTrade AlertsMeeting VideosHomestretchJim's ColumnsEducationPROPro NewsPro LiveMarket ForecastSubscribeSign InMenuMake ItselectALL SELECTCredit Cards Loans Banking Mortgages Insurance Credit Monitoring Personal Finance Small Business Taxes Help for Low Credit Scores Investing SELECTAll Credit CardsFind the Credit Card for YouBest Credit CardsBest Rewards Credit CardsBest Travel Credit CardsBest 0% APR Credit CardsBest Balance Transfer Credit CardsBest Cash Back Credit CardsBest Credit Card Welcome BonusesBest Credit Cards to Build CreditSELECTAll LoansFind the Best Personal Loan for YouBest Personal LoansBest Debt Consolidation LoansBest Loans to Refinance Credit Card DebtBest Loans with Fast FundingBest Small Personal LoansBest Large Personal LoansBest Personal Loans to Apply OnlineBest Student Loan RefinanceSELECTAll BankingFind the Savings Account for YouBest High Yield Savings AccountsBest Big Bank Savings AccountsBest Big Bank Checking AccountsBest No Fee Checking AccountsNo Overdraft Fee Checking AccountsBest Checking Account BonusesBest Money Market AccountsBest CDsBest Credit UnionsSELECTAll MortgagesBest MortgagesBest Mortgages for Small Down PaymentBest Mortgages for No Down PaymentBest Mortgages with No Origination FeeBest Mortgages for Average Credit ScoreAdjustable Rate MortgagesAffording a MortgageSELECTAll InsuranceBest Life InsuranceBest Homeowners InsuranceBest Renters InsuranceBest Car InsuranceTravel InsuranceSELECTAll Credit MonitoringBest Credit Monitoring ServicesBest Identity Theft ProtectionHow to Boost Your Credit ScoreCredit Repair ServicesSELECTAll Personal FinanceBest Budgeting AppsBest Expense Tracker AppsBest Money Transfer AppsBest Resale Apps and SitesBuy Now Pay Later (BNPL) AppsBest Debt ReliefSELECTAll Small BusinessBest Small Business Savings AccountsBest Small Business Checking AccountsBest Credit Cards for Small BusinessBest Small Business LoansBest Tax Software for Small BusinessSELECTAll TaxesBest Tax SoftwareBest Tax Software for Small BusinessesTax RefundsSELECTAll Help for Low Credit ScoresBest Credit Cards for Bad CreditBest Personal Loans for Bad CreditBest Debt Consolidation Loans for Bad CreditPersonal Loans if You Don't Have CreditBest Credit Cards for Building CreditPersonal Loans for 580 Credit Score or LowerPersonal Loans for 670 Credit Score or LowerBest Mortgages for Bad CreditBest Hardship LoansHow to Boost Your Credit ScoreSELECTAll InvestingBest IRA AccountsBest Roth IRA AccountsBest Investing AppsBest Free Stock Trading PlatformsBest Robo-AdvisorsIndex FundsMutual FundsETFsBondsUSAINTLwatchliveSearch quotes, news & videosWatchlistSIGN INCreate free accountMarketsBusinessInvestingTechPoliticsCNBC TVWatchlistInvesting ClubPROMenuUpdated Tue, May 23 20234:23 PM EDTShareShare Article via FacebookShare Article via TwitterShare Article via LinkedInShare Article via EmailS&P 500 closes 1% lower Tuesday as debt ceiling talks drag on in Washington: Live updatesSamantha SubinAlex HarringVIDEO2:2802:28Broadcom bolsters stock with new Apple deal. Here's why the experts like itMarket MoversStocks fell Tuesday as ongoing debt ceiling discussions appeared to yield little progress.The S&P 500 dropped 1.12% to settle at 4,145.58, while the Nasdaq Composite pulled back 1.26% to close at 12,560.25. The Dow Jones Industrial Average lost 231.07 points, or 0.69%, to finish at 33,055.51.Some traders interpreted the lack of any major updates on negotiations as a sign that lawmakers, perhaps, are struggling to progress as hoped.CNBCInvestors have been closely eyeing debt-limit negotiations in Washington, hoping for more certainty as the so-called June 1 X-date expected by Treasury Secretary Janet Yellen fast approaches. Some House Republicans on Tuesday questioned the accuracy of this projected default date.On Monday, Kevin McCarthy and President Joe Biden met at the White House, in a discussion that the House speaker described as \"productive\" and \"professional,\" although the hourlong talk concluded without a resolution.\"We are sending a very negative signal about our ability to run our economy, let alone be a anchor for the rest of the world,\" Mohamed El-Erian said on CNBC's \"Squawk Box\" on Tuesday. \"And the market so far has actually dealt with it very well.\"The Allianz chief economic advisor said he's \"very impressed\" by the recent market stability. El-Erian added that he views the S&P 500 as fairly priced despite this recent headwind and uncertainty surrounding the Federal Reserve's next rate move.While lawmakers should achieve a resolution to the debt ceiling woes, Aspiriant's Sandi Bragar remains cautious as recession fears persist. Recent history suggests a downturn will likely come when the Federal Reserve completes its hiking cycle, she added.\"Everyone just feels like there is a party in the market and wanting to participate,\" the chief client officer said. \"I don't think that it's really time to get too excited just yet. There's reason to be cautious here.\"Elsewhere, Apple moved 1.5% lower after announcing a multibillion-dollar chip production deal with Broadcom. The chip stock gained 1.2%. Yelp popped 5.7% as an activist investor called for the company to explore a sale.—CNBC's Christina Wilkie contributed to this report.21 Min AgoStocks finish lower on Tuesday, S&P 500 drops 1.1%Stocks sold off on Tuesday as debt ceiling negotiations pressed on.The S&P 500 dropped 1.12% to settle at 4,145.67, while the  Nasdaq Composite shed 1.26% to close at 12,560.25. The Dow Jones Industrial Average lost 231.01 points, or 0.69%, to finish at 33,055.57.— Samantha Subin42 Min AgoConsumer staples, utilities vulnerable to backup in bond yields, Strategas saysConsumer staples and utility stocks are vulnerable to this month's backup in 10-year and 30-year Treasury yields, said Chris Verrone, head of technical and macro research at Strategas Securities.\"Rates have continued to show some life over the last few weeks, and with upward pressure on yields has come downward pressure to Staples and Utilities both of which traded to multi month relative performance lows\" on Monday, Verrone wrote in a note Tuesday. Utility stocks are faring worse than staples, \"spending much of the last 6 months below the 200-day [moving average] and home to some pronounced top formations at the individual stock level.\"Ten-year Treasury note yields touched 3.725% on Tuesday, the highest since March 13, and about 46 basis points higher just since April 6. A basis point is 1/100th of a percentage point.Meanwhile, the S&P 500 Utility Index is down almost 5% in May (second worse only to energy stocks), S&P 500 Consumer Staples stocks are off by 4.2% in May, while the S&P 500 Index is down only 0.5% this month.— Scott Schnipper, Michael Bloom50 Min AgoBlackRock launches two active ETFs, including a fund run by Rick RiederBlackRock debuted two actively managed ETFs on Tuesday, managed by two of the asset management giant's top investors.The BlackRock's Flexible Income ETF (BINC) is managed by Rick Rieder, the firm's CIO of global fixed income. The actively managed fund has a net expense ratio of 0.40%, and is aiming for a yield of 7%.BlackRock also debuted an active equity fund. The BlackRock Large Cap Value ETF (BLCV) is managed by Tony DeSpirito, the firm's global CIO of fundamental equities.— Jesse Pound59 Min AgoBuy the dip on silver, Citi saysSilver futures are down more than 5% over the past month, but Citi thinks this is a buying opportunity. \"Silver prices have retraced below $24/oz ... as weak economic data have undermined confidence in China's economic rebound. Having said this, our trade recommendation remains up 4.8%, and we see this pullback as a buying opportunity and reiterate our call for silver to hit $30/oz by year-end,\" wrote Citi's Viswanathrao Kintali. \"We think this is achievable purely in response to a US growth rollover, however a major China easing would be a bullish kicker for the trade.\"Stock Chart IconStock chart iconSilver in past month— Fred Imbert, Michael Bloom1 Hour AgoCasino stocks fall as health official says China should see 65 million weekly Covid cases in new waveCasino stocks Caesars, MGM and Wynn were all down more than 5% in the final hour of Tuesday's session.Bloomberg reported Monday morning that China will likely see a peak of 65 million Covid infections a week in its next wave toward the end of June, citing a senior health official. The official said the country should see around 40 million infections per week by the end of May before reaching the peak.— Alex Harring1 Hour AgoVaccine stocks jumpShares of a slew of Covid-19 vaccine makers surged on Tuesday.Moderna popped 9.4%, while BioNTech and Pfizer jumped gained 10.1% and 2.6%, respectively.The moves came amid reports of a potential new wave of Covid-19 infections in China that could lead to millions of new cases each week.— Samantha Subin1 Hour AgoShares of hotel franchiser Wyndham jump on news of potential buy dealNews that Choice Hotels may acquire Wyndham Hotels & Resorts pushed shares of the latter to jump 7.4%, according to a report from The Wall Street Journal.Shares of Choice Hotels fell 3.6% on the news. The two budget hotel franchises are currently in serious talks, according to the report.Stock Chart IconStock chart iconShares of the hotel franchises moved in opposite directions on the news— Hakyung Kim1 Hour AgoStocks hover near lowsStocks traded near their lows as the final hour of trading commenced.The Dow was last down about 183 points, or 0.6%. The S&P 500 lost 0.9% and Nasdaq Composite traded 1.1% lower. — Samantha Subin2 Hours AgoBank of America says Broadcom is the ‘most underappreciated AI beneficiary’ Broadcom is the \"most underappreciated AI beneficiary\" after its deal with Apple, according to Bank of America.Analyst Vivek Arya hiked his price objective on the stock after Apple on Tuesday announced a multibillion-dollar deal with Broadcom for 5G radio frequency components made in the U.S., saying it removes an \"overhang\" on the stock.\"We believe this is a positive development as it removes one key overhang on AVGO stock – namely the risk of Apple's insourcing of connectivity components – surfaced in media reports earlier this year,\" Arya wrote in a Tuesday note.Shares added about 2% during Tuesday's trading session.Read more on the call here.— Sarah Min2 Hours AgoHouse Republicans question urgency of June 1 deadlineSome House Republicans on Tuesday raised skepticism over Treasury Department Secretary Janet Yellen's deadline to raise the debt ceiling and avert a default.\"We'd like to see more transparency on how they come to that date,\" House Majority Leader Rep. Steve Scalise said Tuesday at a news conference.He added that Yellen's Monday comments signal some \"openness to the idea that June 1 may not be the so called X-date.\"— Christina Wilkie, Samantha Subin2 Hours AgoWatch this chipmaker for a break into the top of artificial intelligence roster, Bank of America saysAdvanced Micro Devices could be on track to gain a greater market share of the artificial intelligence accelerator market, according to Bank of America.\"AMD is on the verge of another large opportunity in the $80bn AI accelerator market (by CY27E) where AMD's share is again effectively zero against leader Nvidia,\" analyst Vivek Arya said.Stock Chart IconStock chart iconAMD stock.The firm remains neutral on AMD stock but raised its price target on Monday.CNBC Pro subscribers can read the full story here.— Brian Evans3 Hours AgoOdds of U.S. government default are still low, BlackRock's Rieder saysBlackRock CIO of global fixed income Rick Rieder said that he remains confident lawmakers will work out a deal on the debt ceiling. \"I think the markets and myself are putting a very high probability that something gets done. The timing of that is unclear,\" Rieder said at a media event Tuesday. The fixed income investor acknowledged that Treasury Secretary Janet Yellen's warning of an early June deadline was earlier than many experts previously expected. \"I think there's a sense of urgency now that you've got to come to a conclusion on this over the next couple of weeks, and presumably get to at least a framework by the end of this week,\" Rieder added. — Jesse Pound3 Hours AgoMicrosoft is Jefferies' top pick thanks to artificial intelligence bullishness Microsoft will keep gaining traction as investors add to artificial intelligence bets, according to Jefferies.\"MSFT has taken pole position in what is likely to be a decade-long industry evolution,\" Jefferies analyst Brent Thill said. \"AMZN won round 1 of Cloud wars. MSFT could be the winner of round 2.\"Stock Chart IconStock chart iconMicrosoft stock.The firm reiterated a buy rating on Microsoft stock on Tuesday.CNBC Pro subscribers can read the full story here.— Brian Evans4 Hours AgoStocks making the biggest moves middayThese are some of the stocks making the biggest moves midday:Yelp — Shares of the online reviewing company jumped more than 9% after activist investor TCS Capital Management took a stake in the firm, saying in an open letter that the company should explore strategic alternatives, including a sale.AutoZone — The auto retailer's shares fell more than 5% after missing revenue expectations for the fiscal third quarter.Lowe's Companies — The home improvement retailer advanced 2.8% on a first-quarter earnings report that beat analyst expectations. But the company cut its full-year outlook.See the full list of stocks moving here.— Alex Harring4 Hours AgoA chill on larger deals in the biopharma space shouldn't slow M&A for smaller companies, Janus says The Federal Trade Commission's attempt to block the Amgen-Horizon Therapeutics deal will have a chilling effect on large deals, valued at $15 billion or more, in the biopharma space, said Andy Acker, a portfolio manager at Janus Henderson Investors. However, that could accelerate smaller deals, he said, speaking at a virtual conference sponsored by the asset manager.More than $70 billion in deals have been announced in the biotech and pharmaceuticals industry so far this year — more than in all of 2022, he said. Two of the key forces behind this activity are the need for larger pharmaceutical companies to replace the revenue they are losing due to patent expirations and the difficulty smaller companies are having accessing capital.Horizon shares are down more than 11% since the start of the year, as concerns about the Amgen deal weigh on its stock price.— Christina Cheddar Berk5 Hours AgoNvidia remains the company to beat in A.I. sector, Stifel saysNvidia will remain the top player in the artificial intelligence space as investments grow, according to Stifel.\"NVDA remains the best-positioned component/ systems company to benefit from the AI investment cycle in the medium term, in our view,\" Stifel analyst Ruben Roy said.The firm reiterated a hold rating on Nvidia stock with a renewed price target. Shares of Nvidia slipped 1%.Stock Chart IconStock chart iconNvidia stock.CNBC Pro subscribers can read the full story here.— Brian Evans5 Hours AgoYelp shares jump after activist investor pushes for a saleShares of Yelp jumped more than 9% after activist investor TCS Capital Management took a stake in the firm, asking in an open letter that the company should explore strategic alternatives, including a sale. TSC Capital built a bet of more than 4% in Yelp, becoming the company's top five shareholders. TCS said Yelp is \"shockingly undervalued\" and could be sold to a private equity buyer for at least $70 per share, a more than 120% premium. Another option TSC brought up is to explore a tax-free merger with  internet services company Angi to be a leader in the $500 billion home services market.— Yun Li5 Hours AgoBroadcom, Microsoft among stocks hitting multi-year highsBroadcom rose on Tuesday following a chip production deal with Apple to trade near all-time highs dating back to August 2009, when Avago went public. Microsoft also rose to trade at its highest level since January 2022, while Advanced Micro Devices hit its highest point since April 2022.These stocks also notched new 52-week highs:Exact Sciences trading at levels not seen since December 2021GXO Logistics trading at levels not seen since May 2022Dynatrace trading at levels not seen since February 2022Palantir Technologies trading at levels not seen since April 2022Viasat trading at levels not seen since Aprril 2022CCC Intelligent Solutions trading at levels not seen since Aprtil 2022Vitesse Energy trading at all-time highs back to its spin-off from Jefferies in January 2023Here are the name hitting fresh lows:Frontier Communications trading at all-time lows back to its exit from bankruptcy in April 2021Victoria's Secret & Company trading at all-time lows back to its spin-off from Bath & Body Works in August 2021Royalty Pharma trading at all-time lows back to its IPO in June 2020WeWork trading at all-time lows back to its SPAC merger in October 2021— Samantha Subin6 Hours AgoPacWest, regional banks stocks riseShares of hard-hit regional bank stock PacWest popped more than 19% on Tuesday.The move built on gains from Monday as the bank shared its plan to sell real estate loans worth about $2.6 billion to a unit of Kennedy-Wilson Holdings. Other regional banking names also moved higher, including shares of Zions Bancorporation, Comerica and KeyCorp.Amid the recent banking turmoil that contributed to the collapse of Silicon Valley Bank and Signature Bank, PacWest shares have dropped more than 64% this year and sit about 75% off their 52-week highs.— Samantha Subin6 Hours AgoSen. Ted Cruz thinks debt ceiling deal will be reachedA deal will be likely reached on the debt ceiling, Sen. Ted Cruz believes.\"\"I think a deal will be reached, but I worry that the chances of a default are greater than they ever have been,\" the Republican from Texas said in an interview with CNBC's \"Squawk Box.\"\"I worry that this White House is reckless enough to force a default. I don't think that'll happen. I think that's less likely than not. But the odds are higher than we should be happy with.\"— Michelle Fox6 Hours AgoOil rises more than 1% after Saudi minister says 'watch out' ahead of OPEC+ meetingOil prices rose after Saudi oil minister Prince Abdulaziz bin Salman told market speculators on Tuesday they should \"watch out,\" bolstering fears that there could be future challenges in the market.\"Speculators, like in any market, they are there to stay. I keep advising that they will be ouching. They did ouch in April. I don't have to show my cards, I'm not [a] poker player … but I would just tell them, watch out,\" he said during an energy-focused panel of the Qatar Economic Forum in Doha.Both Brent and WTI crudes gained more than 1%, or about $1, on Tuesday.— Alex Harring, Ruxandra Iordache6 Hours AgoEnergy stocks outperform as oil gainsEnergy stocks gained on Tuesday as oil price rose, lifting the S&P 500 sector about 1.5% during morning trading.Some of the outperformers included Chevron, rising nearly 3% on an upgrade from HSBC. APA Corp, Exxon Mobil, Marathon Oil and Occidental Petroleum rose more than 1% each, — Samantha Subin6 Hours AgoCopper reaches 2023 lowCopper prices hit a low not seen since the year began.The metal reached $3.622, its lowest since it notched $3.5955 on Nov. 29, 2022.Copper has dropped 6.8% since the month began. That puts it on track for its worse performance since June 2022, when the metal tumbled 13.6%.The prices of most metals were down in Tuesday's session on the back of a weak demand outlook for China and rising concerns over the state of U.S. debt ceiling negotiations.— Alex Harring, Gina Francolla6 Hours AgoNew home sales in April beat expectationsNew home sales rose 4.1% to 683,000 in April, according to data released Tuesday.That came in above a Dow Jones estimate of 669,000 and the previous month's print. Sales for March were revised to 656,000.Elsewhere, Richmond Fed manufacturing data for May came in at -15, the lowest reading since February. — Samantha Subin7 Hours AgoMay PMI comes in lower than expectedThe May reading for the Purchasing Managers Index (PMI) came in at 48.5. That was lower than the 50.0 consensus estimate, according to economists polled by Dow Jones. — Sarah Min7 Hours AgoMarkets are slowly taking Fed rate cuts off the tableMarkets are reacting to recent hawkish talk from Federal Reserve officials, now pricing in only one rate cut this year.Traders in the fed funds futures market were pricing in just a 23.4% chance of an interest rate increase at the June 13-14 Fed meeting, according to the CME Group.However, they also now see at most one decrease by the end of the year, assigning a 58.3% probability that the central bank will drop the funds rate to a 4.75%-5% target.In recent weeks, markets had been pricing in up to three cuts. However, policymakers in recent days have spoken against the likelihood of a loosening of policy, with Minneapolis Fed President Neel Kashkari telling CNBC on Monday that it's possible rates will rise if inflation doesn't slow.— Jeff Cox7 Hours AgoStocks fall at the openThe Dow slid more than 100 points to start Tuesday's session, while the S&P 500 and Nasdaq dipped 0.5% each. — Fred Imbert7 Hours AgoApple announces Broadcom chip dealBroadcom shares jumped 3% before the bell on news that its signed a multibillion-dollar deal with Apple to create 5G components in the U.S.Through the multi-year deal, the companies will design and build the products in across several U.S.-based facilities, including Fort Collins, Colorado. Apple shares dipped 0.6%. The company said the deal stems from its 2021 plan to invest $430 billion in the U.S. economy. — Samantha Subin8 Hours AgoYelp shares jump in the premarket Yelp shares jumped 11% in Tuesday premarket trading.The move comes after activist investor TCS Capital Management on Tuesday confirmed reports that it's built a stake of more than 4% in Yelp, and is asking the company to explore strategic alternatives including a sale, according to an open letter to the Yelp board of directors.\"We believe that Yelp is shockingly undervalued and could be sold to either a strategic or private equity buyer for at least $70 per share – or more than a 120% premium to Yelp's current stock price based on reasonable valuation assumptions,\" read the letter.Separately, the firm said Yelp should consider a merger with Angi, previously known as Angie's List, to expand into the home services market.Stock Chart IconStock chart iconYelp shares 1-day— Sarah Min8 Hours AgoPhiladelphia Fed nonmanufacturing index improves from AprilA regional nonmanufacturing reading from the Federal Reserve Bank of Philadelphia showed activity improve slightly in May.The findings from the Philadelphia Fed nonmanufacturing survey showed regional activity improve to -16 in May from -22.8 in April. It marked the third consecutive negative monthly reading of the survey.— Samantha Subin8 Hours AgoHSBC eyes Chevron in upgrade to buy from hold Chevron could be a top gainer among oil giants if oil recovers from a 6% loss so far in May, according to HSBC. Shares gained 1% before the bell as analysts upgraded the stock to a buy from a hold rating. Shares have pulled back 11.4% from the start of the year, which HSBC attributes to lower oil prices. But this could signal a buying opportunity. Stock Chart IconStock chart iconChevron stock.\"The shares' de-rating has opened up a valuation opportunity, notably compared to Exxon: its consensus-based [price-to-cash flow] multiple has fallen to a more than 3-year low vs its US Supermajor peer,\" HSBC analyst Kim Fustier said.CNBC Pro subscribers can read the full story here.— Brian Evans9 Hours AgoStocks making the biggest moves premarketCheck out the companies making headlines before the bell:Yelp — Yelp shares surged 11.4% in premarket trading. Activist investor TCS Capital Management confirmed reports that it's built a stake of more than 4% in Yelp, and is asking the company to explore strategic alternatives including a sale, according to an open letter to the Yelp board of directors on Tuesday.AutoZone — Shares of AutoZone fell more than 2% after the specialty retailer's third-quarter revenue came up short of expectations. AutoZone reported $34.12 in earnings per share on $4.09 billion in revenue. Analysts surveyed by Refinitiv were looking for $31.51 in earnings per share and $4.12 billion in revenue. AutoZone's inventory increased 7.4% year over year.Lowe's Companies — Shares dipped about 1% after the home improvement retailer lowered its full-year forecast for total sales, comparable sales and adjusted earnings per share. However, Lowe's beat on first quarter earnings and revenue.Read the full list here. — Sarah Min9 Hours AgoLordstown shares drop on reverse stock splitLordstown Motors' stock slid nearly 11% before the bell after the electric vehicle company announced a reverse 1-for-15 stock split.The split, effective May 24, is aimed at appeasing the Nasdaq's $1 minimum bid price requirement, the company said in a statement Tuesday.\"The Reverse Stock Split is intended to improve the marketability and liquidity of the Class A common stock,\" Lordstown said. \"A higher market price can make the Class A common stock more attractive to a broader range of institutional investors, professional investors, and other members of the investing public.\"Shares have tumbled nearly 74% so far this year.Stock Chart IconStock chart iconLordstown shares in 2023— Samantha Subin9 Hours AgoDick's Sporting Goods beat expectationsShares of Dick's Sporting Goods rose more than 3% before the bell after beating earnings expectations for the recent quarter and reiterating its 2023 outlook.The sports retailer reported earnings of $3.40 a share on $2.84 billion in revenue. Analysts surveyed by Refinitiv had anticipated earnings of $3.18 a share on $2.80 billion in revenue.The company reaffirmed its 2023 guidance and same-store sale expectations. Comparable store sales rose 3.4% due to more transactions and higher prices, the company said.— Samantha Subin10 Hours AgoLowe's falls after cutting full-year revenue outlookLowe's shares dipped about 1% in the premarket after the home improvement retailer lowered its fill-year sales forecast. The company now expects revenue between $87 billion and $89 billion. That's down from a range of $88 billion to $90 billion. Stock Chart IconStock chart iconLOW slides— Fred Imbert, Melissa Repko13 Hours AgoEurope stocks open lowerEuropean stocks were lower in early Tuesday trade, with the Stoxx 600 index falling 0.34% after a directionless Monday.Germany's DAX fell further still from the record high it hit Friday, down 0.13% on the previous session. France's CAC 40 dropped 0.4%, while the U.K.'s FTSE 100 was down 0.18%.Travel saw the biggest fall by sector, down 0.7%.Stock Chart IconStock chart iconStoxx 600 index.— Jenni Reid17 Hours AgoNew Zealand's central bank expected to raise rates by 25 basis points to 5.5%New Zealand's central bank is expected to raise its benchmark policy rates to 5.5% when it meets Tuesday, according to a Reuters poll of 25 economists.21 of the economists surveyed expected a hike, while the remainder expected a pause. In the same Reuters poll, the median expected rate hike is 25 basis points.A rate hike Tuesday would be the Reserve Bank of New Zealand's 12th since October 2021.The RBNZ previously surprised investors with a 50 basis points hike to 5.25% in March, when most economists had expected a raise of 25 basis points.— Lim Hui Jie19 Hours AgoJapan's factory activity expands for the first time since October 2022: au Jibun bank Japan's manufacturing sector recorded an expansion for the first time in seven months, according to flash estimates by the au Jibun Bank.The manufacturing purchasing managers index came in at 50.8 in May, a reversal from the 49.5 recorded in April, \"signalling the first improvement in operating conditions since October 2022,\" the report showed. A PMI reading above 50 indicates expansion, while a reading below that level indicates contraction.The bank noted there were renewed increases in both output and new orders, with both variables rising at the strongest rate for 13 months. Manufacturers indicated that supply chain issues  were showing signs of improvement.Japan's services PMI was 56.3 in May, higher than the 55.4 seen in April and expanding at the strongest rate since the series began. Composite PMI climbed to 54.9, up from 52.9 in April.— Lim Hui Jie20 Hours AgoHong Kong's inflation rate climbs to 2.1% in AprilHong Kong's inflation climbed 2.1% in April from a year earlier, slightly above the 2% expected by economists polled by Reuters. April inflation was also higher than the 1.7% recorded in March.A spokesman for the city's government said that prices of energy-related items continued to increase sharply year-on-year, as well as costs of clothing and footwear.The price of electricity, gas and water jumped 17.8%, while clothing and footwear prices climbed 6.4%.The price of takeaway meals and eating out also rose 4.2%, while \"price pressures on other major components remained broadly in check,\" the spokesman said.Moving forward, Hong Kong expects that domestic price pressures may increase alongside the economic recovery. Overall inflation will likely pick up in the rest of 2023, but will remain \"largely moderate\".— Lim Hui Jie22 Hours AgoThese are the sectors most likely to be hardest hit in a debt-ceiling drawdown, according to RBC’s Lori CalvasinaInvestors have turned their focus on the debt ceiling as the next potential cue for a market decline as President Joe Biden and House Speaker Kevin McCarthy meet Monday evening.Financials, energy, materials and industrials were among the worst performing sectors in the S&P 500 in previous debt ceiling-related drawdowns, Lori Calvasina of RBC Capital Markets said on CNBC's \"Fast Money\" Monday night. She cited the firm's analysis of drawdowns around the debt ceiling dating back to 2011.Defensive sectors held up the best during these declines, with health care as the worst performing corner of that sector. Tech and growth sectors were \"smack dab in the middle,\" said Calvasina, RBC's head of U.S. equity strategy.\"I do think tech gets hurt, but it probably holds up better than some of those more cyclically oriented areas if we don't get a deal,\" she added.— Darla Mercado22 Hours AgoMcCarthy and Biden meet as debt ceiling looms on marketsPresident Joe Biden and House Speaker Kevin McCarthy spoke to reporters around when they were scheduled to meet about the debt ceiling.Biden said he was hopeful about progress and emphasized the need to ensure tax loopholes are closed so wealthy people pay a fair share of taxes. McCarthy said he was looking forward to finding common ground, after saying earlier in the day that decisions have to be made at the meeting.Investors have been watching for updates on progress out of debt ceiling negotiations amid concerns for what a default could mean for the economy.— Alex Harring22 Hours AgoYellen's latest guidance: 'Highly likely' Treasury will be unable to cover debts in early June Treasury Secretary Janet Yellen has just released a new letter to congressional leaders with updated guidance on the earliest date that the U.S. could be at serious risk of a debt default. The date remains June 1 in the new letter, the same date it's been since the start of May. But the new message contains two key differences from a very similar letter Yellen penned on May 15.\"With an additional week of information now available, I am writing to note that we estimate that it is highly likely that Treasury will no longer be able to satisfy all of the government's obligations if Congress has not acted to raise or suspend the debt limit by earlyJune, and potentially as early as June 1,\" writes Yellen.The phrase \"highly likely\" is new. Last week Yellen wrote that it was merely \"likely.\" Yellen also removed an entire sentence from last week's letter that said emergency measures Treasury is currently taking could help to push that June deadline out.\"The actual date Treasury exhausts extraordinary measures could be a number of days or weeks later than these estimates,\" read Yellen's May 15 letter to congressional leaders. The new letter comes as President Joe Biden is about to meet face to face with House Speaker Kevin McCarthy, part of an increasingly urgent effort to reach a bipartisan compromise deal.— Christina Wilkie 22 Hours AgoStock futures are up slightlyStock futures were modestly higher shortly after 6 p.m. ET.Futures tied to the Dow, S&P 500 and Nasdaq 100 were all up 0.1%.— Alex HarringSubscribe to CNBC PROLicensing & ReprintsCNBC CouncilsSelect Personal FinanceCNBC on PeacockJoin the CNBC PanelSupply Chain ValuesSelect ShoppingClosed CaptioningDigital ProductsNews ReleasesInternshipsCorrectionsAbout CNBCAd ChoicesSite MapPodcastsCareersHelpContactNews TipsGot a confidential news tip? We want to hear from you.Get In TouchAdvertise With UsPlease Contact UsCNBC NewslettersSign up for free newsletters and get more CNBC delivered to your inboxSign Up NowGet this delivered to your inbox, and more info about our products and services. Privacy Policy|Do Not Sell My Personal Information|CA Notice|Terms of Service© 2023 CNBC LLC. All Rights Reserved. A Division of NBCUniversalData is a real-time snapshot *Data is delayed at least 15 minutes. Global Business and Financial News, Stock Quotes, and Market Data and Analysis.Market Data Terms of Use and DisclaimersData also provided by \n",
      "DeSantis campaign lines up fundraisers for White House raceSkip NavigationwatchliveMarketsPre-MarketsU.S. MarketsCurrenciesCryptocurrencyFutures & CommoditiesBondsFunds & ETFsBusinessEconomyFinanceHealth & ScienceMediaReal EstateEnergyClimateTransportationIndustrialsRetailWealthLifeSmall BusinessInvestingPersonal FinanceFintechFinancial AdvisorsOptions ActionETF StreetBuffett ArchiveEarningsTrader TalkTechCybersecurityEnterpriseInternetMediaMobileSocial MediaCNBC Disruptor 50Tech GuidePoliticsWhite HousePolicyDefenseCongressEquity and OpportunityCNBC TVLive TVLive AudioBusiness Day ShowsEntertainment ShowsFull EpisodesLatest VideoTop VideoCEO InterviewsCNBC DocumentariesCNBC PodcastsCNBC WorldDigital OriginalsLive TV ScheduleWatchlistInvesting ClubTrust PortfolioAnalysisTrade AlertsMeeting VideosHomestretchJim's ColumnsEducationPROPro NewsPro LiveMarket ForecastSubscribeSign InMenuMake ItselectALL SELECTCredit Cards Loans Banking Mortgages Insurance Credit Monitoring Personal Finance Small Business Taxes Help for Low Credit Scores Investing SELECTAll Credit CardsFind the Credit Card for YouBest Credit CardsBest Rewards Credit CardsBest Travel Credit CardsBest 0% APR Credit CardsBest Balance Transfer Credit CardsBest Cash Back Credit CardsBest Credit Card Welcome BonusesBest Credit Cards to Build CreditSELECTAll LoansFind the Best Personal Loan for YouBest Personal LoansBest Debt Consolidation LoansBest Loans to Refinance Credit Card DebtBest Loans with Fast FundingBest Small Personal LoansBest Large Personal LoansBest Personal Loans to Apply OnlineBest Student Loan RefinanceSELECTAll BankingFind the Savings Account for YouBest High Yield Savings AccountsBest Big Bank Savings AccountsBest Big Bank Checking AccountsBest No Fee Checking AccountsNo Overdraft Fee Checking AccountsBest Checking Account BonusesBest Money Market AccountsBest CDsBest Credit UnionsSELECTAll MortgagesBest MortgagesBest Mortgages for Small Down PaymentBest Mortgages for No Down PaymentBest Mortgages with No Origination FeeBest Mortgages for Average Credit ScoreAdjustable Rate MortgagesAffording a MortgageSELECTAll InsuranceBest Life InsuranceBest Homeowners InsuranceBest Renters InsuranceBest Car InsuranceTravel InsuranceSELECTAll Credit MonitoringBest Credit Monitoring ServicesBest Identity Theft ProtectionHow to Boost Your Credit ScoreCredit Repair ServicesSELECTAll Personal FinanceBest Budgeting AppsBest Expense Tracker AppsBest Money Transfer AppsBest Resale Apps and SitesBuy Now Pay Later (BNPL) AppsBest Debt ReliefSELECTAll Small BusinessBest Small Business Savings AccountsBest Small Business Checking AccountsBest Credit Cards for Small BusinessBest Small Business LoansBest Tax Software for Small BusinessSELECTAll TaxesBest Tax SoftwareBest Tax Software for Small BusinessesTax RefundsSELECTAll Help for Low Credit ScoresBest Credit Cards for Bad CreditBest Personal Loans for Bad CreditBest Debt Consolidation Loans for Bad CreditPersonal Loans if You Don't Have CreditBest Credit Cards for Building CreditPersonal Loans for 580 Credit Score or LowerPersonal Loans for 670 Credit Score or LowerBest Mortgages for Bad CreditBest Hardship LoansHow to Boost Your Credit ScoreSELECTAll InvestingBest IRA AccountsBest Roth IRA AccountsBest Investing AppsBest Free Stock Trading PlatformsBest Robo-AdvisorsIndex FundsMutual FundsETFsBondsUSAINTLwatchliveSearch quotes, news & videosWatchlistSIGN INCreate free accountMarketsBusinessInvestingTechPoliticsCNBC TVWatchlistInvesting ClubPROMenuPoliticsRon DeSantis lines up business leaders to raise money for 2024 presidential runPublished Tue, May 23 20234:17 PM EDTBrian Schwartz@schwartzbCNBCWATCH LIVEKey PointsFlorida Gov. Ron DeSantis is gearing up to announce his presidential campaign, as he tries to catch up to GOP frontrunner Donald Trump in the polls.DeSantis' campaign has put together a list of business leaders and Republican donors to raise money for his 2024 run. Multiple DeSantis bundlers supported former Florida Gov. Jeb Bush's failed White House bid in 2016.Republican Florida Governor Ron DeSantis celebrates onstage during his 2022 U.S. midterm elections night party in Tampa, Florida, November 8, 2022.Marco Bello | ReutersGov. Ron DeSantis has assembled a team of wealthy business leaders to help raise money for his presidential campaign, according to a partial list of fundraisers provided by a senior political official with the Florida Republican.The bundler list, which was first provided to CNBC, includes business leaders from industries ranging from real estate to finance. DeSantis is set to announce his run for president Wednesday evening during a Twitter discussion with the social media platform's owner and Tesla CEO Elon Musk.Bundlers will gather at the Four Seasons hotel in Miami from Wednesday through Friday. They'll receive briefings from campaign staff and call around to raise money for the campaign, NBC News reported. DeSantis is considered Donald Trump's biggest rival in the GOP primary, although the former president has held a healthy lead in recent polls.The DeSantis campaign's bundler list includes David Horowitz, the chairman of the Horowitz Group, a family office and real estate investment firm based in California. Horowitz did not return a request for comment.Horowitz has previously donated $25,000 to the pro-DeSantis PAC Friends of Ron DeSantis, which was rebranded with new leadership as the Florida governor moved to launch his bid for the White House. During the 2020 election, Horowitz contributed just over $35,000 to the Republican National Committee and at least $2,800 to Trump's failed campaign, according to data from nonpartisan site OpenSecrets.Hal Lambert, the founder of investment management firm Point Bridge Capital, is also on the list.Lambert's firm created the MAGA ETF, an exchange traded fund that's advertised as a way for people to invest in companies that align with Republican political beliefs. Lambert served on Trump's Inaugural Committee and was a national finance chair for Trump's successful 2016 campaign for president, according to his website.\"I certainly think north of $500k of hard dollars is very possible for me,\" Lambert said in an email when asked how much he is aiming to raise for DeSantis. \"I want to win in November and I don't think Trump will win. If you look at the map, the states we need, he is losing or has lost previously,\" he later added.Records show that Lambert has also donated to the Friends of Ron DeSantis PAC and Trump's campaign.Jay Zeidman, a managing partner at health care investment firm Altitude Ventures, is also listed as a DeSantis campaign fundraiser. Zeidman did not return a request for comment.Zeidman previously donated to former Florida Gov. Jeb Bush's failed campaign for president, according to OpenSecrets. The New York Times reports that Zeidman is friends with Bush's son, George P. Bush.Frank Mermoud, the president of Orpheus International, is also a member of the DeSantis bundler team, according to the list provided to CNBC. Records show that he, too, was a supporter of Bush's failed primary run for president in 2016.Mermoud could not be reached for comment.watch nowVIDEO4:2804:28Disney tells its lobbyists to step up fight against Florida Gov. Ron DeSantisThe ExchangeSubscribe to CNBC PROLicensing & ReprintsCNBC CouncilsSelect Personal FinanceCNBC on PeacockJoin the CNBC PanelSupply Chain ValuesSelect ShoppingClosed CaptioningDigital ProductsNews ReleasesInternshipsCorrectionsAbout CNBCAd ChoicesSite MapPodcastsCareersHelpContactNews TipsGot a confidential news tip? We want to hear from you.Get In TouchAdvertise With UsPlease Contact UsCNBC NewslettersSign up for free newsletters and get more CNBC delivered to your inboxSign Up NowGet this delivered to your inbox, and more info about our products and services. Privacy Policy|Do Not Sell My Personal Information|CA Notice|Terms of Service© 2023 CNBC LLC. All Rights Reserved. A Division of NBCUniversalData is a real-time snapshot *Data is delayed at least 15 minutes. Global Business and Financial News, Stock Quotes, and Market Data and Analysis.Market Data Terms of Use and DisclaimersData also provided by \n",
      "DeSantis campaign lines up fundraisers for White House raceSkip NavigationwatchliveMarketsPre-MarketsU.S. MarketsCurrenciesCryptocurrencyFutures & CommoditiesBondsFunds & ETFsBusinessEconomyFinanceHealth & ScienceMediaReal EstateEnergyClimateTransportationIndustrialsRetailWealthLifeSmall BusinessInvestingPersonal FinanceFintechFinancial AdvisorsOptions ActionETF StreetBuffett ArchiveEarningsTrader TalkTechCybersecurityEnterpriseInternetMediaMobileSocial MediaCNBC Disruptor 50Tech GuidePoliticsWhite HousePolicyDefenseCongressEquity and OpportunityCNBC TVLive TVLive AudioBusiness Day ShowsEntertainment ShowsFull EpisodesLatest VideoTop VideoCEO InterviewsCNBC DocumentariesCNBC PodcastsCNBC WorldDigital OriginalsLive TV ScheduleWatchlistInvesting ClubTrust PortfolioAnalysisTrade AlertsMeeting VideosHomestretchJim's ColumnsEducationPROPro NewsPro LiveMarket ForecastSubscribeSign InMenuMake ItselectALL SELECTCredit Cards Loans Banking Mortgages Insurance Credit Monitoring Personal Finance Small Business Taxes Help for Low Credit Scores Investing SELECTAll Credit CardsFind the Credit Card for YouBest Credit CardsBest Rewards Credit CardsBest Travel Credit CardsBest 0% APR Credit CardsBest Balance Transfer Credit CardsBest Cash Back Credit CardsBest Credit Card Welcome BonusesBest Credit Cards to Build CreditSELECTAll LoansFind the Best Personal Loan for YouBest Personal LoansBest Debt Consolidation LoansBest Loans to Refinance Credit Card DebtBest Loans with Fast FundingBest Small Personal LoansBest Large Personal LoansBest Personal Loans to Apply OnlineBest Student Loan RefinanceSELECTAll BankingFind the Savings Account for YouBest High Yield Savings AccountsBest Big Bank Savings AccountsBest Big Bank Checking AccountsBest No Fee Checking AccountsNo Overdraft Fee Checking AccountsBest Checking Account BonusesBest Money Market AccountsBest CDsBest Credit UnionsSELECTAll MortgagesBest MortgagesBest Mortgages for Small Down PaymentBest Mortgages for No Down PaymentBest Mortgages with No Origination FeeBest Mortgages for Average Credit ScoreAdjustable Rate MortgagesAffording a MortgageSELECTAll InsuranceBest Life InsuranceBest Homeowners InsuranceBest Renters InsuranceBest Car InsuranceTravel InsuranceSELECTAll Credit MonitoringBest Credit Monitoring ServicesBest Identity Theft ProtectionHow to Boost Your Credit ScoreCredit Repair ServicesSELECTAll Personal FinanceBest Budgeting AppsBest Expense Tracker AppsBest Money Transfer AppsBest Resale Apps and SitesBuy Now Pay Later (BNPL) AppsBest Debt ReliefSELECTAll Small BusinessBest Small Business Savings AccountsBest Small Business Checking AccountsBest Credit Cards for Small BusinessBest Small Business LoansBest Tax Software for Small BusinessSELECTAll TaxesBest Tax SoftwareBest Tax Software for Small BusinessesTax RefundsSELECTAll Help for Low Credit ScoresBest Credit Cards for Bad CreditBest Personal Loans for Bad CreditBest Debt Consolidation Loans for Bad CreditPersonal Loans if You Don't Have CreditBest Credit Cards for Building CreditPersonal Loans for 580 Credit Score or LowerPersonal Loans for 670 Credit Score or LowerBest Mortgages for Bad CreditBest Hardship LoansHow to Boost Your Credit ScoreSELECTAll InvestingBest IRA AccountsBest Roth IRA AccountsBest Investing AppsBest Free Stock Trading PlatformsBest Robo-AdvisorsIndex FundsMutual FundsETFsBondsUSAINTLwatchliveSearch quotes, news & videosWatchlistSIGN INCreate free accountMarketsBusinessInvestingTechPoliticsCNBC TVWatchlistInvesting ClubPROMenuPoliticsRon DeSantis lines up business leaders to raise money for 2024 presidential runPublished Tue, May 23 20234:17 PM EDTBrian Schwartz@schwartzbCNBCWATCH LIVEKey PointsFlorida Gov. Ron DeSantis is gearing up to announce his presidential campaign, as he tries to catch up to GOP frontrunner Donald Trump in the polls.DeSantis' campaign has put together a list of business leaders and Republican donors to raise money for his 2024 run. Multiple DeSantis bundlers supported former Florida Gov. Jeb Bush's failed White House bid in 2016.Republican Florida Governor Ron DeSantis celebrates onstage during his 2022 U.S. midterm elections night party in Tampa, Florida, November 8, 2022.Marco Bello | ReutersGov. Ron DeSantis has assembled a team of wealthy business leaders to help raise money for his presidential campaign, according to a partial list of fundraisers provided by a senior political official with the Florida Republican.The bundler list, which was first provided to CNBC, includes business leaders from industries ranging from real estate to finance. DeSantis is set to announce his run for president Wednesday evening during a Twitter discussion with the social media platform's owner and Tesla CEO Elon Musk.Bundlers will gather at the Four Seasons hotel in Miami from Wednesday through Friday. They'll receive briefings from campaign staff and call around to raise money for the campaign, NBC News reported. DeSantis is considered Donald Trump's biggest rival in the GOP primary, although the former president has held a healthy lead in recent polls.The DeSantis campaign's bundler list includes David Horowitz, the chairman of the Horowitz Group, a family office and real estate investment firm based in California. Horowitz did not return a request for comment.Horowitz has previously donated $25,000 to the pro-DeSantis PAC Friends of Ron DeSantis, which was rebranded with new leadership as the Florida governor moved to launch his bid for the White House. During the 2020 election, Horowitz contributed just over $35,000 to the Republican National Committee and at least $2,800 to Trump's failed campaign, according to data from nonpartisan site OpenSecrets.Hal Lambert, the founder of investment management firm Point Bridge Capital, is also on the list.Lambert's firm created the MAGA ETF, an exchange traded fund that's advertised as a way for people to invest in companies that align with Republican political beliefs. Lambert served on Trump's Inaugural Committee and was a national finance chair for Trump's successful 2016 campaign for president, according to his website.\"I certainly think north of $500k of hard dollars is very possible for me,\" Lambert said in an email when asked how much he is aiming to raise for DeSantis. \"I want to win in November and I don't think Trump will win. If you look at the map, the states we need, he is losing or has lost previously,\" he later added.Records show that Lambert has also donated to the Friends of Ron DeSantis PAC and Trump's campaign.Jay Zeidman, a managing partner at health care investment firm Altitude Ventures, is also listed as a DeSantis campaign fundraiser. Zeidman did not return a request for comment.Zeidman previously donated to former Florida Gov. Jeb Bush's failed campaign for president, according to OpenSecrets. The New York Times reports that Zeidman is friends with Bush's son, George P. Bush.Frank Mermoud, the president of Orpheus International, is also a member of the DeSantis bundler team, according to the list provided to CNBC. Records show that he, too, was a supporter of Bush's failed primary run for president in 2016.Mermoud could not be reached for comment.watch nowVIDEO4:2804:28Disney tells its lobbyists to step up fight against Florida Gov. Ron DeSantisThe ExchangeSubscribe to CNBC PROLicensing & ReprintsCNBC CouncilsSelect Personal FinanceCNBC on PeacockJoin the CNBC PanelSupply Chain ValuesSelect ShoppingClosed CaptioningDigital ProductsNews ReleasesInternshipsCorrectionsAbout CNBCAd ChoicesSite MapPodcastsCareersHelpContactNews TipsGot a confidential news tip? We want to hear from you.Get In TouchAdvertise With UsPlease Contact UsCNBC NewslettersSign up for free newsletters and get more CNBC delivered to your inboxSign Up NowGet this delivered to your inbox, and more info about our products and services. Privacy Policy|Do Not Sell My Personal Information|CA Notice|Terms of Service© 2023 CNBC LLC. All Rights Reserved. A Division of NBCUniversalData is a real-time snapshot *Data is delayed at least 15 minutes. Global Business and Financial News, Stock Quotes, and Market Data and Analysis.Market Data Terms of Use and DisclaimersData also provided by \n"
     ]
    }
   ],
   "source": [
    "for headline in soup.find_all('div', class_=\"SecondaryCardContainer-container\"):\n",
    "    links = headline.find_all(\"a\")\n",
    "    for link in links:\n",
    "        link_url = link[\"href\"]\n",
    "        article_page = requests.get(link_url)\n",
    "        article_soup = BeautifulSoup(article_page.content, \"html.parser\")\n",
    "        article_text = article_soup.get_text()\n",
    "        print(article_text)"
   ]
  },
  {
   "cell_type": "code",
   "execution_count": null,
   "id": "18d6783a-4697-4d5e-91bb-bcfbe8234e81",
   "metadata": {},
   "outputs": [],
   "source": []
  }
 ],
 "metadata": {
  "kernelspec": {
   "display_name": "Python 3 (ipykernel)",
   "language": "python",
   "name": "python3"
  },
  "language_info": {
   "codemirror_mode": {
    "name": "ipython",
    "version": 3
   },
   "file_extension": ".py",
   "mimetype": "text/x-python",
   "name": "python",
   "nbconvert_exporter": "python",
   "pygments_lexer": "ipython3",
   "version": "3.11.2"
  }
 },
 "nbformat": 4,
 "nbformat_minor": 5
}
