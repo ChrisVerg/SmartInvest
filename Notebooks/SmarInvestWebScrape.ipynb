{
 "cells": [
  {
   "cell_type": "markdown",
   "id": "45d7e2ea-9c7c-4ae1-bc27-4b70a8eb667e",
   "metadata": {},
   "source": [
    "<hr style=\"height:5px;border-width:0;color:MediumAquamarine;background-color:MediumAquamarine\">\n",
    "\n",
    "# Data Scraping for SmartInvest\n",
    "\n",
    "- [API Reference]()\n",
    "- [Reference](https://www.cnbc.com/)\n",
    "\n",
    "<hr style=\"height:5px;border-width:0;color:MediumAquamarine;background-color:MediumAquamarine\">"
   ]
  },
  {
   "cell_type": "raw",
   "id": "24ed0212-f288-4b76-8166-96c2e720c083",
   "metadata": {},
   "source": []
  },
  {
   "cell_type": "markdown",
   "id": "b31c8516-9011-4b84-b5d0-4048acad79fc",
   "metadata": {},
   "source": [
    "### Table of Contents <a class=\"anchor\" id=\"PSCRAPE_toc\"></a>\n",
    "\n",
    "* [Table of Contents](#PSCRAPE_toc)\n",
    "    * [1. Abstract](#PSCRAPE_page_1)\n",
    "    * [2. Imported Libraries](#PSCRAPE_page_2)\n",
    "    * [3. Import Data](#PSCRAPE_page_3)\n",
    "    * [4. Data Compiler](#PSCRAPE_page_4)\n",
    "    * [5. Looking at the Data](#PSCRAPE_page_5)\n",
    "    * [6. Checking the Column Names](#PSCRAPE_page_6)\n",
    "    * [7. Cleaning the Column Names](#PSCRAPE_page_7)\n",
    "    * [8. Creating a new Cleaned Dataset](#PSCRAPE_page_8)\n",
    "    * [9. Counting Columns](#PSCRAPE_page_9)\n",
    "    * [10. Get Info about the Dataset](#PSCRAPE_page_10)\n",
    "    * [11. Get Descriptive Statistics about the Dataset](#PSCRAPE_page_11)\n",
    "    * [12. Counting Rows and Removing any NANs](#PSCRAPE_page_12)\n",
    "    * [13. Correlation Analysis](#PSCRAPE_page_13)\n",
    "    * [14. Principal Component Analysis (PCA)](#PSCRAPE_page_14)\n",
    "    * [15. Group Comparison](#PSCRAPE_page_15)\n",
    "    * [16. TBD](#PSCRAPE_page_16)\n",
    "    * [17. Groupby Function](#PSCRAPE_page_17)"
   ]
  },
  {
   "cell_type": "markdown",
   "id": "5363eb5f-c618-401b-a3bb-f685ec7d91d2",
   "metadata": {},
   "source": [
    "<hr style=\"height:5px;border-width:0;color:MediumAquamarine;background-color:MediumAquamarine\">\n",
    "\n",
    "# Page 1 - Abstract <a class=\"anchor\" id=\"PSCRAPE_page_1\"></a>\n",
    "\n",
    "[Back to Top](#PSCRAPE_toc)\n",
    "\n",
    "<hr style=\"height:5px;border-width:0;color:MediumAquamarine;background-color:MediumAquamarine\">"
   ]
  },
  {
   "cell_type": "markdown",
   "id": "3f871ff6-7f22-47fc-b437-e1fa97ee7300",
   "metadata": {},
   "source": [
    ">This abstract presents the utilization of the BeautifulSoup Python library to web scrape textual data from the CNBC financial news outlet. The scraped data serves as the foundation for developing a sentiment indicator aimed at stock market analysis. By extracting relevant financial news articles and employing sentiment analysis techniques, sentiment scores are assigned to the text, indicating whether the sentiment expressed in the articles is positive, negative, or neutral. These sentiment scores can be aggregated over time to create a sentiment indicator, providing valuable insights into market sentiment and assisting traders and investors in making informed decisions."
   ]
  },
  {
   "cell_type": "markdown",
   "id": "b8f607bd-beac-4b75-ade4-0d6f6debded9",
   "metadata": {},
   "source": [
    "<hr style=\"height:5px;border-width:0;color:MediumAquamarine;background-color:MediumAquamarine\">\n",
    "\n",
    "# Page 2 - Imported Libraries<a class=\"anchor\" id=\"PSCRAPE_page_2\"></a>\n",
    "\n",
    "[Back to Top](#PSCRAPE_toc)\n",
    "\n",
    "<hr style=\"height:5px;border-width:0;color:MediumAquamarine;background-color:MediumAquamarine\">\n"
   ]
  },
  {
   "cell_type": "code",
   "execution_count": 1,
   "id": "a3eb7332-75e3-4d6c-bfca-b4fd2f3da924",
   "metadata": {},
   "outputs": [],
   "source": [
    "import requests\n",
    "from bs4 import BeautifulSoup"
   ]
  },
  {
   "cell_type": "markdown",
   "id": "1b75e5d3-4975-4148-a6fd-5021bafb540b",
   "metadata": {},
   "source": [
    "<hr style=\"height:5px;border-width:0;color:MediumAquamarine;background-color:MediumAquamarine\">\n",
    "\n",
    "# Page 3 - Import Data<a class=\"anchor\" id=\"PSCRAPE_page_3\"></a>\n",
    "\n",
    "[Back to Top](#PSCRAPE_toc)\n",
    "\n",
    "<hr style=\"height:5px;border-width:0;color:MediumAquamarine;background-color:MediumAquamarine\">\n"
   ]
  },
  {
   "cell_type": "markdown",
   "id": "c200ff1f-c31e-471b-b3b9-6009f3e3dffa",
   "metadata": {
    "tags": []
   },
   "source": [
    "## Primary Headline"
   ]
  },
  {
   "cell_type": "code",
   "execution_count": 2,
   "id": "e4714f9e-9205-4288-a9fd-dd394851436f",
   "metadata": {},
   "outputs": [],
   "source": [
    "URL = \"https://www.cnbc.com/\""
   ]
  },
  {
   "cell_type": "code",
   "execution_count": 3,
   "id": "e6d7c1f0-7989-446e-a949-cccfc48cc5f0",
   "metadata": {},
   "outputs": [],
   "source": [
    "page = requests.get(URL)"
   ]
  },
  {
   "cell_type": "code",
   "execution_count": 4,
   "id": "63b13758-d7d9-4728-9e2c-c43f09ceab46",
   "metadata": {},
   "outputs": [],
   "source": [
    "soup = BeautifulSoup(page.content, \"html.parser\")"
   ]
  },
  {
   "cell_type": "code",
   "execution_count": 5,
   "id": "e1ff7f9c-f1b2-4efe-b60e-f5e8dfca206c",
   "metadata": {},
   "outputs": [],
   "source": [
    "\n",
    "\n",
    "# This pulls pulls the URL and Main Headline Data\n",
    "soup.find('div', class_=\"FeaturedCard-packagedCardTitle\")"
   ]
  },
  {
   "cell_type": "code",
   "execution_count": 6,
   "id": "68f7237e-4321-48fa-9592-e9f491be41b7",
   "metadata": {},
   "outputs": [],
   "source": [
    "result = soup.find_all('div', class_=\"FeaturedCard-packagedCardTitle\")"
   ]
  },
  {
   "cell_type": "code",
   "execution_count": 7,
   "id": "a715d2b4-fb1d-4f11-bd7a-9ab92523d7bb",
   "metadata": {},
   "outputs": [
    {
     "name": "stdout",
     "output_type": "stream",
     "text": [
      "Debt ceiling negotiators make progress on spending, but still have 'major issues'\n"
     ]
    }
   ],
   "source": [
    "for headline in soup.find_all('div', class_=\"FeaturedCard-contentText\"):\n",
    "    links = headline.find_all(\"a\")\n",
    "    for link in links:\n",
    "        print(link.text.strip())"
   ]
  },
  {
   "cell_type": "markdown",
   "id": "573b6e52-9e3b-46bf-9899-bd4b54dc0648",
   "metadata": {},
   "source": [
    "# Secondary Headlines"
   ]
  },
  {
   "cell_type": "code",
   "execution_count": 8,
   "id": "42bfd8c8-dea5-4bd8-b139-de4e65364e38",
   "metadata": {},
   "outputs": [],
   "source": [
    "import requests\n",
    "from bs4 import BeautifulSoup"
   ]
  },
  {
   "cell_type": "code",
   "execution_count": 9,
   "id": "1d568a93-9ded-4b41-974c-d949e55523f1",
   "metadata": {},
   "outputs": [],
   "source": [
    "URL = \"https://www.cnbc.com/\""
   ]
  },
  {
   "cell_type": "code",
   "execution_count": 10,
   "id": "a2b15cb2-bfd8-4282-8368-a3ecd702f45e",
   "metadata": {},
   "outputs": [],
   "source": [
    "page = requests.get(URL)"
   ]
  },
  {
   "cell_type": "code",
   "execution_count": 11,
   "id": "4abe806d-a441-4419-943f-658341b627e8",
   "metadata": {},
   "outputs": [],
   "source": [
    "soup = BeautifulSoup(page.content, \"html.parser\")"
   ]
  },
  {
   "cell_type": "code",
   "execution_count": 12,
   "id": "0dc260f9-5b1f-4f62-b788-c0891f91da5c",
   "metadata": {},
   "outputs": [
    {
     "data": {
      "text/plain": [
       "<div class=\"SecondaryCard-headline\"><a href=\"https://www.cnbc.com/2023/05/26/job-cuts-jpmorgan-chase-cut-about-500-tech-and-ops-jobs-.html\" title=\"JPMorgan Chase cut about 500 jobs this week, including technology and operations roles\">JPMorgan Chase cut about 500 jobs this week, including technology and operations roles</a></div>"
      ]
     },
     "execution_count": 12,
     "metadata": {},
     "output_type": "execute_result"
    }
   ],
   "source": [
    "soup.find('div', class_=\"SecondaryCard-headline\")"
   ]
  },
  {
   "cell_type": "code",
   "execution_count": 13,
   "id": "fffcb43a-dac1-46df-8968-87681365c4ce",
   "metadata": {},
   "outputs": [],
   "source": [
    "\n",
    "result_secondary = soup.find_all('div', class_=\"SecondaryCard-headline\")"
   ]
  },
  {
   "cell_type": "code",
   "execution_count": 14,
   "id": "9655c367-a376-4256-bca3-d313882ef0d0",
   "metadata": {},
   "outputs": [
    {
     "name": "stdout",
     "output_type": "stream",
     "text": [
      "JPMorgan Chase cut about 500 jobs this week, including technology and operations roles\n",
      "Dow jumps 300 points as Wall Street grows hopeful that a debt ceiling deal can be reached\n"
     ]
    }
   ],
   "source": [
    "for headline in soup.find_all('div', class_=\"SecondaryCard-headline\"):\n",
    "    links = headline.find_all(\"a\")\n",
    "    for link in links:\n",
    "        print(link.text.strip())"
   ]
  },
  {
   "cell_type": "markdown",
   "id": "d5413e10-c751-4345-aba5-3b7c25df80a8",
   "metadata": {},
   "source": [
    "# Latest News Headlines"
   ]
  },
  {
   "cell_type": "code",
   "execution_count": 15,
   "id": "1f62e187-ce72-4d83-bc01-8b5e1d5dcd0a",
   "metadata": {
    "tags": []
   },
   "outputs": [],
   "source": [
    "import requests\n",
    "from bs4 import BeautifulSoup"
   ]
  },
  {
   "cell_type": "code",
   "execution_count": 16,
   "id": "f95ea5f5-b10f-4b36-8b6e-67f6005b4258",
   "metadata": {},
   "outputs": [],
   "source": [
    "URL = \"https://www.cnbc.com/\""
   ]
  },
  {
   "cell_type": "code",
   "execution_count": 17,
   "id": "e9b70f22-7187-479f-93c4-8fbe880fc576",
   "metadata": {},
   "outputs": [],
   "source": [
    "page = requests.get(URL)"
   ]
  },
  {
   "cell_type": "code",
   "execution_count": 18,
   "id": "14e4d9b9-d24f-41d0-bbdc-6bda978b046f",
   "metadata": {},
   "outputs": [],
   "source": [
    "soup = BeautifulSoup(page.content, \"html.parser\")"
   ]
  },
  {
   "cell_type": "code",
   "execution_count": 19,
   "id": "da8d5ea8-e18f-45ab-9797-eedac64af8d9",
   "metadata": {},
   "outputs": [
    {
     "data": {
      "text/plain": [
       "<div class=\"LatestNews-headlineWrapper\"><span class=\"LatestNews-wrapper\"><time class=\"LatestNews-timestamp\">11 Min Ago</time></span><a class=\"LatestNews-headline\" href=\"https://www.cnbc.com/2023/05/26/disney-rips-desantis-bid-to-disqualify-judge.html\" title=\"Disney rips DeSantis bid to disqualify judge in free speech lawsuit\">Disney rips DeSantis bid to disqualify judge in free speech lawsuit</a></div>"
      ]
     },
     "execution_count": 19,
     "metadata": {},
     "output_type": "execute_result"
    }
   ],
   "source": [
    "soup.find('div', class_=\"LatestNews-headlineWrapper\")"
   ]
  },
  {
   "cell_type": "code",
   "execution_count": 20,
   "id": "de517341-eef2-4ca2-8861-50e0ca7b2984",
   "metadata": {},
   "outputs": [],
   "source": [
    "\n",
    "result_secondary = soup.find_all('div', class_=\"LatestNews-headlineWrapper\")"
   ]
  },
  {
   "cell_type": "code",
   "execution_count": 21,
   "id": "c2231e61-6c82-4bf2-a669-844e9fbe7f96",
   "metadata": {
    "tags": []
   },
   "outputs": [
    {
     "name": "stdout",
     "output_type": "stream",
     "text": [
      "Disney rips DeSantis bid to disqualify judge in free speech lawsuit\n",
      "Why the pause on student loan payments has been a win for public servants\n",
      "Facebook-Giphy sale shows how fear of regulators is slowing M&A market\n",
      "JPMorgan Chase cut about 500 jobs this week, including tech and operations roles\n",
      "Is there a 'right' age for kids to be on social media? Here's what an expert says\n",
      "\n",
      "A.I. excitement leads to a winning week for Nvidia and other tech stocks\n",
      "\n",
      "Nvidia shares jumped 25% this week — and got cheaper. Here's how that happens\n",
      "\n",
      "Needham says this stock plays the 'almost perfect marriage' between A.I., crypto\n",
      "AI is the latest buzzword in tech—but before investing, know these 4 terms\n",
      "Taylor Swift to Metallica: Top 10 most in-demand artists of summer\n",
      "\n",
      "Investors shifted into these gold and small-cap ETFs this week\n",
      "Ford's EV charging deal with Tesla puts pressure on GM, other rival automakers\n",
      "Paramount shares pop after BDT Capital bets on the media giant's key shareholder\n",
      "Stocks making the biggest moves midday: Ford, Marvell Technology, Gap and more\n",
      "Companies add, expand tuition assistance so workers can go back to college\n",
      "\n",
      "Here’s why it might be time to buy longer-term bonds now\n",
      "\n",
      "Club name Ford teams up with Tesla, sending shares soaring\n",
      "How this CMO got comfortable embracing his Asian identity at work\n",
      "Biden Interior advances renewable energy transmission projects in Nevada\n",
      "\n",
      "Morgan Stanley upgrades this  mining stock that can surge more than 20%\n",
      "\n",
      "Apple and Nvidia are in my top 5 holdings. Am I still diversified enough?\n",
      "Marvell shares soar 25% after the chip firm beats on top and bottom line results\n",
      "JPMorgan CEO Jamie Dimon faces deposition in Jeffrey Epstein lawsuits\n",
      "\n",
      "BofA hits spacecraft builder Terran Orbital with rare double downgrade\n",
      "House passes bill blocking student debt forgiveness—what borrowers need to know\n",
      "Companies are learning Gen Z isn’t the easiest generation to work with\n",
      "\n",
      "Despite all odds, consumers are still traveling this summer. How to play it\n",
      "30-year-old billionaire started with a website, sewing kit and Pizza Hut salary\n",
      "Vesting means it can take up to 6 years for workers to own their 401(k) match\n",
      "How virtual layoffs became the new normal for workplaces\n"
     ]
    }
   ],
   "source": [
    "for headline in soup.find_all('div', class_=\"LatestNews-headlineWrapper\"):\n",
    "    links = headline.find_all(\"a\")\n",
    "    for link in links:\n",
    "        print(link.text.strip())"
   ]
  },
  {
   "cell_type": "markdown",
   "id": "2b8dd0ec-1373-43ca-a64f-4915e0c2db10",
   "metadata": {},
   "source": [
    "<hr style=\"height:5px;border-width:0;color:MediumAquamarine;background-color:MediumAquamarine\">\n",
    "\n",
    "# Page 4 - Data Complier <a class=\"anchor\" id=\"PSCRAPE_page_4\"></a>\n",
    "\n",
    "[Back to Top](#PSCRAPE_toc)\n",
    "\n",
    "<hr style=\"height:5px;border-width:0;color:MediumAquamarine;background-color:MediumAquamarine\">"
   ]
  },
  {
   "cell_type": "markdown",
   "id": "7e2599e6-6571-464b-8de6-0e6e719c719b",
   "metadata": {},
   "source": [
    "# Primary Headline Compiler"
   ]
  },
  {
   "cell_type": "code",
   "execution_count": 22,
   "id": "eca309bb-e92b-4b86-8293-5a3638b3bef8",
   "metadata": {},
   "outputs": [],
   "source": [
    "# Automate Collection \n",
    "import schedule\n",
    "import time\n",
    "\n",
    "import pandas as pd\n",
    "import csv\n",
    "import requests\n",
    "from bs4 import BeautifulSoup\n",
    "url = \"https://www.cnbc.com/\"\n",
    "\n",
    "def append_data_to_csv(url):\n",
    "    file_path = \"../Data/PrimaryHeadline_CV.csv\"\n",
    "\n",
    "    # Fetch the data from the URL\n",
    "    page = requests.get(url)\n",
    "    soup = BeautifulSoup(page.content, \"html.parser\")\n",
    "\n",
    "    # Extract the headlines\n",
    "    headlines = set()\n",
    "    for headline in soup.find_all('div', class_=\"FeaturedCard-contentText\"):\n",
    "        links = headline.find_all(\"a\")\n",
    "        for link in links:\n",
    "            headlines.add(link.text.strip())\n",
    "\n",
    "    # Append the data to the CSV file\n",
    "    with open(file_path, \"a\", newline=\"\") as file:\n",
    "        writer = csv.writer(file)\n",
    "\n",
    "        # Check for duplicates before writing\n",
    "        existing_headlines = set()\n",
    "        try:\n",
    "            with open(file_path, \"r\") as existing_file:\n",
    "                existing_data = csv.reader(existing_file)\n",
    "                for row in existing_data:\n",
    "                    existing_headlines.update(row)\n",
    "        except FileNotFoundError:\n",
    "            pass\n",
    "\n",
    "        new_headlines = headlines - existing_headlines\n",
    "        if new_headlines:\n",
    "            writer.writerow(new_headlines)\n",
    "            \n",
    "# Schedule the interval for collection\n",
    "#schedule.every(2).hours.do(append_data_to_csv, url=\"https://www.cnbc.com/\")\n",
    "\n",
    "\n",
    "# while True:\n",
    "    # Example usage\n",
    "URL = \"https://www.cnbc.com/\"\n",
    "append_data_to_csv(URL)"
   ]
  },
  {
   "cell_type": "code",
   "execution_count": 23,
   "id": "7ecd0014-a7a4-4254-bc62-ecaa756f884a",
   "metadata": {},
   "outputs": [],
   "source": [
    "data_test = pd.read_csv('../Data/PrimaryHeadline_CV.csv')"
   ]
  },
  {
   "cell_type": "code",
   "execution_count": 24,
   "id": "dcb7afec-a234-4f13-abd5-3ddd43929c52",
   "metadata": {},
   "outputs": [
    {
     "data": {
      "text/html": [
       "<div>\n",
       "<style scoped>\n",
       "    .dataframe tbody tr th:only-of-type {\n",
       "        vertical-align: middle;\n",
       "    }\n",
       "\n",
       "    .dataframe tbody tr th {\n",
       "        vertical-align: top;\n",
       "    }\n",
       "\n",
       "    .dataframe thead th {\n",
       "        text-align: right;\n",
       "    }\n",
       "</style>\n",
       "<table border=\"1\" class=\"dataframe\">\n",
       "  <thead>\n",
       "    <tr style=\"text-align: right;\">\n",
       "      <th></th>\n",
       "      <th>Debt ceiling negotiators make progress on spending, but still have 'major issues'</th>\n",
       "    </tr>\n",
       "  </thead>\n",
       "  <tbody>\n",
       "  </tbody>\n",
       "</table>\n",
       "</div>"
      ],
      "text/plain": [
       "Empty DataFrame\n",
       "Columns: [Debt ceiling negotiators make progress on spending, but still have 'major issues']\n",
       "Index: []"
      ]
     },
     "execution_count": 24,
     "metadata": {},
     "output_type": "execute_result"
    }
   ],
   "source": [
    "data_test"
   ]
  },
  {
   "cell_type": "markdown",
   "id": "3fce18f1-42fa-4264-98db-9d0b21398926",
   "metadata": {},
   "source": [
    "# Secondary Headline Complier"
   ]
  },
  {
   "cell_type": "code",
   "execution_count": 25,
   "id": "4140978e-149b-49be-b417-0b05fc7deccc",
   "metadata": {},
   "outputs": [],
   "source": [
    "# Automate Collection \n",
    "import schedule\n",
    "import time\n",
    "\n",
    "import pandas as pd\n",
    "import csv\n",
    "import requests\n",
    "from bs4 import BeautifulSoup\n",
    "url = \"https://www.cnbc.com/\"\n",
    "\n",
    "def append_data_to_csv(url):\n",
    "    file_path = \"../Data/SecondaryHeadline_CV.csv\"\n",
    "\n",
    "    # Fetch the data from the URL\n",
    "    page = requests.get(url)\n",
    "    soup = BeautifulSoup(page.content, \"html.parser\")\n",
    "\n",
    "    # Extract the headlines\n",
    "    headlines = set()\n",
    "    for headline in soup.find_all('div', class_=\"SecondaryCard-headline\"):\n",
    "        links = headline.find_all(\"a\")\n",
    "        for link in links:\n",
    "            headlines.add(link.text.strip())\n",
    "\n",
    "    # Append the data to the CSV file\n",
    "    with open(file_path, \"a\", newline=\"\") as file:\n",
    "        writer = csv.writer(file)\n",
    "\n",
    "        # Check for duplicates before writing\n",
    "        existing_headlines = set()\n",
    "        try:\n",
    "            with open(file_path, \"r\") as existing_file:\n",
    "                existing_data = csv.reader(existing_file)\n",
    "                for row in existing_data:\n",
    "                    existing_headlines.update(row)\n",
    "        except FileNotFoundError:\n",
    "            pass\n",
    "\n",
    "        new_headlines = headlines - existing_headlines\n",
    "        if new_headlines:\n",
    "            writer.writerow(new_headlines)\n",
    "            \n",
    "# Schedule the interval for collection\n",
    "#schedule.every(2).hours.do(append_data_to_csv, url=\"https://www.cnbc.com/\")\n",
    "\n",
    "\n",
    "#while True:\n",
    "    # Example usage\n",
    "URL = \"https://www.cnbc.com/\"\n",
    "append_data_to_csv(URL)"
   ]
  },
  {
   "cell_type": "code",
   "execution_count": 26,
   "id": "af3ea7fb-a776-4590-9566-cffa2e00e199",
   "metadata": {
    "tags": []
   },
   "outputs": [],
   "source": [
    "data_test1 = pd.read_csv('../Data/SecondaryHeadline_CV.csv')\n"
   ]
  },
  {
   "cell_type": "code",
   "execution_count": 27,
   "id": "9a1990dd-421d-45b5-a555-282352aa83e2",
   "metadata": {
    "tags": []
   },
   "outputs": [
    {
     "data": {
      "text/html": [
       "<div>\n",
       "<style scoped>\n",
       "    .dataframe tbody tr th:only-of-type {\n",
       "        vertical-align: middle;\n",
       "    }\n",
       "\n",
       "    .dataframe tbody tr th {\n",
       "        vertical-align: top;\n",
       "    }\n",
       "\n",
       "    .dataframe thead th {\n",
       "        text-align: right;\n",
       "    }\n",
       "</style>\n",
       "<table border=\"1\" class=\"dataframe\">\n",
       "  <thead>\n",
       "    <tr style=\"text-align: right;\">\n",
       "      <th></th>\n",
       "      <th>JPMorgan Chase cut about 500 technology and operations jobs this week, sources say</th>\n",
       "      <th>Dow jumps 300 points as Wall Street grows hopeful that a debt ceiling deal can be reached</th>\n",
       "    </tr>\n",
       "  </thead>\n",
       "  <tbody>\n",
       "    <tr>\n",
       "      <th>0</th>\n",
       "      <td>JPMorgan Chase cut about 500 jobs this week, i...</td>\n",
       "      <td>NaN</td>\n",
       "    </tr>\n",
       "  </tbody>\n",
       "</table>\n",
       "</div>"
      ],
      "text/plain": [
       "  JPMorgan Chase cut about 500 technology and operations jobs this week, sources say   \n",
       "0  JPMorgan Chase cut about 500 jobs this week, i...                                  \\\n",
       "\n",
       "   Dow jumps 300 points as Wall Street grows hopeful that a debt ceiling deal can be reached  \n",
       "0                                                NaN                                          "
      ]
     },
     "execution_count": 27,
     "metadata": {},
     "output_type": "execute_result"
    }
   ],
   "source": [
    "data_test1"
   ]
  },
  {
   "cell_type": "markdown",
   "id": "120bc56c-d9e2-4b6b-aab4-f1632a338882",
   "metadata": {},
   "source": [
    "# Latest News Headline Compiler"
   ]
  },
  {
   "cell_type": "code",
   "execution_count": 28,
   "id": "374852cf-55d6-4939-b962-7734668e4b42",
   "metadata": {},
   "outputs": [],
   "source": [
    "# Latest News Headlines \n",
    "import schedule\n",
    "import time\n",
    "\n",
    "# NLP Remove stop words\n",
    "import nltk\n",
    "from nltk.corpus import stopwords\n",
    "\n",
    "import pandas as pd\n",
    "import csv\n",
    "import requests\n",
    "from bs4 import BeautifulSoup\n",
    "url = \"https://www.cnbc.com/\"\n",
    "\n",
    "def preprocess_data(data):\n",
    "    # Apply any necessary preprocessing steps\n",
    "    # Remove characters not recognized by UTF-8\n",
    "    data = data.encode('utf-8', errors='ignore').decode('utf-8')\n",
    "    \n",
    "    # For example, convert text to lowercase or capitalize the first letter of each word\n",
    "    return data.lower()\n",
    "\n",
    "     # Remove stopwords\n",
    "    stop_words = set(stopwords.words('english'))\n",
    "    words = [word for word in data.split() if word.lower() not in stop_words]\n",
    "    data = ' '.join(words)\n",
    "    return data\n",
    "\n",
    "def append_data_to_csv(url):\n",
    "    file_path = \"../Data/LatestHeadline_CV.csv\"\n",
    "\n",
    "    # Fetch the data from the URL\n",
    "    page = requests.get(url)\n",
    "    soup = BeautifulSoup(page.content, \"html.parser\")\n",
    "\n",
    "    # Extract the headlines\n",
    "    headlines = set()\n",
    "    for headline in soup.find_all('div', class_=\"LatestNews-headlineWrapper\"):\n",
    "        links = headline.find_all(\"a\")\n",
    "        for link in links:\n",
    "            headlines.add(link.text.strip())\n",
    "            \n",
    "    processed_headlines = [preprocess_data(headline) for headline in headlines]\n",
    "\n",
    "    # Append the data to the CSV file\n",
    "    with open(file_path, \"a\", newline=\"\") as file:\n",
    "        writer = csv.writer(file)\n",
    "\n",
    "        # Check for duplicates before writing\n",
    "        existing_headlines = set()\n",
    "        try:\n",
    "            with open(file_path, \"r\") as existing_file:\n",
    "                existing_data = csv.reader(existing_file)\n",
    "                for row in existing_data:\n",
    "                    existing_headlines.update(row)\n",
    "        except FileNotFoundError:\n",
    "            pass\n",
    "\n",
    "        new_headlines = set(processed_headlines) - set(existing_headlines)\n",
    "        if new_headlines:\n",
    "            writer.writerow(new_headlines)\n",
    "            \n",
    "# Schedule the interval for collection\n",
    "#schedule.every(2).hours.do(append_data_to_csv, url=\"https://www.cnbc.com/\")\n",
    "\n",
    "\n",
    "#while True:\n",
    "    # Example usage\n",
    "URL = \"https://www.cnbc.com/\"\n",
    "append_data_to_csv(URL)"
   ]
  },
  {
   "cell_type": "code",
   "execution_count": 29,
   "id": "d88e92fb-6b04-4f57-8f3c-f4847d521a0c",
   "metadata": {},
   "outputs": [],
   "source": [
    "data_test2 = pd.read_csv('../Data/LatestHeadline_CV.csv',encoding='latin-1')"
   ]
  },
  {
   "cell_type": "code",
   "execution_count": 30,
   "id": "a69bf924-2dee-4035-942b-8a4c3a6a58cb",
   "metadata": {},
   "outputs": [
    {
     "data": {
      "text/html": [
       "<div>\n",
       "<style scoped>\n",
       "    .dataframe tbody tr th:only-of-type {\n",
       "        vertical-align: middle;\n",
       "    }\n",
       "\n",
       "    .dataframe tbody tr th {\n",
       "        vertical-align: top;\n",
       "    }\n",
       "\n",
       "    .dataframe thead th {\n",
       "        text-align: right;\n",
       "    }\n",
       "</style>\n",
       "<table border=\"1\" class=\"dataframe\">\n",
       "  <thead>\n",
       "    <tr style=\"text-align: right;\">\n",
       "      <th></th>\n",
       "      <th></th>\n",
       "      <th></th>\n",
       "      <th></th>\n",
       "      <th></th>\n",
       "      <th></th>\n",
       "      <th></th>\n",
       "      <th></th>\n",
       "      <th></th>\n",
       "      <th></th>\n",
       "      <th></th>\n",
       "      <th></th>\n",
       "      <th></th>\n",
       "      <th></th>\n",
       "      <th></th>\n",
       "      <th></th>\n",
       "      <th></th>\n",
       "      <th></th>\n",
       "      <th></th>\n",
       "      <th></th>\n",
       "      <th></th>\n",
       "      <th></th>\n",
       "      <th></th>\n",
       "      <th></th>\n",
       "      <th></th>\n",
       "      <th></th>\n",
       "      <th></th>\n",
       "      <th></th>\n",
       "      <th></th>\n",
       "      <th></th>\n",
       "      <th>ï»¿</th>\n",
       "    </tr>\n",
       "  </thead>\n",
       "  <tbody>\n",
       "    <tr>\n",
       "      <th>NaN</th>\n",
       "      <th>companies add, expand tuition assistance so workers can go back to college</th>\n",
       "      <th>stocks making the biggest moves midday: ford, marvell technology, gap and more</th>\n",
       "      <th>despite all odds, consumers are still traveling this summer. how to play it</th>\n",
       "      <th>marvell shares soar 25% after the chip firm beats on top and bottom line results</th>\n",
       "      <th>biden interior advances renewable energy transmission projects in nevada</th>\n",
       "      <th>apple and nvidia are in my top 5 holdings. am i still diversified enough?</th>\n",
       "      <th>companies are learning gen z isnt the easiest generation to work with</th>\n",
       "      <th>heres why it might be time to buy longer-term bonds now</th>\n",
       "      <th>house passes bill blocking student debt forgivenesswhat borrowers need to know</th>\n",
       "      <th>paramount shares pop after bdt capital bets on the media giant's key shareholder</th>\n",
       "      <th>ford's ev charging deal with tesla puts pressure on gm, other rival automakers</th>\n",
       "      <th>morgan stanley upgrades this  mining stock that can surge more than 20%</th>\n",
       "      <th>club name ford teams up with tesla, sending shares soaring</th>\n",
       "      <th>bofa hits spacecraft builder terran orbital with rare double downgrade</th>\n",
       "      <th>taylor swift to metallica: top 10 most in-demand artists of summer</th>\n",
       "      <th>facebook-giphy sale shows how fear of regulators is slowing m&amp;a market</th>\n",
       "      <th>ai is the latest buzzword in techbut before investing, know these 4 terms</th>\n",
       "      <th>needham says this stock plays the 'almost perfect marriage' between a.i., crypto</th>\n",
       "      <th>jpmorgan chase cut about 500 tech and operations jobs this week, sources say</th>\n",
       "      <th>how virtual layoffs became the new normal for workplaces</th>\n",
       "      <th>nvidia shares jumped 25% this week  and got cheaper. here's how that happens</th>\n",
       "      <th>these industries could face major disruptions from a.i.</th>\n",
       "      <th>a.i. excitement leads to a winning week for nvidia and other tech stocks</th>\n",
       "      <th>vesting means it can take up to 6 years for workers to own their 401(k) match</th>\n",
       "      <th>is there a 'right' age for kids to be on social media? here's what an expert says</th>\n",
       "      <th>jpmorgan ceo jamie dimon faces deposition in jeffrey epstein lawsuits</th>\n",
       "      <th>30-year-old billionaire started with a website, sewing kit and pizza hut salary</th>\n",
       "      <th>why the pause on student loan payments has been a win for public servants</th>\n",
       "      <th>how this cmo got comfortable embracing his asian identity at work</th>\n",
       "      <td>investors shifted into these gold and small-ca...</td>\n",
       "    </tr>\n",
       "    <tr>\n",
       "      <th>jpmorgan chase cut about 500 jobs this week, including tech and operations roles</th>\n",
       "      <th>disney rips desantis bid to disqualify judge in free speech lawsuit</th>\n",
       "      <th>NaN</th>\n",
       "      <th>NaN</th>\n",
       "      <th>NaN</th>\n",
       "      <th>NaN</th>\n",
       "      <th>NaN</th>\n",
       "      <th>NaN</th>\n",
       "      <th>NaN</th>\n",
       "      <th>NaN</th>\n",
       "      <th>NaN</th>\n",
       "      <th>NaN</th>\n",
       "      <th>NaN</th>\n",
       "      <th>NaN</th>\n",
       "      <th>NaN</th>\n",
       "      <th>NaN</th>\n",
       "      <th>NaN</th>\n",
       "      <th>NaN</th>\n",
       "      <th>NaN</th>\n",
       "      <th>NaN</th>\n",
       "      <th>NaN</th>\n",
       "      <th>NaN</th>\n",
       "      <th>NaN</th>\n",
       "      <th>NaN</th>\n",
       "      <th>NaN</th>\n",
       "      <th>NaN</th>\n",
       "      <th>NaN</th>\n",
       "      <th>NaN</th>\n",
       "      <th>NaN</th>\n",
       "      <th>NaN</th>\n",
       "      <td>NaN</td>\n",
       "    </tr>\n",
       "  </tbody>\n",
       "</table>\n",
       "</div>"
      ],
      "text/plain": [
       "                                                                                                                                                                                                                                                                                                                                                                                                                                                                                                                                                                                                                                                                                                                                                                                                                                                                                                                                                                                                                                                                                                                                                                                                                                                                                                                                                                                                                                                                                                                                                                                                                                         ï»¿\n",
       "NaN                                                companies add, expand tuition assistance so wor... stocks making the biggest moves midday: ford, m... despite all odds, consumers are still traveling... marvell shares soar 25% after the chip firm bea... biden interior advances renewable energy transm... apple and nvidia are in my top 5 holdings. am i... companies are learning gen z isnt the easiest ... heres why it might be time to buy longer-term ... house passes bill blocking student debt forgive... paramount shares pop after bdt capital bets on ... ford's ev charging deal with tesla puts pressur... morgan stanley upgrades this  mining stock that... club name ford teams up with tesla, sending sha... bofa hits spacecraft builder terran orbital wit... taylor swift to metallica: top 10 most in-deman... facebook-giphy sale shows how fear of regulator... ai is the latest buzzword in techbut before in... needham says this stock plays the 'almost perfe... jpmorgan chase cut about 500 tech and operation... how virtual layoffs became the new normal for w... nvidia shares jumped 25% this week  and got ch... these industries could face major disruptions f... a.i. excitement leads to a winning week for nvi... vesting means it can take up to 6 years for wor... is there a 'right' age for kids to be on social... jpmorgan ceo jamie dimon faces deposition in je... 30-year-old billionaire started with a website,... why the pause on student loan payments has been... how this cmo got comfortable embracing his asia...  investors shifted into these gold and small-ca...\n",
       "jpmorgan chase cut about 500 jobs this week, in... disney rips desantis bid to disqualify judge in... NaN                                                NaN                                                NaN                                                NaN                                                NaN                                                NaN                                                NaN                                                NaN                                                NaN                                                NaN                                                NaN                                                NaN                                                NaN                                                NaN                                                NaN                                                NaN                                                NaN                                                NaN                                                NaN                                                NaN                                                NaN                                                NaN                                                NaN                                                NaN                                                NaN                                                NaN                                                NaN                                                NaN                                                                                               NaN"
      ]
     },
     "execution_count": 30,
     "metadata": {},
     "output_type": "execute_result"
    }
   ],
   "source": [
    "data_test2"
   ]
  },
  {
   "cell_type": "markdown",
   "id": "db054559-c7ce-484d-b2fe-47dd25f7f6d4",
   "metadata": {},
   "source": [
    "# All Headlines Compiler"
   ]
  },
  {
   "cell_type": "code",
   "execution_count": 48,
   "id": "583ff235-c8af-42b2-974d-c8f16d835a3e",
   "metadata": {},
   "outputs": [],
   "source": [
    "\n",
    "import schedule\n",
    "import time\n",
    "\n",
    "# NLP Remove stop words\n",
    "import nltk\n",
    "from nltk.corpus import stopwords\n",
    "\n",
    "import pandas as pd\n",
    "import csv\n",
    "import requests\n",
    "from bs4 import BeautifulSoup\n",
    "url = \"https://www.cnbc.com/\"\n",
    "\n",
    "def preprocess_data(data):\n",
    "    # Apply any necessary preprocessing steps\n",
    "    # Remove characters not recognized by UTF-8\n",
    "    data = data.encode('utf-8', errors='ignore').decode('utf-8')\n",
    "    \n",
    "    # For example, convert text to lowercase or capitalize the first letter of each word\n",
    "    return data.lower()\n",
    "\n",
    "     # Remove stopwords\n",
    "    stop_words = set(stopwords.words('english'))\n",
    "    words = [word for word in data.split() if word.lower() not in stop_words]\n",
    "    data = ' '.join(words)\n",
    "    return data\n",
    "\n",
    "def append_data_to_csv(url):\n",
    "    file_path = \"../Data/ConsolidatedHeadline_CV.csv\"\n",
    "\n",
    "    # Fetch the data from the URL\n",
    "    page = requests.get(url)\n",
    "    soup = BeautifulSoup(page.content, \"html.parser\")\n",
    "\n",
    "    # Extract the headlines\n",
    "    headlines = set()\n",
    "    for headline in soup.find_all('div', class_=\"FeaturedCard-contentText\"):\n",
    "        links = headline.find_all(\"a\")\n",
    "        for link in links:\n",
    "            headlines.add(link.text.strip())\n",
    "\n",
    "    for headline in soup.find_all('div', class_=\"SecondaryCard-headline\"):\n",
    "        links = headline.find_all(\"a\")\n",
    "        for link in links:\n",
    "            headlines.add(link.text.strip())\n",
    "\n",
    "    for headline in soup.find_all('div', class_=\"LatestNews-headlineWrapper\"):\n",
    "        links = headline.find_all(\"a\")\n",
    "        for link in links:\n",
    "            headlines.add(link.text.strip())\n",
    "\n",
    "    # Process the headlines\n",
    "    processed_headlines = [preprocess_data(headline) for headline in headlines]\n",
    "\n",
    "    # Filter out null values\n",
    "    non_null_headlines = [headline for headline in processed_headlines if headline]\n",
    "    \n",
    "    # Append the data to the CSV file\n",
    "    with open(file_path, \"a\", newline=\"\") as file:\n",
    "        writer = csv.writer(file)\n",
    "\n",
    "        # Check for duplicates before writing\n",
    "        existing_headlines = set()\n",
    "        try:\n",
    "            with open(file_path, \"r\") as existing_file:\n",
    "                existing_data = csv.reader(existing_file)\n",
    "                for row in existing_data:\n",
    "                    existing_headlines.update(row)\n",
    "        except FileNotFoundError:\n",
    "            pass\n",
    "\n",
    "        new_headlines = set(processed_headlines) - set(existing_headlines)\n",
    "        if new_headlines:\n",
    "            writer.writerow(new_headlines)\n",
    "\n",
    "            \n",
    "# Schedule the interval for collection\n",
    "#schedule.every(2).hours.do(append_data_to_csv, url=\"https://www.cnbc.com/\")\n",
    "\n",
    "\n",
    "#while True:\n",
    "    # Example usage\n",
    "URL = \"https://www.cnbc.com/\"\n",
    "append_data_to_csv(URL)\n"
   ]
  },
  {
   "cell_type": "code",
   "execution_count": 49,
   "id": "f807512c-6fa8-4d2a-9bcd-7d26c5527624",
   "metadata": {},
   "outputs": [],
   "source": [
    "data_test3 = pd.read_csv('../Data/ConsolidatedHeadline_CV.csv',encoding='latin-1')"
   ]
  },
  {
   "cell_type": "code",
   "execution_count": 50,
   "id": "8295c72b-664c-4b61-941c-5ff20163d5a1",
   "metadata": {},
   "outputs": [
    {
     "data": {
      "text/html": [
       "<div>\n",
       "<style scoped>\n",
       "    .dataframe tbody tr th:only-of-type {\n",
       "        vertical-align: middle;\n",
       "    }\n",
       "\n",
       "    .dataframe tbody tr th {\n",
       "        vertical-align: top;\n",
       "    }\n",
       "\n",
       "    .dataframe thead th {\n",
       "        text-align: right;\n",
       "    }\n",
       "</style>\n",
       "<table border=\"1\" class=\"dataframe\">\n",
       "  <thead>\n",
       "    <tr style=\"text-align: right;\">\n",
       "      <th></th>\n",
       "      <th></th>\n",
       "      <th></th>\n",
       "      <th></th>\n",
       "      <th></th>\n",
       "      <th></th>\n",
       "      <th></th>\n",
       "      <th></th>\n",
       "      <th></th>\n",
       "      <th></th>\n",
       "      <th></th>\n",
       "      <th></th>\n",
       "      <th></th>\n",
       "      <th></th>\n",
       "      <th></th>\n",
       "      <th></th>\n",
       "      <th></th>\n",
       "      <th></th>\n",
       "      <th></th>\n",
       "      <th></th>\n",
       "      <th></th>\n",
       "      <th></th>\n",
       "      <th></th>\n",
       "      <th></th>\n",
       "      <th></th>\n",
       "      <th></th>\n",
       "      <th></th>\n",
       "      <th></th>\n",
       "      <th></th>\n",
       "      <th></th>\n",
       "      <th></th>\n",
       "      <th></th>\n",
       "      <th></th>\n",
       "      <th>ï»¿</th>\n",
       "    </tr>\n",
       "  </thead>\n",
       "  <tbody>\n",
       "    <tr>\n",
       "      <th>NaN</th>\n",
       "      <th>debt ceiling negotiators make progress on spending, but still have 'major issues'</th>\n",
       "      <th>morgan stanley upgrades this  mining stock that can surge more than 20%</th>\n",
       "      <th>ai is the latest buzzword in techbut before investing, know these 4 terms</th>\n",
       "      <th>ford's ev charging deal with tesla puts pressure on gm, other rival automakers</th>\n",
       "      <th>marvell shares soar 25% after the chip firm beats on top and bottom line results</th>\n",
       "      <th>jpmorgan chase cut about 500 jobs this week, including technology and operations roles</th>\n",
       "      <th>dow jumps 300 points as wall street grows hopeful that a debt ceiling deal can be reached</th>\n",
       "      <th>nvidia shares jumped 25% this week  and got cheaper. here's how that happens</th>\n",
       "      <th>disney rips desantis bid to disqualify judge in free speech lawsuit</th>\n",
       "      <th>is there a 'right' age for kids to be on social media? here's what an expert says</th>\n",
       "      <th>investors shifted into these gold and small-cap etfs this week</th>\n",
       "      <th>vesting means it can take up to 6 years for workers to own their 401(k) match</th>\n",
       "      <th>a.i. excitement leads to a winning week for nvidia and other tech stocks</th>\n",
       "      <th>despite all odds, consumers are still traveling this summer. how to play it</th>\n",
       "      <th>taylor swift to metallica: top 10 most in-demand artists of summer</th>\n",
       "      <th>companies are learning gen z isnt the easiest generation to work with</th>\n",
       "      <th>club name ford teams up with tesla, sending shares soaring</th>\n",
       "      <th>paramount shares pop after bdt capital bets on the media giant's key shareholder</th>\n",
       "      <th>biden interior advances renewable energy transmission projects in nevada</th>\n",
       "      <th>needham says this stock plays the 'almost perfect marriage' between a.i., crypto</th>\n",
       "      <th>30-year-old billionaire started with a website, sewing kit and pizza hut salary</th>\n",
       "      <th>why the pause on student loan payments has been a win for public servants</th>\n",
       "      <th>house passes bill blocking student debt forgivenesswhat borrowers need to know</th>\n",
       "      <th>jpmorgan ceo jamie dimon faces deposition in jeffrey epstein lawsuits</th>\n",
       "      <th>how virtual layoffs became the new normal for workplaces</th>\n",
       "      <th>bofa hits spacecraft builder terran orbital with rare double downgrade</th>\n",
       "      <th>heres why it might be time to buy longer-term bonds now</th>\n",
       "      <th>jpmorgan chase cut about 500 jobs this week, including tech and operations roles</th>\n",
       "      <th>how this cmo got comfortable embracing his asian identity at work</th>\n",
       "      <th>facebook-giphy sale shows how fear of regulators is slowing m&amp;a market</th>\n",
       "      <th>apple and nvidia are in my top 5 holdings. am i still diversified enough?</th>\n",
       "      <th>stocks making the biggest moves midday: ford, marvell technology, gap and more</th>\n",
       "      <td>companies add, expand tuition assistance so wo...</td>\n",
       "    </tr>\n",
       "    <tr>\n",
       "      <th>stocks rally friday on hopes for a debt ceiling deal, nasdaq notches fifth straight week of wins</th>\n",
       "      <th>NaN</th>\n",
       "      <th>NaN</th>\n",
       "      <th>NaN</th>\n",
       "      <th>NaN</th>\n",
       "      <th>NaN</th>\n",
       "      <th>NaN</th>\n",
       "      <th>NaN</th>\n",
       "      <th>NaN</th>\n",
       "      <th>NaN</th>\n",
       "      <th>NaN</th>\n",
       "      <th>NaN</th>\n",
       "      <th>NaN</th>\n",
       "      <th>NaN</th>\n",
       "      <th>NaN</th>\n",
       "      <th>NaN</th>\n",
       "      <th>NaN</th>\n",
       "      <th>NaN</th>\n",
       "      <th>NaN</th>\n",
       "      <th>NaN</th>\n",
       "      <th>NaN</th>\n",
       "      <th>NaN</th>\n",
       "      <th>NaN</th>\n",
       "      <th>NaN</th>\n",
       "      <th>NaN</th>\n",
       "      <th>NaN</th>\n",
       "      <th>NaN</th>\n",
       "      <th>NaN</th>\n",
       "      <th>NaN</th>\n",
       "      <th>NaN</th>\n",
       "      <th>NaN</th>\n",
       "      <th>NaN</th>\n",
       "      <th>NaN</th>\n",
       "      <td>NaN</td>\n",
       "    </tr>\n",
       "  </tbody>\n",
       "</table>\n",
       "</div>"
      ],
      "text/plain": [
       "                                                                                                                                                                                                                                                                                                                                                                                                                                                                                                                                                                                                                                                                                                                                                                                                                                                                                                                                                                                                                                                                                                                                                                                                                                                                                                                                                                                                                                                                                                                                                                                                                                                                                                                                                                                                  ï»¿\n",
       "NaN                                                debt ceiling negotiators make progress on spend... morgan stanley upgrades this  mining stock that... ai is the latest buzzword in techbut before in... ford's ev charging deal with tesla puts pressur... marvell shares soar 25% after the chip firm bea... jpmorgan chase cut about 500 jobs this week, in... dow jumps 300 points as wall street grows hopef... nvidia shares jumped 25% this week  and got ch... disney rips desantis bid to disqualify judge in... is there a 'right' age for kids to be on social... investors shifted into these gold and small-cap... vesting means it can take up to 6 years for wor... a.i. excitement leads to a winning week for nvi... despite all odds, consumers are still traveling... taylor swift to metallica: top 10 most in-deman... companies are learning gen z isnt the easiest ... club name ford teams up with tesla, sending sha... paramount shares pop after bdt capital bets on ... biden interior advances renewable energy transm... needham says this stock plays the 'almost perfe... 30-year-old billionaire started with a website,... why the pause on student loan payments has been... house passes bill blocking student debt forgive... jpmorgan ceo jamie dimon faces deposition in je... how virtual layoffs became the new normal for w... bofa hits spacecraft builder terran orbital wit... heres why it might be time to buy longer-term ... jpmorgan chase cut about 500 jobs this week, in... how this cmo got comfortable embracing his asia... facebook-giphy sale shows how fear of regulator... apple and nvidia are in my top 5 holdings. am i... stocks making the biggest moves midday: ford, m...  companies add, expand tuition assistance so wo...\n",
       "stocks rally friday on hopes for a debt ceiling... NaN                                                NaN                                                NaN                                                NaN                                                NaN                                                NaN                                                NaN                                                NaN                                                NaN                                                NaN                                                NaN                                                NaN                                                NaN                                                NaN                                                NaN                                                NaN                                                NaN                                                NaN                                                NaN                                                NaN                                                NaN                                                NaN                                                NaN                                                NaN                                                NaN                                                NaN                                                NaN                                                NaN                                                NaN                                                NaN                                                NaN                                                NaN                                                                                               NaN"
      ]
     },
     "execution_count": 50,
     "metadata": {},
     "output_type": "execute_result"
    }
   ],
   "source": [
    "data_test3"
   ]
  },
  {
   "cell_type": "markdown",
   "id": "ef586543-e397-4c6a-a461-a34412a88c44",
   "metadata": {},
   "source": [
    "<hr style=\"height:5px;border-width:0;color:MediumAquamarine;background-color:MediumAquamarine\">\n",
    "\n",
    "# Page 4 - Data Automation <a class=\"anchor\" id=\"PSCRAPE_page_5\"></a>\n",
    "\n",
    "[Back to Top](#PSCRAPE_toc)\n",
    "\n",
    "<hr style=\"height:5px;border-width:0;color:MediumAquamarine;background-color:MediumAquamarine\">"
   ]
  },
  {
   "cell_type": "code",
   "execution_count": 34,
   "id": "b4608ac0-ba4d-401e-b094-16c1ac3b86b1",
   "metadata": {},
   "outputs": [],
   "source": [
    "# Automate Collection \n",
    "import schedule\n",
    "import time\n",
    "\n",
    "# NLP Remove stop words\n",
    "import nltk\n",
    "from nltk.corpus import stopwords\n",
    "\n",
    "import pandas as pd\n",
    "import csv\n",
    "import requests\n",
    "from bs4 import BeautifulSoup\n",
    "url = \"https://www.cnbc.com/\"\n",
    "\n",
    "def preprocess_data(data):\n",
    "    # Apply any necessary preprocessing steps\n",
    "    # Remove characters not recognized by UTF-8\n",
    "    data = data.encode('utf-8', errors='ignore').decode('utf-8')\n",
    "    \n",
    "    # For example, convert text to lowercase or capitalize the first letter of each word\n",
    "    return data.lower()\n",
    "\n",
    "     # Remove stopwords\n",
    "    stop_words = set(stopwords.words('english'))\n",
    "    words = [word for word in data.split() if word.lower() not in stop_words]\n",
    "    data = ' '.join(words)\n",
    "    return data\n",
    "\n",
    "def append_data_to_csv(url):\n",
    "    file_path = \"../Data/ConsolidatedHeadline_CV.csv\"\n",
    "\n",
    "    # Fetch the data from the URL\n",
    "    page = requests.get(url)\n",
    "    soup = BeautifulSoup(page.content, \"html.parser\")\n",
    "\n",
    "    # Extract the headlines\n",
    "    headlines = set()\n",
    "    for headline in soup.find_all('div', class_=\"FeaturedCard-contentText\"):\n",
    "        links = headline.find_all(\"a\")\n",
    "        for link in links:\n",
    "            headlines.add(link.text.strip())\n",
    "\n",
    "    for headline in soup.find_all('div', class_=\"SecondaryCard-headline\"):\n",
    "        links = headline.find_all(\"a\")\n",
    "        for link in links:\n",
    "            headlines.add(link.text.strip())\n",
    "\n",
    "    for headline in soup.find_all('div', class_=\"LatestNews-headlineWrapper\"):\n",
    "        links = headline.find_all(\"a\")\n",
    "        for link in links:\n",
    "            headlines.add(link.text.strip())\n",
    "\n",
    "    # Process the headlines\n",
    "    processed_headlines = [preprocess_data(headline) for headline in headlines]\n",
    "\n",
    "    # Append the data to the CSV file\n",
    "    with open(file_path, \"a\", newline=\"\") as file:\n",
    "        writer = csv.writer(file)\n",
    "\n",
    "        # Check for duplicates before writing\n",
    "        existing_headlines = set()\n",
    "        try:\n",
    "            with open(file_path, \"r\") as existing_file:\n",
    "                existing_data = csv.reader(existing_file)\n",
    "                for row in existing_data:\n",
    "                    existing_headlines.update(row)\n",
    "        except FileNotFoundError:\n",
    "            pass\n",
    "\n",
    "        new_headlines = set(processed_headlines) - set(existing_headlines)\n",
    "        if new_headlines:\n",
    "            writer.writerow(new_headlines)\n",
    "\n",
    "            \n",
    "# Schedule the interval for collection\n",
    "#schedule.every(2).hours.do(append_data_to_csv, url=\"https://www.cnbc.com/\")\n",
    "\n",
    "\n",
    "#while True:\n",
    "    # Example usage\n",
    "URL = \"https://www.cnbc.com/\"\n",
    "append_data_to_csv(URL)\n"
   ]
  }
 ],
 "metadata": {
  "kernelspec": {
   "display_name": "Python 3 (ipykernel)",
   "language": "python",
   "name": "python3"
  },
  "language_info": {
   "codemirror_mode": {
    "name": "ipython",
    "version": 3
   },
   "file_extension": ".py",
   "mimetype": "text/x-python",
   "name": "python",
   "nbconvert_exporter": "python",
   "pygments_lexer": "ipython3",
   "version": "3.11.2"
  }
 },
 "nbformat": 4,
 "nbformat_minor": 5
}
