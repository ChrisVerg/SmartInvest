{
 "cells": [
  {
   "cell_type": "markdown",
   "id": "ca83a256-7e40-4f12-a9ee-ded156c2a335",
   "metadata": {},
   "source": []
  },
  {
   "cell_type": "markdown",
   "id": "d1cc739e-745f-4079-9757-345b9145866b",
   "metadata": {},
   "source": [
    "<hr style=\"height:5px;border-width:0;color:DarkOliveGreen;background-color:DarkOliveGreen\">\n",
    "\n",
    "# R notebook for Stock Market Analysis\n",
    "\n",
    "- [API Reference]()\n",
    "- [Reference]()\n",
    "\n",
    "<hr style=\"height:5px;border-width:0;color:DarkOliveGreen;background-color:DarkOliveGreen\">"
   ]
  },
  {
   "cell_type": "markdown",
   "id": "8ed2cd66-b22b-4418-83c1-826a314b506c",
   "metadata": {},
   "source": [
    "### Table of Contents <a class=\"anchor\" id=\"PANR_toc\"></a>\n",
    "\n",
    "* [Table of Contents](#PANR_toc)\n",
    "    * [1. Abstract](#PANR_page_1)\n",
    "    * [2. Imported Libraries](#PANR_page_2)\n",
    "    * [3. Import the Dataset](#PANR_page_3)\n",
    "    * [4. Setting Notebook Options](#PANR_page_4)\n",
    "    * [5. Looking at the Data](#PANR_page_5)\n",
    "    * [6. Checking the Column Names](#PANR_page_6)\n",
    "    * [7. Cleaning the Column Names](#PANR_page_7)\n",
    "    * [8. Creating a new Cleaned Dataset](#PANR_page_8)\n",
    "    * [9. Counting Columns](#PANR_page_9)\n",
    "    * [10. Get Info about the Dataset](#PANR_page_10)\n",
    "    * [11. Get Descriptive Statistics about the Dataset](#PANR_page_11)\n",
    "    * [12. Counting Rows and Removing any NANs](#PANR_page_12)\n",
    "    * [13. Correlation Analysis](#PANR_page_13)\n",
    "    * [14. Boxplots of numerical variables grouped by Status](#PANR_page_14)\n",
    "    * [15. Boxplots of numerical variables grouped by Type](#PANR_page_15)\n",
    "    * [16. 16. Combined Boxplots of numerical variables grouped by Status and Type](#PANR_page_16)\n",
    "    * [17. Histograms of Aluminum, Arsenic, and Lead Levels](#PANR_page_17)\n",
    "    * [18. Scatterplot of Aluminum vs. Arsenic](#PANR_page_18)\n",
    "    * [19. Scatterplot of Mercury vs. Lead](#PANR_page_19)\n",
    "    * [20. Scatterplot of Calcium vs. Magnesium](#PANR_page_20)\n",
    "    * [21. Principal Component Analysis (PCA)](#PANR_page_21)\n",
    "    * [22. Conduct feature selection after PCA](#PANR_page_22)\n",
    "    * [23. Group Comparison using MANOVA after PCA](#PANR_page_23)\n",
    "    * [24. Group Comparison using ttest after PCA](#PANR_page_24)\n",
    "    * [25. Group Comparison using ANOVA after PCA](#PANR_page_25)\n",
    "    * [26. Group Comparison using ANOVA for Aluminum, Lead, Arsenic](#PANR_page_26)\n",
    "    * [27. Fisher's Discriminant Analysis and Support Vector Machines (SVM)](#PANR_page_27)"
   ]
  },
  {
   "cell_type": "code",
   "execution_count": 1,
   "id": "f96e6c95-6246-40d8-b67d-24025e7ccdae",
   "metadata": {
    "tags": []
   },
   "outputs": [],
   "source": [
    "data = read.csv(\"../Data/data.csv\")"
   ]
  },
  {
   "cell_type": "code",
   "execution_count": 2,
   "id": "2bba606f-a204-4bcb-aea4-79a33f8241cb",
   "metadata": {
    "tags": []
   },
   "outputs": [
    {
     "data": {
      "text/html": [
       "<table class=\"dataframe\">\n",
       "<caption>A data.frame: 22 × 2</caption>\n",
       "<thead>\n",
       "\t<tr><th scope=col>Date</th><th scope=col>Value</th></tr>\n",
       "\t<tr><th scope=col>&lt;chr&gt;</th><th scope=col>&lt;dbl&gt;</th></tr>\n",
       "</thead>\n",
       "<tbody>\n",
       "\t<tr><td>2022-01-01</td><td>4910.38</td></tr>\n",
       "\t<tr><td>2022-01-31</td><td>4515.55</td></tr>\n",
       "\t<tr><td>2022-02-01</td><td>4719.29</td></tr>\n",
       "\t<tr><td>2022-02-28</td><td>4373.94</td></tr>\n",
       "\t<tr><td>2022-03-01</td><td>4610.17</td></tr>\n",
       "\t<tr><td>2022-03-31</td><td>4530.41</td></tr>\n",
       "\t<tr><td>2022-04-01</td><td>4584.61</td></tr>\n",
       "\t<tr><td>2022-05-01</td><td>4172.23</td></tr>\n",
       "\t<tr><td>2022-05-31</td><td>4132.15</td></tr>\n",
       "\t<tr><td>2022-06-01</td><td>3971.65</td></tr>\n",
       "\t<tr><td>2022-06-30</td><td>3785.38</td></tr>\n",
       "\t<tr><td>2022-07-01</td><td>3985.14</td></tr>\n",
       "\t<tr><td>2022-08-01</td><td>4238.11</td></tr>\n",
       "\t<tr><td>2022-08-31</td><td>3955.00</td></tr>\n",
       "\t<tr><td>2022-09-01</td><td>3915.75</td></tr>\n",
       "\t<tr><td>2022-09-30</td><td>3585.62</td></tr>\n",
       "\t<tr><td>2022-10-01</td><td>3773.86</td></tr>\n",
       "\t<tr><td>2022-10-31</td><td>3871.98</td></tr>\n",
       "\t<tr><td>2022-11-01</td><td>3971.77</td></tr>\n",
       "\t<tr><td>2022-11-30</td><td>4080.11</td></tr>\n",
       "\t<tr><td>2022-12-01</td><td>3978.81</td></tr>\n",
       "\t<tr><td>2023-01-01</td><td>3995.95</td></tr>\n",
       "</tbody>\n",
       "</table>\n"
      ],
      "text/latex": [
       "A data.frame: 22 × 2\n",
       "\\begin{tabular}{ll}\n",
       " Date & Value\\\\\n",
       " <chr> & <dbl>\\\\\n",
       "\\hline\n",
       "\t 2022-01-01 & 4910.38\\\\\n",
       "\t 2022-01-31 & 4515.55\\\\\n",
       "\t 2022-02-01 & 4719.29\\\\\n",
       "\t 2022-02-28 & 4373.94\\\\\n",
       "\t 2022-03-01 & 4610.17\\\\\n",
       "\t 2022-03-31 & 4530.41\\\\\n",
       "\t 2022-04-01 & 4584.61\\\\\n",
       "\t 2022-05-01 & 4172.23\\\\\n",
       "\t 2022-05-31 & 4132.15\\\\\n",
       "\t 2022-06-01 & 3971.65\\\\\n",
       "\t 2022-06-30 & 3785.38\\\\\n",
       "\t 2022-07-01 & 3985.14\\\\\n",
       "\t 2022-08-01 & 4238.11\\\\\n",
       "\t 2022-08-31 & 3955.00\\\\\n",
       "\t 2022-09-01 & 3915.75\\\\\n",
       "\t 2022-09-30 & 3585.62\\\\\n",
       "\t 2022-10-01 & 3773.86\\\\\n",
       "\t 2022-10-31 & 3871.98\\\\\n",
       "\t 2022-11-01 & 3971.77\\\\\n",
       "\t 2022-11-30 & 4080.11\\\\\n",
       "\t 2022-12-01 & 3978.81\\\\\n",
       "\t 2023-01-01 & 3995.95\\\\\n",
       "\\end{tabular}\n"
      ],
      "text/markdown": [
       "\n",
       "A data.frame: 22 × 2\n",
       "\n",
       "| Date &lt;chr&gt; | Value &lt;dbl&gt; |\n",
       "|---|---|\n",
       "| 2022-01-01 | 4910.38 |\n",
       "| 2022-01-31 | 4515.55 |\n",
       "| 2022-02-01 | 4719.29 |\n",
       "| 2022-02-28 | 4373.94 |\n",
       "| 2022-03-01 | 4610.17 |\n",
       "| 2022-03-31 | 4530.41 |\n",
       "| 2022-04-01 | 4584.61 |\n",
       "| 2022-05-01 | 4172.23 |\n",
       "| 2022-05-31 | 4132.15 |\n",
       "| 2022-06-01 | 3971.65 |\n",
       "| 2022-06-30 | 3785.38 |\n",
       "| 2022-07-01 | 3985.14 |\n",
       "| 2022-08-01 | 4238.11 |\n",
       "| 2022-08-31 | 3955.00 |\n",
       "| 2022-09-01 | 3915.75 |\n",
       "| 2022-09-30 | 3585.62 |\n",
       "| 2022-10-01 | 3773.86 |\n",
       "| 2022-10-31 | 3871.98 |\n",
       "| 2022-11-01 | 3971.77 |\n",
       "| 2022-11-30 | 4080.11 |\n",
       "| 2022-12-01 | 3978.81 |\n",
       "| 2023-01-01 | 3995.95 |\n",
       "\n"
      ],
      "text/plain": [
       "   Date       Value  \n",
       "1  2022-01-01 4910.38\n",
       "2  2022-01-31 4515.55\n",
       "3  2022-02-01 4719.29\n",
       "4  2022-02-28 4373.94\n",
       "5  2022-03-01 4610.17\n",
       "6  2022-03-31 4530.41\n",
       "7  2022-04-01 4584.61\n",
       "8  2022-05-01 4172.23\n",
       "9  2022-05-31 4132.15\n",
       "10 2022-06-01 3971.65\n",
       "11 2022-06-30 3785.38\n",
       "12 2022-07-01 3985.14\n",
       "13 2022-08-01 4238.11\n",
       "14 2022-08-31 3955.00\n",
       "15 2022-09-01 3915.75\n",
       "16 2022-09-30 3585.62\n",
       "17 2022-10-01 3773.86\n",
       "18 2022-10-31 3871.98\n",
       "19 2022-11-01 3971.77\n",
       "20 2022-11-30 4080.11\n",
       "21 2022-12-01 3978.81\n",
       "22 2023-01-01 3995.95"
      ]
     },
     "metadata": {},
     "output_type": "display_data"
    }
   ],
   "source": [
    "data"
   ]
  },
  {
   "cell_type": "code",
   "execution_count": null,
   "id": "99c10c61-0adf-46a8-bcff-2d8f5f3f548f",
   "metadata": {},
   "outputs": [],
   "source": []
  }
 ],
 "metadata": {
  "kernelspec": {
   "display_name": "R 4.3.0",
   "language": "R",
   "name": "ir"
  },
  "language_info": {
   "codemirror_mode": "r",
   "file_extension": ".r",
   "mimetype": "text/x-r-source",
   "name": "R",
   "pygments_lexer": "r",
   "version": "4.3.0"
  }
 },
 "nbformat": 4,
 "nbformat_minor": 5
}
