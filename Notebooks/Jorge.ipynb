{
 "cells": [
  {
   "cell_type": "markdown",
   "id": "ac1fdb70-1167-46ff-a1ae-304ba8089e01",
   "metadata": {},
   "source": [
    "<hr style=\"height:5px;border-width:0;color:MediumAquamarine;background-color:MediumAquamarine\">\n",
    "\n",
    "# Python Notebook for Stock Market Analysis\n",
    "\n",
    "- [API Reference]()\n",
    "- [Reference]()\n",
    "\n",
    "<hr style=\"height:5px;border-width:0;color:MediumAquamarine;background-color:MediumAquamarine\">"
   ]
  },
  {
   "cell_type": "markdown",
   "id": "36a10d7f-1916-4ba5-bd7c-69b74e0817bf",
   "metadata": {},
   "source": [
    "### Table of Contents <a class=\"anchor\" id=\"PSMA_toc\"></a>\n",
    "\n",
    "* [Table of Contents](#PSMA_toc)\n",
    "    * [1. Abstract](#PSMA_page_1)\n",
    "    * [2. Imported Libraries](#PSMA_page_2)\n",
    "    * [3. Import the Dataset](#PSMA_page_3)\n",
    "    * [4. Setting Notebook Options](#PSMA_page_4)\n",
    "    * [5. Looking at the Data](#PSMA_page_5)\n",
    "    * [6. Checking the Column Names](#PSMA_page_6)\n",
    "    * [7. Cleaning the Column Names](#PSMA_page_7)\n",
    "    * [8. Creating a new Cleaned Dataset](#PSMA_page_8)\n",
    "    * [9. Counting Columns](#PSMA_page_9)\n",
    "    * [10. Get Info about the Dataset](#PSMA_page_10)\n",
    "    * [11. Get Descriptive Statistics about the Dataset](#PSMA_page_11)\n",
    "    * [12. Counting Rows and Removing any NANs](#PSMA_page_12)\n",
    "    * [13. Correlation Analysis](#PSMA_page_13)\n",
    "    * [14. Principal Component Analysis (PCA)](#PSMA_page_14)\n",
    "    * [15. Group Comparison](#PSMA_page_15)\n",
    "    * [16. Fisher's Discriminant Analysis and Support Vector Machines (SVM)](#PSMA_page_16)\n",
    "    * [17. Groupby Function](#PSMA_page_17)"
   ]
  },
  {
   "cell_type": "markdown",
   "id": "bc8398e0-9be8-470f-83f6-0686928a1463",
   "metadata": {},
   "source": [
    "<hr style=\"height:5px;border-width:0;color:MediumAquamarine;background-color:MediumAquamarine\">\n",
    "\n",
    "# Page 1 - Abstract <a class=\"anchor\" id=\"PSMA_page_1\"></a>\n",
    "\n",
    "[Back to Top](#PSMA_toc)\n",
    "\n",
    "<hr style=\"height:5px;border-width:0;color:MediumAquamarine;background-color:MediumAquamarine\">"
   ]
  },
  {
   "cell_type": "code",
   "execution_count": 1,
   "id": "6d78898a-d2e0-411c-b3cc-7ea90e16725e",
   "metadata": {},
   "outputs": [
    {
     "name": "stdout",
     "output_type": "stream",
     "text": [
      "jorge\n"
     ]
    }
   ],
   "source": [
    "print(\"jorge\")"
   ]
  },
  {
   "cell_type": "markdown",
   "id": "ce3650db-9766-4697-95b0-87e3aa9df988",
   "metadata": {},
   "source": [
    "<hr style=\"height:5px;border-width:0;color:MediumAquamarine;background-color:MediumAquamarine\">\n",
    "\n",
    "# Page 2 - Imported Libraries<a class=\"anchor\" id=\"PSMA_page_2\"></a>\n",
    "\n",
    "[Back to Top](#PSMA_toc)\n",
    "\n",
    "<hr style=\"height:5px;border-width:0;color:MediumAquamarine;background-color:MediumAquamarine\">\n"
   ]
  },
  {
   "cell_type": "code",
   "execution_count": 4,
   "id": "9d6b5750-da57-447e-9896-c00200c165c0",
   "metadata": {},
   "outputs": [],
   "source": [
    "import pandas as pd\n",
    "import numpy as np\n",
    "import matplotlib.pyplot as plt"
   ]
  },
  {
   "cell_type": "markdown",
   "id": "0094eeea-6bad-47e1-8471-af1e423104af",
   "metadata": {},
   "source": [
    "<hr style=\"height:5px;border-width:0;color:MediumAquamarine;background-color:MediumAquamarine\">\n",
    "\n",
    "# Page 3 - Import The Dataset<a class=\"anchor\" id=\"PSMA_page_3\"></a>\n",
    "\n",
    "[Back to Top](#PSMA_toc)\n",
    "\n",
    "<hr style=\"height:5px;border-width:0;color:MediumAquamarine;background-color:MediumAquamarine\">\n"
   ]
  },
  {
   "cell_type": "code",
   "execution_count": 7,
   "id": "61aecdc1-5e23-4687-bc90-6e70252ce4aa",
   "metadata": {},
   "outputs": [],
   "source": [
    "Financials = pd.read_csv(\"C:/Users/dizzy/Downloads/VFH.csv\")"
   ]
  },
  {
   "cell_type": "code",
   "execution_count": 8,
   "id": "96e3cdd7-9542-4657-a419-5d23e8c1e72e",
   "metadata": {},
   "outputs": [
    {
     "data": {
      "text/html": [
       "<div>\n",
       "<style scoped>\n",
       "    .dataframe tbody tr th:only-of-type {\n",
       "        vertical-align: middle;\n",
       "    }\n",
       "\n",
       "    .dataframe tbody tr th {\n",
       "        vertical-align: top;\n",
       "    }\n",
       "\n",
       "    .dataframe thead th {\n",
       "        text-align: right;\n",
       "    }\n",
       "</style>\n",
       "<table border=\"1\" class=\"dataframe\">\n",
       "  <thead>\n",
       "    <tr style=\"text-align: right;\">\n",
       "      <th></th>\n",
       "      <th>Date</th>\n",
       "      <th>Open</th>\n",
       "      <th>High</th>\n",
       "      <th>Low</th>\n",
       "      <th>Close</th>\n",
       "      <th>Adj Close</th>\n",
       "      <th>Volume</th>\n",
       "    </tr>\n",
       "  </thead>\n",
       "  <tbody>\n",
       "    <tr>\n",
       "      <th>0</th>\n",
       "      <td>2022-06-02</td>\n",
       "      <td>85.489998</td>\n",
       "      <td>86.900002</td>\n",
       "      <td>85.019997</td>\n",
       "      <td>86.839996</td>\n",
       "      <td>84.711449</td>\n",
       "      <td>1168000</td>\n",
       "    </tr>\n",
       "    <tr>\n",
       "      <th>1</th>\n",
       "      <td>2022-06-03</td>\n",
       "      <td>86.019997</td>\n",
       "      <td>86.300003</td>\n",
       "      <td>85.500000</td>\n",
       "      <td>85.610001</td>\n",
       "      <td>83.511597</td>\n",
       "      <td>583600</td>\n",
       "    </tr>\n",
       "    <tr>\n",
       "      <th>2</th>\n",
       "      <td>2022-06-06</td>\n",
       "      <td>86.389999</td>\n",
       "      <td>87.120003</td>\n",
       "      <td>85.870003</td>\n",
       "      <td>85.910004</td>\n",
       "      <td>83.804253</td>\n",
       "      <td>365300</td>\n",
       "    </tr>\n",
       "    <tr>\n",
       "      <th>3</th>\n",
       "      <td>2022-06-07</td>\n",
       "      <td>85.300003</td>\n",
       "      <td>86.620003</td>\n",
       "      <td>85.209999</td>\n",
       "      <td>86.570000</td>\n",
       "      <td>84.448067</td>\n",
       "      <td>325300</td>\n",
       "    </tr>\n",
       "    <tr>\n",
       "      <th>4</th>\n",
       "      <td>2022-06-08</td>\n",
       "      <td>85.820000</td>\n",
       "      <td>86.120003</td>\n",
       "      <td>84.709999</td>\n",
       "      <td>85.059998</td>\n",
       "      <td>82.975090</td>\n",
       "      <td>531400</td>\n",
       "    </tr>\n",
       "  </tbody>\n",
       "</table>\n",
       "</div>"
      ],
      "text/plain": [
       "         Date       Open       High        Low      Close  Adj Close   Volume\n",
       "0  2022-06-02  85.489998  86.900002  85.019997  86.839996  84.711449  1168000\n",
       "1  2022-06-03  86.019997  86.300003  85.500000  85.610001  83.511597   583600\n",
       "2  2022-06-06  86.389999  87.120003  85.870003  85.910004  83.804253   365300\n",
       "3  2022-06-07  85.300003  86.620003  85.209999  86.570000  84.448067   325300\n",
       "4  2022-06-08  85.820000  86.120003  84.709999  85.059998  82.975090   531400"
      ]
     },
     "execution_count": 8,
     "metadata": {},
     "output_type": "execute_result"
    }
   ],
   "source": [
    "Financials.head()"
   ]
  },
  {
   "cell_type": "code",
   "execution_count": 11,
   "id": "df61c54e-af22-4b72-bdb9-70adf8ce8948",
   "metadata": {},
   "outputs": [],
   "source": [
    "Healthcare = pd.read_csv(\"C:/Users/dizzy/Downloads/GEHC.csv\")"
   ]
  },
  {
   "cell_type": "code",
   "execution_count": 12,
   "id": "28a10d48-3753-43c4-9eff-fd0a29c2b1ec",
   "metadata": {},
   "outputs": [
    {
     "data": {
      "text/html": [
       "<div>\n",
       "<style scoped>\n",
       "    .dataframe tbody tr th:only-of-type {\n",
       "        vertical-align: middle;\n",
       "    }\n",
       "\n",
       "    .dataframe tbody tr th {\n",
       "        vertical-align: top;\n",
       "    }\n",
       "\n",
       "    .dataframe thead th {\n",
       "        text-align: right;\n",
       "    }\n",
       "</style>\n",
       "<table border=\"1\" class=\"dataframe\">\n",
       "  <thead>\n",
       "    <tr style=\"text-align: right;\">\n",
       "      <th></th>\n",
       "      <th>Date</th>\n",
       "      <th>Open</th>\n",
       "      <th>High</th>\n",
       "      <th>Low</th>\n",
       "      <th>Close</th>\n",
       "      <th>Adj Close</th>\n",
       "      <th>Volume</th>\n",
       "    </tr>\n",
       "  </thead>\n",
       "  <tbody>\n",
       "    <tr>\n",
       "      <th>0</th>\n",
       "      <td>2022-12-15</td>\n",
       "      <td>63.0</td>\n",
       "      <td>63.000000</td>\n",
       "      <td>60.000000</td>\n",
       "      <td>60.000000</td>\n",
       "      <td>59.977310</td>\n",
       "      <td>1318200</td>\n",
       "    </tr>\n",
       "    <tr>\n",
       "      <th>1</th>\n",
       "      <td>2022-12-16</td>\n",
       "      <td>60.0</td>\n",
       "      <td>60.000000</td>\n",
       "      <td>55.000000</td>\n",
       "      <td>56.740002</td>\n",
       "      <td>56.718548</td>\n",
       "      <td>2307500</td>\n",
       "    </tr>\n",
       "    <tr>\n",
       "      <th>2</th>\n",
       "      <td>2022-12-19</td>\n",
       "      <td>53.0</td>\n",
       "      <td>58.990002</td>\n",
       "      <td>53.000000</td>\n",
       "      <td>56.500000</td>\n",
       "      <td>56.478634</td>\n",
       "      <td>117200</td>\n",
       "    </tr>\n",
       "    <tr>\n",
       "      <th>3</th>\n",
       "      <td>2022-12-20</td>\n",
       "      <td>58.0</td>\n",
       "      <td>58.000000</td>\n",
       "      <td>56.759998</td>\n",
       "      <td>57.209999</td>\n",
       "      <td>57.188366</td>\n",
       "      <td>22200</td>\n",
       "    </tr>\n",
       "    <tr>\n",
       "      <th>4</th>\n",
       "      <td>2022-12-21</td>\n",
       "      <td>59.0</td>\n",
       "      <td>66.279999</td>\n",
       "      <td>55.500000</td>\n",
       "      <td>56.959999</td>\n",
       "      <td>56.938461</td>\n",
       "      <td>290700</td>\n",
       "    </tr>\n",
       "  </tbody>\n",
       "</table>\n",
       "</div>"
      ],
      "text/plain": [
       "         Date  Open       High        Low      Close  Adj Close   Volume\n",
       "0  2022-12-15  63.0  63.000000  60.000000  60.000000  59.977310  1318200\n",
       "1  2022-12-16  60.0  60.000000  55.000000  56.740002  56.718548  2307500\n",
       "2  2022-12-19  53.0  58.990002  53.000000  56.500000  56.478634   117200\n",
       "3  2022-12-20  58.0  58.000000  56.759998  57.209999  57.188366    22200\n",
       "4  2022-12-21  59.0  66.279999  55.500000  56.959999  56.938461   290700"
      ]
     },
     "execution_count": 12,
     "metadata": {},
     "output_type": "execute_result"
    }
   ],
   "source": [
    "Healthcare.head()"
   ]
  },
  {
   "cell_type": "code",
   "execution_count": 14,
   "id": "2fa534de-d253-4aff-95ca-2f07d1194a54",
   "metadata": {},
   "outputs": [],
   "source": [
    "IT = pd.read_csv(\"C:/Users/dizzy/Downloads/IT.csv\")"
   ]
  },
  {
   "cell_type": "code",
   "execution_count": 15,
   "id": "54db56a3-bdf6-4585-9b26-0c7b10e58b77",
   "metadata": {},
   "outputs": [
    {
     "data": {
      "text/html": [
       "<div>\n",
       "<style scoped>\n",
       "    .dataframe tbody tr th:only-of-type {\n",
       "        vertical-align: middle;\n",
       "    }\n",
       "\n",
       "    .dataframe tbody tr th {\n",
       "        vertical-align: top;\n",
       "    }\n",
       "\n",
       "    .dataframe thead th {\n",
       "        text-align: right;\n",
       "    }\n",
       "</style>\n",
       "<table border=\"1\" class=\"dataframe\">\n",
       "  <thead>\n",
       "    <tr style=\"text-align: right;\">\n",
       "      <th></th>\n",
       "      <th>Date</th>\n",
       "      <th>Open</th>\n",
       "      <th>High</th>\n",
       "      <th>Low</th>\n",
       "      <th>Close</th>\n",
       "      <th>Adj Close</th>\n",
       "      <th>Volume</th>\n",
       "    </tr>\n",
       "  </thead>\n",
       "  <tbody>\n",
       "    <tr>\n",
       "      <th>0</th>\n",
       "      <td>2022-06-02</td>\n",
       "      <td>261.970001</td>\n",
       "      <td>268.570007</td>\n",
       "      <td>260.369995</td>\n",
       "      <td>268.540009</td>\n",
       "      <td>268.540009</td>\n",
       "      <td>490600</td>\n",
       "    </tr>\n",
       "    <tr>\n",
       "      <th>1</th>\n",
       "      <td>2022-06-03</td>\n",
       "      <td>264.570007</td>\n",
       "      <td>267.510010</td>\n",
       "      <td>261.000000</td>\n",
       "      <td>266.790009</td>\n",
       "      <td>266.790009</td>\n",
       "      <td>500000</td>\n",
       "    </tr>\n",
       "    <tr>\n",
       "      <th>2</th>\n",
       "      <td>2022-06-06</td>\n",
       "      <td>269.000000</td>\n",
       "      <td>271.040009</td>\n",
       "      <td>265.500000</td>\n",
       "      <td>267.100006</td>\n",
       "      <td>267.100006</td>\n",
       "      <td>338000</td>\n",
       "    </tr>\n",
       "    <tr>\n",
       "      <th>3</th>\n",
       "      <td>2022-06-07</td>\n",
       "      <td>264.459991</td>\n",
       "      <td>269.010010</td>\n",
       "      <td>262.980011</td>\n",
       "      <td>267.320007</td>\n",
       "      <td>267.320007</td>\n",
       "      <td>358700</td>\n",
       "    </tr>\n",
       "    <tr>\n",
       "      <th>4</th>\n",
       "      <td>2022-06-08</td>\n",
       "      <td>265.059998</td>\n",
       "      <td>268.540009</td>\n",
       "      <td>260.690002</td>\n",
       "      <td>261.299988</td>\n",
       "      <td>261.299988</td>\n",
       "      <td>310300</td>\n",
       "    </tr>\n",
       "  </tbody>\n",
       "</table>\n",
       "</div>"
      ],
      "text/plain": [
       "         Date        Open        High         Low       Close   Adj Close  \\\n",
       "0  2022-06-02  261.970001  268.570007  260.369995  268.540009  268.540009   \n",
       "1  2022-06-03  264.570007  267.510010  261.000000  266.790009  266.790009   \n",
       "2  2022-06-06  269.000000  271.040009  265.500000  267.100006  267.100006   \n",
       "3  2022-06-07  264.459991  269.010010  262.980011  267.320007  267.320007   \n",
       "4  2022-06-08  265.059998  268.540009  260.690002  261.299988  261.299988   \n",
       "\n",
       "   Volume  \n",
       "0  490600  \n",
       "1  500000  \n",
       "2  338000  \n",
       "3  358700  \n",
       "4  310300  "
      ]
     },
     "execution_count": 15,
     "metadata": {},
     "output_type": "execute_result"
    }
   ],
   "source": [
    "IT.head()"
   ]
  },
  {
   "cell_type": "code",
   "execution_count": 16,
   "id": "270d0e26-da14-4f69-bcfe-4af50cf3d923",
   "metadata": {},
   "outputs": [],
   "source": [
    "CD = pd.read_csv(\"C:/Users/dizzy/Downloads/Consumer Discretionary.csv\")"
   ]
  },
  {
   "cell_type": "code",
   "execution_count": 18,
   "id": "69e467df-8f50-465a-b0d5-1726164e993a",
   "metadata": {},
   "outputs": [
    {
     "data": {
      "text/html": [
       "<div>\n",
       "<style scoped>\n",
       "    .dataframe tbody tr th:only-of-type {\n",
       "        vertical-align: middle;\n",
       "    }\n",
       "\n",
       "    .dataframe tbody tr th {\n",
       "        vertical-align: top;\n",
       "    }\n",
       "\n",
       "    .dataframe thead th {\n",
       "        text-align: right;\n",
       "    }\n",
       "</style>\n",
       "<table border=\"1\" class=\"dataframe\">\n",
       "  <thead>\n",
       "    <tr style=\"text-align: right;\">\n",
       "      <th></th>\n",
       "      <th>Date</th>\n",
       "      <th>Open</th>\n",
       "      <th>High</th>\n",
       "      <th>Low</th>\n",
       "      <th>Close*</th>\n",
       "      <th>Adj Close**</th>\n",
       "      <th>Volume</th>\n",
       "    </tr>\n",
       "  </thead>\n",
       "  <tbody>\n",
       "    <tr>\n",
       "      <th>0</th>\n",
       "      <td>2-Jun-23</td>\n",
       "      <td>1,571.40</td>\n",
       "      <td>1,592.70</td>\n",
       "      <td>1,570.50</td>\n",
       "      <td>1,586.20</td>\n",
       "      <td>1,586.20</td>\n",
       "      <td>298</td>\n",
       "    </tr>\n",
       "  </tbody>\n",
       "</table>\n",
       "</div>"
      ],
      "text/plain": [
       "       Date      Open      High       Low    Close* Adj Close**  Volume\n",
       "0  2-Jun-23  1,571.40  1,592.70  1,570.50  1,586.20    1,586.20     298"
      ]
     },
     "execution_count": 18,
     "metadata": {},
     "output_type": "execute_result"
    }
   ],
   "source": [
    "CD.head()"
   ]
  },
  {
   "cell_type": "code",
   "execution_count": null,
   "id": "0fc2b715-1955-4499-b38a-89bf372756d9",
   "metadata": {},
   "outputs": [],
   "source": []
  },
  {
   "cell_type": "markdown",
   "id": "e294fdb3-25e2-447c-8bc1-eb67b4031373",
   "metadata": {},
   "source": [
    "<hr style=\"height:5px;border-width:0;color:MediumAquamarine;background-color:MediumAquamarine\">\n",
    "\n",
    "# Page 4 - Setting Notebook Options<a class=\"anchor\" id=\"PSMA_page_4\"></a>\n",
    "\n",
    "[Back to Top](#PSMA_toc)\n",
    "\n",
    "<hr style=\"height:5px;border-width:0;color:MediumAquamarine;background-color:MediumAquamarine\">\n"
   ]
  },
  {
   "cell_type": "code",
   "execution_count": null,
   "id": "60d2b6b7-913e-4c84-831f-84d580dc031a",
   "metadata": {},
   "outputs": [],
   "source": []
  },
  {
   "cell_type": "code",
   "execution_count": null,
   "id": "9e79cfd1-047a-4271-bab0-8e1d912b3590",
   "metadata": {},
   "outputs": [],
   "source": []
  },
  {
   "cell_type": "code",
   "execution_count": 1,
   "id": "2c019bac-4cc1-407e-8f35-1fbb96a7114b",
   "metadata": {
    "tags": []
   },
   "outputs": [],
   "source": []
  },
  {
   "cell_type": "code",
   "execution_count": 2,
   "id": "242b082a-52bd-4230-be06-d85d718d6250",
   "metadata": {
    "tags": []
   },
   "outputs": [],
   "source": []
  },
  {
   "cell_type": "code",
   "execution_count": 3,
   "id": "bf7fdd41-072d-4ac3-be52-04e898f92d9b",
   "metadata": {
    "tags": []
   },
   "outputs": [
    {
     "data": {
      "text/html": [
       "<div>\n",
       "<style scoped>\n",
       "    .dataframe tbody tr th:only-of-type {\n",
       "        vertical-align: middle;\n",
       "    }\n",
       "\n",
       "    .dataframe tbody tr th {\n",
       "        vertical-align: top;\n",
       "    }\n",
       "\n",
       "    .dataframe thead th {\n",
       "        text-align: right;\n",
       "    }\n",
       "</style>\n",
       "<table border=\"1\" class=\"dataframe\">\n",
       "  <thead>\n",
       "    <tr style=\"text-align: right;\">\n",
       "      <th></th>\n",
       "      <th>Date</th>\n",
       "      <th>Value</th>\n",
       "    </tr>\n",
       "  </thead>\n",
       "  <tbody>\n",
       "    <tr>\n",
       "      <th>0</th>\n",
       "      <td>2022-01-01</td>\n",
       "      <td>4910.38</td>\n",
       "    </tr>\n",
       "    <tr>\n",
       "      <th>1</th>\n",
       "      <td>2022-01-31</td>\n",
       "      <td>4515.55</td>\n",
       "    </tr>\n",
       "    <tr>\n",
       "      <th>2</th>\n",
       "      <td>2022-02-01</td>\n",
       "      <td>4719.29</td>\n",
       "    </tr>\n",
       "    <tr>\n",
       "      <th>3</th>\n",
       "      <td>2022-02-28</td>\n",
       "      <td>4373.94</td>\n",
       "    </tr>\n",
       "    <tr>\n",
       "      <th>4</th>\n",
       "      <td>2022-03-01</td>\n",
       "      <td>4610.17</td>\n",
       "    </tr>\n",
       "  </tbody>\n",
       "</table>\n",
       "</div>"
      ],
      "text/plain": [
       "         Date    Value\n",
       "0  2022-01-01  4910.38\n",
       "1  2022-01-31  4515.55\n",
       "2  2022-02-01  4719.29\n",
       "3  2022-02-28  4373.94\n",
       "4  2022-03-01  4610.17"
      ]
     },
     "execution_count": 3,
     "metadata": {},
     "output_type": "execute_result"
    }
   ],
   "source": []
  },
  {
   "cell_type": "code",
   "execution_count": null,
   "id": "60a3067b-4599-4efa-8f81-5185ddf18dd9",
   "metadata": {},
   "outputs": [],
   "source": []
  },
  {
   "cell_type": "code",
   "execution_count": null,
   "id": "1a4d68f1-4462-4b91-a096-84f2f4c0cad5",
   "metadata": {},
   "outputs": [],
   "source": []
  }
 ],
 "metadata": {
  "kernelspec": {
   "display_name": "Python 3 (ipykernel)",
   "language": "python",
   "name": "python3"
  },
  "language_info": {
   "codemirror_mode": {
    "name": "ipython",
    "version": 3
   },
   "file_extension": ".py",
   "mimetype": "text/x-python",
   "name": "python",
   "nbconvert_exporter": "python",
   "pygments_lexer": "ipython3",
   "version": "3.11.3"
  }
 },
 "nbformat": 4,
 "nbformat_minor": 5
}
