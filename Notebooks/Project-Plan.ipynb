{
 "cells": [
  {
   "cell_type": "markdown",
   "id": "10b7b073-1209-4ce4-93b3-a7115d742869",
   "metadata": {},
   "source": [
    "# Project Plan"
   ]
  },
  {
   "cell_type": "markdown",
   "id": "a0882700-d559-47a9-b4e9-931435574216",
   "metadata": {},
   "source": [
    "**Week 1: May 29 - June 4**\n",
    "\n",
    "| Task | M | T | W | Th | F | S | Su |\n",
    "|---|---|---|---|---|---|---|---|\n",
    "| Team Assembly and Orientation | X | X |   |   |   |   |   |\n",
    "| Work Stream Assignment |   | X | X |   |   |   |   |\n",
    "| Project Framework Development |   | X | X | X | X |   |   |\n",
    "| Collaboration Platform Setup |   |   | X | X | X |   |   |\n",
    "| Progress Tracker Establishment |   |   |   | X | X | X | X |\n",
    "| Data Wrangling and Exploration |   |   |   |   | X | X | X |\n",
    "| Completion of Exeter LMS Assignments |   |   |   |   |   | X | X |\n",
    "\n",
    "**Week 2: June 5 - June 11**\n",
    "\n",
    "| Task | M | T | W | Th | F | S | Su |\n",
    "|---|---|---|---|---|---|---|---|\n",
    "| S&P 500 Data Analysis | X | X | X | X | X |   |   |\n",
    "| Web Scraping and Sentiment Analysis | X | X | X | X | X |   |   |\n",
    "\n",
    "**Week 3: June 12 - June 18**\n",
    "\n",
    "| Task | M | T | W | Th | F | S | Su |\n",
    "|---|---|---|---|---|---|---|---|\n",
    "| S&P 500 Data Modeling | X | X | X | X | X | X | X |\n",
    "| Web Scraping and Sentiment Analysis | X | X | X | X | X | X | X |\n",
    "\n",
    "**Week 4: June 19 - June 25**\n",
    "\n",
    "| Task | M | T | W | Th | F | S | Su |\n",
    "|---|---|---|---|---|---|---|---|\n",
    "| S&P 500 Data Synthesis | X | X | X | X | X | X | X |\n",
    "| Web Scraping and Sentiment Analysis | X | X | X | X | X | X | X |\n",
    "\n",
    "**Week 5: June 26 - July 2**\n",
    "\n",
    "| Task | M | T | W | Th | F | S | Su |\n",
    "|---|---|---|---|---|---|---|---|\n",
    "| Presentation Development | X | X | X | X | X | X | X |\n",
    "| Finalize Details | X | X | X | X | X | X | X |\n",
    "\n",
    "**Week 6: July 3 - July 9**\n",
    "\n",
    "| Task | M | T | W | Th | F | S | Su |\n",
    "|---|---|---|---|---|---|---|---|\n",
    "| Presentation Preparation | X | X | X | X |   |   |   |\n",
    "| Review and Quality Assurance | X | X | X | X |   |   |   |\n",
    "| Delivery |   |   |   |   | X |   |   |\n",
    "\n",
    "**Week 6: July 3 - July 9 (Continuation)**\n",
    "\n",
    "| Task | M | T | W | Th | F | S | Su |\n",
    "|---|---|---|---|---|---|---|---|\n",
    "| Practice Presentation | X | X | X | X |   |   |   |\n",
    "| Compile all project documentation | X | X | X | X |   |   |   |\n",
    "| Delivery |   |   |\n"
   ]
  },
  {
   "cell_type": "code",
   "execution_count": null,
   "id": "0e3771ab-121a-41d7-af57-5263a280ba7a",
   "metadata": {},
   "outputs": [],
   "source": []
  }
 ],
 "metadata": {
  "kernelspec": {
   "display_name": "Python 3 (ipykernel)",
   "language": "python",
   "name": "python3"
  },
  "language_info": {
   "codemirror_mode": {
    "name": "ipython",
    "version": 3
   },
   "file_extension": ".py",
   "mimetype": "text/x-python",
   "name": "python",
   "nbconvert_exporter": "python",
   "pygments_lexer": "ipython3",
   "version": "3.11.2"
  }
 },
 "nbformat": 4,
 "nbformat_minor": 5
}
