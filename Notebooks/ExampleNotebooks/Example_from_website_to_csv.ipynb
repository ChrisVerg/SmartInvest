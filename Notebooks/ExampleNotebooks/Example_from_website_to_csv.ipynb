{
 "cells": [
  {
   "cell_type": "markdown",
   "id": "698c9da3",
   "metadata": {},
   "source": [
    "# First you find a website you will collect your data from"
   ]
  },
  {
   "cell_type": "markdown",
   "id": "2c533a9c",
   "metadata": {},
   "source": [
    "(for my example, I will be using Yahoo Finance)"
   ]
  },
  {
   "cell_type": "markdown",
   "id": "522c7a9a",
   "metadata": {},
   "source": [
    "1. you will highlight all of the data from top to bottom (all columns and rows) and copy (ctrl+c)"
   ]
  },
  {
   "cell_type": "markdown",
   "id": "afe40a06",
   "metadata": {},
   "source": [
    "2. come to your kernel where you will be importing your data and follow the next few steps:"
   ]
  },
  {
   "cell_type": "code",
   "execution_count": 1,
   "id": "8ab46c7f",
   "metadata": {},
   "outputs": [],
   "source": [
    "#Steps for collecting/importing data"
   ]
  },
  {
   "cell_type": "code",
   "execution_count": 3,
   "id": "e201020a",
   "metadata": {},
   "outputs": [],
   "source": [
    "import pandas as pd"
   ]
  },
  {
   "cell_type": "code",
   "execution_count": 4,
   "id": "330f4623",
   "metadata": {},
   "outputs": [],
   "source": [
    "df = pd.read_clipboard()"
   ]
  },
  {
   "cell_type": "code",
   "execution_count": 5,
   "id": "aa331b6a",
   "metadata": {},
   "outputs": [
    {
     "data": {
      "text/html": [
       "<div>\n",
       "<style scoped>\n",
       "    .dataframe tbody tr th:only-of-type {\n",
       "        vertical-align: middle;\n",
       "    }\n",
       "\n",
       "    .dataframe tbody tr th {\n",
       "        vertical-align: top;\n",
       "    }\n",
       "\n",
       "    .dataframe thead th {\n",
       "        text-align: right;\n",
       "    }\n",
       "</style>\n",
       "<table border=\"1\" class=\"dataframe\">\n",
       "  <thead>\n",
       "    <tr style=\"text-align: right;\">\n",
       "      <th></th>\n",
       "      <th>Date</th>\n",
       "      <th>Open</th>\n",
       "      <th>High</th>\n",
       "      <th>Low</th>\n",
       "      <th>Close*</th>\n",
       "      <th>Adj Close**</th>\n",
       "      <th>Volume</th>\n",
       "    </tr>\n",
       "  </thead>\n",
       "  <tbody>\n",
       "    <tr>\n",
       "      <th>0</th>\n",
       "      <td>May 30, 2023</td>\n",
       "      <td>92.39</td>\n",
       "      <td>92.39</td>\n",
       "      <td>92.39</td>\n",
       "      <td>92.39</td>\n",
       "      <td>92.39</td>\n",
       "      <td>-</td>\n",
       "    </tr>\n",
       "    <tr>\n",
       "      <th>1</th>\n",
       "      <td>May 29, 2023</td>\n",
       "      <td>92.39</td>\n",
       "      <td>92.39</td>\n",
       "      <td>92.39</td>\n",
       "      <td>92.39</td>\n",
       "      <td>92.39</td>\n",
       "      <td>-</td>\n",
       "    </tr>\n",
       "    <tr>\n",
       "      <th>2</th>\n",
       "      <td>May 28, 2023</td>\n",
       "      <td>92.39</td>\n",
       "      <td>92.39</td>\n",
       "      <td>92.39</td>\n",
       "      <td>92.39</td>\n",
       "      <td>92.39</td>\n",
       "      <td>-</td>\n",
       "    </tr>\n",
       "    <tr>\n",
       "      <th>3</th>\n",
       "      <td>May 27, 2023</td>\n",
       "      <td>92.39</td>\n",
       "      <td>92.39</td>\n",
       "      <td>92.39</td>\n",
       "      <td>92.39</td>\n",
       "      <td>92.39</td>\n",
       "      <td>-</td>\n",
       "    </tr>\n",
       "    <tr>\n",
       "      <th>4</th>\n",
       "      <td>May 26, 2023</td>\n",
       "      <td>92.39</td>\n",
       "      <td>92.39</td>\n",
       "      <td>92.39</td>\n",
       "      <td>92.39</td>\n",
       "      <td>92.39</td>\n",
       "      <td>-</td>\n",
       "    </tr>\n",
       "  </tbody>\n",
       "</table>\n",
       "</div>"
      ],
      "text/plain": [
       "           Date   Open   High    Low Close* Adj Close** Volume\n",
       "0  May 30, 2023  92.39  92.39  92.39  92.39       92.39      -\n",
       "1  May 29, 2023  92.39  92.39  92.39  92.39       92.39      -\n",
       "2  May 28, 2023  92.39  92.39  92.39  92.39       92.39      -\n",
       "3  May 27, 2023  92.39  92.39  92.39  92.39       92.39      -\n",
       "4  May 26, 2023  92.39  92.39  92.39  92.39       92.39      -"
      ]
     },
     "execution_count": 5,
     "metadata": {},
     "output_type": "execute_result"
    }
   ],
   "source": [
    "df.head()"
   ]
  },
  {
   "cell_type": "code",
   "execution_count": 6,
   "id": "7f1fc8ea",
   "metadata": {},
   "outputs": [],
   "source": [
    "#Here you have your data, but you can only access it through your clipboard."
   ]
  },
  {
   "cell_type": "markdown",
   "id": "c55f32ec",
   "metadata": {},
   "source": [
    "# Now we will make your copied data into a csv to organize it into Github"
   ]
  },
  {
   "cell_type": "markdown",
   "id": "2a21ea6e",
   "metadata": {},
   "source": [
    "Where you choose to save your data will depend from which folder you are running Jupyter Lab from"
   ]
  },
  {
   "cell_type": "markdown",
   "id": "1bf22584",
   "metadata": {},
   "source": [
    "(The example I am demonstrationg on is under my Documents/Github/SmartInvest/Notebooks/ExamplesNotebooks) "
   ]
  },
  {
   "cell_type": "markdown",
   "id": "45128279",
   "metadata": {},
   "source": [
    "The path shown above is just an example of where you will find the saved data"
   ]
  },
  {
   "cell_type": "markdown",
   "id": "1e6b6fb0",
   "metadata": {},
   "source": [
    "#Steps to follow(this function below saves the data you copied into a csv)"
   ]
  },
  {
   "cell_type": "code",
   "execution_count": 11,
   "id": "889a0913",
   "metadata": {},
   "outputs": [],
   "source": [
    "df.to_csv(\"example.csv\")"
   ]
  },
  {
   "cell_type": "markdown",
   "id": "454f4c5c",
   "metadata": {},
   "source": [
    "now you can go to your folder on your desktop and double check it actually saved to your desktop"
   ]
  },
  {
   "cell_type": "markdown",
   "id": "9fdc959b",
   "metadata": {},
   "source": [
    "once you have confirmed the data saved onto your desktop, you can import it like a regular csv"
   ]
  },
  {
   "cell_type": "code",
   "execution_count": 12,
   "id": "bb527bc7",
   "metadata": {},
   "outputs": [],
   "source": [
    "#example"
   ]
  },
  {
   "cell_type": "code",
   "execution_count": 13,
   "id": "af910699",
   "metadata": {},
   "outputs": [],
   "source": [
    "Example = pd.read_csv(\"Example.csv\")"
   ]
  },
  {
   "cell_type": "code",
   "execution_count": 14,
   "id": "32001ea0",
   "metadata": {},
   "outputs": [
    {
     "data": {
      "text/html": [
       "<div>\n",
       "<style scoped>\n",
       "    .dataframe tbody tr th:only-of-type {\n",
       "        vertical-align: middle;\n",
       "    }\n",
       "\n",
       "    .dataframe tbody tr th {\n",
       "        vertical-align: top;\n",
       "    }\n",
       "\n",
       "    .dataframe thead th {\n",
       "        text-align: right;\n",
       "    }\n",
       "</style>\n",
       "<table border=\"1\" class=\"dataframe\">\n",
       "  <thead>\n",
       "    <tr style=\"text-align: right;\">\n",
       "      <th></th>\n",
       "      <th>Unnamed: 0</th>\n",
       "      <th>Date</th>\n",
       "      <th>Open</th>\n",
       "      <th>High</th>\n",
       "      <th>Low</th>\n",
       "      <th>Close*</th>\n",
       "      <th>Adj Close**</th>\n",
       "      <th>Volume</th>\n",
       "    </tr>\n",
       "  </thead>\n",
       "  <tbody>\n",
       "    <tr>\n",
       "      <th>0</th>\n",
       "      <td>0</td>\n",
       "      <td>May 30, 2023</td>\n",
       "      <td>92.39</td>\n",
       "      <td>92.39</td>\n",
       "      <td>92.39</td>\n",
       "      <td>92.39</td>\n",
       "      <td>92.39</td>\n",
       "      <td>-</td>\n",
       "    </tr>\n",
       "    <tr>\n",
       "      <th>1</th>\n",
       "      <td>1</td>\n",
       "      <td>May 29, 2023</td>\n",
       "      <td>92.39</td>\n",
       "      <td>92.39</td>\n",
       "      <td>92.39</td>\n",
       "      <td>92.39</td>\n",
       "      <td>92.39</td>\n",
       "      <td>-</td>\n",
       "    </tr>\n",
       "    <tr>\n",
       "      <th>2</th>\n",
       "      <td>2</td>\n",
       "      <td>May 28, 2023</td>\n",
       "      <td>92.39</td>\n",
       "      <td>92.39</td>\n",
       "      <td>92.39</td>\n",
       "      <td>92.39</td>\n",
       "      <td>92.39</td>\n",
       "      <td>-</td>\n",
       "    </tr>\n",
       "    <tr>\n",
       "      <th>3</th>\n",
       "      <td>3</td>\n",
       "      <td>May 27, 2023</td>\n",
       "      <td>92.39</td>\n",
       "      <td>92.39</td>\n",
       "      <td>92.39</td>\n",
       "      <td>92.39</td>\n",
       "      <td>92.39</td>\n",
       "      <td>-</td>\n",
       "    </tr>\n",
       "    <tr>\n",
       "      <th>4</th>\n",
       "      <td>4</td>\n",
       "      <td>May 26, 2023</td>\n",
       "      <td>92.39</td>\n",
       "      <td>92.39</td>\n",
       "      <td>92.39</td>\n",
       "      <td>92.39</td>\n",
       "      <td>92.39</td>\n",
       "      <td>-</td>\n",
       "    </tr>\n",
       "  </tbody>\n",
       "</table>\n",
       "</div>"
      ],
      "text/plain": [
       "   Unnamed: 0          Date   Open   High    Low Close* Adj Close** Volume\n",
       "0           0  May 30, 2023  92.39  92.39  92.39  92.39       92.39      -\n",
       "1           1  May 29, 2023  92.39  92.39  92.39  92.39       92.39      -\n",
       "2           2  May 28, 2023  92.39  92.39  92.39  92.39       92.39      -\n",
       "3           3  May 27, 2023  92.39  92.39  92.39  92.39       92.39      -\n",
       "4           4  May 26, 2023  92.39  92.39  92.39  92.39       92.39      -"
      ]
     },
     "execution_count": 14,
     "metadata": {},
     "output_type": "execute_result"
    }
   ],
   "source": [
    "Example.head()"
   ]
  },
  {
   "cell_type": "markdown",
   "id": "b6fb957f",
   "metadata": {},
   "source": [
    "Since you already have the Jupyter Lab open under the folder you are working out of you do not have to run the path to import the data, you can just call for the dataframe name you saved the data as and make sure to put '.csv'"
   ]
  },
  {
   "cell_type": "markdown",
   "id": "1b630e7a",
   "metadata": {},
   "source": [
    "# Now to organize everything"
   ]
  },
  {
   "cell_type": "markdown",
   "id": "459046e4",
   "metadata": {},
   "source": [
    "You can actually organize everything from your desktop, and still upload it to GitHub. "
   ]
  },
  {
   "cell_type": "markdown",
   "id": "b8d527fe",
   "metadata": {},
   "source": [
    "Once the data is saved as .csv, you can move the file to the \"Data\" folder under our SmartInvest folder just like a regular file"
   ]
  },
  {
   "cell_type": "markdown",
   "id": "51f3fdaa",
   "metadata": {},
   "source": [
    "Just make sure once you have all your data uploaded, to rename your data with your intials at the end so there is no confusions (example_JC)"
   ]
  },
  {
   "cell_type": "markdown",
   "id": "268622a3",
   "metadata": {},
   "source": [
    "Once everything is labeled and ready to go, open your Github (Desktop) > Pull Origin > Fetch (if it asks to fetch) > Enter a Summary (Explaining what you did) > Commit to main > push origin "
   ]
  },
  {
   "cell_type": "code",
   "execution_count": null,
   "id": "8e543778",
   "metadata": {},
   "outputs": [],
   "source": []
  }
 ],
 "metadata": {
  "kernelspec": {
   "display_name": "Python 3 (ipykernel)",
   "language": "python",
   "name": "python3"
  },
  "language_info": {
   "codemirror_mode": {
    "name": "ipython",
    "version": 3
   },
   "file_extension": ".py",
   "mimetype": "text/x-python",
   "name": "python",
   "nbconvert_exporter": "python",
   "pygments_lexer": "ipython3",
   "version": "3.11.0"
  }
 },
 "nbformat": 4,
 "nbformat_minor": 5
}
