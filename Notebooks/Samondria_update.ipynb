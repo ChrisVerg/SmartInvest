{
 "cells": [
  {
   "cell_type": "code",
   "execution_count": 1,
   "id": "5fec6937-1ef7-45b6-9441-640add0f5d7e",
   "metadata": {},
   "outputs": [],
   "source": [
    "#SmartInvest Project"
   ]
  },
  {
   "cell_type": "markdown",
   "id": "ac1fdb70-1167-46ff-a1ae-304ba8089e01",
   "metadata": {},
   "source": [
    "<hr style=\"height:5px;border-width:0;color:MediumAquamarine;background-color:MediumAquamarine\">\n",
    "\n",
    "# Python Notebook for Stock Market Analysis\n",
    "\n",
    "- [Reference](https://fred.stlouisfed.org/)\n",
    "\n",
    "<hr style=\"height:5px;border-width:0;color:MediumAquamarine;background-color:MediumAquamarine\">"
   ]
  },
  {
   "cell_type": "code",
   "execution_count": null,
   "id": "0d7061f5-ad94-413a-93cf-3415045cd5fe",
   "metadata": {},
   "outputs": [],
   "source": []
  },
  {
   "cell_type": "markdown",
   "id": "36a10d7f-1916-4ba5-bd7c-69b74e0817bf",
   "metadata": {
    "tags": []
   },
   "source": [
    "### Table of Contents <a class=\"anchor\" id=\"FRED_toc\"></a>\n",
    "\n",
    "* [Table of Contents](#FRED_toc)\n",
    "    * [1. Abstract](#FRED_page_1)\n",
    "    * [2. Imported Libraries](#FRED_page_2)\n",
    "    * [3. Import the Dataset](#FRED_page_3)\n",
    "    * [4. Setting Notebook Options](#FRED_page_4)\n",
    "    * [5. Looking at the Data](#FRED_page_5)\n",
    "    * [6. Checking the Column Names](#FRED_page_6)\n",
    "    * [7. Cleaning the Column Names](#FRED_page_7)\n",
    "    * [8. Creating a new Cleaned Dataset](#FRED_page_8)\n",
    "    * [9. Counting Columns](#FRED_page_9)\n",
    "    * [10. Get Info about the Dataset](#FRED_page_10)\n",
    "    * [11. Get Descriptive Statistics about the Dataset](#FRED_page_11)\n",
    "    * [12. Counting Rows and Removing any NANs](#FRED_page_12)\n",
    "    * [13. Correlation Analysis](#FRED_page_13)\n",
    "    * [14. Principal Component Analysis (PCA)](#FRED_page_14)\n",
    "    * [15. Group Comparison](#FRED_page_15)\n",
    "    * [16. Fisher's Discriminant Analysis and Support Vector Machines (SVM)](#FRED_page_16)\n",
    "    * [17. Groupby Function](#FRED_page_17)"
   ]
  },
  {
   "cell_type": "markdown",
   "id": "bc8398e0-9be8-470f-83f6-0686928a1463",
   "metadata": {},
   "source": [
    "<hr style=\"height:5px;border-width:0;color:MediumAquamarine;background-color:MediumAquamarine\">\n",
    "\n",
    "# Page 1 - Abstract <a class=\"anchor\" id=\"FRED_page_1\"></a>\n",
    "\n",
    "[Back to Top](#FRED_toc)\n",
    "\n",
    "<hr style=\"height:5px;border-width:0;color:MediumAquamarine;background-color:MediumAquamarine\">"
   ]
  },
  {
   "cell_type": "markdown",
   "id": "ce3650db-9766-4697-95b0-87e3aa9df988",
   "metadata": {},
   "source": [
    "<hr style=\"height:5px;border-width:0;color:MediumAquamarine;background-color:MediumAquamarine\">\n",
    "\n",
    "# Page 2 - Imported Libraries<a class=\"anchor\" id=\"FRED_page_2\"></a>\n",
    "\n",
    "[Back to Top](#FRED_toc)\n",
    "\n",
    "<hr style=\"height:5px;border-width:0;color:MediumAquamarine;background-color:MediumAquamarine\">\n"
   ]
  },
  {
   "cell_type": "code",
   "execution_count": 3,
   "id": "4f885d8f-7b9c-4aac-b1ec-914054435216",
   "metadata": {},
   "outputs": [],
   "source": [
    "import pandas as pd\n",
    "import numpy as np\n",
    "import matplotlib.pyplot as plt"
   ]
  },
  {
   "cell_type": "markdown",
   "id": "0094eeea-6bad-47e1-8471-af1e423104af",
   "metadata": {},
   "source": [
    "<hr style=\"height:5px;border-width:0;color:MediumAquamarine;background-color:MediumAquamarine\">\n",
    "\n",
    "# Page 3 - Import The Dataset<a class=\"anchor\" id=\"FRED_page_3\"></a>\n",
    "\n",
    "[Back to Top](#FRED_toc)\n",
    "\n",
    "<hr style=\"height:5px;border-width:0;color:MediumAquamarine;background-color:MediumAquamarine\">\n"
   ]
  },
  {
   "cell_type": "markdown",
   "id": "c1c6ab84-9160-446b-a135-a1872c1bce12",
   "metadata": {},
   "source": [
    "Here we will have 3 data sets Inflation and Unemployment rate (Unrate) will serve and independent variables to analyze the effect on Federal Funds Rate"
   ]
  },
  {
   "cell_type": "code",
   "execution_count": 51,
   "id": "61aecdc1-5e23-4687-bc90-6e70252ce4aa",
   "metadata": {},
   "outputs": [
    {
     "data": {
      "text/html": [
       "<div>\n",
       "<style scoped>\n",
       "    .dataframe tbody tr th:only-of-type {\n",
       "        vertical-align: middle;\n",
       "    }\n",
       "\n",
       "    .dataframe tbody tr th {\n",
       "        vertical-align: top;\n",
       "    }\n",
       "\n",
       "    .dataframe thead th {\n",
       "        text-align: right;\n",
       "    }\n",
       "</style>\n",
       "<table border=\"1\" class=\"dataframe\">\n",
       "  <thead>\n",
       "    <tr style=\"text-align: right;\">\n",
       "      <th></th>\n",
       "      <th>DATE</th>\n",
       "      <th>CORESTICKM159SFRBATL</th>\n",
       "    </tr>\n",
       "  </thead>\n",
       "  <tbody>\n",
       "    <tr>\n",
       "      <th>0</th>\n",
       "      <td>1967-12-01</td>\n",
       "      <td>3.383497</td>\n",
       "    </tr>\n",
       "    <tr>\n",
       "      <th>1</th>\n",
       "      <td>1968-01-01</td>\n",
       "      <td>3.659987</td>\n",
       "    </tr>\n",
       "    <tr>\n",
       "      <th>2</th>\n",
       "      <td>1968-02-01</td>\n",
       "      <td>3.682012</td>\n",
       "    </tr>\n",
       "    <tr>\n",
       "      <th>3</th>\n",
       "      <td>1968-03-01</td>\n",
       "      <td>4.151668</td>\n",
       "    </tr>\n",
       "    <tr>\n",
       "      <th>4</th>\n",
       "      <td>1968-04-01</td>\n",
       "      <td>4.165427</td>\n",
       "    </tr>\n",
       "  </tbody>\n",
       "</table>\n",
       "</div>"
      ],
      "text/plain": [
       "         DATE  CORESTICKM159SFRBATL\n",
       "0  1967-12-01              3.383497\n",
       "1  1968-01-01              3.659987\n",
       "2  1968-02-01              3.682012\n",
       "3  1968-03-01              4.151668\n",
       "4  1968-04-01              4.165427"
      ]
     },
     "execution_count": 51,
     "metadata": {},
     "output_type": "execute_result"
    }
   ],
   "source": [
    "#Inflation\n",
    "inflation= pd.read_csv('CORESTICKM159SFRBATL.csv')\n",
    "inflation.head()"
   ]
  },
  {
   "cell_type": "code",
   "execution_count": 1,
   "id": "4294fd66-c47e-4ef1-8413-2d7d29092a52",
   "metadata": {},
   "outputs": [
    {
     "ename": "NameError",
     "evalue": "name 'pd' is not defined",
     "output_type": "error",
     "traceback": [
      "\u001b[1;31m---------------------------------------------------------------------------\u001b[0m",
      "\u001b[1;31mNameError\u001b[0m                                 Traceback (most recent call last)",
      "Input \u001b[1;32mIn [1]\u001b[0m, in \u001b[0;36m<module>\u001b[1;34m\u001b[0m\n\u001b[1;32m----> 1\u001b[0m unRate \u001b[38;5;241m=\u001b[39m \u001b[43mpd\u001b[49m\u001b[38;5;241m.\u001b[39mread_csv(\u001b[38;5;124m'\u001b[39m\u001b[38;5;124mUNRATE.csv\u001b[39m\u001b[38;5;124m'\u001b[39m)\n",
      "\u001b[1;31mNameError\u001b[0m: name 'pd' is not defined"
     ]
    }
   ],
   "source": [
    "unRate = pd.read_csv('UNRATE.csv')"
   ]
  },
  {
   "cell_type": "code",
   "execution_count": 54,
   "id": "577171e7-3d1c-4d81-b91f-0cd1be54f328",
   "metadata": {},
   "outputs": [],
   "source": [
    "unRate.head()"
   ]
  },
  {
   "cell_type": "code",
   "execution_count": 57,
   "id": "464febb3-ec40-4bb3-838b-f819056c5bab",
   "metadata": {},
   "outputs": [],
   "source": [
    "GDP= pd.read_csv(r\"C:\\Users\\Samondria\\Documents\\GitHub\\SmartInvest\\Data\\Gdp_SW.csv\")"
   ]
  },
  {
   "cell_type": "code",
   "execution_count": 58,
   "id": "8713836f-7e35-469c-84f1-04faea7342c6",
   "metadata": {},
   "outputs": [
    {
     "data": {
      "text/html": [
       "<div>\n",
       "<style scoped>\n",
       "    .dataframe tbody tr th:only-of-type {\n",
       "        vertical-align: middle;\n",
       "    }\n",
       "\n",
       "    .dataframe tbody tr th {\n",
       "        vertical-align: top;\n",
       "    }\n",
       "\n",
       "    .dataframe thead th {\n",
       "        text-align: right;\n",
       "    }\n",
       "</style>\n",
       "<table border=\"1\" class=\"dataframe\">\n",
       "  <thead>\n",
       "    <tr style=\"text-align: right;\">\n",
       "      <th></th>\n",
       "      <th>DATE</th>\n",
       "      <th>GDPC1CTM</th>\n",
       "    </tr>\n",
       "  </thead>\n",
       "  <tbody>\n",
       "    <tr>\n",
       "      <th>0</th>\n",
       "      <td>2023-01-01</td>\n",
       "      <td>0.40</td>\n",
       "    </tr>\n",
       "    <tr>\n",
       "      <th>1</th>\n",
       "      <td>2024-01-01</td>\n",
       "      <td>1.25</td>\n",
       "    </tr>\n",
       "    <tr>\n",
       "      <th>2</th>\n",
       "      <td>2025-01-01</td>\n",
       "      <td>1.90</td>\n",
       "    </tr>\n",
       "  </tbody>\n",
       "</table>\n",
       "</div>"
      ],
      "text/plain": [
       "         DATE  GDPC1CTM\n",
       "0  2023-01-01      0.40\n",
       "1  2024-01-01      1.25\n",
       "2  2025-01-01      1.90"
      ]
     },
     "execution_count": 58,
     "metadata": {},
     "output_type": "execute_result"
    }
   ],
   "source": [
    "GDP.head()"
   ]
  },
  {
   "cell_type": "markdown",
   "id": "1263ee46-566a-44e5-b854-713ad5cac719",
   "metadata": {
    "tags": []
   },
   "source": [
    "fedRate =  pd.read_csv('DFF.csv')"
   ]
  },
  {
   "cell_type": "code",
   "execution_count": null,
   "id": "9aeafc40-ea4b-423c-bcdc-8b7a7eb51e08",
   "metadata": {},
   "outputs": [],
   "source": [
    "fedRate.head()"
   ]
  },
  {
   "cell_type": "markdown",
   "id": "0b646fd4-cbcf-4e40-8640-f77efa9b329b",
   "metadata": {
    "tags": []
   },
   "source": [
    "<hr style=\"height:5px;border-width:0;color:MediumAquamarine;background-color:MediumAquamarine\">\n",
    "\n",
    "# Page 5 - Looking at the Data<a class=\"anchor\" id=\"FRED_page_5\"></a>\n",
    "\n",
    "[Back to Top](#FRED_toc)\n",
    "\n",
    "<hr style=\"height:5px;border-width:0;color:MediumAquamarine;background-color:MediumAquamarine\">"
   ]
  },
  {
   "cell_type": "markdown",
   "id": "e294fdb3-25e2-447c-8bc1-eb67b4031373",
   "metadata": {},
   "source": [
    "\n"
   ]
  },
  {
   "cell_type": "code",
   "execution_count": null,
   "id": "60a3067b-4599-4efa-8f81-5185ddf18dd9",
   "metadata": {},
   "outputs": [],
   "source": [
    "\n"
   ]
  },
  {
   "cell_type": "code",
   "execution_count": 59,
   "id": "1a4d68f1-4462-4b91-a096-84f2f4c0cad5",
   "metadata": {},
   "outputs": [
    {
     "name": "stdout",
     "output_type": "stream",
     "text": [
      "<class 'pandas.core.frame.DataFrame'>\n",
      "RangeIndex: 665 entries, 0 to 664\n",
      "Data columns (total 2 columns):\n",
      " #   Column                Non-Null Count  Dtype  \n",
      "---  ------                --------------  -----  \n",
      " 0   DATE                  665 non-null    object \n",
      " 1   CORESTICKM159SFRBATL  665 non-null    float64\n",
      "dtypes: float64(1), object(1)\n",
      "memory usage: 10.5+ KB\n"
     ]
    }
   ],
   "source": [
    "inflation.info()"
   ]
  },
  {
   "cell_type": "code",
   "execution_count": 60,
   "id": "317f9647-32d1-46f9-9ebb-399749f84301",
   "metadata": {},
   "outputs": [
    {
     "name": "stdout",
     "output_type": "stream",
     "text": [
      "<class 'pandas.core.frame.DataFrame'>\n",
      "RangeIndex: 904 entries, 0 to 903\n",
      "Data columns (total 2 columns):\n",
      " #   Column  Non-Null Count  Dtype  \n",
      "---  ------  --------------  -----  \n",
      " 0   DATE    904 non-null    object \n",
      " 1   UNRATE  904 non-null    float64\n",
      "dtypes: float64(1), object(1)\n",
      "memory usage: 14.2+ KB\n"
     ]
    }
   ],
   "source": [
    "unemployment.info()"
   ]
  },
  {
   "cell_type": "code",
   "execution_count": 61,
   "id": "ff11596b-b99e-47b0-b593-7691f4c5b7fc",
   "metadata": {},
   "outputs": [
    {
     "name": "stdout",
     "output_type": "stream",
     "text": [
      "<class 'pandas.core.frame.DataFrame'>\n",
      "RangeIndex: 3 entries, 0 to 2\n",
      "Data columns (total 2 columns):\n",
      " #   Column    Non-Null Count  Dtype  \n",
      "---  ------    --------------  -----  \n",
      " 0   DATE      3 non-null      object \n",
      " 1   GDPC1CTM  3 non-null      float64\n",
      "dtypes: float64(1), object(1)\n",
      "memory usage: 176.0+ bytes\n"
     ]
    }
   ],
   "source": [
    "GDP.info()"
   ]
  },
  {
   "cell_type": "code",
   "execution_count": 62,
   "id": "6f664260-8589-4ae9-92de-de2ca1b38454",
   "metadata": {},
   "outputs": [],
   "source": [
    "inflation['DATE'] = pd.to_datetime(inflation['DATE'])\n",
    "unemployment['DATE'] = pd.to_datetime(unemployment['DATE'])\n",
    "GDP['DATE'] = pd.to_datetime(GDP['DATE'])"
   ]
  },
  {
   "cell_type": "code",
   "execution_count": 63,
   "id": "123755d8-12d8-48cb-84dc-6b6a09f3e914",
   "metadata": {},
   "outputs": [
    {
     "name": "stdout",
     "output_type": "stream",
     "text": [
      "<class 'pandas.core.frame.DataFrame'>\n",
      "RangeIndex: 665 entries, 0 to 664\n",
      "Data columns (total 2 columns):\n",
      " #   Column                Non-Null Count  Dtype         \n",
      "---  ------                --------------  -----         \n",
      " 0   DATE                  665 non-null    datetime64[ns]\n",
      " 1   CORESTICKM159SFRBATL  665 non-null    float64       \n",
      "dtypes: datetime64[ns](1), float64(1)\n",
      "memory usage: 10.5 KB\n"
     ]
    }
   ],
   "source": [
    "inflation.info()"
   ]
  },
  {
   "cell_type": "code",
   "execution_count": 64,
   "id": "de4517b9-43a0-4998-8df3-135da72a263a",
   "metadata": {},
   "outputs": [
    {
     "name": "stdout",
     "output_type": "stream",
     "text": [
      "<class 'pandas.core.frame.DataFrame'>\n",
      "RangeIndex: 904 entries, 0 to 903\n",
      "Data columns (total 2 columns):\n",
      " #   Column  Non-Null Count  Dtype         \n",
      "---  ------  --------------  -----         \n",
      " 0   DATE    904 non-null    datetime64[ns]\n",
      " 1   UNRATE  904 non-null    float64       \n",
      "dtypes: datetime64[ns](1), float64(1)\n",
      "memory usage: 14.2 KB\n"
     ]
    }
   ],
   "source": [
    "unemployment.info()"
   ]
  },
  {
   "cell_type": "code",
   "execution_count": 65,
   "id": "7e397e7a-a9fe-4449-80a0-67f20e287e3d",
   "metadata": {},
   "outputs": [
    {
     "name": "stdout",
     "output_type": "stream",
     "text": [
      "<class 'pandas.core.frame.DataFrame'>\n",
      "RangeIndex: 3 entries, 0 to 2\n",
      "Data columns (total 2 columns):\n",
      " #   Column    Non-Null Count  Dtype         \n",
      "---  ------    --------------  -----         \n",
      " 0   DATE      3 non-null      datetime64[ns]\n",
      " 1   GDPC1CTM  3 non-null      float64       \n",
      "dtypes: datetime64[ns](1), float64(1)\n",
      "memory usage: 176.0 bytes\n"
     ]
    }
   ],
   "source": [
    "GDP.info()"
   ]
  },
  {
   "cell_type": "code",
   "execution_count": 66,
   "id": "81d553aa-5c4e-46f3-9402-7e0eb4e47d96",
   "metadata": {},
   "outputs": [],
   "source": [
    "threshold_year = 1968"
   ]
  },
  {
   "cell_type": "code",
   "execution_count": 67,
   "id": "bd3d15d2-3be3-4904-8a15-cc3558144357",
   "metadata": {},
   "outputs": [],
   "source": [
    "\n",
    "\n",
    "inflationC = inflation[inflation['DATE'].dt.year >= threshold_year]\n",
    "unemploymentC = unemployment[unemployment['DATE'].dt.year >= threshold_year]\n",
    "GDPC = GDP[GDP['DATE'].dt.year >= threshold_year]"
   ]
  },
  {
   "cell_type": "code",
   "execution_count": 68,
   "id": "a183836e-5678-4ea6-9506-e96095ed520f",
   "metadata": {},
   "outputs": [
    {
     "data": {
      "text/html": [
       "<div>\n",
       "<style scoped>\n",
       "    .dataframe tbody tr th:only-of-type {\n",
       "        vertical-align: middle;\n",
       "    }\n",
       "\n",
       "    .dataframe tbody tr th {\n",
       "        vertical-align: top;\n",
       "    }\n",
       "\n",
       "    .dataframe thead th {\n",
       "        text-align: right;\n",
       "    }\n",
       "</style>\n",
       "<table border=\"1\" class=\"dataframe\">\n",
       "  <thead>\n",
       "    <tr style=\"text-align: right;\">\n",
       "      <th></th>\n",
       "      <th>DATE</th>\n",
       "      <th>CORESTICKM159SFRBATL</th>\n",
       "    </tr>\n",
       "  </thead>\n",
       "  <tbody>\n",
       "    <tr>\n",
       "      <th>1</th>\n",
       "      <td>1968-01-01</td>\n",
       "      <td>3.659987</td>\n",
       "    </tr>\n",
       "    <tr>\n",
       "      <th>2</th>\n",
       "      <td>1968-02-01</td>\n",
       "      <td>3.682012</td>\n",
       "    </tr>\n",
       "    <tr>\n",
       "      <th>3</th>\n",
       "      <td>1968-03-01</td>\n",
       "      <td>4.151668</td>\n",
       "    </tr>\n",
       "    <tr>\n",
       "      <th>4</th>\n",
       "      <td>1968-04-01</td>\n",
       "      <td>4.165427</td>\n",
       "    </tr>\n",
       "    <tr>\n",
       "      <th>5</th>\n",
       "      <td>1968-05-01</td>\n",
       "      <td>4.097704</td>\n",
       "    </tr>\n",
       "  </tbody>\n",
       "</table>\n",
       "</div>"
      ],
      "text/plain": [
       "        DATE  CORESTICKM159SFRBATL\n",
       "1 1968-01-01              3.659987\n",
       "2 1968-02-01              3.682012\n",
       "3 1968-03-01              4.151668\n",
       "4 1968-04-01              4.165427\n",
       "5 1968-05-01              4.097704"
      ]
     },
     "execution_count": 68,
     "metadata": {},
     "output_type": "execute_result"
    }
   ],
   "source": [
    "inflationC.head()"
   ]
  },
  {
   "cell_type": "code",
   "execution_count": 69,
   "id": "c9210233-b2c9-46f7-b77e-40781cd37c4d",
   "metadata": {},
   "outputs": [
    {
     "data": {
      "text/html": [
       "<div>\n",
       "<style scoped>\n",
       "    .dataframe tbody tr th:only-of-type {\n",
       "        vertical-align: middle;\n",
       "    }\n",
       "\n",
       "    .dataframe tbody tr th {\n",
       "        vertical-align: top;\n",
       "    }\n",
       "\n",
       "    .dataframe thead th {\n",
       "        text-align: right;\n",
       "    }\n",
       "</style>\n",
       "<table border=\"1\" class=\"dataframe\">\n",
       "  <thead>\n",
       "    <tr style=\"text-align: right;\">\n",
       "      <th></th>\n",
       "      <th>DATE</th>\n",
       "      <th>UNRATE</th>\n",
       "    </tr>\n",
       "  </thead>\n",
       "  <tbody>\n",
       "    <tr>\n",
       "      <th>240</th>\n",
       "      <td>1968-01-01</td>\n",
       "      <td>3.7</td>\n",
       "    </tr>\n",
       "    <tr>\n",
       "      <th>241</th>\n",
       "      <td>1968-02-01</td>\n",
       "      <td>3.8</td>\n",
       "    </tr>\n",
       "    <tr>\n",
       "      <th>242</th>\n",
       "      <td>1968-03-01</td>\n",
       "      <td>3.7</td>\n",
       "    </tr>\n",
       "    <tr>\n",
       "      <th>243</th>\n",
       "      <td>1968-04-01</td>\n",
       "      <td>3.5</td>\n",
       "    </tr>\n",
       "    <tr>\n",
       "      <th>244</th>\n",
       "      <td>1968-05-01</td>\n",
       "      <td>3.5</td>\n",
       "    </tr>\n",
       "  </tbody>\n",
       "</table>\n",
       "</div>"
      ],
      "text/plain": [
       "          DATE  UNRATE\n",
       "240 1968-01-01     3.7\n",
       "241 1968-02-01     3.8\n",
       "242 1968-03-01     3.7\n",
       "243 1968-04-01     3.5\n",
       "244 1968-05-01     3.5"
      ]
     },
     "execution_count": 69,
     "metadata": {},
     "output_type": "execute_result"
    }
   ],
   "source": [
    "unemploymentC.head()"
   ]
  },
  {
   "cell_type": "code",
   "execution_count": 70,
   "id": "15a62ccd-5e40-4c1c-b3c9-9b8714160211",
   "metadata": {},
   "outputs": [
    {
     "data": {
      "text/html": [
       "<div>\n",
       "<style scoped>\n",
       "    .dataframe tbody tr th:only-of-type {\n",
       "        vertical-align: middle;\n",
       "    }\n",
       "\n",
       "    .dataframe tbody tr th {\n",
       "        vertical-align: top;\n",
       "    }\n",
       "\n",
       "    .dataframe thead th {\n",
       "        text-align: right;\n",
       "    }\n",
       "</style>\n",
       "<table border=\"1\" class=\"dataframe\">\n",
       "  <thead>\n",
       "    <tr style=\"text-align: right;\">\n",
       "      <th></th>\n",
       "      <th>DATE</th>\n",
       "      <th>GDPC1CTM</th>\n",
       "    </tr>\n",
       "  </thead>\n",
       "  <tbody>\n",
       "    <tr>\n",
       "      <th>0</th>\n",
       "      <td>2023-01-01</td>\n",
       "      <td>0.40</td>\n",
       "    </tr>\n",
       "    <tr>\n",
       "      <th>1</th>\n",
       "      <td>2024-01-01</td>\n",
       "      <td>1.25</td>\n",
       "    </tr>\n",
       "    <tr>\n",
       "      <th>2</th>\n",
       "      <td>2025-01-01</td>\n",
       "      <td>1.90</td>\n",
       "    </tr>\n",
       "  </tbody>\n",
       "</table>\n",
       "</div>"
      ],
      "text/plain": [
       "        DATE  GDPC1CTM\n",
       "0 2023-01-01      0.40\n",
       "1 2024-01-01      1.25\n",
       "2 2025-01-01      1.90"
      ]
     },
     "execution_count": 70,
     "metadata": {},
     "output_type": "execute_result"
    }
   ],
   "source": [
    "GDPC.head()"
   ]
  },
  {
   "cell_type": "code",
   "execution_count": null,
   "id": "ccc76928-e5a8-4ce6-af56-043df6cb3c28",
   "metadata": {},
   "outputs": [],
   "source": []
  },
  {
   "cell_type": "code",
   "execution_count": 24,
   "id": "c182dc3c-09e1-43a3-acb4-7823cc13db3f",
   "metadata": {},
   "outputs": [],
   "source": [
    "#INflation"
   ]
  },
  {
   "cell_type": "code",
   "execution_count": 25,
   "id": "f91fcf0b-ec9c-4a33-85d6-889965905adf",
   "metadata": {},
   "outputs": [
    {
     "data": {
      "image/png": "[encoded data removed]",
      "text/plain": [
       "<Figure size 432x288 with 1 Axes>"
      ]
     },
     "metadata": {
      "needs_background": "light"
     },
     "output_type": "display_data"
    }
   ],
   "source": [
    "inflationC.plot('DATE', 'CORESTICKM159SFRBATL')\n",
    "plt.xlabel('Date')\n",
    "plt.ylabel('Rate')\n",
    "plt.title('Sticky Inflation')\n",
    "plt.legend()\n",
    "plt.show()"
   ]
  },
  {
   "cell_type": "code",
   "execution_count": 26,
   "id": "dcacc5e6-0a95-42ca-b993-c5b71a102759",
   "metadata": {},
   "outputs": [
    {
     "data": {
      "image/png": "[encoded data removed]",
      "text/plain": [
       "<Figure size 432x288 with 1 Axes>"
      ]
     },
     "metadata": {
      "needs_background": "light"
     },
     "output_type": "display_data"
    }
   ],
   "source": [
    "# Unemployment\n",
    "\n",
    "\n",
    "# Plotting the variables over time\n",
    "unemploymentC.plot('DATE','UNRATE')\n",
    "plt.xlabel('Date')\n",
    "plt.ylabel('Rate')\n",
    "plt.title('Unemployment')\n",
    "plt.legend()\n",
    "plt.show()"
   ]
  },
  {
   "cell_type": "code",
   "execution_count": 27,
   "id": "3c1cc4d6-4079-47c0-be5c-c5ecde05326d",
   "metadata": {},
   "outputs": [
    {
     "data": {
      "image/png": "[encoded data removed]",
      "text/plain": [
       "<Figure size 432x288 with 1 Axes>"
      ]
     },
     "metadata": {
      "needs_background": "light"
     },
     "output_type": "display_data"
    }
   ],
   "source": [
    "#GDP\n",
    "\n",
    "# Plotting the variables over time\n",
    "GDP.plot('DATE','GDPC1CTM')\n",
    "plt.xlabel('Date')\n",
    "plt.ylabel('Rate')\n",
    "plt.title('GDP')\n",
    "plt.legend()\n",
    "plt.show()"
   ]
  },
  {
   "cell_type": "markdown",
   "id": "0c76b6b7-d43d-4ae8-b473-0cbf6f931c7f",
   "metadata": {},
   "source": [
    "<hr style=\"height:5px;border-width:0;color:MediumAquamarine;background-color:MediumAquamarine\">\n",
    "\n",
    "# Page 5 - Establishing page 5<a class=\"anchor\" id=\"FRED_page_5\"></a>\n",
    "\n",
    "[Back to Top](#FRED_toc)\n",
    "\n",
    "<hr style=\"height:5px;border-width:0;color:MediumAquamarine;background-color:MediumAquamarine\">\n"
   ]
  },
  {
   "cell_type": "markdown",
   "id": "a26a9a36-de26-4e54-987d-62b7f5514987",
   "metadata": {
    "tags": []
   },
   "source": [
    "inflation.info()"
   ]
  },
  {
   "cell_type": "code",
   "execution_count": null,
   "id": "2794176d-3a27-48f0-8e0d-79b817ad4305",
   "metadata": {},
   "outputs": [],
   "source": [
    "unRate.info()"
   ]
  },
  {
   "cell_type": "code",
   "execution_count": null,
   "id": "e0aa9fdd-832b-4877-a28d-9e7b44d2a050",
   "metadata": {},
   "outputs": [],
   "source": [
    "fedRate.info()"
   ]
  },
  {
   "cell_type": "code",
   "execution_count": null,
   "id": "319fab7b-996a-417e-9bd2-160dd557760b",
   "metadata": {},
   "outputs": [],
   "source": [
    "GDP.info()"
   ]
  },
  {
   "cell_type": "code",
   "execution_count": 3,
   "id": "a2a73740-4b3f-4fee-9ef8-18d99364323e",
   "metadata": {},
   "outputs": [
    {
     "ename": "SyntaxError",
     "evalue": "invalid syntax (314534799.py, line 1)",
     "output_type": "error",
     "traceback": [
      "\u001b[1;36m  Input \u001b[1;32mIn [3]\u001b[1;36m\u001b[0m\n\u001b[1;33m    <hr style=\"height:5px;border-width:0;color:MediumAquamarine;background-color:MediumAquamarine\">\u001b[0m\n\u001b[1;37m    ^\u001b[0m\n\u001b[1;31mSyntaxError\u001b[0m\u001b[1;31m:\u001b[0m invalid syntax\n"
     ]
    }
   ],
   "source": [
    "<hr style=\"height:5px;border-width:0;color:MediumAquamarine;background-color:MediumAquamarine\">\n",
    "\n",
    "# Page 6 - Checking the Column Names<a class=\"anchor\" id=\"FRED_page_6\"></a>\n",
    "\n",
    "[Back to Top](#FRED_toc)\n",
    "\n",
    "<hr style=\"height:5px;border-width:0;color:MediumAquamarine;background-color:MediumAquamarine\">"
   ]
  },
  {
   "cell_type": "code",
   "execution_count": 4,
   "id": "b62fe135-6cc1-47da-8035-a5ed21763777",
   "metadata": {},
   "outputs": [
    {
     "ename": "NameError",
     "evalue": "name 'inflationC' is not defined",
     "output_type": "error",
     "traceback": [
      "\u001b[1;31m---------------------------------------------------------------------------\u001b[0m",
      "\u001b[1;31mNameError\u001b[0m                                 Traceback (most recent call last)",
      "Input \u001b[1;32mIn [4]\u001b[0m, in \u001b[0;36m<module>\u001b[1;34m\u001b[0m\n\u001b[1;32m----> 1\u001b[0m \u001b[43minflationC\u001b[49m\u001b[38;5;241m.\u001b[39minfo()\n",
      "\u001b[1;31mNameError\u001b[0m: name 'inflationC' is not defined"
     ]
    }
   ],
   "source": [
    "inflationC.info()"
   ]
  },
  {
   "cell_type": "code",
   "execution_count": 29,
   "id": "3cf8a07d-a86b-4da2-90c0-b6767fc9bf1c",
   "metadata": {},
   "outputs": [
    {
     "name": "stdout",
     "output_type": "stream",
     "text": [
      "<class 'pandas.core.frame.DataFrame'>\n",
      "Int64Index: 664 entries, 240 to 903\n",
      "Data columns (total 2 columns):\n",
      " #   Column  Non-Null Count  Dtype         \n",
      "---  ------  --------------  -----         \n",
      " 0   DATE    664 non-null    datetime64[ns]\n",
      " 1   UNRATE  664 non-null    float64       \n",
      "dtypes: datetime64[ns](1), float64(1)\n",
      "memory usage: 15.6 KB\n"
     ]
    }
   ],
   "source": [
    "unemploymentC.info()"
   ]
  },
  {
   "cell_type": "code",
   "execution_count": 30,
   "id": "a5746706-ef74-4b0c-a42b-25822505aa90",
   "metadata": {},
   "outputs": [
    {
     "data": {
      "text/html": [
       "<div>\n",
       "<style scoped>\n",
       "    .dataframe tbody tr th:only-of-type {\n",
       "        vertical-align: middle;\n",
       "    }\n",
       "\n",
       "    .dataframe tbody tr th {\n",
       "        vertical-align: top;\n",
       "    }\n",
       "\n",
       "    .dataframe thead th {\n",
       "        text-align: right;\n",
       "    }\n",
       "</style>\n",
       "<table border=\"1\" class=\"dataframe\">\n",
       "  <thead>\n",
       "    <tr style=\"text-align: right;\">\n",
       "      <th></th>\n",
       "      <th>DATE</th>\n",
       "      <th>CORESTICKM159SFRBATL</th>\n",
       "    </tr>\n",
       "  </thead>\n",
       "  <tbody>\n",
       "    <tr>\n",
       "      <th>1</th>\n",
       "      <td>1968-01-01</td>\n",
       "      <td>3.659987</td>\n",
       "    </tr>\n",
       "    <tr>\n",
       "      <th>2</th>\n",
       "      <td>1968-02-01</td>\n",
       "      <td>3.682012</td>\n",
       "    </tr>\n",
       "    <tr>\n",
       "      <th>3</th>\n",
       "      <td>1968-03-01</td>\n",
       "      <td>4.151668</td>\n",
       "    </tr>\n",
       "    <tr>\n",
       "      <th>4</th>\n",
       "      <td>1968-04-01</td>\n",
       "      <td>4.165427</td>\n",
       "    </tr>\n",
       "    <tr>\n",
       "      <th>5</th>\n",
       "      <td>1968-05-01</td>\n",
       "      <td>4.097704</td>\n",
       "    </tr>\n",
       "  </tbody>\n",
       "</table>\n",
       "</div>"
      ],
      "text/plain": [
       "        DATE  CORESTICKM159SFRBATL\n",
       "1 1968-01-01              3.659987\n",
       "2 1968-02-01              3.682012\n",
       "3 1968-03-01              4.151668\n",
       "4 1968-04-01              4.165427\n",
       "5 1968-05-01              4.097704"
      ]
     },
     "execution_count": 30,
     "metadata": {},
     "output_type": "execute_result"
    }
   ],
   "source": [
    "inflationC.head()"
   ]
  },
  {
   "cell_type": "code",
   "execution_count": 31,
   "id": "dc41a304-2e6a-49d4-8da3-8eecebefa83e",
   "metadata": {},
   "outputs": [
    {
     "data": {
      "text/html": [
       "<div>\n",
       "<style scoped>\n",
       "    .dataframe tbody tr th:only-of-type {\n",
       "        vertical-align: middle;\n",
       "    }\n",
       "\n",
       "    .dataframe tbody tr th {\n",
       "        vertical-align: top;\n",
       "    }\n",
       "\n",
       "    .dataframe thead th {\n",
       "        text-align: right;\n",
       "    }\n",
       "</style>\n",
       "<table border=\"1\" class=\"dataframe\">\n",
       "  <thead>\n",
       "    <tr style=\"text-align: right;\">\n",
       "      <th></th>\n",
       "      <th>DATE</th>\n",
       "      <th>UNRATE</th>\n",
       "    </tr>\n",
       "  </thead>\n",
       "  <tbody>\n",
       "    <tr>\n",
       "      <th>240</th>\n",
       "      <td>1968-01-01</td>\n",
       "      <td>3.7</td>\n",
       "    </tr>\n",
       "    <tr>\n",
       "      <th>241</th>\n",
       "      <td>1968-02-01</td>\n",
       "      <td>3.8</td>\n",
       "    </tr>\n",
       "    <tr>\n",
       "      <th>242</th>\n",
       "      <td>1968-03-01</td>\n",
       "      <td>3.7</td>\n",
       "    </tr>\n",
       "    <tr>\n",
       "      <th>243</th>\n",
       "      <td>1968-04-01</td>\n",
       "      <td>3.5</td>\n",
       "    </tr>\n",
       "    <tr>\n",
       "      <th>244</th>\n",
       "      <td>1968-05-01</td>\n",
       "      <td>3.5</td>\n",
       "    </tr>\n",
       "  </tbody>\n",
       "</table>\n",
       "</div>"
      ],
      "text/plain": [
       "          DATE  UNRATE\n",
       "240 1968-01-01     3.7\n",
       "241 1968-02-01     3.8\n",
       "242 1968-03-01     3.7\n",
       "243 1968-04-01     3.5\n",
       "244 1968-05-01     3.5"
      ]
     },
     "execution_count": 31,
     "metadata": {},
     "output_type": "execute_result"
    }
   ],
   "source": [
    "unemploymentC.head()"
   ]
  },
  {
   "cell_type": "code",
   "execution_count": 74,
   "id": "2d91c23b-b23c-40c9-b6fd-b4ef00fa58a5",
   "metadata": {},
   "outputs": [],
   "source": [
    "inflationCF = inflationC.reset_index(drop=True)"
   ]
  },
  {
   "cell_type": "code",
   "execution_count": 75,
   "id": "fae85829-6d08-4f21-9c33-6bb709067709",
   "metadata": {},
   "outputs": [
    {
     "data": {
      "text/html": [
       "<div>\n",
       "<style scoped>\n",
       "    .dataframe tbody tr th:only-of-type {\n",
       "        vertical-align: middle;\n",
       "    }\n",
       "\n",
       "    .dataframe tbody tr th {\n",
       "        vertical-align: top;\n",
       "    }\n",
       "\n",
       "    .dataframe thead th {\n",
       "        text-align: right;\n",
       "    }\n",
       "</style>\n",
       "<table border=\"1\" class=\"dataframe\">\n",
       "  <thead>\n",
       "    <tr style=\"text-align: right;\">\n",
       "      <th></th>\n",
       "      <th>DATE</th>\n",
       "      <th>CORESTICKM159SFRBATL</th>\n",
       "    </tr>\n",
       "  </thead>\n",
       "  <tbody>\n",
       "    <tr>\n",
       "      <th>0</th>\n",
       "      <td>1968-01-01</td>\n",
       "      <td>3.659987</td>\n",
       "    </tr>\n",
       "    <tr>\n",
       "      <th>1</th>\n",
       "      <td>1968-02-01</td>\n",
       "      <td>3.682012</td>\n",
       "    </tr>\n",
       "    <tr>\n",
       "      <th>2</th>\n",
       "      <td>1968-03-01</td>\n",
       "      <td>4.151668</td>\n",
       "    </tr>\n",
       "    <tr>\n",
       "      <th>3</th>\n",
       "      <td>1968-04-01</td>\n",
       "      <td>4.165427</td>\n",
       "    </tr>\n",
       "    <tr>\n",
       "      <th>4</th>\n",
       "      <td>1968-05-01</td>\n",
       "      <td>4.097704</td>\n",
       "    </tr>\n",
       "  </tbody>\n",
       "</table>\n",
       "</div>"
      ],
      "text/plain": [
       "        DATE  CORESTICKM159SFRBATL\n",
       "0 1968-01-01              3.659987\n",
       "1 1968-02-01              3.682012\n",
       "2 1968-03-01              4.151668\n",
       "3 1968-04-01              4.165427\n",
       "4 1968-05-01              4.097704"
      ]
     },
     "execution_count": 75,
     "metadata": {},
     "output_type": "execute_result"
    }
   ],
   "source": [
    "inflationCF.head()"
   ]
  },
  {
   "cell_type": "code",
   "execution_count": 76,
   "id": "7782b5c5-62a5-403b-8086-f9e408dfd183",
   "metadata": {},
   "outputs": [],
   "source": [
    "unemploymentCF = unemploymentC.reset_index(drop=True)"
   ]
  },
  {
   "cell_type": "code",
   "execution_count": 77,
   "id": "a0fb6e17-ce2e-4d3e-95ca-40e032cce934",
   "metadata": {},
   "outputs": [
    {
     "data": {
      "text/html": [
       "<div>\n",
       "<style scoped>\n",
       "    .dataframe tbody tr th:only-of-type {\n",
       "        vertical-align: middle;\n",
       "    }\n",
       "\n",
       "    .dataframe tbody tr th {\n",
       "        vertical-align: top;\n",
       "    }\n",
       "\n",
       "    .dataframe thead th {\n",
       "        text-align: right;\n",
       "    }\n",
       "</style>\n",
       "<table border=\"1\" class=\"dataframe\">\n",
       "  <thead>\n",
       "    <tr style=\"text-align: right;\">\n",
       "      <th></th>\n",
       "      <th>DATE</th>\n",
       "      <th>UNRATE</th>\n",
       "    </tr>\n",
       "  </thead>\n",
       "  <tbody>\n",
       "    <tr>\n",
       "      <th>0</th>\n",
       "      <td>1968-01-01</td>\n",
       "      <td>3.7</td>\n",
       "    </tr>\n",
       "    <tr>\n",
       "      <th>1</th>\n",
       "      <td>1968-02-01</td>\n",
       "      <td>3.8</td>\n",
       "    </tr>\n",
       "    <tr>\n",
       "      <th>2</th>\n",
       "      <td>1968-03-01</td>\n",
       "      <td>3.7</td>\n",
       "    </tr>\n",
       "    <tr>\n",
       "      <th>3</th>\n",
       "      <td>1968-04-01</td>\n",
       "      <td>3.5</td>\n",
       "    </tr>\n",
       "    <tr>\n",
       "      <th>4</th>\n",
       "      <td>1968-05-01</td>\n",
       "      <td>3.5</td>\n",
       "    </tr>\n",
       "  </tbody>\n",
       "</table>\n",
       "</div>"
      ],
      "text/plain": [
       "        DATE  UNRATE\n",
       "0 1968-01-01     3.7\n",
       "1 1968-02-01     3.8\n",
       "2 1968-03-01     3.7\n",
       "3 1968-04-01     3.5\n",
       "4 1968-05-01     3.5"
      ]
     },
     "execution_count": 77,
     "metadata": {},
     "output_type": "execute_result"
    }
   ],
   "source": [
    "unemploymentCF.head()"
   ]
  },
  {
   "cell_type": "code",
   "execution_count": 45,
   "id": "8af261f0-6f55-49eb-bf5f-eb66e76e356c",
   "metadata": {},
   "outputs": [],
   "source": [
    "# graph= inflationCF"
   ]
  },
  {
   "cell_type": "code",
   "execution_count": 46,
   "id": "b68289d1-d4a1-468b-8228-a12e3b28099a",
   "metadata": {},
   "outputs": [],
   "source": [
    "# graph['UNRATE']= unemploymentCF['UNRATE']"
   ]
  },
  {
   "cell_type": "code",
   "execution_count": 78,
   "id": "a2721505-255a-4776-acf5-79f6f51a1f81",
   "metadata": {},
   "outputs": [],
   "source": [
    "# graph.head()"
   ]
  },
  {
   "cell_type": "raw",
   "id": "c0c06f5f-ef6f-4a11-8036-a408a97bd353",
   "metadata": {},
   "source": []
  },
  {
   "cell_type": "code",
   "execution_count": 38,
   "id": "fc637240-c2c9-4407-99b5-954f52789fd9",
   "metadata": {},
   "outputs": [
    {
     "name": "stdout",
     "output_type": "stream",
     "text": [
      "           DATE  CORESTICKM159SFRBATL  UNRATE\n",
      "0    1968-01-01              3.659987     NaN\n",
      "1    1968-02-01              3.682012     NaN\n",
      "2    1968-03-01              4.151668     NaN\n",
      "3    1968-04-01              4.165427     NaN\n",
      "4    1968-05-01              4.097704     NaN\n",
      "...         ...                   ...     ...\n",
      "1323 2022-12-01                   NaN     3.5\n",
      "1324 2023-01-01                   NaN     3.4\n",
      "1325 2023-02-01                   NaN     3.6\n",
      "1326 2023-03-01                   NaN     3.5\n",
      "1327 2023-04-01                   NaN     3.4\n",
      "\n",
      "[1328 rows x 3 columns]\n"
     ]
    }
   ],
   "source": [
    "# Create two sample DataFrames\n",
    "\n",
    "# Concatenate the DataFrames based on the 'Date' column\n",
    "result = pd.concat([inflationC, unemploymentC], ignore_index=True)\n",
    "# Print the concatenated DataFrame\n",
    "print(result)"
   ]
  },
  {
   "cell_type": "code",
   "execution_count": 80,
   "id": "db86e0a5-4e6a-4a35-8887-0a36c5340805",
   "metadata": {},
   "outputs": [
    {
     "ename": "KeyError",
     "evalue": "\"None of ['DATE'] are in the columns\"",
     "output_type": "error",
     "traceback": [
      "\u001b[1;31m---------------------------------------------------------------------------\u001b[0m",
      "\u001b[1;31mKeyError\u001b[0m                                  Traceback (most recent call last)",
      "Input \u001b[1;32mIn [80]\u001b[0m, in \u001b[0;36m<module>\u001b[1;34m\u001b[0m\n\u001b[0;32m      1\u001b[0m \u001b[38;5;66;03m# Set 'Date' column as the index\u001b[39;00m\n\u001b[1;32m----> 2\u001b[0m \u001b[43minflationCF\u001b[49m\u001b[38;5;241;43m.\u001b[39;49m\u001b[43mset_index\u001b[49m\u001b[43m(\u001b[49m\u001b[38;5;124;43m'\u001b[39;49m\u001b[38;5;124;43mDATE\u001b[39;49m\u001b[38;5;124;43m'\u001b[39;49m\u001b[43m,\u001b[49m\u001b[43m \u001b[49m\u001b[43minplace\u001b[49m\u001b[38;5;241;43m=\u001b[39;49m\u001b[38;5;28;43;01mTrue\u001b[39;49;00m\u001b[43m)\u001b[49m\n\u001b[0;32m      3\u001b[0m unemploymentCF\u001b[38;5;241m.\u001b[39mset_index(\u001b[38;5;124m'\u001b[39m\u001b[38;5;124mDATE\u001b[39m\u001b[38;5;124m'\u001b[39m, inplace\u001b[38;5;241m=\u001b[39m\u001b[38;5;28;01mTrue\u001b[39;00m)\n\u001b[0;32m      4\u001b[0m \u001b[38;5;66;03m# Concatenate the DataFrames based on the index\u001b[39;00m\n",
      "File \u001b[1;32mC:\\Python3\\lib\\site-packages\\pandas\\util\\_decorators.py:311\u001b[0m, in \u001b[0;36mdeprecate_nonkeyword_arguments.<locals>.decorate.<locals>.wrapper\u001b[1;34m(*args, **kwargs)\u001b[0m\n\u001b[0;32m    305\u001b[0m \u001b[38;5;28;01mif\u001b[39;00m \u001b[38;5;28mlen\u001b[39m(args) \u001b[38;5;241m>\u001b[39m num_allow_args:\n\u001b[0;32m    306\u001b[0m     warnings\u001b[38;5;241m.\u001b[39mwarn(\n\u001b[0;32m    307\u001b[0m         msg\u001b[38;5;241m.\u001b[39mformat(arguments\u001b[38;5;241m=\u001b[39marguments),\n\u001b[0;32m    308\u001b[0m         \u001b[38;5;167;01mFutureWarning\u001b[39;00m,\n\u001b[0;32m    309\u001b[0m         stacklevel\u001b[38;5;241m=\u001b[39mstacklevel,\n\u001b[0;32m    310\u001b[0m     )\n\u001b[1;32m--> 311\u001b[0m \u001b[38;5;28;01mreturn\u001b[39;00m func(\u001b[38;5;241m*\u001b[39margs, \u001b[38;5;241m*\u001b[39m\u001b[38;5;241m*\u001b[39mkwargs)\n",
      "File \u001b[1;32mC:\\Python3\\lib\\site-packages\\pandas\\core\\frame.py:5494\u001b[0m, in \u001b[0;36mDataFrame.set_index\u001b[1;34m(self, keys, drop, append, inplace, verify_integrity)\u001b[0m\n\u001b[0;32m   5491\u001b[0m                 missing\u001b[38;5;241m.\u001b[39mappend(col)\n\u001b[0;32m   5493\u001b[0m \u001b[38;5;28;01mif\u001b[39;00m missing:\n\u001b[1;32m-> 5494\u001b[0m     \u001b[38;5;28;01mraise\u001b[39;00m \u001b[38;5;167;01mKeyError\u001b[39;00m(\u001b[38;5;124mf\u001b[39m\u001b[38;5;124m\"\u001b[39m\u001b[38;5;124mNone of \u001b[39m\u001b[38;5;132;01m{\u001b[39;00mmissing\u001b[38;5;132;01m}\u001b[39;00m\u001b[38;5;124m are in the columns\u001b[39m\u001b[38;5;124m\"\u001b[39m)\n\u001b[0;32m   5496\u001b[0m \u001b[38;5;28;01mif\u001b[39;00m inplace:\n\u001b[0;32m   5497\u001b[0m     frame \u001b[38;5;241m=\u001b[39m \u001b[38;5;28mself\u001b[39m\n",
      "\u001b[1;31mKeyError\u001b[0m: \"None of ['DATE'] are in the columns\""
     ]
    }
   ],
   "source": [
    "\n",
    "# Set 'Date' column as the index\n",
    "inflationCF.set_index('DATE', inplace=True)\n",
    "unemploymentCF.set_index('DATE', inplace=True)\n",
    "# Concatenate the DataFrames based on the index\n",
    "result1 = pd.concat([inflationCF,unemploymentCF], axis=0, join='inner')\n",
    "# Reset the index\n",
    "result1.reset_index(inplace=True)\n",
    "\n",
    "# Print the concatenated DataFrame\n",
    "result1.head()"
   ]
  },
  {
   "cell_type": "code",
   "execution_count": 41,
   "id": "2ac3b104-a7c4-4e24-b565-fd4f4c48af3e",
   "metadata": {},
   "outputs": [
    {
     "name": "stdout",
     "output_type": "stream",
     "text": [
      "<class 'pandas.core.frame.DataFrame'>\n",
      "RangeIndex: 1328 entries, 0 to 1327\n",
      "Data columns (total 3 columns):\n",
      " #   Column                Non-Null Count  Dtype         \n",
      "---  ------                --------------  -----         \n",
      " 0   DATE                  1328 non-null   datetime64[ns]\n",
      " 1   CORESTICKM159SFRBATL  664 non-null    float64       \n",
      " 2   UNRATE                1089 non-null   float64       \n",
      "dtypes: datetime64[ns](1), float64(2)\n",
      "memory usage: 31.2 KB\n"
     ]
    }
   ],
   "source": [
    "result1.info()"
   ]
  },
  {
   "cell_type": "code",
   "execution_count": null,
   "id": "d4526ae7-785c-4aac-b3c8-c0819752acf8",
   "metadata": {},
   "outputs": [],
   "source": []
  },
  {
   "cell_type": "code",
   "execution_count": null,
   "id": "69ac3656-4635-4899-bbe4-ea56eb8784e9",
   "metadata": {},
   "outputs": [],
   "source": []
  },
  {
   "cell_type": "code",
   "execution_count": null,
   "id": "88db5cb0-8e99-4fe0-b2f3-3bf07271b747",
   "metadata": {},
   "outputs": [],
   "source": []
  },
  {
   "cell_type": "code",
   "execution_count": null,
   "id": "239a9f63-1420-4ec7-978b-cd6b01a56190",
   "metadata": {},
   "outputs": [],
   "source": [
    "x = 'DATE'\n",
    "\n",
    "plt.plot(x, 'INFLATION', label='linear')\n",
    "plt.plot(x, 'UNRATE', label='quadratic')\n",
    "\n",
    "\n",
    "plt.xlabel('x label')\n",
    "plt.ylabel('y label')\n",
    "\n",
    "plt.title(\"Simple Plot\")\n",
    "\n",
    "plt.legend()\n",
    "\n",
    "plt.show()"
   ]
  }
 ],
 "metadata": {
  "kernelspec": {
   "display_name": "Python 3 (ipykernel)",
   "language": "python",
   "name": "python3"
  },
  "language_info": {
   "codemirror_mode": {
    "name": "ipython",
    "version": 3
   },
   "file_extension": ".py",
   "mimetype": "text/x-python",
   "name": "python",
   "nbconvert_exporter": "python",
   "pygments_lexer": "ipython3",
   "version": "3.10.4"
  }
 },
 "nbformat": 4,
 "nbformat_minor": 5
}
