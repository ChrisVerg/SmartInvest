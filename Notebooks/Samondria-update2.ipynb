{
 "cells": [
  {
   "cell_type": "markdown",
   "id": "a49b9969-82c4-4c14-801a-7fb94be94ad1",
   "metadata": {},
   "source": [
    "<hr style=\"height:5px;border-width:0;color:MediumAquamarine;background-color:MediumAquamarine\">\n",
    "\n",
    "# Python Notebook for Stock Market Analysis\n",
    "\n",
    "- [GDP Data](https://fred.stlouisfed.org/series/GDP)\n",
    "- [Inflation](https://fred.stlouisfed.org/series/CORESTICKM159SFRBATL)\n",
    "- [Unemployment](https://fred.stlouisfed.org/series/UNRATE)\n",
    "- [Federal Rate](https://fred.stlouisfed.org/series/DFF)\n",
    "\n",
    "\n",
    "\n",
    "<hr style=\"height:5px;border-width:0;color:MediumAquamarine;background-color:MediumAquamarine\">"
   ]
  },
  {
   "cell_type": "code",
   "execution_count": 18,
   "id": "f13f7d05-a0bd-4390-a111-05bc40e75596",
   "metadata": {},
   "outputs": [],
   "source": []
  },
  {
   "cell_type": "markdown",
   "id": "134c703f-6408-4046-979f-8dbd6789e3ea",
   "metadata": {},
   "source": [
    "### Table of Contents <a class=\"anchor\" id=\"FRED_toc\"></a>\n",
    "\n",
    "* [Table of Contents](#FRED_toc)\n",
    "    * [1. Abstract](#FRED_page_1)\n",
    "    * [2. Imported Libraries](#FRED_page_2)\n",
    "    * [3. Import the Dataset](#FRED_page_3)\n",
    "    * [4. Looking at the Data](#FRED_page_4)\n",
    "    * [5. Exploring the Data](#FRED_page_5)\n",
    "    * [6. Renaming Column Names](#FRED_page_6)\n",
    "    * [7. Visualizing the Individual Datasets](#FRED_page_7)\n",
    "    * [8. Creating a new Cleaned Dataset](#FRED_page_8)\n",
    "    * [9. Counting Columns](#FRED_page_9)\n",
    "    * [10. Get Info about the Dataset](#FRED_page_10)\n",
    "    * [11. Get Descriptive Statistics about the Dataset](#FRED_page_11)\n",
    "   \n",
    "    \n",
    "  \n",
    "  \n"
   ]
  },
  {
   "cell_type": "markdown",
   "id": "9ce9b153-d04e-4d5f-a115-3b6a6eeb9594",
   "metadata": {},
   "source": [
    "<hr style=\"height:5px;border-width:0;color:MediumAquamarine;background-color:MediumAquamarine\">\n",
    "\n",
    "# Page 2 - Imported Libraries<a class=\"anchor\" id=\"FRED_page_2\"></a>\n",
    "\n",
    "[Back to Top](#FRED_toc)\n",
    "\n",
    "<hr style=\"height:5px;border-width:0;color:MediumAquamarine;background-color:MediumAquamarine\">"
   ]
  },
  {
   "cell_type": "code",
   "execution_count": 1,
   "id": "725fd711-8601-4051-bb56-93d4b2489ee7",
   "metadata": {},
   "outputs": [],
   "source": [
    "import pandas as pd\n",
    "import numpy as np\n",
    "import matplotlib.pyplot as plt"
   ]
  },
  {
   "cell_type": "markdown",
   "id": "61c31a1c-ab5e-41a2-9f89-c7e89ea809f9",
   "metadata": {},
   "source": [
    "# Put a description about the datasets and what this code will show at the end."
   ]
  },
  {
   "cell_type": "markdown",
   "id": "3f21699f",
   "metadata": {},
   "source": [
    "<hr style=\"height:5px;border-width:0;color:MediumAquamarine;background-color:MediumAquamarine\">\n",
    "\n",
    "# Page 3 - Import the Dataset<a class=\"anchor\" id=\"FRED_page_3\"></a>\n",
    "\n",
    "[Back to Top](#FRED_toc)\n",
    "\n",
    "<hr style=\"height:5px;border-width:0;color:MediumAquamarine;background-color:MediumAquamarine\">"
   ]
  },
  {
   "cell_type": "markdown",
   "id": "815de4f3-23e9-4c42-8406-d874f92354cc",
   "metadata": {
    "tags": []
   },
   "source": [
    "Here we will have 3 data sets Inflation and Unemployment rate (Unrate) and GDP will serve as our dependent variables and independent variables to analyze the effect on Federal Funds Rate\n",
    "\n",
    "Ensure to include, why this matters in your notebook"
   ]
  },
  {
   "cell_type": "code",
   "execution_count": null,
   "id": "bf8ccac9-0952-4860-a3f4-ecf2bab3ded1",
   "metadata": {},
   "outputs": [],
   "source": [
    "inflation = pd.read_csv('../Data/CORESTICK_SW.csv')"
   ]
  },
  {
   "cell_type": "code",
   "execution_count": null,
   "id": "d92b2d7d-a364-4cf4-82e3-4ce93b946a83",
   "metadata": {},
   "outputs": [],
   "source": [
    "unRate = pd.read_csv('../Data/Unemployment_SW.csv')"
   ]
  },
  {
   "cell_type": "code",
   "execution_count": null,
   "id": "1b244e89-53eb-4691-9add-828d1bb162c5",
   "metadata": {},
   "outputs": [],
   "source": [
    "GDP = pd.read_csv('../Data/GDP1_SW.csv')"
   ]
  },
  {
   "cell_type": "code",
   "execution_count": null,
   "id": "766ece6e-4685-45df-a76e-305d84436f8d",
   "metadata": {},
   "outputs": [],
   "source": [
    "fedRate =  pd.read_csv('../Data/DFF_SW.csv')"
   ]
  },
  {
   "cell_type": "markdown",
   "id": "b0bec663-f16e-4b36-82af-73305211cdaf",
   "metadata": {},
   "source": [
    "<hr style=\"height:5px;border-width:0;color:MediumAquamarine;background-color:MediumAquamarine\">\n",
    "\n",
    "# Page 4 - Looking at the Data<a class=\"anchor\" id=\"FRED_page_4\"></a>\n",
    "\n",
    "[Back to Top](#FRED_toc)\n",
    "\n",
    "<hr style=\"height:5px;border-width:0;color:MediumAquamarine;background-color:MediumAquamarine\">"
   ]
  },
  {
   "cell_type": "code",
   "execution_count": 8,
   "id": "89238e0f-b477-406c-80e4-ab4412f14f1d",
   "metadata": {
    "tags": []
   },
   "outputs": [
    {
     "data": {
      "text/html": [
       "<div>\n",
       "<style scoped>\n",
       "    .dataframe tbody tr th:only-of-type {\n",
       "        vertical-align: middle;\n",
       "    }\n",
       "\n",
       "    .dataframe tbody tr th {\n",
       "        vertical-align: top;\n",
       "    }\n",
       "\n",
       "    .dataframe thead th {\n",
       "        text-align: right;\n",
       "    }\n",
       "</style>\n",
       "<table border=\"1\" class=\"dataframe\">\n",
       "  <thead>\n",
       "    <tr style=\"text-align: right;\">\n",
       "      <th></th>\n",
       "      <th>DATE</th>\n",
       "      <th>CORESTICKM159SFRBATL</th>\n",
       "    </tr>\n",
       "  </thead>\n",
       "  <tbody>\n",
       "    <tr>\n",
       "      <th>0</th>\n",
       "      <td>1967-12-01</td>\n",
       "      <td>3.383497</td>\n",
       "    </tr>\n",
       "    <tr>\n",
       "      <th>1</th>\n",
       "      <td>1968-01-01</td>\n",
       "      <td>3.659987</td>\n",
       "    </tr>\n",
       "    <tr>\n",
       "      <th>2</th>\n",
       "      <td>1968-02-01</td>\n",
       "      <td>3.682012</td>\n",
       "    </tr>\n",
       "    <tr>\n",
       "      <th>3</th>\n",
       "      <td>1968-03-01</td>\n",
       "      <td>4.151668</td>\n",
       "    </tr>\n",
       "    <tr>\n",
       "      <th>4</th>\n",
       "      <td>1968-04-01</td>\n",
       "      <td>4.165427</td>\n",
       "    </tr>\n",
       "  </tbody>\n",
       "</table>\n",
       "</div>"
      ],
      "text/plain": [
       "         DATE  CORESTICKM159SFRBATL\n",
       "0  1967-12-01              3.383497\n",
       "1  1968-01-01              3.659987\n",
       "2  1968-02-01              3.682012\n",
       "3  1968-03-01              4.151668\n",
       "4  1968-04-01              4.165427"
      ]
     },
     "execution_count": 8,
     "metadata": {},
     "output_type": "execute_result"
    }
   ],
   "source": [
    "inflation.head()"
   ]
  },
  {
   "cell_type": "code",
   "execution_count": 29,
   "id": "de43d0ff-cf3f-443e-85be-b82bbac3f6d4",
   "metadata": {},
   "outputs": [
    {
     "data": {
      "text/html": [
       "<div>\n",
       "<style scoped>\n",
       "    .dataframe tbody tr th:only-of-type {\n",
       "        vertical-align: middle;\n",
       "    }\n",
       "\n",
       "    .dataframe tbody tr th {\n",
       "        vertical-align: top;\n",
       "    }\n",
       "\n",
       "    .dataframe thead th {\n",
       "        text-align: right;\n",
       "    }\n",
       "</style>\n",
       "<table border=\"1\" class=\"dataframe\">\n",
       "  <thead>\n",
       "    <tr style=\"text-align: right;\">\n",
       "      <th></th>\n",
       "      <th>DATE</th>\n",
       "      <th>CORESTICKM159SFRBATL</th>\n",
       "    </tr>\n",
       "  </thead>\n",
       "  <tbody>\n",
       "    <tr>\n",
       "      <th>660</th>\n",
       "      <td>2022-12-01</td>\n",
       "      <td>6.617223</td>\n",
       "    </tr>\n",
       "    <tr>\n",
       "      <th>661</th>\n",
       "      <td>2023-01-01</td>\n",
       "      <td>6.554492</td>\n",
       "    </tr>\n",
       "    <tr>\n",
       "      <th>662</th>\n",
       "      <td>2023-02-01</td>\n",
       "      <td>6.593750</td>\n",
       "    </tr>\n",
       "    <tr>\n",
       "      <th>663</th>\n",
       "      <td>2023-03-01</td>\n",
       "      <td>6.451708</td>\n",
       "    </tr>\n",
       "    <tr>\n",
       "      <th>664</th>\n",
       "      <td>2023-04-01</td>\n",
       "      <td>6.322749</td>\n",
       "    </tr>\n",
       "  </tbody>\n",
       "</table>\n",
       "</div>"
      ],
      "text/plain": [
       "           DATE  CORESTICKM159SFRBATL\n",
       "660  2022-12-01              6.617223\n",
       "661  2023-01-01              6.554492\n",
       "662  2023-02-01              6.593750\n",
       "663  2023-03-01              6.451708\n",
       "664  2023-04-01              6.322749"
      ]
     },
     "execution_count": 29,
     "metadata": {},
     "output_type": "execute_result"
    }
   ],
   "source": [
    "inflation.tail()"
   ]
  },
  {
   "cell_type": "code",
   "execution_count": 14,
   "id": "7c20d024-a5a9-44b1-9a40-5ca8e267f8c7",
   "metadata": {
    "tags": []
   },
   "outputs": [
    {
     "data": {
      "text/html": [
       "<div>\n",
       "<style scoped>\n",
       "    .dataframe tbody tr th:only-of-type {\n",
       "        vertical-align: middle;\n",
       "    }\n",
       "\n",
       "    .dataframe tbody tr th {\n",
       "        vertical-align: top;\n",
       "    }\n",
       "\n",
       "    .dataframe thead th {\n",
       "        text-align: right;\n",
       "    }\n",
       "</style>\n",
       "<table border=\"1\" class=\"dataframe\">\n",
       "  <thead>\n",
       "    <tr style=\"text-align: right;\">\n",
       "      <th></th>\n",
       "      <th>DATE</th>\n",
       "      <th>UNRATE</th>\n",
       "    </tr>\n",
       "  </thead>\n",
       "  <tbody>\n",
       "    <tr>\n",
       "      <th>0</th>\n",
       "      <td>1948-01-01</td>\n",
       "      <td>3.4</td>\n",
       "    </tr>\n",
       "    <tr>\n",
       "      <th>1</th>\n",
       "      <td>1948-02-01</td>\n",
       "      <td>3.8</td>\n",
       "    </tr>\n",
       "    <tr>\n",
       "      <th>2</th>\n",
       "      <td>1948-03-01</td>\n",
       "      <td>4.0</td>\n",
       "    </tr>\n",
       "    <tr>\n",
       "      <th>3</th>\n",
       "      <td>1948-04-01</td>\n",
       "      <td>3.9</td>\n",
       "    </tr>\n",
       "    <tr>\n",
       "      <th>4</th>\n",
       "      <td>1948-05-01</td>\n",
       "      <td>3.5</td>\n",
       "    </tr>\n",
       "  </tbody>\n",
       "</table>\n",
       "</div>"
      ],
      "text/plain": [
       "         DATE  UNRATE\n",
       "0  1948-01-01     3.4\n",
       "1  1948-02-01     3.8\n",
       "2  1948-03-01     4.0\n",
       "3  1948-04-01     3.9\n",
       "4  1948-05-01     3.5"
      ]
     },
     "execution_count": 14,
     "metadata": {},
     "output_type": "execute_result"
    }
   ],
   "source": [
    "unRate.head()"
   ]
  },
  {
   "cell_type": "code",
   "execution_count": 31,
   "id": "cb146bb4-ce02-428a-a063-0720f49fee48",
   "metadata": {},
   "outputs": [
    {
     "data": {
      "text/html": [
       "<div>\n",
       "<style scoped>\n",
       "    .dataframe tbody tr th:only-of-type {\n",
       "        vertical-align: middle;\n",
       "    }\n",
       "\n",
       "    .dataframe tbody tr th {\n",
       "        vertical-align: top;\n",
       "    }\n",
       "\n",
       "    .dataframe thead th {\n",
       "        text-align: right;\n",
       "    }\n",
       "</style>\n",
       "<table border=\"1\" class=\"dataframe\">\n",
       "  <thead>\n",
       "    <tr style=\"text-align: right;\">\n",
       "      <th></th>\n",
       "      <th>DATE</th>\n",
       "      <th>UNRATE</th>\n",
       "    </tr>\n",
       "  </thead>\n",
       "  <tbody>\n",
       "    <tr>\n",
       "      <th>899</th>\n",
       "      <td>2022-12-01</td>\n",
       "      <td>3.5</td>\n",
       "    </tr>\n",
       "    <tr>\n",
       "      <th>900</th>\n",
       "      <td>2023-01-01</td>\n",
       "      <td>3.4</td>\n",
       "    </tr>\n",
       "    <tr>\n",
       "      <th>901</th>\n",
       "      <td>2023-02-01</td>\n",
       "      <td>3.6</td>\n",
       "    </tr>\n",
       "    <tr>\n",
       "      <th>902</th>\n",
       "      <td>2023-03-01</td>\n",
       "      <td>3.5</td>\n",
       "    </tr>\n",
       "    <tr>\n",
       "      <th>903</th>\n",
       "      <td>2023-04-01</td>\n",
       "      <td>3.4</td>\n",
       "    </tr>\n",
       "  </tbody>\n",
       "</table>\n",
       "</div>"
      ],
      "text/plain": [
       "           DATE  UNRATE\n",
       "899  2022-12-01     3.5\n",
       "900  2023-01-01     3.4\n",
       "901  2023-02-01     3.6\n",
       "902  2023-03-01     3.5\n",
       "903  2023-04-01     3.4"
      ]
     },
     "execution_count": 31,
     "metadata": {},
     "output_type": "execute_result"
    }
   ],
   "source": [
    "unRate.tail()"
   ]
  },
  {
   "cell_type": "code",
   "execution_count": 7,
   "id": "2b407a61-2e29-44cb-a751-805c6c58efb6",
   "metadata": {
    "tags": []
   },
   "outputs": [
    {
     "data": {
      "text/html": [
       "<div>\n",
       "<style scoped>\n",
       "    .dataframe tbody tr th:only-of-type {\n",
       "        vertical-align: middle;\n",
       "    }\n",
       "\n",
       "    .dataframe tbody tr th {\n",
       "        vertical-align: top;\n",
       "    }\n",
       "\n",
       "    .dataframe thead th {\n",
       "        text-align: right;\n",
       "    }\n",
       "</style>\n",
       "<table border=\"1\" class=\"dataframe\">\n",
       "  <thead>\n",
       "    <tr style=\"text-align: right;\">\n",
       "      <th></th>\n",
       "      <th>DATE</th>\n",
       "      <th>DFF</th>\n",
       "    </tr>\n",
       "  </thead>\n",
       "  <tbody>\n",
       "    <tr>\n",
       "      <th>0</th>\n",
       "      <td>1954-07-01</td>\n",
       "      <td>1.13</td>\n",
       "    </tr>\n",
       "    <tr>\n",
       "      <th>1</th>\n",
       "      <td>1954-07-02</td>\n",
       "      <td>1.25</td>\n",
       "    </tr>\n",
       "    <tr>\n",
       "      <th>2</th>\n",
       "      <td>1954-07-03</td>\n",
       "      <td>1.25</td>\n",
       "    </tr>\n",
       "    <tr>\n",
       "      <th>3</th>\n",
       "      <td>1954-07-04</td>\n",
       "      <td>1.25</td>\n",
       "    </tr>\n",
       "    <tr>\n",
       "      <th>4</th>\n",
       "      <td>1954-07-05</td>\n",
       "      <td>0.88</td>\n",
       "    </tr>\n",
       "  </tbody>\n",
       "</table>\n",
       "</div>"
      ],
      "text/plain": [
       "         DATE   DFF\n",
       "0  1954-07-01  1.13\n",
       "1  1954-07-02  1.25\n",
       "2  1954-07-03  1.25\n",
       "3  1954-07-04  1.25\n",
       "4  1954-07-05  0.88"
      ]
     },
     "execution_count": 7,
     "metadata": {},
     "output_type": "execute_result"
    }
   ],
   "source": [
    "fedRate.head()"
   ]
  },
  {
   "cell_type": "code",
   "execution_count": 32,
   "id": "7f735772-d9f0-49a2-bd8d-02e513e14605",
   "metadata": {},
   "outputs": [
    {
     "data": {
      "text/html": [
       "<div>\n",
       "<style scoped>\n",
       "    .dataframe tbody tr th:only-of-type {\n",
       "        vertical-align: middle;\n",
       "    }\n",
       "\n",
       "    .dataframe tbody tr th {\n",
       "        vertical-align: top;\n",
       "    }\n",
       "\n",
       "    .dataframe thead th {\n",
       "        text-align: right;\n",
       "    }\n",
       "</style>\n",
       "<table border=\"1\" class=\"dataframe\">\n",
       "  <thead>\n",
       "    <tr style=\"text-align: right;\">\n",
       "      <th></th>\n",
       "      <th>DATE</th>\n",
       "      <th>DFF</th>\n",
       "    </tr>\n",
       "  </thead>\n",
       "  <tbody>\n",
       "    <tr>\n",
       "      <th>1822</th>\n",
       "      <td>2023-06-11</td>\n",
       "      <td>5.08</td>\n",
       "    </tr>\n",
       "    <tr>\n",
       "      <th>1823</th>\n",
       "      <td>2023-06-12</td>\n",
       "      <td>5.08</td>\n",
       "    </tr>\n",
       "    <tr>\n",
       "      <th>1824</th>\n",
       "      <td>2023-06-13</td>\n",
       "      <td>5.08</td>\n",
       "    </tr>\n",
       "    <tr>\n",
       "      <th>1825</th>\n",
       "      <td>2023-06-14</td>\n",
       "      <td>5.08</td>\n",
       "    </tr>\n",
       "    <tr>\n",
       "      <th>1826</th>\n",
       "      <td>2023-06-15</td>\n",
       "      <td>5.07</td>\n",
       "    </tr>\n",
       "  </tbody>\n",
       "</table>\n",
       "</div>"
      ],
      "text/plain": [
       "            DATE   DFF\n",
       "1822  2023-06-11  5.08\n",
       "1823  2023-06-12  5.08\n",
       "1824  2023-06-13  5.08\n",
       "1825  2023-06-14  5.08\n",
       "1826  2023-06-15  5.07"
      ]
     },
     "execution_count": 32,
     "metadata": {},
     "output_type": "execute_result"
    }
   ],
   "source": [
    "fedRate.tail()"
   ]
  },
  {
   "cell_type": "code",
   "execution_count": 26,
   "id": "4485c964-9845-45c0-baf7-99975e992dab",
   "metadata": {},
   "outputs": [
    {
     "data": {
      "text/html": [
       "<div>\n",
       "<style scoped>\n",
       "    .dataframe tbody tr th:only-of-type {\n",
       "        vertical-align: middle;\n",
       "    }\n",
       "\n",
       "    .dataframe tbody tr th {\n",
       "        vertical-align: top;\n",
       "    }\n",
       "\n",
       "    .dataframe thead th {\n",
       "        text-align: right;\n",
       "    }\n",
       "</style>\n",
       "<table border=\"1\" class=\"dataframe\">\n",
       "  <thead>\n",
       "    <tr style=\"text-align: right;\">\n",
       "      <th></th>\n",
       "      <th>DATE</th>\n",
       "      <th>GDP</th>\n",
       "    </tr>\n",
       "  </thead>\n",
       "  <tbody>\n",
       "    <tr>\n",
       "      <th>0</th>\n",
       "      <td>1947-01-01</td>\n",
       "      <td>243.164</td>\n",
       "    </tr>\n",
       "    <tr>\n",
       "      <th>1</th>\n",
       "      <td>1947-04-01</td>\n",
       "      <td>245.968</td>\n",
       "    </tr>\n",
       "    <tr>\n",
       "      <th>2</th>\n",
       "      <td>1947-07-01</td>\n",
       "      <td>249.585</td>\n",
       "    </tr>\n",
       "    <tr>\n",
       "      <th>3</th>\n",
       "      <td>1947-10-01</td>\n",
       "      <td>259.745</td>\n",
       "    </tr>\n",
       "    <tr>\n",
       "      <th>4</th>\n",
       "      <td>1948-01-01</td>\n",
       "      <td>265.742</td>\n",
       "    </tr>\n",
       "  </tbody>\n",
       "</table>\n",
       "</div>"
      ],
      "text/plain": [
       "         DATE      GDP\n",
       "0  1947-01-01  243.164\n",
       "1  1947-04-01  245.968\n",
       "2  1947-07-01  249.585\n",
       "3  1947-10-01  259.745\n",
       "4  1948-01-01  265.742"
      ]
     },
     "execution_count": 26,
     "metadata": {},
     "output_type": "execute_result"
    }
   ],
   "source": [
    "GDP.head()"
   ]
  },
  {
   "cell_type": "code",
   "execution_count": 33,
   "id": "baca115a-d59c-44e2-bd04-ea24262f9826",
   "metadata": {},
   "outputs": [
    {
     "data": {
      "text/html": [
       "<div>\n",
       "<style scoped>\n",
       "    .dataframe tbody tr th:only-of-type {\n",
       "        vertical-align: middle;\n",
       "    }\n",
       "\n",
       "    .dataframe tbody tr th {\n",
       "        vertical-align: top;\n",
       "    }\n",
       "\n",
       "    .dataframe thead th {\n",
       "        text-align: right;\n",
       "    }\n",
       "</style>\n",
       "<table border=\"1\" class=\"dataframe\">\n",
       "  <thead>\n",
       "    <tr style=\"text-align: right;\">\n",
       "      <th></th>\n",
       "      <th>DATE</th>\n",
       "      <th>GDP</th>\n",
       "    </tr>\n",
       "  </thead>\n",
       "  <tbody>\n",
       "    <tr>\n",
       "      <th>300</th>\n",
       "      <td>2022-01-01</td>\n",
       "      <td>24740.480</td>\n",
       "    </tr>\n",
       "    <tr>\n",
       "      <th>301</th>\n",
       "      <td>2022-04-01</td>\n",
       "      <td>25248.476</td>\n",
       "    </tr>\n",
       "    <tr>\n",
       "      <th>302</th>\n",
       "      <td>2022-07-01</td>\n",
       "      <td>25723.941</td>\n",
       "    </tr>\n",
       "    <tr>\n",
       "      <th>303</th>\n",
       "      <td>2022-10-01</td>\n",
       "      <td>26137.992</td>\n",
       "    </tr>\n",
       "    <tr>\n",
       "      <th>304</th>\n",
       "      <td>2023-01-01</td>\n",
       "      <td>26486.287</td>\n",
       "    </tr>\n",
       "  </tbody>\n",
       "</table>\n",
       "</div>"
      ],
      "text/plain": [
       "           DATE        GDP\n",
       "300  2022-01-01  24740.480\n",
       "301  2022-04-01  25248.476\n",
       "302  2022-07-01  25723.941\n",
       "303  2022-10-01  26137.992\n",
       "304  2023-01-01  26486.287"
      ]
     },
     "execution_count": 33,
     "metadata": {},
     "output_type": "execute_result"
    }
   ],
   "source": [
    "GDP.tail()"
   ]
  },
  {
   "cell_type": "code",
   "execution_count": 28,
   "id": "81f05fa5-f864-4d55-a167-12ce34341e48",
   "metadata": {},
   "outputs": [
    {
     "data": {
      "text/html": [
       "<div>\n",
       "<style scoped>\n",
       "    .dataframe tbody tr th:only-of-type {\n",
       "        vertical-align: middle;\n",
       "    }\n",
       "\n",
       "    .dataframe tbody tr th {\n",
       "        vertical-align: top;\n",
       "    }\n",
       "\n",
       "    .dataframe thead th {\n",
       "        text-align: right;\n",
       "    }\n",
       "</style>\n",
       "<table border=\"1\" class=\"dataframe\">\n",
       "  <thead>\n",
       "    <tr style=\"text-align: right;\">\n",
       "      <th></th>\n",
       "      <th>DATE</th>\n",
       "      <th>DFF</th>\n",
       "    </tr>\n",
       "  </thead>\n",
       "  <tbody>\n",
       "    <tr>\n",
       "      <th>0</th>\n",
       "      <td>2018-06-15</td>\n",
       "      <td>1.90</td>\n",
       "    </tr>\n",
       "    <tr>\n",
       "      <th>1</th>\n",
       "      <td>2018-06-16</td>\n",
       "      <td>1.90</td>\n",
       "    </tr>\n",
       "    <tr>\n",
       "      <th>2</th>\n",
       "      <td>2018-06-17</td>\n",
       "      <td>1.90</td>\n",
       "    </tr>\n",
       "    <tr>\n",
       "      <th>3</th>\n",
       "      <td>2018-06-18</td>\n",
       "      <td>1.90</td>\n",
       "    </tr>\n",
       "    <tr>\n",
       "      <th>4</th>\n",
       "      <td>2018-06-19</td>\n",
       "      <td>1.91</td>\n",
       "    </tr>\n",
       "  </tbody>\n",
       "</table>\n",
       "</div>"
      ],
      "text/plain": [
       "         DATE   DFF\n",
       "0  2018-06-15  1.90\n",
       "1  2018-06-16  1.90\n",
       "2  2018-06-17  1.90\n",
       "3  2018-06-18  1.90\n",
       "4  2018-06-19  1.91"
      ]
     },
     "execution_count": 28,
     "metadata": {},
     "output_type": "execute_result"
    }
   ],
   "source": [
    "fedRate.head()"
   ]
  },
  {
   "cell_type": "code",
   "execution_count": 34,
   "id": "47f1c687-e23a-43f6-8002-008c5a2639ec",
   "metadata": {},
   "outputs": [
    {
     "data": {
      "text/html": [
       "<div>\n",
       "<style scoped>\n",
       "    .dataframe tbody tr th:only-of-type {\n",
       "        vertical-align: middle;\n",
       "    }\n",
       "\n",
       "    .dataframe tbody tr th {\n",
       "        vertical-align: top;\n",
       "    }\n",
       "\n",
       "    .dataframe thead th {\n",
       "        text-align: right;\n",
       "    }\n",
       "</style>\n",
       "<table border=\"1\" class=\"dataframe\">\n",
       "  <thead>\n",
       "    <tr style=\"text-align: right;\">\n",
       "      <th></th>\n",
       "      <th>DATE</th>\n",
       "      <th>DFF</th>\n",
       "    </tr>\n",
       "  </thead>\n",
       "  <tbody>\n",
       "    <tr>\n",
       "      <th>1822</th>\n",
       "      <td>2023-06-11</td>\n",
       "      <td>5.08</td>\n",
       "    </tr>\n",
       "    <tr>\n",
       "      <th>1823</th>\n",
       "      <td>2023-06-12</td>\n",
       "      <td>5.08</td>\n",
       "    </tr>\n",
       "    <tr>\n",
       "      <th>1824</th>\n",
       "      <td>2023-06-13</td>\n",
       "      <td>5.08</td>\n",
       "    </tr>\n",
       "    <tr>\n",
       "      <th>1825</th>\n",
       "      <td>2023-06-14</td>\n",
       "      <td>5.08</td>\n",
       "    </tr>\n",
       "    <tr>\n",
       "      <th>1826</th>\n",
       "      <td>2023-06-15</td>\n",
       "      <td>5.07</td>\n",
       "    </tr>\n",
       "  </tbody>\n",
       "</table>\n",
       "</div>"
      ],
      "text/plain": [
       "            DATE   DFF\n",
       "1822  2023-06-11  5.08\n",
       "1823  2023-06-12  5.08\n",
       "1824  2023-06-13  5.08\n",
       "1825  2023-06-14  5.08\n",
       "1826  2023-06-15  5.07"
      ]
     },
     "execution_count": 34,
     "metadata": {},
     "output_type": "execute_result"
    }
   ],
   "source": [
    "fedRate.tail()"
   ]
  },
  {
   "cell_type": "markdown",
   "id": "24e84e78-50da-4d42-a700-098504c82898",
   "metadata": {},
   "source": [
    "<hr style=\"height:5px;border-width:0;color:MediumAquamarine;background-color:MediumAquamarine\">\n",
    "\n",
    "# Page 5 - Exploring the Data<a class=\"anchor\" id=\"FRED_page_5\"></a>\n",
    "\n",
    "[Back to Top](#FRED_toc)\n",
    "\n",
    "<hr style=\"height:5px;border-width:0;color:MediumAquamarine;background-color:MediumAquamarine\">"
   ]
  },
  {
   "cell_type": "code",
   "execution_count": 20,
   "id": "c67b6223-0df2-4f85-bbe0-095f764c309a",
   "metadata": {},
   "outputs": [
    {
     "name": "stdout",
     "output_type": "stream",
     "text": [
      "<class 'pandas.core.frame.DataFrame'>\n",
      "RangeIndex: 665 entries, 0 to 664\n",
      "Data columns (total 2 columns):\n",
      " #   Column                Non-Null Count  Dtype  \n",
      "---  ------                --------------  -----  \n",
      " 0   DATE                  665 non-null    object \n",
      " 1   CORESTICKM159SFRBATL  665 non-null    float64\n",
      "dtypes: float64(1), object(1)\n",
      "memory usage: 10.5+ KB\n"
     ]
    }
   ],
   "source": [
    "inflation.info()"
   ]
  },
  {
   "cell_type": "code",
   "execution_count": 21,
   "id": "777c0a20-6b50-425b-993d-9a4208e9c556",
   "metadata": {},
   "outputs": [
    {
     "name": "stdout",
     "output_type": "stream",
     "text": [
      "<class 'pandas.core.frame.DataFrame'>\n",
      "RangeIndex: 904 entries, 0 to 903\n",
      "Data columns (total 2 columns):\n",
      " #   Column  Non-Null Count  Dtype  \n",
      "---  ------  --------------  -----  \n",
      " 0   DATE    904 non-null    object \n",
      " 1   UNRATE  904 non-null    float64\n",
      "dtypes: float64(1), object(1)\n",
      "memory usage: 14.2+ KB\n"
     ]
    }
   ],
   "source": [
    "unRate.info()"
   ]
  },
  {
   "cell_type": "code",
   "execution_count": 24,
   "id": "77b47c99-61ff-4d28-83fb-9e4c59e1d342",
   "metadata": {},
   "outputs": [
    {
     "name": "stdout",
     "output_type": "stream",
     "text": [
      "<class 'pandas.core.frame.DataFrame'>\n",
      "RangeIndex: 305 entries, 0 to 304\n",
      "Data columns (total 2 columns):\n",
      " #   Column  Non-Null Count  Dtype  \n",
      "---  ------  --------------  -----  \n",
      " 0   DATE    305 non-null    object \n",
      " 1   GDP     305 non-null    float64\n",
      "dtypes: float64(1), object(1)\n",
      "memory usage: 4.9+ KB\n"
     ]
    }
   ],
   "source": [
    "GDP.info()"
   ]
  },
  {
   "cell_type": "code",
   "execution_count": 25,
   "id": "4c030ca3-8516-4272-8a31-879ee81d9292",
   "metadata": {},
   "outputs": [
    {
     "name": "stdout",
     "output_type": "stream",
     "text": [
      "<class 'pandas.core.frame.DataFrame'>\n",
      "RangeIndex: 1827 entries, 0 to 1826\n",
      "Data columns (total 2 columns):\n",
      " #   Column  Non-Null Count  Dtype  \n",
      "---  ------  --------------  -----  \n",
      " 0   DATE    1827 non-null   object \n",
      " 1   DFF     1827 non-null   float64\n",
      "dtypes: float64(1), object(1)\n",
      "memory usage: 28.7+ KB\n"
     ]
    }
   ],
   "source": [
    "fedRate.info()"
   ]
  },
  {
   "cell_type": "markdown",
   "id": "61dd42e6-8fb9-4322-85b4-474a55e8e22e",
   "metadata": {},
   "source": [
    "<hr style=\"height:5px;border-width:0;color:MediumAquamarine;background-color:MediumAquamarine\">\n",
    "\n",
    "# Page 6 - Renaming Column Names<a class=\"anchor\" id=\"FRED_page_6\"></a>\n",
    "\n",
    "[Back to Top](#FRED_toc)\n",
    "\n",
    "<hr style=\"height:5px;border-width:0;color:MediumAquamarine;background-color:MediumAquamarine\">"
   ]
  },
  {
   "cell_type": "code",
   "execution_count": 14,
   "id": "cd4bff6b-3399-4807-9ed0-1bfdfb1c4068",
   "metadata": {},
   "outputs": [],
   "source": [
    "inflation.rename(columns={'CORESTICKM159SFRBATL': 'inflation_rate'}, inplace=True)"
   ]
  },
  {
   "cell_type": "code",
   "execution_count": 15,
   "id": "84871d6a-14db-4d76-8f07-7ae5e4e4a106",
   "metadata": {},
   "outputs": [],
   "source": [
    "unRate.rename(columns={'UNRATE': 'unemploy_rate'}, inplace=True)"
   ]
  },
  {
   "cell_type": "code",
   "execution_count": 16,
   "id": "abffeb6b-346e-4c03-98a3-3a4ab0e37b42",
   "metadata": {},
   "outputs": [],
   "source": [
    "fedRate.rename(columns={'DFF': 'fed_rate'}, inplace=True)"
   ]
  },
  {
   "cell_type": "code",
   "execution_count": 17,
   "id": "43b42e81-9d7e-4fc4-99c3-d06b82b976c4",
   "metadata": {},
   "outputs": [],
   "source": [
    "GDP.rename(columns={'GDP': 'gdp_rate'}, inplace=True)"
   ]
  },
  {
   "cell_type": "markdown",
   "id": "1ba57693-33cb-43f8-b871-56f9e2584c7e",
   "metadata": {},
   "source": [
    "## Just as I suspected, the date is in string format and will not filter well. This needs to be converted"
   ]
  },
  {
   "cell_type": "code",
   "execution_count": 18,
   "id": "53fe69ee-c21a-40c4-b4ca-c522f06139f5",
   "metadata": {},
   "outputs": [],
   "source": [
    "# This code will take the column of the data and apply the pandas function to_datetime to convert \n",
    "# the date from string format to numeric date format\n",
    "\n",
    "inflation['date'] = pd.to_datetime(inflation['DATE'])\n",
    "unRate['date'] = pd.to_datetime(unRate['DATE'])\n",
    "fedRate['date'] = pd.to_datetime(fedRate['DATE'])\n",
    "GDP['date'] = pd.to_datetime(GDP['DATE'])"
   ]
  },
  {
   "cell_type": "markdown",
   "id": "79a7dd52-1399-495f-bc86-2491573e8116",
   "metadata": {},
   "source": [
    "### Lets take a look at the Dtype changes now"
   ]
  },
  {
   "cell_type": "code",
   "execution_count": 19,
   "id": "30001987-ffa5-49d3-a462-9170bf8cb1a0",
   "metadata": {},
   "outputs": [
    {
     "name": "stdout",
     "output_type": "stream",
     "text": [
      "<class 'pandas.core.frame.DataFrame'>\n",
      "RangeIndex: 665 entries, 0 to 664\n",
      "Data columns (total 3 columns):\n",
      " #   Column          Non-Null Count  Dtype         \n",
      "---  ------          --------------  -----         \n",
      " 0   DATE            665 non-null    object        \n",
      " 1   inflation_rate  665 non-null    float64       \n",
      " 2   date            665 non-null    datetime64[ns]\n",
      "dtypes: datetime64[ns](1), float64(1), object(1)\n",
      "memory usage: 15.7+ KB\n"
     ]
    }
   ],
   "source": [
    "inflation.info()"
   ]
  },
  {
   "cell_type": "code",
   "execution_count": 20,
   "id": "666298cc-084b-4e76-a33d-b675c3c7476b",
   "metadata": {},
   "outputs": [
    {
     "name": "stdout",
     "output_type": "stream",
     "text": [
      "<class 'pandas.core.frame.DataFrame'>\n",
      "RangeIndex: 905 entries, 0 to 904\n",
      "Data columns (total 3 columns):\n",
      " #   Column         Non-Null Count  Dtype         \n",
      "---  ------         --------------  -----         \n",
      " 0   DATE           905 non-null    object        \n",
      " 1   unemploy_rate  905 non-null    float64       \n",
      " 2   date           905 non-null    datetime64[ns]\n",
      "dtypes: datetime64[ns](1), float64(1), object(1)\n",
      "memory usage: 21.3+ KB\n"
     ]
    }
   ],
   "source": [
    "unRate.info()"
   ]
  },
  {
   "cell_type": "code",
   "execution_count": 21,
   "id": "da095ac2-ac40-48f2-b955-2334011c5c62",
   "metadata": {},
   "outputs": [
    {
     "name": "stdout",
     "output_type": "stream",
     "text": [
      "<class 'pandas.core.frame.DataFrame'>\n",
      "RangeIndex: 25174 entries, 0 to 25173\n",
      "Data columns (total 3 columns):\n",
      " #   Column    Non-Null Count  Dtype         \n",
      "---  ------    --------------  -----         \n",
      " 0   DATE      25174 non-null  object        \n",
      " 1   fed_rate  25174 non-null  float64       \n",
      " 2   date      25174 non-null  datetime64[ns]\n",
      "dtypes: datetime64[ns](1), float64(1), object(1)\n",
      "memory usage: 590.1+ KB\n"
     ]
    }
   ],
   "source": [
    "fedRate.info()"
   ]
  },
  {
   "cell_type": "code",
   "execution_count": 22,
   "id": "dbd001c9-d84e-49cb-98c5-5fa6ebe2f587",
   "metadata": {},
   "outputs": [
    {
     "name": "stdout",
     "output_type": "stream",
     "text": [
      "<class 'pandas.core.frame.DataFrame'>\n",
      "RangeIndex: 305 entries, 0 to 304\n",
      "Data columns (total 3 columns):\n",
      " #   Column    Non-Null Count  Dtype         \n",
      "---  ------    --------------  -----         \n",
      " 0   DATE      305 non-null    object        \n",
      " 1   gdp_rate  305 non-null    float64       \n",
      " 2   date      305 non-null    datetime64[ns]\n",
      "dtypes: datetime64[ns](1), float64(1), object(1)\n",
      "memory usage: 7.3+ KB\n"
     ]
    }
   ],
   "source": [
    "GDP.info()"
   ]
  },
  {
   "cell_type": "markdown",
   "id": "b0cc2bf6-ff1c-416b-90ac-d5db0fe2518c",
   "metadata": {},
   "source": [
    "####   Notice the Dtype has changed from object to datetime64\n",
    "> Also, we can see there are varying numbers of non-null in each dataset. The data are collected at varying intervals some daily, some monthly, and some every few months. I will trim the data then group by year to make the data uniform for visulaization.  \n",
    "\n",
    "### Now lets take a look at dropping all the data prior to 1967"
   ]
  },
  {
   "cell_type": "code",
   "execution_count": 23,
   "id": "98336359-e8c3-42de-bcc1-9ae0350b7861",
   "metadata": {},
   "outputs": [],
   "source": [
    "# Here we will use basic operators to trim the data\n",
    "\n",
    "threshold_year = 1968"
   ]
  },
  {
   "cell_type": "code",
   "execution_count": 26,
   "id": "bdc97f46-2dca-4852-a117-b1f915215e21",
   "metadata": {},
   "outputs": [],
   "source": [
    "# Here I am adding C to the end of each dataset name to indicate it is the clean data\n",
    "\n",
    "inflationC = inflation[inflation['date'].dt.year >= threshold_year]\n",
    "unRateC = unRate[unRate['date'].dt.year >= threshold_year]\n",
    "fedRateC = fedRate[fedRate['date'].dt.year >= threshold_year]\n",
    "GDPC = GDP[GDP['date'].dt.year >= threshold_year]"
   ]
  },
  {
   "cell_type": "markdown",
   "id": "7588b9bb-3a48-485e-9ff7-8a1d810cdfee",
   "metadata": {},
   "source": [
    "## Lets Check our Work"
   ]
  },
  {
   "cell_type": "code",
   "execution_count": 27,
   "id": "2549edf0-60a0-4f30-9ee6-827964466d60",
   "metadata": {},
   "outputs": [
    {
     "data": {
      "text/html": [
       "<div>\n",
       "<style scoped>\n",
       "    .dataframe tbody tr th:only-of-type {\n",
       "        vertical-align: middle;\n",
       "    }\n",
       "\n",
       "    .dataframe tbody tr th {\n",
       "        vertical-align: top;\n",
       "    }\n",
       "\n",
       "    .dataframe thead th {\n",
       "        text-align: right;\n",
       "    }\n",
       "</style>\n",
       "<table border=\"1\" class=\"dataframe\">\n",
       "  <thead>\n",
       "    <tr style=\"text-align: right;\">\n",
       "      <th></th>\n",
       "      <th>DATE</th>\n",
       "      <th>inflation_rate</th>\n",
       "      <th>date</th>\n",
       "    </tr>\n",
       "  </thead>\n",
       "  <tbody>\n",
       "    <tr>\n",
       "      <th>1</th>\n",
       "      <td>1968-01-01</td>\n",
       "      <td>3.659987</td>\n",
       "      <td>1968-01-01</td>\n",
       "    </tr>\n",
       "    <tr>\n",
       "      <th>2</th>\n",
       "      <td>1968-02-01</td>\n",
       "      <td>3.682012</td>\n",
       "      <td>1968-02-01</td>\n",
       "    </tr>\n",
       "    <tr>\n",
       "      <th>3</th>\n",
       "      <td>1968-03-01</td>\n",
       "      <td>4.151668</td>\n",
       "      <td>1968-03-01</td>\n",
       "    </tr>\n",
       "    <tr>\n",
       "      <th>4</th>\n",
       "      <td>1968-04-01</td>\n",
       "      <td>4.165427</td>\n",
       "      <td>1968-04-01</td>\n",
       "    </tr>\n",
       "    <tr>\n",
       "      <th>5</th>\n",
       "      <td>1968-05-01</td>\n",
       "      <td>4.097704</td>\n",
       "      <td>1968-05-01</td>\n",
       "    </tr>\n",
       "  </tbody>\n",
       "</table>\n",
       "</div>"
      ],
      "text/plain": [
       "         DATE  inflation_rate       date\n",
       "1  1968-01-01        3.659987 1968-01-01\n",
       "2  1968-02-01        3.682012 1968-02-01\n",
       "3  1968-03-01        4.151668 1968-03-01\n",
       "4  1968-04-01        4.165427 1968-04-01\n",
       "5  1968-05-01        4.097704 1968-05-01"
      ]
     },
     "execution_count": 27,
     "metadata": {},
     "output_type": "execute_result"
    }
   ],
   "source": [
    "inflationC.head()"
   ]
  },
  {
   "cell_type": "code",
   "execution_count": 28,
   "id": "ff424432-2793-4eb8-8ef3-947e0c5f3209",
   "metadata": {},
   "outputs": [
    {
     "data": {
      "text/html": [
       "<div>\n",
       "<style scoped>\n",
       "    .dataframe tbody tr th:only-of-type {\n",
       "        vertical-align: middle;\n",
       "    }\n",
       "\n",
       "    .dataframe tbody tr th {\n",
       "        vertical-align: top;\n",
       "    }\n",
       "\n",
       "    .dataframe thead th {\n",
       "        text-align: right;\n",
       "    }\n",
       "</style>\n",
       "<table border=\"1\" class=\"dataframe\">\n",
       "  <thead>\n",
       "    <tr style=\"text-align: right;\">\n",
       "      <th></th>\n",
       "      <th>DATE</th>\n",
       "      <th>unemploy_rate</th>\n",
       "      <th>date</th>\n",
       "    </tr>\n",
       "  </thead>\n",
       "  <tbody>\n",
       "    <tr>\n",
       "      <th>240</th>\n",
       "      <td>1968-01-01</td>\n",
       "      <td>3.7</td>\n",
       "      <td>1968-01-01</td>\n",
       "    </tr>\n",
       "    <tr>\n",
       "      <th>241</th>\n",
       "      <td>1968-02-01</td>\n",
       "      <td>3.8</td>\n",
       "      <td>1968-02-01</td>\n",
       "    </tr>\n",
       "    <tr>\n",
       "      <th>242</th>\n",
       "      <td>1968-03-01</td>\n",
       "      <td>3.7</td>\n",
       "      <td>1968-03-01</td>\n",
       "    </tr>\n",
       "    <tr>\n",
       "      <th>243</th>\n",
       "      <td>1968-04-01</td>\n",
       "      <td>3.5</td>\n",
       "      <td>1968-04-01</td>\n",
       "    </tr>\n",
       "    <tr>\n",
       "      <th>244</th>\n",
       "      <td>1968-05-01</td>\n",
       "      <td>3.5</td>\n",
       "      <td>1968-05-01</td>\n",
       "    </tr>\n",
       "  </tbody>\n",
       "</table>\n",
       "</div>"
      ],
      "text/plain": [
       "           DATE  unemploy_rate       date\n",
       "240  1968-01-01            3.7 1968-01-01\n",
       "241  1968-02-01            3.8 1968-02-01\n",
       "242  1968-03-01            3.7 1968-03-01\n",
       "243  1968-04-01            3.5 1968-04-01\n",
       "244  1968-05-01            3.5 1968-05-01"
      ]
     },
     "execution_count": 28,
     "metadata": {},
     "output_type": "execute_result"
    }
   ],
   "source": [
    "unRateC.head()"
   ]
  },
  {
   "cell_type": "code",
   "execution_count": 29,
   "id": "2c203eeb-7956-4f34-a11e-12cd67804d90",
   "metadata": {},
   "outputs": [
    {
     "data": {
      "text/html": [
       "<div>\n",
       "<style scoped>\n",
       "    .dataframe tbody tr th:only-of-type {\n",
       "        vertical-align: middle;\n",
       "    }\n",
       "\n",
       "    .dataframe tbody tr th {\n",
       "        vertical-align: top;\n",
       "    }\n",
       "\n",
       "    .dataframe thead th {\n",
       "        text-align: right;\n",
       "    }\n",
       "</style>\n",
       "<table border=\"1\" class=\"dataframe\">\n",
       "  <thead>\n",
       "    <tr style=\"text-align: right;\">\n",
       "      <th></th>\n",
       "      <th>DATE</th>\n",
       "      <th>fed_rate</th>\n",
       "      <th>date</th>\n",
       "    </tr>\n",
       "  </thead>\n",
       "  <tbody>\n",
       "    <tr>\n",
       "      <th>4932</th>\n",
       "      <td>1968-01-01</td>\n",
       "      <td>4.50</td>\n",
       "      <td>1968-01-01</td>\n",
       "    </tr>\n",
       "    <tr>\n",
       "      <th>4933</th>\n",
       "      <td>1968-01-02</td>\n",
       "      <td>4.63</td>\n",
       "      <td>1968-01-02</td>\n",
       "    </tr>\n",
       "    <tr>\n",
       "      <th>4934</th>\n",
       "      <td>1968-01-03</td>\n",
       "      <td>4.25</td>\n",
       "      <td>1968-01-03</td>\n",
       "    </tr>\n",
       "    <tr>\n",
       "      <th>4935</th>\n",
       "      <td>1968-01-04</td>\n",
       "      <td>4.63</td>\n",
       "      <td>1968-01-04</td>\n",
       "    </tr>\n",
       "    <tr>\n",
       "      <th>4936</th>\n",
       "      <td>1968-01-05</td>\n",
       "      <td>4.75</td>\n",
       "      <td>1968-01-05</td>\n",
       "    </tr>\n",
       "  </tbody>\n",
       "</table>\n",
       "</div>"
      ],
      "text/plain": [
       "            DATE  fed_rate       date\n",
       "4932  1968-01-01      4.50 1968-01-01\n",
       "4933  1968-01-02      4.63 1968-01-02\n",
       "4934  1968-01-03      4.25 1968-01-03\n",
       "4935  1968-01-04      4.63 1968-01-04\n",
       "4936  1968-01-05      4.75 1968-01-05"
      ]
     },
     "execution_count": 29,
     "metadata": {},
     "output_type": "execute_result"
    }
   ],
   "source": [
    "fedRateC.head()"
   ]
  },
  {
   "cell_type": "code",
   "execution_count": 31,
   "id": "7c1d781f-fba9-42dc-8706-88871559eb70",
   "metadata": {},
   "outputs": [
    {
     "data": {
      "text/html": [
       "<div>\n",
       "<style scoped>\n",
       "    .dataframe tbody tr th:only-of-type {\n",
       "        vertical-align: middle;\n",
       "    }\n",
       "\n",
       "    .dataframe tbody tr th {\n",
       "        vertical-align: top;\n",
       "    }\n",
       "\n",
       "    .dataframe thead th {\n",
       "        text-align: right;\n",
       "    }\n",
       "</style>\n",
       "<table border=\"1\" class=\"dataframe\">\n",
       "  <thead>\n",
       "    <tr style=\"text-align: right;\">\n",
       "      <th></th>\n",
       "      <th>DATE</th>\n",
       "      <th>gdp_rate</th>\n",
       "      <th>date</th>\n",
       "    </tr>\n",
       "  </thead>\n",
       "  <tbody>\n",
       "    <tr>\n",
       "      <th>84</th>\n",
       "      <td>1968-01-01</td>\n",
       "      <td>909.387</td>\n",
       "      <td>1968-01-01</td>\n",
       "    </tr>\n",
       "    <tr>\n",
       "      <th>85</th>\n",
       "      <td>1968-04-01</td>\n",
       "      <td>934.344</td>\n",
       "      <td>1968-04-01</td>\n",
       "    </tr>\n",
       "    <tr>\n",
       "      <th>86</th>\n",
       "      <td>1968-07-01</td>\n",
       "      <td>950.825</td>\n",
       "      <td>1968-07-01</td>\n",
       "    </tr>\n",
       "    <tr>\n",
       "      <th>87</th>\n",
       "      <td>1968-10-01</td>\n",
       "      <td>968.030</td>\n",
       "      <td>1968-10-01</td>\n",
       "    </tr>\n",
       "    <tr>\n",
       "      <th>88</th>\n",
       "      <td>1969-01-01</td>\n",
       "      <td>993.337</td>\n",
       "      <td>1969-01-01</td>\n",
       "    </tr>\n",
       "  </tbody>\n",
       "</table>\n",
       "</div>"
      ],
      "text/plain": [
       "          DATE  gdp_rate       date\n",
       "84  1968-01-01   909.387 1968-01-01\n",
       "85  1968-04-01   934.344 1968-04-01\n",
       "86  1968-07-01   950.825 1968-07-01\n",
       "87  1968-10-01   968.030 1968-10-01\n",
       "88  1969-01-01   993.337 1969-01-01"
      ]
     },
     "execution_count": 31,
     "metadata": {},
     "output_type": "execute_result"
    }
   ],
   "source": [
    "GDPC.head()"
   ]
  },
  {
   "cell_type": "markdown",
   "id": "50524ad4-e87d-4a33-a6cd-0a6bc0ba7049",
   "metadata": {},
   "source": [
    "# All of the datasets now begin on the same day. "
   ]
  },
  {
   "cell_type": "markdown",
   "id": "eeaedcfc-81c1-48b9-a9ed-e332f8f805f7",
   "metadata": {
    "jp-MarkdownHeadingCollapsed": true,
    "tags": []
   },
   "source": [
    "<hr style=\"height:5px;border-width:0;color:MediumAquamarine;background-color:MediumAquamarine\">\n",
    "\n",
    "# Page 7 - Visualizing the Individual Datasets<a class=\"anchor\" id=\"FRED_page_7\"></a>\n",
    "\n",
    "[Back to Top](#FRED_toc)\n",
    "\n",
    "<hr style=\"height:5px;border-width:0;color:MediumAquamarine;background-color:MediumAquamarine\">"
   ]
  },
  {
   "cell_type": "code",
   "execution_count": 32,
   "id": "9b59160b-fc43-40e3-a339-c91ee61de7d6",
   "metadata": {},
   "outputs": [
    {
     "data": {
      "image/png": "[encoded data removed]",
      "text/plain": [
       "<Figure size 640x480 with 1 Axes>"
      ]
     },
     "metadata": {},
     "output_type": "display_data"
    }
   ],
   "source": [
    "# Inflation\n",
    "\n",
    "inflationC.set_index('date', inplace=True)\n",
    "\n",
    "# Plotting the variables over time\n",
    "inflationC['inflation_rate'].plot()\n",
    "plt.xlabel('Date')\n",
    "plt.ylabel('Rate')\n",
    "plt.title('Inflation')\n",
    "plt.legend()\n",
    "plt.show()"
   ]
  },
  {
   "cell_type": "code",
   "execution_count": 33,
   "id": "3939fca7-4c8c-403b-a9a7-4bd68c002c2e",
   "metadata": {},
   "outputs": [
    {
     "data": {
      "image/png": "[encoded data removed]",
      "text/plain": [
       "<Figure size 640x480 with 1 Axes>"
      ]
     },
     "metadata": {},
     "output_type": "display_data"
    }
   ],
   "source": [
    "# Unemployment\n",
    "unRateC.set_index('date', inplace=True)\n",
    "\n",
    "# Plotting the variables over time\n",
    "unRateC['unemploy_rate'].plot()\n",
    "plt.xlabel('Date')\n",
    "plt.ylabel('Rate')\n",
    "plt.title('Unemployment')\n",
    "plt.legend()\n",
    "plt.show()"
   ]
  },
  {
   "cell_type": "code",
   "execution_count": 74,
   "id": "7f596f70-0c3f-4e37-afaf-bde9eceb4ef7",
   "metadata": {},
   "outputs": [
    {
     "data": {
      "image/png": "[encoded data removed]",
      "text/plain": [
       "<Figure size 640x480 with 1 Axes>"
      ]
     },
     "metadata": {},
     "output_type": "display_data"
    }
   ],
   "source": [
    "# Federal Funds Rate\n",
    "\n",
    "# Set the 'Date' column as the index\n",
    "fedRateC.set_index('date', inplace=True)\n",
    "\n",
    "\n",
    "# Plotting the variables over time\n",
    "fedRateC['fed_rate'].plot()\n",
    "plt.xlabel('Date')\n",
    "plt.ylabel('Rate')\n",
    "plt.title('Federal Funds Rate')\n",
    "plt.legend()\n",
    "plt.show()"
   ]
  },
  {
   "cell_type": "code",
   "execution_count": 37,
   "id": "3c99aa87-52b6-4d1f-8f70-8af820ef4422",
   "metadata": {},
   "outputs": [
    {
     "data": {
      "image/png": "[encoded data removed]",
      "text/plain": [
       "<Figure size 640x480 with 1 Axes>"
      ]
     },
     "metadata": {},
     "output_type": "display_data"
    }
   ],
   "source": [
    "# Federal Funds Rate\n",
    "\n",
    "# Set the 'Date' column as the index\n",
    "GDPC = GDP.reset_index()\n",
    "GDPC.set_index('date', inplace=True)\n",
    "\n",
    "\n",
    "# Plotting the variables over time\n",
    "GDPC['gdp_rate'].plot()\n",
    "plt.xlabel('Date')\n",
    "plt.ylabel('Rate')\n",
    "plt.title('GDP')\n",
    "plt.legend()\n",
    "plt.show()"
   ]
  },
  {
   "cell_type": "markdown",
   "id": "8469166b-3115-4321-84f6-716df3f396f8",
   "metadata": {},
   "source": [
    "## When we look at the data we see some data points are listed from every day, to every few months. In order to plot these together we will get the averge for each year. "
   ]
  },
  {
   "cell_type": "markdown",
   "id": "1086d220-7543-43bd-b054-c5c994fb9962",
   "metadata": {},
   "source": [
    "# Viewing the data by yearly average\n",
    "\n",
    "> In this code you will see .reset_index() During the data wrangling the column names are moved into row index 1 instead of 0. This essential means the column name cannot be called and the dataset behaves as thouogh it is missing a column name. The inplace=True argument changes the format in a way that .head()  and calling the column does not work so it must be run without the argument as needed. "
   ]
  },
  {
   "cell_type": "markdown",
   "id": "5cd74631-3888-4ace-8fd9-42c595f167b4",
   "metadata": {},
   "source": [
    "## Inflation"
   ]
  },
  {
   "cell_type": "code",
   "execution_count": 39,
   "id": "e331ce74-0a18-4910-a59d-079c2b8d879c",
   "metadata": {},
   "outputs": [],
   "source": [
    "# Create working dataframe to wrangle the data for merge\n",
    "inflationR =inflationC"
   ]
  },
  {
   "cell_type": "code",
   "execution_count": 40,
   "id": "192d149f-6ad3-4b75-87ea-a835d74b2742",
   "metadata": {},
   "outputs": [],
   "source": [
    "# resetting the index\n",
    "inflationR = inflationR.reset_index()"
   ]
  },
  {
   "cell_type": "code",
   "execution_count": 41,
   "id": "220f4930-e29b-4529-954e-3b8d7cfbe6ce",
   "metadata": {},
   "outputs": [],
   "source": [
    "# Splitting the date in 3 columns \n",
    "inflationR['Day'] = inflationR['date'].dt.day\n",
    "inflationR['Month'] = inflationR['date'].dt.month\n",
    "inflationR['Year'] = inflationR['date'].dt.year"
   ]
  },
  {
   "cell_type": "code",
   "execution_count": 42,
   "id": "f5b07aaa-bbc9-44b8-8670-74c7a5260fb5",
   "metadata": {
    "tags": []
   },
   "outputs": [
    {
     "data": {
      "text/html": [
       "<div>\n",
       "<style scoped>\n",
       "    .dataframe tbody tr th:only-of-type {\n",
       "        vertical-align: middle;\n",
       "    }\n",
       "\n",
       "    .dataframe tbody tr th {\n",
       "        vertical-align: top;\n",
       "    }\n",
       "\n",
       "    .dataframe thead th {\n",
       "        text-align: right;\n",
       "    }\n",
       "</style>\n",
       "<table border=\"1\" class=\"dataframe\">\n",
       "  <thead>\n",
       "    <tr style=\"text-align: right;\">\n",
       "      <th></th>\n",
       "      <th>date</th>\n",
       "      <th>DATE</th>\n",
       "      <th>inflation_rate</th>\n",
       "      <th>Day</th>\n",
       "      <th>Month</th>\n",
       "      <th>Year</th>\n",
       "    </tr>\n",
       "  </thead>\n",
       "  <tbody>\n",
       "    <tr>\n",
       "      <th>0</th>\n",
       "      <td>1968-01-01</td>\n",
       "      <td>1968-01-01</td>\n",
       "      <td>3.659987</td>\n",
       "      <td>1</td>\n",
       "      <td>1</td>\n",
       "      <td>1968</td>\n",
       "    </tr>\n",
       "    <tr>\n",
       "      <th>1</th>\n",
       "      <td>1968-02-01</td>\n",
       "      <td>1968-02-01</td>\n",
       "      <td>3.682012</td>\n",
       "      <td>1</td>\n",
       "      <td>2</td>\n",
       "      <td>1968</td>\n",
       "    </tr>\n",
       "    <tr>\n",
       "      <th>2</th>\n",
       "      <td>1968-03-01</td>\n",
       "      <td>1968-03-01</td>\n",
       "      <td>4.151668</td>\n",
       "      <td>1</td>\n",
       "      <td>3</td>\n",
       "      <td>1968</td>\n",
       "    </tr>\n",
       "    <tr>\n",
       "      <th>3</th>\n",
       "      <td>1968-04-01</td>\n",
       "      <td>1968-04-01</td>\n",
       "      <td>4.165427</td>\n",
       "      <td>1</td>\n",
       "      <td>4</td>\n",
       "      <td>1968</td>\n",
       "    </tr>\n",
       "    <tr>\n",
       "      <th>4</th>\n",
       "      <td>1968-05-01</td>\n",
       "      <td>1968-05-01</td>\n",
       "      <td>4.097704</td>\n",
       "      <td>1</td>\n",
       "      <td>5</td>\n",
       "      <td>1968</td>\n",
       "    </tr>\n",
       "  </tbody>\n",
       "</table>\n",
       "</div>"
      ],
      "text/plain": [
       "        date        DATE  inflation_rate  Day  Month  Year\n",
       "0 1968-01-01  1968-01-01        3.659987    1      1  1968\n",
       "1 1968-02-01  1968-02-01        3.682012    1      2  1968\n",
       "2 1968-03-01  1968-03-01        4.151668    1      3  1968\n",
       "3 1968-04-01  1968-04-01        4.165427    1      4  1968\n",
       "4 1968-05-01  1968-05-01        4.097704    1      5  1968"
      ]
     },
     "execution_count": 42,
     "metadata": {},
     "output_type": "execute_result"
    }
   ],
   "source": [
    "inflationR.head()"
   ]
  },
  {
   "cell_type": "code",
   "execution_count": 51,
   "id": "dc2abe35-4334-42f1-9598-8b17b44a5a14",
   "metadata": {},
   "outputs": [],
   "source": [
    "# Selecting only the required data\n",
    "inflationRT = inflationR[['Year','inflation_rate']]"
   ]
  },
  {
   "cell_type": "code",
   "execution_count": 109,
   "id": "70b899ca-72d8-4b14-8a55-95e85542d051",
   "metadata": {},
   "outputs": [
    {
     "data": {
      "text/html": [
       "<div>\n",
       "<style scoped>\n",
       "    .dataframe tbody tr th:only-of-type {\n",
       "        vertical-align: middle;\n",
       "    }\n",
       "\n",
       "    .dataframe tbody tr th {\n",
       "        vertical-align: top;\n",
       "    }\n",
       "\n",
       "    .dataframe thead th {\n",
       "        text-align: right;\n",
       "    }\n",
       "</style>\n",
       "<table border=\"1\" class=\"dataframe\">\n",
       "  <thead>\n",
       "    <tr style=\"text-align: right;\">\n",
       "      <th></th>\n",
       "      <th>Year</th>\n",
       "      <th>inflation_rate</th>\n",
       "    </tr>\n",
       "  </thead>\n",
       "  <tbody>\n",
       "    <tr>\n",
       "      <th>0</th>\n",
       "      <td>1968</td>\n",
       "      <td>3.659987</td>\n",
       "    </tr>\n",
       "    <tr>\n",
       "      <th>1</th>\n",
       "      <td>1968</td>\n",
       "      <td>3.682012</td>\n",
       "    </tr>\n",
       "    <tr>\n",
       "      <th>2</th>\n",
       "      <td>1968</td>\n",
       "      <td>4.151668</td>\n",
       "    </tr>\n",
       "    <tr>\n",
       "      <th>3</th>\n",
       "      <td>1968</td>\n",
       "      <td>4.165427</td>\n",
       "    </tr>\n",
       "    <tr>\n",
       "      <th>4</th>\n",
       "      <td>1968</td>\n",
       "      <td>4.097704</td>\n",
       "    </tr>\n",
       "  </tbody>\n",
       "</table>\n",
       "</div>"
      ],
      "text/plain": [
       "   Year  inflation_rate\n",
       "0  1968        3.659987\n",
       "1  1968        3.682012\n",
       "2  1968        4.151668\n",
       "3  1968        4.165427\n",
       "4  1968        4.097704"
      ]
     },
     "execution_count": 109,
     "metadata": {},
     "output_type": "execute_result"
    }
   ],
   "source": [
    "inflationRT.head()"
   ]
  },
  {
   "cell_type": "code",
   "execution_count": 63,
   "id": "e28785c3-15a7-4674-a530-e21950f1f2d0",
   "metadata": {},
   "outputs": [
    {
     "data": {
      "text/html": [
       "<div>\n",
       "<style scoped>\n",
       "    .dataframe tbody tr th:only-of-type {\n",
       "        vertical-align: middle;\n",
       "    }\n",
       "\n",
       "    .dataframe tbody tr th {\n",
       "        vertical-align: top;\n",
       "    }\n",
       "\n",
       "    .dataframe thead th {\n",
       "        text-align: right;\n",
       "    }\n",
       "</style>\n",
       "<table border=\"1\" class=\"dataframe\">\n",
       "  <thead>\n",
       "    <tr style=\"text-align: right;\">\n",
       "      <th></th>\n",
       "      <th>Year</th>\n",
       "      <th>inflation_rate</th>\n",
       "    </tr>\n",
       "  </thead>\n",
       "  <tbody>\n",
       "    <tr>\n",
       "      <th>0</th>\n",
       "      <td>1968</td>\n",
       "      <td>4.611747</td>\n",
       "    </tr>\n",
       "    <tr>\n",
       "      <th>1</th>\n",
       "      <td>1969</td>\n",
       "      <td>6.377657</td>\n",
       "    </tr>\n",
       "    <tr>\n",
       "      <th>2</th>\n",
       "      <td>1970</td>\n",
       "      <td>7.080052</td>\n",
       "    </tr>\n",
       "    <tr>\n",
       "      <th>3</th>\n",
       "      <td>1971</td>\n",
       "      <td>5.132945</td>\n",
       "    </tr>\n",
       "    <tr>\n",
       "      <th>4</th>\n",
       "      <td>1972</td>\n",
       "      <td>3.571220</td>\n",
       "    </tr>\n",
       "  </tbody>\n",
       "</table>\n",
       "</div>"
      ],
      "text/plain": [
       "   Year  inflation_rate\n",
       "0  1968        4.611747\n",
       "1  1969        6.377657\n",
       "2  1970        7.080052\n",
       "3  1971        5.132945\n",
       "4  1972        3.571220"
      ]
     },
     "execution_count": 63,
     "metadata": {},
     "output_type": "execute_result"
    }
   ],
   "source": [
    "# Here is the data we need to plot\n",
    "inflationRG = inflationRT.groupby('Year').mean().reset_index()\n",
    "inflationRG.head()"
   ]
  },
  {
   "cell_type": "code",
   "execution_count": 64,
   "id": "8dc1c819-f8f2-46e2-ab97-33246a8e7530",
   "metadata": {},
   "outputs": [
    {
     "data": {
      "image/png": "[encoded data removed]",
      "text/plain": [
       "<Figure size 640x480 with 1 Axes>"
      ]
     },
     "metadata": {},
     "output_type": "display_data"
    }
   ],
   "source": [
    "# Set the 'Year' column as the index\n",
    "\n",
    "inflationRG = inflationRG.reset_index()\n",
    "inflationRG.set_index('Year', inplace=True)\n",
    "\n",
    "# Plotting the Inflation Data as a line graph\n",
    "inflationRG['inflation_rate'].plot()\n",
    "plt.xlabel('Year')\n",
    "plt.ylabel('Rate')\n",
    "plt.title('Inflation Rate by Year')\n",
    "plt.show()"
   ]
  },
  {
   "cell_type": "markdown",
   "id": "3a0c98ad-c64d-4e9b-a2bf-58e74938d057",
   "metadata": {},
   "source": [
    "## Unemployment "
   ]
  },
  {
   "cell_type": "code",
   "execution_count": 65,
   "id": "b3a4250d-2489-4fea-8ed3-81a63e1ea658",
   "metadata": {},
   "outputs": [],
   "source": [
    "# Create working dataframe to wrangle the data for merge\n",
    "unRateR =unRateC"
   ]
  },
  {
   "cell_type": "code",
   "execution_count": 67,
   "id": "2bbe575a-b511-4efe-b087-6cb34b165cbb",
   "metadata": {},
   "outputs": [],
   "source": [
    "# resetting the index\n",
    "unRateR = unRateR.reset_index()"
   ]
  },
  {
   "cell_type": "code",
   "execution_count": 68,
   "id": "7a9ded4e-32c7-46af-ae09-65ceb0a54a10",
   "metadata": {},
   "outputs": [],
   "source": [
    "# Splitting the date in 3 columns \n",
    "unRateR['Day'] = unRateR['date'].dt.day\n",
    "unRateR['Month'] = unRateR['date'].dt.month\n",
    "unRateR['Year'] = unRateR['date'].dt.year"
   ]
  },
  {
   "cell_type": "code",
   "execution_count": 69,
   "id": "7ad0567a-5aca-4668-a9a3-2d8cd4f134b7",
   "metadata": {},
   "outputs": [
    {
     "data": {
      "text/html": [
       "<div>\n",
       "<style scoped>\n",
       "    .dataframe tbody tr th:only-of-type {\n",
       "        vertical-align: middle;\n",
       "    }\n",
       "\n",
       "    .dataframe tbody tr th {\n",
       "        vertical-align: top;\n",
       "    }\n",
       "\n",
       "    .dataframe thead th {\n",
       "        text-align: right;\n",
       "    }\n",
       "</style>\n",
       "<table border=\"1\" class=\"dataframe\">\n",
       "  <thead>\n",
       "    <tr style=\"text-align: right;\">\n",
       "      <th></th>\n",
       "      <th>date</th>\n",
       "      <th>DATE</th>\n",
       "      <th>unemploy_rate</th>\n",
       "      <th>Day</th>\n",
       "      <th>Month</th>\n",
       "      <th>Year</th>\n",
       "    </tr>\n",
       "  </thead>\n",
       "  <tbody>\n",
       "    <tr>\n",
       "      <th>0</th>\n",
       "      <td>1968-01-01</td>\n",
       "      <td>1968-01-01</td>\n",
       "      <td>3.7</td>\n",
       "      <td>1</td>\n",
       "      <td>1</td>\n",
       "      <td>1968</td>\n",
       "    </tr>\n",
       "    <tr>\n",
       "      <th>1</th>\n",
       "      <td>1968-02-01</td>\n",
       "      <td>1968-02-01</td>\n",
       "      <td>3.8</td>\n",
       "      <td>1</td>\n",
       "      <td>2</td>\n",
       "      <td>1968</td>\n",
       "    </tr>\n",
       "    <tr>\n",
       "      <th>2</th>\n",
       "      <td>1968-03-01</td>\n",
       "      <td>1968-03-01</td>\n",
       "      <td>3.7</td>\n",
       "      <td>1</td>\n",
       "      <td>3</td>\n",
       "      <td>1968</td>\n",
       "    </tr>\n",
       "    <tr>\n",
       "      <th>3</th>\n",
       "      <td>1968-04-01</td>\n",
       "      <td>1968-04-01</td>\n",
       "      <td>3.5</td>\n",
       "      <td>1</td>\n",
       "      <td>4</td>\n",
       "      <td>1968</td>\n",
       "    </tr>\n",
       "    <tr>\n",
       "      <th>4</th>\n",
       "      <td>1968-05-01</td>\n",
       "      <td>1968-05-01</td>\n",
       "      <td>3.5</td>\n",
       "      <td>1</td>\n",
       "      <td>5</td>\n",
       "      <td>1968</td>\n",
       "    </tr>\n",
       "  </tbody>\n",
       "</table>\n",
       "</div>"
      ],
      "text/plain": [
       "        date        DATE  unemploy_rate  Day  Month  Year\n",
       "0 1968-01-01  1968-01-01            3.7    1      1  1968\n",
       "1 1968-02-01  1968-02-01            3.8    1      2  1968\n",
       "2 1968-03-01  1968-03-01            3.7    1      3  1968\n",
       "3 1968-04-01  1968-04-01            3.5    1      4  1968\n",
       "4 1968-05-01  1968-05-01            3.5    1      5  1968"
      ]
     },
     "execution_count": 69,
     "metadata": {},
     "output_type": "execute_result"
    }
   ],
   "source": [
    "unRateR.head()"
   ]
  },
  {
   "cell_type": "code",
   "execution_count": 70,
   "id": "2c4de759-3d97-4544-87ec-68ce541f526f",
   "metadata": {},
   "outputs": [],
   "source": [
    "# Selecting only the required data\n",
    "unRateRT = unRateR[['Year','unemploy_rate']]"
   ]
  },
  {
   "cell_type": "code",
   "execution_count": 71,
   "id": "33056783-add3-40b2-9fac-02756cc2c409",
   "metadata": {},
   "outputs": [
    {
     "data": {
      "text/html": [
       "<div>\n",
       "<style scoped>\n",
       "    .dataframe tbody tr th:only-of-type {\n",
       "        vertical-align: middle;\n",
       "    }\n",
       "\n",
       "    .dataframe tbody tr th {\n",
       "        vertical-align: top;\n",
       "    }\n",
       "\n",
       "    .dataframe thead th {\n",
       "        text-align: right;\n",
       "    }\n",
       "</style>\n",
       "<table border=\"1\" class=\"dataframe\">\n",
       "  <thead>\n",
       "    <tr style=\"text-align: right;\">\n",
       "      <th></th>\n",
       "      <th>Year</th>\n",
       "      <th>unemploy_rate</th>\n",
       "    </tr>\n",
       "  </thead>\n",
       "  <tbody>\n",
       "    <tr>\n",
       "      <th>0</th>\n",
       "      <td>1968</td>\n",
       "      <td>3.558333</td>\n",
       "    </tr>\n",
       "    <tr>\n",
       "      <th>1</th>\n",
       "      <td>1969</td>\n",
       "      <td>3.491667</td>\n",
       "    </tr>\n",
       "    <tr>\n",
       "      <th>2</th>\n",
       "      <td>1970</td>\n",
       "      <td>4.983333</td>\n",
       "    </tr>\n",
       "    <tr>\n",
       "      <th>3</th>\n",
       "      <td>1971</td>\n",
       "      <td>5.950000</td>\n",
       "    </tr>\n",
       "    <tr>\n",
       "      <th>4</th>\n",
       "      <td>1972</td>\n",
       "      <td>5.600000</td>\n",
       "    </tr>\n",
       "  </tbody>\n",
       "</table>\n",
       "</div>"
      ],
      "text/plain": [
       "   Year  unemploy_rate\n",
       "0  1968       3.558333\n",
       "1  1969       3.491667\n",
       "2  1970       4.983333\n",
       "3  1971       5.950000\n",
       "4  1972       5.600000"
      ]
     },
     "execution_count": 71,
     "metadata": {},
     "output_type": "execute_result"
    }
   ],
   "source": [
    "# Here is the data we need to plot\n",
    "unRateRG = unRateRT.groupby('Year').mean().reset_index()\n",
    "unRateRG.head()"
   ]
  },
  {
   "cell_type": "code",
   "execution_count": 73,
   "id": "1543e809-65d9-487f-8cc0-12a5ae360d07",
   "metadata": {},
   "outputs": [
    {
     "data": {
      "image/png": "[encoded data removed]",
      "text/plain": [
       "<Figure size 640x480 with 1 Axes>"
      ]
     },
     "metadata": {},
     "output_type": "display_data"
    }
   ],
   "source": [
    "# Set the 'Year' column as the index\n",
    "\n",
    "unRateRG = unRateRG.reset_index()\n",
    "unRateRG.set_index('Year', inplace=True)\n",
    "\n",
    "# Plotting the Inflation Data as a line graph\n",
    "unRateRG['unemploy_rate'].plot()\n",
    "plt.xlabel('Year')\n",
    "plt.ylabel('Rate')\n",
    "plt.title('Unemployment Rate by Year')\n",
    "plt.show()"
   ]
  },
  {
   "cell_type": "markdown",
   "id": "fd456352-fa9a-43ad-b9d4-3f46b82f2a97",
   "metadata": {},
   "source": [
    "## Federal Funds Rate"
   ]
  },
  {
   "cell_type": "code",
   "execution_count": 77,
   "id": "7615ea02-8270-4696-a76d-bb6dccfe4591",
   "metadata": {},
   "outputs": [],
   "source": [
    "# Create working dataframe to wrangle the data for merge\n",
    "fedRateR =fedRateC"
   ]
  },
  {
   "cell_type": "code",
   "execution_count": 78,
   "id": "388a2329-104e-4f8a-bdec-ff8974a97f46",
   "metadata": {},
   "outputs": [],
   "source": [
    "# resetting the index\n",
    "fedRateR = fedRateR.reset_index()"
   ]
  },
  {
   "cell_type": "code",
   "execution_count": 79,
   "id": "24d0d77d-e8d7-495e-8721-732fd991d6c5",
   "metadata": {},
   "outputs": [],
   "source": [
    "# Splitting the date in 3 columns \n",
    "fedRateR['Day'] = fedRateR['date'].dt.day\n",
    "fedRateR['Month'] = fedRateR['date'].dt.month\n",
    "fedRateR['Year'] = fedRateR['date'].dt.year"
   ]
  },
  {
   "cell_type": "code",
   "execution_count": 80,
   "id": "62535a5a-ee11-44d1-a404-2bc2d44bdee1",
   "metadata": {},
   "outputs": [
    {
     "data": {
      "text/html": [
       "<div>\n",
       "<style scoped>\n",
       "    .dataframe tbody tr th:only-of-type {\n",
       "        vertical-align: middle;\n",
       "    }\n",
       "\n",
       "    .dataframe tbody tr th {\n",
       "        vertical-align: top;\n",
       "    }\n",
       "\n",
       "    .dataframe thead th {\n",
       "        text-align: right;\n",
       "    }\n",
       "</style>\n",
       "<table border=\"1\" class=\"dataframe\">\n",
       "  <thead>\n",
       "    <tr style=\"text-align: right;\">\n",
       "      <th></th>\n",
       "      <th>date</th>\n",
       "      <th>DATE</th>\n",
       "      <th>fed_rate</th>\n",
       "      <th>Day</th>\n",
       "      <th>Month</th>\n",
       "      <th>Year</th>\n",
       "    </tr>\n",
       "  </thead>\n",
       "  <tbody>\n",
       "    <tr>\n",
       "      <th>0</th>\n",
       "      <td>1968-01-01</td>\n",
       "      <td>1968-01-01</td>\n",
       "      <td>4.50</td>\n",
       "      <td>1</td>\n",
       "      <td>1</td>\n",
       "      <td>1968</td>\n",
       "    </tr>\n",
       "    <tr>\n",
       "      <th>1</th>\n",
       "      <td>1968-01-02</td>\n",
       "      <td>1968-01-02</td>\n",
       "      <td>4.63</td>\n",
       "      <td>2</td>\n",
       "      <td>1</td>\n",
       "      <td>1968</td>\n",
       "    </tr>\n",
       "    <tr>\n",
       "      <th>2</th>\n",
       "      <td>1968-01-03</td>\n",
       "      <td>1968-01-03</td>\n",
       "      <td>4.25</td>\n",
       "      <td>3</td>\n",
       "      <td>1</td>\n",
       "      <td>1968</td>\n",
       "    </tr>\n",
       "    <tr>\n",
       "      <th>3</th>\n",
       "      <td>1968-01-04</td>\n",
       "      <td>1968-01-04</td>\n",
       "      <td>4.63</td>\n",
       "      <td>4</td>\n",
       "      <td>1</td>\n",
       "      <td>1968</td>\n",
       "    </tr>\n",
       "    <tr>\n",
       "      <th>4</th>\n",
       "      <td>1968-01-05</td>\n",
       "      <td>1968-01-05</td>\n",
       "      <td>4.75</td>\n",
       "      <td>5</td>\n",
       "      <td>1</td>\n",
       "      <td>1968</td>\n",
       "    </tr>\n",
       "  </tbody>\n",
       "</table>\n",
       "</div>"
      ],
      "text/plain": [
       "        date        DATE  fed_rate  Day  Month  Year\n",
       "0 1968-01-01  1968-01-01      4.50    1      1  1968\n",
       "1 1968-01-02  1968-01-02      4.63    2      1  1968\n",
       "2 1968-01-03  1968-01-03      4.25    3      1  1968\n",
       "3 1968-01-04  1968-01-04      4.63    4      1  1968\n",
       "4 1968-01-05  1968-01-05      4.75    5      1  1968"
      ]
     },
     "execution_count": 80,
     "metadata": {},
     "output_type": "execute_result"
    }
   ],
   "source": [
    "fedRateR.head()"
   ]
  },
  {
   "cell_type": "code",
   "execution_count": 81,
   "id": "ab604d28-0259-46e9-b951-eaee36c23e68",
   "metadata": {},
   "outputs": [],
   "source": [
    "# Selecting only the required data\n",
    "fedRateRT = fedRateR[['Year','fed_rate']]"
   ]
  },
  {
   "cell_type": "code",
   "execution_count": 82,
   "id": "9181d924-a968-4c07-9b75-149053e22dbb",
   "metadata": {},
   "outputs": [
    {
     "data": {
      "text/html": [
       "<div>\n",
       "<style scoped>\n",
       "    .dataframe tbody tr th:only-of-type {\n",
       "        vertical-align: middle;\n",
       "    }\n",
       "\n",
       "    .dataframe tbody tr th {\n",
       "        vertical-align: top;\n",
       "    }\n",
       "\n",
       "    .dataframe thead th {\n",
       "        text-align: right;\n",
       "    }\n",
       "</style>\n",
       "<table border=\"1\" class=\"dataframe\">\n",
       "  <thead>\n",
       "    <tr style=\"text-align: right;\">\n",
       "      <th></th>\n",
       "      <th>Year</th>\n",
       "      <th>fed_rate</th>\n",
       "    </tr>\n",
       "  </thead>\n",
       "  <tbody>\n",
       "    <tr>\n",
       "      <th>0</th>\n",
       "      <td>1968</td>\n",
       "      <td>5.661885</td>\n",
       "    </tr>\n",
       "    <tr>\n",
       "      <th>1</th>\n",
       "      <td>1969</td>\n",
       "      <td>8.214301</td>\n",
       "    </tr>\n",
       "    <tr>\n",
       "      <th>2</th>\n",
       "      <td>1970</td>\n",
       "      <td>7.170904</td>\n",
       "    </tr>\n",
       "    <tr>\n",
       "      <th>3</th>\n",
       "      <td>1971</td>\n",
       "      <td>4.667945</td>\n",
       "    </tr>\n",
       "    <tr>\n",
       "      <th>4</th>\n",
       "      <td>1972</td>\n",
       "      <td>4.437131</td>\n",
       "    </tr>\n",
       "  </tbody>\n",
       "</table>\n",
       "</div>"
      ],
      "text/plain": [
       "   Year  fed_rate\n",
       "0  1968  5.661885\n",
       "1  1969  8.214301\n",
       "2  1970  7.170904\n",
       "3  1971  4.667945\n",
       "4  1972  4.437131"
      ]
     },
     "execution_count": 82,
     "metadata": {},
     "output_type": "execute_result"
    }
   ],
   "source": [
    "# Here is the data we need to plot\n",
    "fedRateRG = fedRateRT.groupby('Year').mean().reset_index()\n",
    "fedRateRG.head()"
   ]
  },
  {
   "cell_type": "code",
   "execution_count": 83,
   "id": "f59c9d79-731f-498f-935f-67a16ddd76c6",
   "metadata": {},
   "outputs": [
    {
     "data": {
      "image/png": "[encoded data removed]",
      "text/plain": [
       "<Figure size 640x480 with 1 Axes>"
      ]
     },
     "metadata": {},
     "output_type": "display_data"
    }
   ],
   "source": [
    "# Set the 'Year' column as the index\n",
    "\n",
    "fedRateRG = fedRateRG.reset_index()\n",
    "fedRateRG.set_index('Year', inplace=True) # This code does xzy\n",
    "\n",
    "# Plotting the Inflation Data as a line graph\n",
    "fedRateRG['fed_rate'].plot()\n",
    "plt.xlabel('Year')\n",
    "plt.ylabel('Rate')\n",
    "plt.title('Federal Funds Rate by Year')\n",
    "plt.show()"
   ]
  },
  {
   "cell_type": "markdown",
   "id": "8a68844f-f294-464c-9c89-abe4dae3f370",
   "metadata": {},
   "source": [
    "## Gross Domestic Product (GDP)"
   ]
  },
  {
   "cell_type": "code",
   "execution_count": 84,
   "id": "09bec609-3995-4001-9ac1-240dc16b450e",
   "metadata": {},
   "outputs": [],
   "source": [
    "# Create working dataframe to wrangle the data for merge\n",
    "GDP_R =GDPC"
   ]
  },
  {
   "cell_type": "code",
   "execution_count": 85,
   "id": "59e70f03-79f4-42a3-94e2-f63027e00340",
   "metadata": {},
   "outputs": [],
   "source": [
    "# resetting the index\n",
    "GDP_R = GDP_R.reset_index()"
   ]
  },
  {
   "cell_type": "code",
   "execution_count": 86,
   "id": "664dec47-d0fd-46a5-92c0-4afc2b5587c0",
   "metadata": {},
   "outputs": [],
   "source": [
    "# Splitting the date in 3 columns \n",
    "GDP_R['Day'] = GDP_R['date'].dt.day\n",
    "GDP_R['Month'] = GDP_R['date'].dt.month\n",
    "GDP_R['Year'] = GDP_R['date'].dt.year"
   ]
  },
  {
   "cell_type": "code",
   "execution_count": 87,
   "id": "921f1578-c24d-4299-bcfd-dc0a454713b6",
   "metadata": {},
   "outputs": [
    {
     "data": {
      "text/html": [
       "<div>\n",
       "<style scoped>\n",
       "    .dataframe tbody tr th:only-of-type {\n",
       "        vertical-align: middle;\n",
       "    }\n",
       "\n",
       "    .dataframe tbody tr th {\n",
       "        vertical-align: top;\n",
       "    }\n",
       "\n",
       "    .dataframe thead th {\n",
       "        text-align: right;\n",
       "    }\n",
       "</style>\n",
       "<table border=\"1\" class=\"dataframe\">\n",
       "  <thead>\n",
       "    <tr style=\"text-align: right;\">\n",
       "      <th></th>\n",
       "      <th>date</th>\n",
       "      <th>index</th>\n",
       "      <th>DATE</th>\n",
       "      <th>gdp_rate</th>\n",
       "      <th>Day</th>\n",
       "      <th>Month</th>\n",
       "      <th>Year</th>\n",
       "    </tr>\n",
       "  </thead>\n",
       "  <tbody>\n",
       "    <tr>\n",
       "      <th>0</th>\n",
       "      <td>1968-01-01</td>\n",
       "      <td>84</td>\n",
       "      <td>1968-01-01</td>\n",
       "      <td>909.387</td>\n",
       "      <td>1</td>\n",
       "      <td>1</td>\n",
       "      <td>1968</td>\n",
       "    </tr>\n",
       "    <tr>\n",
       "      <th>1</th>\n",
       "      <td>1968-04-01</td>\n",
       "      <td>85</td>\n",
       "      <td>1968-04-01</td>\n",
       "      <td>934.344</td>\n",
       "      <td>1</td>\n",
       "      <td>4</td>\n",
       "      <td>1968</td>\n",
       "    </tr>\n",
       "    <tr>\n",
       "      <th>2</th>\n",
       "      <td>1968-07-01</td>\n",
       "      <td>86</td>\n",
       "      <td>1968-07-01</td>\n",
       "      <td>950.825</td>\n",
       "      <td>1</td>\n",
       "      <td>7</td>\n",
       "      <td>1968</td>\n",
       "    </tr>\n",
       "    <tr>\n",
       "      <th>3</th>\n",
       "      <td>1968-10-01</td>\n",
       "      <td>87</td>\n",
       "      <td>1968-10-01</td>\n",
       "      <td>968.030</td>\n",
       "      <td>1</td>\n",
       "      <td>10</td>\n",
       "      <td>1968</td>\n",
       "    </tr>\n",
       "    <tr>\n",
       "      <th>4</th>\n",
       "      <td>1969-01-01</td>\n",
       "      <td>88</td>\n",
       "      <td>1969-01-01</td>\n",
       "      <td>993.337</td>\n",
       "      <td>1</td>\n",
       "      <td>1</td>\n",
       "      <td>1969</td>\n",
       "    </tr>\n",
       "  </tbody>\n",
       "</table>\n",
       "</div>"
      ],
      "text/plain": [
       "        date  index        DATE  gdp_rate  Day  Month  Year\n",
       "0 1968-01-01     84  1968-01-01   909.387    1      1  1968\n",
       "1 1968-04-01     85  1968-04-01   934.344    1      4  1968\n",
       "2 1968-07-01     86  1968-07-01   950.825    1      7  1968\n",
       "3 1968-10-01     87  1968-10-01   968.030    1     10  1968\n",
       "4 1969-01-01     88  1969-01-01   993.337    1      1  1969"
      ]
     },
     "execution_count": 87,
     "metadata": {},
     "output_type": "execute_result"
    }
   ],
   "source": [
    "GDP_R.head()"
   ]
  },
  {
   "cell_type": "code",
   "execution_count": 88,
   "id": "317797ab-908a-4968-abf7-a4beb7b50920",
   "metadata": {},
   "outputs": [],
   "source": [
    "# Selecting only the required data\n",
    "GDP_RT = GDP_R[['Year','gdp_rate']]"
   ]
  },
  {
   "cell_type": "code",
   "execution_count": 89,
   "id": "d1bd9441-78c1-450f-8ec2-91f234f7f8c7",
   "metadata": {},
   "outputs": [
    {
     "data": {
      "text/html": [
       "<div>\n",
       "<style scoped>\n",
       "    .dataframe tbody tr th:only-of-type {\n",
       "        vertical-align: middle;\n",
       "    }\n",
       "\n",
       "    .dataframe tbody tr th {\n",
       "        vertical-align: top;\n",
       "    }\n",
       "\n",
       "    .dataframe thead th {\n",
       "        text-align: right;\n",
       "    }\n",
       "</style>\n",
       "<table border=\"1\" class=\"dataframe\">\n",
       "  <thead>\n",
       "    <tr style=\"text-align: right;\">\n",
       "      <th></th>\n",
       "      <th>Year</th>\n",
       "      <th>gdp_rate</th>\n",
       "    </tr>\n",
       "  </thead>\n",
       "  <tbody>\n",
       "    <tr>\n",
       "      <th>0</th>\n",
       "      <td>1968</td>\n",
       "      <td>940.64650</td>\n",
       "    </tr>\n",
       "    <tr>\n",
       "      <th>1</th>\n",
       "      <td>1969</td>\n",
       "      <td>1017.61500</td>\n",
       "    </tr>\n",
       "    <tr>\n",
       "      <th>2</th>\n",
       "      <td>1970</td>\n",
       "      <td>1073.31050</td>\n",
       "    </tr>\n",
       "    <tr>\n",
       "      <th>3</th>\n",
       "      <td>1971</td>\n",
       "      <td>1164.84975</td>\n",
       "    </tr>\n",
       "    <tr>\n",
       "      <th>4</th>\n",
       "      <td>1972</td>\n",
       "      <td>1279.11200</td>\n",
       "    </tr>\n",
       "  </tbody>\n",
       "</table>\n",
       "</div>"
      ],
      "text/plain": [
       "   Year    gdp_rate\n",
       "0  1968   940.64650\n",
       "1  1969  1017.61500\n",
       "2  1970  1073.31050\n",
       "3  1971  1164.84975\n",
       "4  1972  1279.11200"
      ]
     },
     "execution_count": 89,
     "metadata": {},
     "output_type": "execute_result"
    }
   ],
   "source": [
    "# Here is the data we need to plot\n",
    "GDP_RG = GDP_RT.groupby('Year').mean().reset_index()\n",
    "GDP_RG.head()"
   ]
  },
  {
   "cell_type": "code",
   "execution_count": 90,
   "id": "99968960-a8af-4ae6-9250-77b64d47fd4c",
   "metadata": {},
   "outputs": [
    {
     "data": {
      "image/png": "[encoded data removed]",
      "text/plain": [
       "<Figure size 640x480 with 1 Axes>"
      ]
     },
     "metadata": {},
     "output_type": "display_data"
    }
   ],
   "source": [
    "# Set the 'Year' column as the index\n",
    "\n",
    "GDP_RG = GDP_RG.reset_index()\n",
    "GDP_RG.set_index('Year', inplace=True)\n",
    "\n",
    "# Plotting the Inflation Data as a line graph\n",
    "GDP_RG['gdp_rate'].plot()\n",
    "plt.xlabel('Year')\n",
    "plt.ylabel('Rate')\n",
    "plt.title('GDP by Year')\n",
    "plt.show()"
   ]
  },
  {
   "cell_type": "markdown",
   "id": "0ea7c00f-20d0-4d5d-af80-9a9aebe13990",
   "metadata": {},
   "source": [
    "# Combine the Data sets for one visualization"
   ]
  },
  {
   "cell_type": "code",
   "execution_count": 99,
   "id": "07a71135-c254-407f-a019-ca92cb4c151a",
   "metadata": {},
   "outputs": [],
   "source": [
    "# Merge inflation data and Unemplyment on 'Year' column\n",
    "all_1 = pd.merge(inflationRG, unRateRG, on='Year', suffixes=('_INF', '_UNEM'))"
   ]
  },
  {
   "cell_type": "code",
   "execution_count": 100,
   "id": "4cf92b9d-4dbe-4846-9049-2c87493348fe",
   "metadata": {},
   "outputs": [],
   "source": [
    "all_2 = pd.merge(all_1, fedRateRG, on='Year',suffixes=('_all_1', '_FED'))"
   ]
  },
  {
   "cell_type": "code",
   "execution_count": 101,
   "id": "a8eb6289-7080-4c3d-be8a-394f3690a2f0",
   "metadata": {},
   "outputs": [],
   "source": [
    "all_3 = pd.merge(all_2, GDP_RG, on='Year',suffixes=('_all_2', '_GDP'))"
   ]
  },
  {
   "cell_type": "code",
   "execution_count": 102,
   "id": "4b6e2bd4-d98f-4d6e-b21f-cae6e6149219",
   "metadata": {},
   "outputs": [
    {
     "data": {
      "text/html": [
       "<div>\n",
       "<style scoped>\n",
       "    .dataframe tbody tr th:only-of-type {\n",
       "        vertical-align: middle;\n",
       "    }\n",
       "\n",
       "    .dataframe tbody tr th {\n",
       "        vertical-align: top;\n",
       "    }\n",
       "\n",
       "    .dataframe thead th {\n",
       "        text-align: right;\n",
       "    }\n",
       "</style>\n",
       "<table border=\"1\" class=\"dataframe\">\n",
       "  <thead>\n",
       "    <tr style=\"text-align: right;\">\n",
       "      <th></th>\n",
       "      <th>index_INF</th>\n",
       "      <th>inflation_rate</th>\n",
       "      <th>index_UNEM</th>\n",
       "      <th>unemploy_rate</th>\n",
       "      <th>index_all_2</th>\n",
       "      <th>fed_rate</th>\n",
       "      <th>index_GDP</th>\n",
       "      <th>gdp_rate</th>\n",
       "    </tr>\n",
       "    <tr>\n",
       "      <th>Year</th>\n",
       "      <th></th>\n",
       "      <th></th>\n",
       "      <th></th>\n",
       "      <th></th>\n",
       "      <th></th>\n",
       "      <th></th>\n",
       "      <th></th>\n",
       "      <th></th>\n",
       "    </tr>\n",
       "  </thead>\n",
       "  <tbody>\n",
       "    <tr>\n",
       "      <th>1968</th>\n",
       "      <td>0</td>\n",
       "      <td>4.611747</td>\n",
       "      <td>0</td>\n",
       "      <td>3.558333</td>\n",
       "      <td>0</td>\n",
       "      <td>5.661885</td>\n",
       "      <td>0</td>\n",
       "      <td>940.64650</td>\n",
       "    </tr>\n",
       "    <tr>\n",
       "      <th>1969</th>\n",
       "      <td>1</td>\n",
       "      <td>6.377657</td>\n",
       "      <td>1</td>\n",
       "      <td>3.491667</td>\n",
       "      <td>1</td>\n",
       "      <td>8.214301</td>\n",
       "      <td>1</td>\n",
       "      <td>1017.61500</td>\n",
       "    </tr>\n",
       "    <tr>\n",
       "      <th>1970</th>\n",
       "      <td>2</td>\n",
       "      <td>7.080052</td>\n",
       "      <td>2</td>\n",
       "      <td>4.983333</td>\n",
       "      <td>2</td>\n",
       "      <td>7.170904</td>\n",
       "      <td>2</td>\n",
       "      <td>1073.31050</td>\n",
       "    </tr>\n",
       "    <tr>\n",
       "      <th>1971</th>\n",
       "      <td>3</td>\n",
       "      <td>5.132945</td>\n",
       "      <td>3</td>\n",
       "      <td>5.950000</td>\n",
       "      <td>3</td>\n",
       "      <td>4.667945</td>\n",
       "      <td>3</td>\n",
       "      <td>1164.84975</td>\n",
       "    </tr>\n",
       "    <tr>\n",
       "      <th>1972</th>\n",
       "      <td>4</td>\n",
       "      <td>3.571220</td>\n",
       "      <td>4</td>\n",
       "      <td>5.600000</td>\n",
       "      <td>4</td>\n",
       "      <td>4.437131</td>\n",
       "      <td>4</td>\n",
       "      <td>1279.11200</td>\n",
       "    </tr>\n",
       "  </tbody>\n",
       "</table>\n",
       "</div>"
      ],
      "text/plain": [
       "      index_INF  inflation_rate  index_UNEM  unemploy_rate  index_all_2   \n",
       "Year                                                                      \n",
       "1968          0        4.611747           0       3.558333            0  \\\n",
       "1969          1        6.377657           1       3.491667            1   \n",
       "1970          2        7.080052           2       4.983333            2   \n",
       "1971          3        5.132945           3       5.950000            3   \n",
       "1972          4        3.571220           4       5.600000            4   \n",
       "\n",
       "      fed_rate  index_GDP    gdp_rate  \n",
       "Year                                   \n",
       "1968  5.661885          0   940.64650  \n",
       "1969  8.214301          1  1017.61500  \n",
       "1970  7.170904          2  1073.31050  \n",
       "1971  4.667945          3  1164.84975  \n",
       "1972  4.437131          4  1279.11200  "
      ]
     },
     "execution_count": 102,
     "metadata": {},
     "output_type": "execute_result"
    }
   ],
   "source": [
    "all_3.head()"
   ]
  },
  {
   "cell_type": "code",
   "execution_count": 103,
   "id": "f7ced092-09c4-4714-a88d-ddd47aed5c62",
   "metadata": {},
   "outputs": [],
   "source": [
    "# Clean up the data\n",
    "all_4 = all_3[['inflation_rate','unemploy_rate', 'fed_rate','gdp_rate']]"
   ]
  },
  {
   "cell_type": "code",
   "execution_count": 104,
   "id": "4efda2d4-94dc-446c-8904-bb8bc8aac328",
   "metadata": {},
   "outputs": [
    {
     "data": {
      "text/html": [
       "<div>\n",
       "<style scoped>\n",
       "    .dataframe tbody tr th:only-of-type {\n",
       "        vertical-align: middle;\n",
       "    }\n",
       "\n",
       "    .dataframe tbody tr th {\n",
       "        vertical-align: top;\n",
       "    }\n",
       "\n",
       "    .dataframe thead th {\n",
       "        text-align: right;\n",
       "    }\n",
       "</style>\n",
       "<table border=\"1\" class=\"dataframe\">\n",
       "  <thead>\n",
       "    <tr style=\"text-align: right;\">\n",
       "      <th></th>\n",
       "      <th>inflation_rate</th>\n",
       "      <th>unemploy_rate</th>\n",
       "      <th>fed_rate</th>\n",
       "      <th>gdp_rate</th>\n",
       "    </tr>\n",
       "    <tr>\n",
       "      <th>Year</th>\n",
       "      <th></th>\n",
       "      <th></th>\n",
       "      <th></th>\n",
       "      <th></th>\n",
       "    </tr>\n",
       "  </thead>\n",
       "  <tbody>\n",
       "    <tr>\n",
       "      <th>1968</th>\n",
       "      <td>4.611747</td>\n",
       "      <td>3.558333</td>\n",
       "      <td>5.661885</td>\n",
       "      <td>940.64650</td>\n",
       "    </tr>\n",
       "    <tr>\n",
       "      <th>1969</th>\n",
       "      <td>6.377657</td>\n",
       "      <td>3.491667</td>\n",
       "      <td>8.214301</td>\n",
       "      <td>1017.61500</td>\n",
       "    </tr>\n",
       "    <tr>\n",
       "      <th>1970</th>\n",
       "      <td>7.080052</td>\n",
       "      <td>4.983333</td>\n",
       "      <td>7.170904</td>\n",
       "      <td>1073.31050</td>\n",
       "    </tr>\n",
       "    <tr>\n",
       "      <th>1971</th>\n",
       "      <td>5.132945</td>\n",
       "      <td>5.950000</td>\n",
       "      <td>4.667945</td>\n",
       "      <td>1164.84975</td>\n",
       "    </tr>\n",
       "    <tr>\n",
       "      <th>1972</th>\n",
       "      <td>3.571220</td>\n",
       "      <td>5.600000</td>\n",
       "      <td>4.437131</td>\n",
       "      <td>1279.11200</td>\n",
       "    </tr>\n",
       "  </tbody>\n",
       "</table>\n",
       "</div>"
      ],
      "text/plain": [
       "      inflation_rate  unemploy_rate  fed_rate    gdp_rate\n",
       "Year                                                     \n",
       "1968        4.611747       3.558333  5.661885   940.64650\n",
       "1969        6.377657       3.491667  8.214301  1017.61500\n",
       "1970        7.080052       4.983333  7.170904  1073.31050\n",
       "1971        5.132945       5.950000  4.667945  1164.84975\n",
       "1972        3.571220       5.600000  4.437131  1279.11200"
      ]
     },
     "execution_count": 104,
     "metadata": {},
     "output_type": "execute_result"
    }
   ],
   "source": [
    "# This is the data ready to plot\n",
    "all_4.head()"
   ]
  },
  {
   "cell_type": "code",
   "execution_count": 1,
   "id": "70e0b33b-3e80-4ab0-a18f-c27354d4c107",
   "metadata": {},
   "outputs": [
    {
     "ename": "NameError",
     "evalue": "name 'all_4' is not defined",
     "output_type": "error",
     "traceback": [
      "\u001b[1;31m---------------------------------------------------------------------------\u001b[0m",
      "\u001b[1;31mNameError\u001b[0m                                 Traceback (most recent call last)",
      "Input \u001b[1;32mIn [1]\u001b[0m, in \u001b[0;36m<module>\u001b[1;34m\u001b[0m\n\u001b[0;32m      1\u001b[0m \u001b[38;5;66;03m# Set the 'Year' column as the index\u001b[39;00m\n\u001b[1;32m----> 2\u001b[0m all_4 \u001b[38;5;241m=\u001b[39m \u001b[43mall_4\u001b[49m\u001b[38;5;241m.\u001b[39mreset_index()\n\u001b[0;32m      3\u001b[0m all_4\u001b[38;5;241m.\u001b[39mset_index(\u001b[38;5;124m'\u001b[39m\u001b[38;5;124mYear\u001b[39m\u001b[38;5;124m'\u001b[39m, inplace\u001b[38;5;241m=\u001b[39m\u001b[38;5;28;01mTrue\u001b[39;00m)\n\u001b[0;32m      5\u001b[0m \u001b[38;5;66;03m# Create the figure and axes\u001b[39;00m\n",
      "\u001b[1;31mNameError\u001b[0m: name 'all_4' is not defined"
     ]
    }
   ],
   "source": [
    "\n",
    "\n",
    "# Set the 'Year' column as the index\n",
    "all_4 = all_4.reset_index()\n",
    "all_4.set_index('Year', inplace=True)\n",
    "\n",
    "# Create the figure and axes\n",
    "fig, ax1 = plt.subplots()\n",
    "\n",
    "# Plotting the variables on the primary y-axis\n",
    "ax1.plot(all_4['inflation_rate'], label='Inflation')\n",
    "ax1.plot(all_4['unemploy_rate'], label='Unemployment')\n",
    "ax1.plot(all_4['fed_rate'], label='Fed Funds Rate')\n",
    "\n",
    "\n",
    "# Set the labels and title for the primary y-axis\n",
    "ax1.set_xlabel('Year')\n",
    "ax1.set_ylabel('Rate')\n",
    "ax1.set_title('Rates by Year')\n",
    "\n",
    "# Create a secondary y-axis for GDP with different scaling\n",
    "ax2 = ax1.twinx() # Set the scale for secondary Y axis\n",
    "ax2.plot(all_4['gdp_rate'], 'r-', label='GDP') # Assign the data for secondary Y axis\n",
    "\n",
    "# Set the label and color for the secondary y-axis\n",
    "ax2.set_ylabel('Scaled Rate', color='r') # Assigning Red for GDP data and secondary Y axis\n",
    "\n",
    "# Display the legend for both y-axes\n",
    "ax1.legend(loc='upper left') \n",
    "ax2.legend(loc='upper right')\n",
    "\n",
    "# Show the plot\n",
    "plt.show()\n"
   ]
  },
  {
   "cell_type": "code",
   "execution_count": null,
   "id": "fd038dd7-0551-40e8-b14f-662fb1f7ebc0",
   "metadata": {},
   "outputs": [],
   "source": []
  }
 ],
 "metadata": {
  "kernelspec": {
   "display_name": "Python 3 (ipykernel)",
   "language": "python",
   "name": "python3"
  },
  "language_info": {
   "codemirror_mode": {
    "name": "ipython",
    "version": 3
   },
   "file_extension": ".py",
   "mimetype": "text/x-python",
   "name": "python",
   "nbconvert_exporter": "python",
   "pygments_lexer": "ipython3",
   "version": "3.10.4"
  }
 },
 "nbformat": 4,
 "nbformat_minor": 5
}
