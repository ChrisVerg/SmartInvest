{
 "cells": [
  {
   "cell_type": "markdown",
   "id": "ac1fdb70-1167-46ff-a1ae-304ba8089e01",
   "metadata": {},
   "source": [
    "<hr style=\"height:5px;border-width:0;color:MediumAquamarine;background-color:MediumAquamarine\">\n",
    "\n",
    "# Python Notebook for Stock Market Analysis\n",
    "\n",
    "- [API Reference]()\n",
    "- [Reference]()\n",
    "\n",
    "<hr style=\"height:5px;border-width:0;color:MediumAquamarine;background-color:MediumAquamarine\">"
   ]
  },
  {
   "cell_type": "markdown",
   "id": "36a10d7f-1916-4ba5-bd7c-69b74e0817bf",
   "metadata": {},
   "source": [
    "### Table of Contents <a class=\"anchor\" id=\"PSMA_toc\"></a>\n",
    "\n",
    "* [Table of Contents](#PSMA_toc)\n",
    "    * [1. Abstract](#PSMA_page_1)\n",
    "    * [2. Imported Libraries](#PSMA_page_2)\n",
    "    * [3. Import the Dataset](#PSMA_page_3)\n",
    "    * [4. Setting Notebook Options](#PSMA_page_4)\n",
    "    * [5. Looking at the Data](#PSMA_page_5)\n",
    "    * [6. Checking the Column Names](#PSMA_page_6)\n",
    "    * [7. Cleaning the Column Names](#PSMA_page_7)\n",
    "    * [8. Creating a new Cleaned Dataset](#PSMA_page_8)\n",
    "    * [9. Counting Columns](#PSMA_page_9)\n",
    "    * [10. Get Info about the Dataset](#PSMA_page_10)\n",
    "    * [11. Get Descriptive Statistics about the Dataset](#PSMA_page_11)\n",
    "    * [12. Counting Rows and Removing any NANs](#PSMA_page_12)\n",
    "    * [13. Correlation Analysis](#PSMA_page_13)\n",
    "    * [14. Principal Component Analysis (PCA)](#PSMA_page_14)\n",
    "    * [15. Group Comparison](#PSMA_page_15)\n",
    "    * [16. Fisher's Discriminant Analysis and Support Vector Machines (SVM)](#PSMA_page_16)\n",
    "    * [17. Groupby Function](#PSMA_page_17)"
   ]
  },
  {
   "cell_type": "markdown",
   "id": "bc8398e0-9be8-470f-83f6-0686928a1463",
   "metadata": {},
   "source": [
    "<hr style=\"height:5px;border-width:0;color:MediumAquamarine;background-color:MediumAquamarine\">\n",
    "\n",
    "# Page 1 - Abstract <a class=\"anchor\" id=\"PSMA_page_1\"></a>\n",
    "\n",
    "[Back to Top](#PSMA_toc)\n",
    "\n",
    "<hr style=\"height:5px;border-width:0;color:MediumAquamarine;background-color:MediumAquamarine\">"
   ]
  },
  {
   "cell_type": "code",
   "execution_count": 1,
   "id": "6d78898a-d2e0-411c-b3cc-7ea90e16725e",
   "metadata": {},
   "outputs": [
    {
     "name": "stdout",
     "output_type": "stream",
     "text": [
      "test\n"
     ]
    }
   ],
   "source": [
    "print(\"test\")"
   ]
  },
  {
   "cell_type": "markdown",
   "id": "ce3650db-9766-4697-95b0-87e3aa9df988",
   "metadata": {},
   "source": [
    "<hr style=\"height:5px;border-width:0;color:MediumAquamarine;background-color:MediumAquamarine\">\n",
    "\n",
    "# Page 2 - Imported Libraries<a class=\"anchor\" id=\"PSMA_page_2\"></a>\n",
    "\n",
    "[Back to Top](#PSMA_toc)\n",
    "\n",
    "<hr style=\"height:5px;border-width:0;color:MediumAquamarine;background-color:MediumAquamarine\">\n"
   ]
  },
  {
   "cell_type": "code",
   "execution_count": null,
   "id": "4f885d8f-7b9c-4aac-b1ec-914054435216",
   "metadata": {},
   "outputs": [],
   "source": [
    "#Inflation-"
   ]
  },
  {
   "cell_type": "code",
   "execution_count": 3,
   "id": "9d6b5750-da57-447e-9896-c00200c165c0",
   "metadata": {},
   "outputs": [],
   "source": [
    "import pandas as pd\n",
    "inflation= pd.read_csv(\"../Data/CORESTICK_SW.csv\")"
   ]
  },
  {
   "cell_type": "code",
   "execution_count": 4,
   "id": "5bb8b10f-2b55-4cd7-a425-36869d21b1ea",
   "metadata": {},
   "outputs": [
    {
     "data": {
      "text/html": [
       "<div>\n",
       "<style scoped>\n",
       "    .dataframe tbody tr th:only-of-type {\n",
       "        vertical-align: middle;\n",
       "    }\n",
       "\n",
       "    .dataframe tbody tr th {\n",
       "        vertical-align: top;\n",
       "    }\n",
       "\n",
       "    .dataframe thead th {\n",
       "        text-align: right;\n",
       "    }\n",
       "</style>\n",
       "<table border=\"1\" class=\"dataframe\">\n",
       "  <thead>\n",
       "    <tr style=\"text-align: right;\">\n",
       "      <th></th>\n",
       "      <th>DATE</th>\n",
       "      <th>CORESTICKM159SFRBATL</th>\n",
       "    </tr>\n",
       "  </thead>\n",
       "  <tbody>\n",
       "    <tr>\n",
       "      <th>0</th>\n",
       "      <td>1967-12-01</td>\n",
       "      <td>3.383497</td>\n",
       "    </tr>\n",
       "    <tr>\n",
       "      <th>1</th>\n",
       "      <td>1968-01-01</td>\n",
       "      <td>3.659987</td>\n",
       "    </tr>\n",
       "    <tr>\n",
       "      <th>2</th>\n",
       "      <td>1968-02-01</td>\n",
       "      <td>3.682012</td>\n",
       "    </tr>\n",
       "    <tr>\n",
       "      <th>3</th>\n",
       "      <td>1968-03-01</td>\n",
       "      <td>4.151668</td>\n",
       "    </tr>\n",
       "    <tr>\n",
       "      <th>4</th>\n",
       "      <td>1968-04-01</td>\n",
       "      <td>4.165427</td>\n",
       "    </tr>\n",
       "    <tr>\n",
       "      <th>...</th>\n",
       "      <td>...</td>\n",
       "      <td>...</td>\n",
       "    </tr>\n",
       "    <tr>\n",
       "      <th>660</th>\n",
       "      <td>2022-12-01</td>\n",
       "      <td>6.617223</td>\n",
       "    </tr>\n",
       "    <tr>\n",
       "      <th>661</th>\n",
       "      <td>2023-01-01</td>\n",
       "      <td>6.554492</td>\n",
       "    </tr>\n",
       "    <tr>\n",
       "      <th>662</th>\n",
       "      <td>2023-02-01</td>\n",
       "      <td>6.593750</td>\n",
       "    </tr>\n",
       "    <tr>\n",
       "      <th>663</th>\n",
       "      <td>2023-03-01</td>\n",
       "      <td>6.451708</td>\n",
       "    </tr>\n",
       "    <tr>\n",
       "      <th>664</th>\n",
       "      <td>2023-04-01</td>\n",
       "      <td>6.322749</td>\n",
       "    </tr>\n",
       "  </tbody>\n",
       "</table>\n",
       "<p>665 rows × 2 columns</p>\n",
       "</div>"
      ],
      "text/plain": [
       "           DATE  CORESTICKM159SFRBATL\n",
       "0    1967-12-01              3.383497\n",
       "1    1968-01-01              3.659987\n",
       "2    1968-02-01              3.682012\n",
       "3    1968-03-01              4.151668\n",
       "4    1968-04-01              4.165427\n",
       "..          ...                   ...\n",
       "660  2022-12-01              6.617223\n",
       "661  2023-01-01              6.554492\n",
       "662  2023-02-01              6.593750\n",
       "663  2023-03-01              6.451708\n",
       "664  2023-04-01              6.322749\n",
       "\n",
       "[665 rows x 2 columns]"
      ]
     },
     "execution_count": 4,
     "metadata": {},
     "output_type": "execute_result"
    }
   ],
   "source": [
    "inflation"
   ]
  },
  {
   "cell_type": "code",
   "execution_count": 5,
   "id": "cf6ededc-3718-44da-84c0-c719ee7b7fa7",
   "metadata": {},
   "outputs": [],
   "source": [
    "import matplotlib.pyplot as plt"
   ]
  },
  {
   "cell_type": "code",
   "execution_count": 8,
   "id": "8679e481-cbc5-4ad5-9ccb-ec5c0440923a",
   "metadata": {},
   "outputs": [
    {
     "data": {
      "text/plain": [
       "<AxesSubplot:>"
      ]
     },
     "execution_count": 8,
     "metadata": {},
     "output_type": "execute_result"
    },
    {
     "data": {
      "image/png": "[encoded data removed]",
      "text/plain": [
       "<Figure size 432x288 with 1 Axes>"
      ]
     },
     "metadata": {
      "needs_background": "light"
     },
     "output_type": "display_data"
    }
   ],
   "source": [
    "inflation.plot()"
   ]
  },
  {
   "cell_type": "code",
   "execution_count": 27,
   "id": "4294fd66-c47e-4ef1-8413-2d7d29092a52",
   "metadata": {},
   "outputs": [],
   "source": [
    "#Unemployment Rate beginning 1948 to 2023"
   ]
  },
  {
   "cell_type": "code",
   "execution_count": 18,
   "id": "577171e7-3d1c-4d81-b91f-0cd1be54f328",
   "metadata": {},
   "outputs": [],
   "source": [
    "import pandas as pd\n",
    "unemployment= pd.read_csv(\"../Data/Unemployment_SW.csv\")"
   ]
  },
  {
   "cell_type": "code",
   "execution_count": 19,
   "id": "aea01af3-af25-45e9-ac58-e00ca36df0e2",
   "metadata": {},
   "outputs": [
    {
     "data": {
      "text/html": [
       "<div>\n",
       "<style scoped>\n",
       "    .dataframe tbody tr th:only-of-type {\n",
       "        vertical-align: middle;\n",
       "    }\n",
       "\n",
       "    .dataframe tbody tr th {\n",
       "        vertical-align: top;\n",
       "    }\n",
       "\n",
       "    .dataframe thead th {\n",
       "        text-align: right;\n",
       "    }\n",
       "</style>\n",
       "<table border=\"1\" class=\"dataframe\">\n",
       "  <thead>\n",
       "    <tr style=\"text-align: right;\">\n",
       "      <th></th>\n",
       "      <th>DATE</th>\n",
       "      <th>UNRATE</th>\n",
       "    </tr>\n",
       "  </thead>\n",
       "  <tbody>\n",
       "    <tr>\n",
       "      <th>0</th>\n",
       "      <td>1948-01-01</td>\n",
       "      <td>3.4</td>\n",
       "    </tr>\n",
       "    <tr>\n",
       "      <th>1</th>\n",
       "      <td>1948-02-01</td>\n",
       "      <td>3.8</td>\n",
       "    </tr>\n",
       "    <tr>\n",
       "      <th>2</th>\n",
       "      <td>1948-03-01</td>\n",
       "      <td>4.0</td>\n",
       "    </tr>\n",
       "    <tr>\n",
       "      <th>3</th>\n",
       "      <td>1948-04-01</td>\n",
       "      <td>3.9</td>\n",
       "    </tr>\n",
       "    <tr>\n",
       "      <th>4</th>\n",
       "      <td>1948-05-01</td>\n",
       "      <td>3.5</td>\n",
       "    </tr>\n",
       "    <tr>\n",
       "      <th>...</th>\n",
       "      <td>...</td>\n",
       "      <td>...</td>\n",
       "    </tr>\n",
       "    <tr>\n",
       "      <th>899</th>\n",
       "      <td>2022-12-01</td>\n",
       "      <td>3.5</td>\n",
       "    </tr>\n",
       "    <tr>\n",
       "      <th>900</th>\n",
       "      <td>2023-01-01</td>\n",
       "      <td>3.4</td>\n",
       "    </tr>\n",
       "    <tr>\n",
       "      <th>901</th>\n",
       "      <td>2023-02-01</td>\n",
       "      <td>3.6</td>\n",
       "    </tr>\n",
       "    <tr>\n",
       "      <th>902</th>\n",
       "      <td>2023-03-01</td>\n",
       "      <td>3.5</td>\n",
       "    </tr>\n",
       "    <tr>\n",
       "      <th>903</th>\n",
       "      <td>2023-04-01</td>\n",
       "      <td>3.4</td>\n",
       "    </tr>\n",
       "  </tbody>\n",
       "</table>\n",
       "<p>904 rows × 2 columns</p>\n",
       "</div>"
      ],
      "text/plain": [
       "           DATE  UNRATE\n",
       "0    1948-01-01     3.4\n",
       "1    1948-02-01     3.8\n",
       "2    1948-03-01     4.0\n",
       "3    1948-04-01     3.9\n",
       "4    1948-05-01     3.5\n",
       "..          ...     ...\n",
       "899  2022-12-01     3.5\n",
       "900  2023-01-01     3.4\n",
       "901  2023-02-01     3.6\n",
       "902  2023-03-01     3.5\n",
       "903  2023-04-01     3.4\n",
       "\n",
       "[904 rows x 2 columns]"
      ]
     },
     "execution_count": 19,
     "metadata": {},
     "output_type": "execute_result"
    }
   ],
   "source": [
    "unemployment"
   ]
  },
  {
   "cell_type": "code",
   "execution_count": 20,
   "id": "7e123b96-85f3-445d-af57-5a8166eb5c40",
   "metadata": {},
   "outputs": [],
   "source": [
    "import matplotlib.pyplot as plt"
   ]
  },
  {
   "cell_type": "code",
   "execution_count": 21,
   "id": "a3172835-f891-4273-8e98-d0eee3cd215e",
   "metadata": {},
   "outputs": [
    {
     "data": {
      "text/plain": [
       "<AxesSubplot:>"
      ]
     },
     "execution_count": 21,
     "metadata": {},
     "output_type": "execute_result"
    },
    {
     "data": {
      "image/png": "[encoded data removed]",
      "text/plain": [
       "<Figure size 432x288 with 1 Axes>"
      ]
     },
     "metadata": {
      "needs_background": "light"
     },
     "output_type": "display_data"
    }
   ],
   "source": [
    "unemployment.plot()"
   ]
  },
  {
   "cell_type": "code",
   "execution_count": null,
   "id": "42a5bda3-7152-4f55-93a6-06b766a690fc",
   "metadata": {},
   "outputs": [],
   "source": [
    "#Expected GPD growth over the next 3 year 2023-2025"
   ]
  },
  {
   "cell_type": "code",
   "execution_count": 23,
   "id": "464febb3-ec40-4bb3-838b-f819056c5bab",
   "metadata": {},
   "outputs": [],
   "source": [
    "import pandas as pd\n",
    "GDP= pd.read_csv(\"../Data/Gdp_SW.csv\")"
   ]
  },
  {
   "cell_type": "code",
   "execution_count": 24,
   "id": "123755d8-12d8-48cb-84dc-6b6a09f3e914",
   "metadata": {},
   "outputs": [
    {
     "data": {
      "text/html": [
       "<div>\n",
       "<style scoped>\n",
       "    .dataframe tbody tr th:only-of-type {\n",
       "        vertical-align: middle;\n",
       "    }\n",
       "\n",
       "    .dataframe tbody tr th {\n",
       "        vertical-align: top;\n",
       "    }\n",
       "\n",
       "    .dataframe thead th {\n",
       "        text-align: right;\n",
       "    }\n",
       "</style>\n",
       "<table border=\"1\" class=\"dataframe\">\n",
       "  <thead>\n",
       "    <tr style=\"text-align: right;\">\n",
       "      <th></th>\n",
       "      <th>DATE</th>\n",
       "      <th>GDPC1CTM</th>\n",
       "    </tr>\n",
       "  </thead>\n",
       "  <tbody>\n",
       "    <tr>\n",
       "      <th>0</th>\n",
       "      <td>2023-01-01</td>\n",
       "      <td>0.40</td>\n",
       "    </tr>\n",
       "    <tr>\n",
       "      <th>1</th>\n",
       "      <td>2024-01-01</td>\n",
       "      <td>1.25</td>\n",
       "    </tr>\n",
       "    <tr>\n",
       "      <th>2</th>\n",
       "      <td>2025-01-01</td>\n",
       "      <td>1.90</td>\n",
       "    </tr>\n",
       "  </tbody>\n",
       "</table>\n",
       "</div>"
      ],
      "text/plain": [
       "         DATE  GDPC1CTM\n",
       "0  2023-01-01      0.40\n",
       "1  2024-01-01      1.25\n",
       "2  2025-01-01      1.90"
      ]
     },
     "execution_count": 24,
     "metadata": {},
     "output_type": "execute_result"
    }
   ],
   "source": [
    "GDP"
   ]
  },
  {
   "cell_type": "code",
   "execution_count": 25,
   "id": "4814d989-80ae-45c3-aca3-b6071e20e10e",
   "metadata": {},
   "outputs": [],
   "source": [
    "import matplotlib.pyplot as plt"
   ]
  },
  {
   "cell_type": "code",
   "execution_count": 26,
   "id": "5f5ff973-301f-45d7-aa25-11d6b896bb03",
   "metadata": {},
   "outputs": [
    {
     "data": {
      "text/plain": [
       "<AxesSubplot:>"
      ]
     },
     "execution_count": 26,
     "metadata": {},
     "output_type": "execute_result"
    },
    {
     "data": {
      "image/png": "[encoded data removed]",
      "text/plain": [
       "<Figure size 432x288 with 1 Axes>"
      ]
     },
     "metadata": {
      "needs_background": "light"
     },
     "output_type": "display_data"
    }
   ],
   "source": [
    "GDP.plot()`"
   ]
  },
  {
   "cell_type": "code",
   "execution_count": 31,
   "id": "532e7fc4-f324-4bd0-90e9-4364e4cf09cc",
   "metadata": {},
   "outputs": [],
   "source": [
    "import pandas as pd\n",
    "ConsumerSurvey= pd.read_csv(\"../Data/ConsumerSurvey_SW.csv\")"
   ]
  },
  {
   "cell_type": "markdown",
   "id": "f5cfc416-80e8-432f-9814-b9a1162b4ca0",
   "metadata": {},
   "source": [
    "ConsumerSurvey"
   ]
  },
  {
   "cell_type": "code",
   "execution_count": 35,
   "id": "d587d84c-61db-4515-9e4f-775fe7292b2d",
   "metadata": {},
   "outputs": [
    {
     "data": {
      "text/plain": [
       "<AxesSubplot:>"
      ]
     },
     "execution_count": 35,
     "metadata": {},
     "output_type": "execute_result"
    },
    {
     "data": {
      "image/png": "[encoded data removed]",
      "text/plain": [
       "<Figure size 432x288 with 1 Axes>"
      ]
     },
     "metadata": {
      "needs_background": "light"
     },
     "output_type": "display_data"
    }
   ],
   "source": [
    "import matplotlib.pyplot as plt\n",
    "ConsumerSurvey.plot()"
   ]
  },
  {
   "cell_type": "markdown",
   "id": "0094eeea-6bad-47e1-8471-af1e423104af",
   "metadata": {},
   "source": [
    "<hr style=\"height:5px;border-width:0;color:MediumAquamarine;background-color:MediumAquamarine\">\n",
    "\n",
    "# Page 3 - Import The Dataset<a class=\"anchor\" id=\"PSMA_page_3\"></a>\n",
    "\n",
    "[Back to Top](#PSMA_toc)\n",
    "\n",
    "<hr style=\"height:5px;border-width:0;color:MediumAquamarine;background-color:MediumAquamarine\">\n"
   ]
  },
  {
   "cell_type": "code",
   "execution_count": null,
   "id": "61aecdc1-5e23-4687-bc90-6e70252ce4aa",
   "metadata": {},
   "outputs": [],
   "source": []
  },
  {
   "cell_type": "markdown",
   "id": "e294fdb3-25e2-447c-8bc1-eb67b4031373",
   "metadata": {},
   "source": [
    "<hr style=\"height:5px;border-width:0;color:MediumAquamarine;background-color:MediumAquamarine\">\n",
    "\n",
    "# Page 4 - Setting Notebook Options<a class=\"anchor\" id=\"PSMA_page_4\"></a>\n",
    "\n",
    "[Back to Top](#PSMA_toc)\n",
    "\n",
    "<hr style=\"height:5px;border-width:0;color:MediumAquamarine;background-color:MediumAquamarine\">\n"
   ]
  },
  {
   "cell_type": "code",
   "execution_count": null,
   "id": "9e79cfd1-047a-4271-bab0-8e1d912b3590",
   "metadata": {},
   "outputs": [],
   "source": []
  },
  {
   "cell_type": "code",
   "execution_count": 1,
   "id": "2c019bac-4cc1-407e-8f35-1fbb96a7114b",
   "metadata": {
    "tags": []
   },
   "outputs": [],
   "source": [
    "import PSMAdas as pd"
   ]
  },
  {
   "cell_type": "code",
   "execution_count": 2,
   "id": "242b082a-52bd-4230-be06-d85d718d6250",
   "metadata": {
    "tags": []
   },
   "outputs": [],
   "source": [
    "data = pd.read_csv(\"../Data/data.csv\")"
   ]
  },
  {
   "cell_type": "code",
   "execution_count": 3,
   "id": "bf7fdd41-072d-4ac3-be52-04e898f92d9b",
   "metadata": {
    "tags": []
   },
   "outputs": [
    {
     "data": {
      "text/html": [
       "<div>\n",
       "<style scoped>\n",
       "    .dataframe tbody tr th:only-of-type {\n",
       "        vertical-align: middle;\n",
       "    }\n",
       "\n",
       "    .dataframe tbody tr th {\n",
       "        vertical-align: top;\n",
       "    }\n",
       "\n",
       "    .dataframe thead th {\n",
       "        text-align: right;\n",
       "    }\n",
       "</style>\n",
       "<table border=\"1\" class=\"dataframe\">\n",
       "  <thead>\n",
       "    <tr style=\"text-align: right;\">\n",
       "      <th></th>\n",
       "      <th>Date</th>\n",
       "      <th>Value</th>\n",
       "    </tr>\n",
       "  </thead>\n",
       "  <tbody>\n",
       "    <tr>\n",
       "      <th>0</th>\n",
       "      <td>2022-01-01</td>\n",
       "      <td>4910.38</td>\n",
       "    </tr>\n",
       "    <tr>\n",
       "      <th>1</th>\n",
       "      <td>2022-01-31</td>\n",
       "      <td>4515.55</td>\n",
       "    </tr>\n",
       "    <tr>\n",
       "      <th>2</th>\n",
       "      <td>2022-02-01</td>\n",
       "      <td>4719.29</td>\n",
       "    </tr>\n",
       "    <tr>\n",
       "      <th>3</th>\n",
       "      <td>2022-02-28</td>\n",
       "      <td>4373.94</td>\n",
       "    </tr>\n",
       "    <tr>\n",
       "      <th>4</th>\n",
       "      <td>2022-03-01</td>\n",
       "      <td>4610.17</td>\n",
       "    </tr>\n",
       "  </tbody>\n",
       "</table>\n",
       "</div>"
      ],
      "text/plain": [
       "         Date    Value\n",
       "0  2022-01-01  4910.38\n",
       "1  2022-01-31  4515.55\n",
       "2  2022-02-01  4719.29\n",
       "3  2022-02-28  4373.94\n",
       "4  2022-03-01  4610.17"
      ]
     },
     "execution_count": 3,
     "metadata": {},
     "output_type": "execute_result"
    }
   ],
   "source": [
    "data.head()"
   ]
  },
  {
   "cell_type": "code",
   "execution_count": null,
   "id": "60a3067b-4599-4efa-8f81-5185ddf18dd9",
   "metadata": {},
   "outputs": [],
   "source": []
  },
  {
   "cell_type": "code",
   "execution_count": null,
   "id": "1a4d68f1-4462-4b91-a096-84f2f4c0cad5",
   "metadata": {},
   "outputs": [],
   "source": []
  }
 ],
 "metadata": {
  "kernelspec": {
   "display_name": "Python 3 (ipykernel)",
   "language": "python",
   "name": "python3"
  },
  "language_info": {
   "codemirror_mode": {
    "name": "ipython",
    "version": 3
   },
   "file_extension": ".py",
   "mimetype": "text/x-python",
   "name": "python",
   "nbconvert_exporter": "python",
   "pygments_lexer": "ipython3",
   "version": "3.10.7"
  }
 },
 "nbformat": 4,
 "nbformat_minor": 5
}
