{
 "cells": [
  {
   "cell_type": "markdown",
   "id": "ac1fdb70-1167-46ff-a1ae-304ba8089e01",
   "metadata": {},
   "source": [
    "<hr style=\"height:5px;border-width:0;color:MediumAquamarine;background-color:MediumAquamarine\">\n",
    "\n",
    "# Python Notebook for Stock Market Analysis\n",
    "\n",
    "- [API Reference]()\n",
    "- [Reference]()\n",
    "\n",
    "<hr style=\"height:5px;border-width:0;color:MediumAquamarine;background-color:MediumAquamarine\">"
   ]
  },
  {
   "cell_type": "markdown",
   "id": "36a10d7f-1916-4ba5-bd7c-69b74e0817bf",
   "metadata": {},
   "source": [
    "### Table of Contents <a class=\"anchor\" id=\"PSMA_toc\"></a>\n",
    "\n",
    "* [Table of Contents](#PSMA_toc)\n",
    "    * [1. Abstract](#PSMA_page_1)\n",
    "    * [2. Imported Libraries](#PSMA_page_2)\n",
    "    * [3. Import the Dataset](#PSMA_page_3)\n",
    "    * [4. Setting Notebook Options](#PSMA_page_4)\n",
    "    * [5. Test Run](#PSMA_page_5)\n",
    "    * [6. Checking the Column Names](#PSMA_page_6)\n",
    "    * [7. Cleaning the Column Names](#PSMA_page_7)\n",
    "    * [8. Creating a new Cleaned Dataset](#PSMA_page_8)\n",
    "    * [9. Counting Columns](#PSMA_page_9)\n",
    "    * [10. Get Info about the Dataset](#PSMA_page_10)\n",
    "    * [11. Get Descriptive Statistics about the Dataset](#PSMA_page_11)\n",
    "    * [12. Counting Rows and Removing any NANs](#PSMA_page_12)\n",
    "    * [13. Correlation Analysis](#PSMA_page_13)\n",
    "    * [14. Principal Component Analysis (PCA)](#PSMA_page_14)\n",
    "    * [15. Group Comparison](#PSMA_page_15)\n",
    "    * [16. Fisher's Discriminant Analysis and Support Vector Machines (SVM)](#PSMA_page_16)\n",
    "    * [17. Groupby Function](#PSMA_page_17)"
   ]
  },
  {
   "cell_type": "markdown",
   "id": "bc8398e0-9be8-470f-83f6-0686928a1463",
   "metadata": {},
   "source": [
    "<hr style=\"height:5px;border-width:0;color:MediumAquamarine;background-color:MediumAquamarine\">\n",
    "\n",
    "# Page 1 - Abstract <a class=\"anchor\" id=\"PSMA_page_1\"></a>\n",
    "\n",
    "[Back to Top](#PSMA_toc)\n",
    "\n",
    "<hr style=\"height:5px;border-width:0;color:MediumAquamarine;background-color:MediumAquamarine\">"
   ]
  },
  {
   "cell_type": "code",
   "execution_count": null,
   "id": "6d78898a-d2e0-411c-b3cc-7ea90e16725e",
   "metadata": {},
   "outputs": [],
   "source": []
  },
  {
   "cell_type": "markdown",
   "id": "ce3650db-9766-4697-95b0-87e3aa9df988",
   "metadata": {},
   "source": [
    "<hr style=\"height:5px;border-width:0;color:MediumAquamarine;background-color:MediumAquamarine\">\n",
    "\n",
    "# Page 2 - Imported Libraries<a class=\"anchor\" id=\"PSMA_page_2\"></a>\n",
    "\n",
    "[Back to Top](#PSMA_toc)\n",
    "\n",
    "<hr style=\"height:5px;border-width:0;color:MediumAquamarine;background-color:MediumAquamarine\">\n"
   ]
  },
  {
   "cell_type": "code",
   "execution_count": null,
   "id": "9d6b5750-da57-447e-9896-c00200c165c0",
   "metadata": {},
   "outputs": [],
   "source": []
  },
  {
   "cell_type": "markdown",
   "id": "0094eeea-6bad-47e1-8471-af1e423104af",
   "metadata": {},
   "source": [
    "<hr style=\"height:5px;border-width:0;color:MediumAquamarine;background-color:MediumAquamarine\">\n",
    "\n",
    "# Page 3 - Import The Dataset<a class=\"anchor\" id=\"PSMA_page_3\"></a>\n",
    "\n",
    "[Back to Top](#PSMA_toc)\n",
    "\n",
    "<hr style=\"height:5px;border-width:0;color:MediumAquamarine;background-color:MediumAquamarine\">\n"
   ]
  },
  {
   "cell_type": "code",
   "execution_count": null,
   "id": "61aecdc1-5e23-4687-bc90-6e70252ce4aa",
   "metadata": {},
   "outputs": [],
   "source": []
  },
  {
   "cell_type": "markdown",
   "id": "e294fdb3-25e2-447c-8bc1-eb67b4031373",
   "metadata": {},
   "source": [
    "<hr style=\"height:5px;border-width:0;color:MediumAquamarine;background-color:MediumAquamarine\">\n",
    "\n",
    "# Page 4 - Setting Notebook Options<a class=\"anchor\" id=\"PSMA_page_4\"></a>\n",
    "\n",
    "[Back to Top](#PSMA_toc)\n",
    "\n",
    "<hr style=\"height:5px;border-width:0;color:MediumAquamarine;background-color:MediumAquamarine\">\n"
   ]
  },
  {
   "cell_type": "code",
   "execution_count": null,
   "id": "9e79cfd1-047a-4271-bab0-8e1d912b3590",
   "metadata": {},
   "outputs": [],
   "source": []
  },
  {
   "cell_type": "code",
   "execution_count": 1,
   "id": "2c019bac-4cc1-407e-8f35-1fbb96a7114b",
   "metadata": {
    "tags": []
   },
   "outputs": [],
   "source": [
    "import PSMAdas as pd"
   ]
  },
  {
   "cell_type": "code",
   "execution_count": 2,
   "id": "242b082a-52bd-4230-be06-d85d718d6250",
   "metadata": {
    "tags": []
   },
   "outputs": [],
   "source": [
    "data = pd.read_csv(\"../Data/data.csv\")"
   ]
  },
  {
   "cell_type": "code",
   "execution_count": 3,
   "id": "bf7fdd41-072d-4ac3-be52-04e898f92d9b",
   "metadata": {
    "tags": []
   },
   "outputs": [
    {
     "data": {
      "text/html": [
       "<div>\n",
       "<style scoped>\n",
       "    .dataframe tbody tr th:only-of-type {\n",
       "        vertical-align: middle;\n",
       "    }\n",
       "\n",
       "    .dataframe tbody tr th {\n",
       "        vertical-align: top;\n",
       "    }\n",
       "\n",
       "    .dataframe thead th {\n",
       "        text-align: right;\n",
       "    }\n",
       "</style>\n",
       "<table border=\"1\" class=\"dataframe\">\n",
       "  <thead>\n",
       "    <tr style=\"text-align: right;\">\n",
       "      <th></th>\n",
       "      <th>Date</th>\n",
       "      <th>Value</th>\n",
       "    </tr>\n",
       "  </thead>\n",
       "  <tbody>\n",
       "    <tr>\n",
       "      <th>0</th>\n",
       "      <td>2022-01-01</td>\n",
       "      <td>4910.38</td>\n",
       "    </tr>\n",
       "    <tr>\n",
       "      <th>1</th>\n",
       "      <td>2022-01-31</td>\n",
       "      <td>4515.55</td>\n",
       "    </tr>\n",
       "    <tr>\n",
       "      <th>2</th>\n",
       "      <td>2022-02-01</td>\n",
       "      <td>4719.29</td>\n",
       "    </tr>\n",
       "    <tr>\n",
       "      <th>3</th>\n",
       "      <td>2022-02-28</td>\n",
       "      <td>4373.94</td>\n",
       "    </tr>\n",
       "    <tr>\n",
       "      <th>4</th>\n",
       "      <td>2022-03-01</td>\n",
       "      <td>4610.17</td>\n",
       "    </tr>\n",
       "  </tbody>\n",
       "</table>\n",
       "</div>"
      ],
      "text/plain": [
       "         Date    Value\n",
       "0  2022-01-01  4910.38\n",
       "1  2022-01-31  4515.55\n",
       "2  2022-02-01  4719.29\n",
       "3  2022-02-28  4373.94\n",
       "4  2022-03-01  4610.17"
      ]
     },
     "execution_count": 3,
     "metadata": {},
     "output_type": "execute_result"
    }
   ],
   "source": [
    "data.head()"
   ]
  },
  {
   "cell_type": "code",
   "execution_count": null,
   "id": "60a3067b-4599-4efa-8f81-5185ddf18dd9",
   "metadata": {},
   "outputs": [],
   "source": []
  },
  {
   "cell_type": "code",
   "execution_count": null,
   "id": "1a4d68f1-4462-4b91-a096-84f2f4c0cad5",
   "metadata": {},
   "outputs": [],
   "source": []
  }
 ],
 "metadata": {
  "kernelspec": {
   "display_name": "Python 3 (ipykernel)",
   "language": "python",
   "name": "python3"
  },
  "language_info": {
   "codemirror_mode": {
    "name": "ipython",
    "version": 3
   },
   "file_extension": ".py",
   "mimetype": "text/x-python",
   "name": "python",
   "nbconvert_exporter": "python",
   "pygments_lexer": "ipython3",
   "version": "3.10.0"
  }
 },
 "nbformat": 4,
 "nbformat_minor": 5
}
