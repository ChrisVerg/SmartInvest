{
 "cells": [
  {
   "cell_type": "markdown",
   "id": "7ffab0c7-6b5d-4409-ab7b-04b435460999",
   "metadata": {},
   "source": [
    "<hr style=\"height:5px;border-width:0;color:MediumAquamarine;background-color:MediumAquamarine\">\n",
    "\n",
    "# SP500 Descriptive Analysis Guide\n",
    "\n",
    "\n",
    "<hr style=\"height:5px;border-width:0;color:MediumAquamarine;background-color:MediumAquamarine\">"
   ]
  },
  {
   "cell_type": "markdown",
   "id": "9dbbe5c1-6822-4206-ad6d-e5c6efc6670c",
   "metadata": {},
   "source": [
    "## Purpose\n",
    "\n",
    "> This code will create a visualization that represents daily volatility of sectors within the S&P500 Index. This Notebook is a guide for how to wrangle and format data in a uniform way so it can be replicated by multiple team members for their assigned sectors within the S&P500 Index. Using the high and low price for the day, calculate the difference(volatility) as a percent. Then get the average volatility for the month. Compare the volatility against the other sectors and evaluate for correlation, divergence and which sectors appear to have the most volatility."
   ]
  },
  {
   "cell_type": "markdown",
   "id": "c68959e2-37b1-46fb-bd7f-331d54146d0c",
   "metadata": {},
   "source": [
    "# Import Packages"
   ]
  },
  {
   "cell_type": "code",
   "execution_count": 1,
   "id": "29e237f8-c606-429b-b3bc-73ae03fe7e73",
   "metadata": {},
   "outputs": [],
   "source": [
    "import pandas as pd\n",
    "import numpy as np\n",
    "import matplotlib.pyplot as plt"
   ]
  },
  {
   "cell_type": "code",
   "execution_count": 2,
   "id": "afe9b66f-f4ba-4d46-a5a9-bef1859528a8",
   "metadata": {},
   "outputs": [],
   "source": [
    "# Israel Data\n",
    "sp_materials = pd.read_csv(r\"../Data/sp_materials_IG.csv\")"
   ]
  },
  {
   "cell_type": "code",
   "execution_count": 3,
   "id": "ac4ae6dc-cd96-4f7f-85e5-a151fff39967",
   "metadata": {},
   "outputs": [],
   "source": [
    "sp_utilities = pd.read_csv(r\"../Data/sp_utilities_IG.csv\")"
   ]
  },
  {
   "cell_type": "code",
   "execution_count": 4,
   "id": "a445718a-d123-4052-94a7-a92122e70c77",
   "metadata": {},
   "outputs": [],
   "source": [
    "sp_real_estate = pd.read_csv(r\"../Data/sp_real_estate_IG.csv\")"
   ]
  },
  {
   "cell_type": "markdown",
   "id": "25f469a7-0fff-4b11-843d-d269b902f0b9",
   "metadata": {},
   "source": [
    "# We will all need to meet to work out the details but we are going to try to make the data uniform by selecting the average price on a monthly or yearly basis"
   ]
  },
  {
   "cell_type": "markdown",
   "id": "deee7423-7a9f-4b0e-a559-f7d7e9653483",
   "metadata": {},
   "source": [
    "### Inspecting the data to see what wrangling needs to be done."
   ]
  },
  {
   "cell_type": "code",
   "execution_count": 5,
   "id": "407dd188-251b-4149-a1e4-92a558f36c1e",
   "metadata": {},
   "outputs": [
    {
     "data": {
      "text/html": [
       "<div>\n",
       "<style scoped>\n",
       "    .dataframe tbody tr th:only-of-type {\n",
       "        vertical-align: middle;\n",
       "    }\n",
       "\n",
       "    .dataframe tbody tr th {\n",
       "        vertical-align: top;\n",
       "    }\n",
       "\n",
       "    .dataframe thead th {\n",
       "        text-align: right;\n",
       "    }\n",
       "</style>\n",
       "<table border=\"1\" class=\"dataframe\">\n",
       "  <thead>\n",
       "    <tr style=\"text-align: right;\">\n",
       "      <th></th>\n",
       "      <th>Date</th>\n",
       "      <th>Price</th>\n",
       "      <th>Open</th>\n",
       "      <th>High</th>\n",
       "      <th>Low</th>\n",
       "      <th>Vol.</th>\n",
       "      <th>Change %</th>\n",
       "    </tr>\n",
       "  </thead>\n",
       "  <tbody>\n",
       "    <tr>\n",
       "      <th>0</th>\n",
       "      <td>05/31/2023</td>\n",
       "      <td>471.02</td>\n",
       "      <td>473.78</td>\n",
       "      <td>474.90</td>\n",
       "      <td>469.18</td>\n",
       "      <td>142.97M</td>\n",
       "      <td>-1.12%</td>\n",
       "    </tr>\n",
       "    <tr>\n",
       "      <th>1</th>\n",
       "      <td>05/30/2023</td>\n",
       "      <td>476.37</td>\n",
       "      <td>479.17</td>\n",
       "      <td>479.32</td>\n",
       "      <td>472.87</td>\n",
       "      <td>80.34M</td>\n",
       "      <td>-0.59%</td>\n",
       "    </tr>\n",
       "    <tr>\n",
       "      <th>2</th>\n",
       "      <td>05/26/2023</td>\n",
       "      <td>479.21</td>\n",
       "      <td>479.30</td>\n",
       "      <td>482.37</td>\n",
       "      <td>477.26</td>\n",
       "      <td>70.83M</td>\n",
       "      <td>0.42%</td>\n",
       "    </tr>\n",
       "    <tr>\n",
       "      <th>3</th>\n",
       "      <td>05/25/2023</td>\n",
       "      <td>477.22</td>\n",
       "      <td>478.85</td>\n",
       "      <td>479.46</td>\n",
       "      <td>474.69</td>\n",
       "      <td>78.10M</td>\n",
       "      <td>-0.38%</td>\n",
       "    </tr>\n",
       "    <tr>\n",
       "      <th>4</th>\n",
       "      <td>05/24/2023</td>\n",
       "      <td>479.04</td>\n",
       "      <td>483.45</td>\n",
       "      <td>483.45</td>\n",
       "      <td>478.16</td>\n",
       "      <td>75.35M</td>\n",
       "      <td>-1.12%</td>\n",
       "    </tr>\n",
       "  </tbody>\n",
       "</table>\n",
       "</div>"
      ],
      "text/plain": [
       "         Date   Price    Open    High     Low     Vol. Change %\n",
       "0  05/31/2023  471.02  473.78  474.90  469.18  142.97M   -1.12%\n",
       "1  05/30/2023  476.37  479.17  479.32  472.87   80.34M   -0.59%\n",
       "2  05/26/2023  479.21  479.30  482.37  477.26   70.83M    0.42%\n",
       "3  05/25/2023  477.22  478.85  479.46  474.69   78.10M   -0.38%\n",
       "4  05/24/2023  479.04  483.45  483.45  478.16   75.35M   -1.12%"
      ]
     },
     "execution_count": 5,
     "metadata": {},
     "output_type": "execute_result"
    }
   ],
   "source": [
    "sp_materials.head()"
   ]
  },
  {
   "cell_type": "code",
   "execution_count": 6,
   "id": "72d674fb-ab84-4c0d-a00c-beac18ebb0da",
   "metadata": {},
   "outputs": [
    {
     "data": {
      "text/html": [
       "<div>\n",
       "<style scoped>\n",
       "    .dataframe tbody tr th:only-of-type {\n",
       "        vertical-align: middle;\n",
       "    }\n",
       "\n",
       "    .dataframe tbody tr th {\n",
       "        vertical-align: top;\n",
       "    }\n",
       "\n",
       "    .dataframe thead th {\n",
       "        text-align: right;\n",
       "    }\n",
       "</style>\n",
       "<table border=\"1\" class=\"dataframe\">\n",
       "  <thead>\n",
       "    <tr style=\"text-align: right;\">\n",
       "      <th></th>\n",
       "      <th>Date</th>\n",
       "      <th>Price</th>\n",
       "      <th>Open</th>\n",
       "      <th>High</th>\n",
       "      <th>Low</th>\n",
       "      <th>Vol.</th>\n",
       "      <th>Change %</th>\n",
       "    </tr>\n",
       "  </thead>\n",
       "  <tbody>\n",
       "    <tr>\n",
       "      <th>2615</th>\n",
       "      <td>01/08/2013</td>\n",
       "      <td>244.34</td>\n",
       "      <td>243.80</td>\n",
       "      <td>244.80</td>\n",
       "      <td>242.57</td>\n",
       "      <td>NaN</td>\n",
       "      <td>0.18%</td>\n",
       "    </tr>\n",
       "    <tr>\n",
       "      <th>2616</th>\n",
       "      <td>01/07/2013</td>\n",
       "      <td>243.90</td>\n",
       "      <td>244.09</td>\n",
       "      <td>244.13</td>\n",
       "      <td>242.56</td>\n",
       "      <td>NaN</td>\n",
       "      <td>-0.20%</td>\n",
       "    </tr>\n",
       "    <tr>\n",
       "      <th>2617</th>\n",
       "      <td>01/04/2013</td>\n",
       "      <td>244.39</td>\n",
       "      <td>241.82</td>\n",
       "      <td>244.69</td>\n",
       "      <td>241.82</td>\n",
       "      <td>98.22M</td>\n",
       "      <td>1.18%</td>\n",
       "    </tr>\n",
       "    <tr>\n",
       "      <th>2618</th>\n",
       "      <td>01/03/2013</td>\n",
       "      <td>241.55</td>\n",
       "      <td>243.18</td>\n",
       "      <td>243.99</td>\n",
       "      <td>240.79</td>\n",
       "      <td>107.44M</td>\n",
       "      <td>-0.68%</td>\n",
       "    </tr>\n",
       "    <tr>\n",
       "      <th>2619</th>\n",
       "      <td>01/02/2013</td>\n",
       "      <td>243.21</td>\n",
       "      <td>238.28</td>\n",
       "      <td>244.05</td>\n",
       "      <td>238.28</td>\n",
       "      <td>133.78M</td>\n",
       "      <td>2.35%</td>\n",
       "    </tr>\n",
       "  </tbody>\n",
       "</table>\n",
       "</div>"
      ],
      "text/plain": [
       "            Date   Price    Open    High     Low     Vol. Change %\n",
       "2615  01/08/2013  244.34  243.80  244.80  242.57      NaN    0.18%\n",
       "2616  01/07/2013  243.90  244.09  244.13  242.56      NaN   -0.20%\n",
       "2617  01/04/2013  244.39  241.82  244.69  241.82   98.22M    1.18%\n",
       "2618  01/03/2013  241.55  243.18  243.99  240.79  107.44M   -0.68%\n",
       "2619  01/02/2013  243.21  238.28  244.05  238.28  133.78M    2.35%"
      ]
     },
     "execution_count": 6,
     "metadata": {},
     "output_type": "execute_result"
    }
   ],
   "source": [
    "sp_materials.tail()"
   ]
  },
  {
   "cell_type": "code",
   "execution_count": 7,
   "id": "ba882842-9a71-43c2-8e9f-231cf0d93d88",
   "metadata": {},
   "outputs": [],
   "source": [
    "# We have a good 10 years of data for sp_materials"
   ]
  },
  {
   "cell_type": "code",
   "execution_count": 7,
   "id": "cbb1c7be-0863-4f80-98fb-8ecdc9d3fb88",
   "metadata": {},
   "outputs": [
    {
     "data": {
      "text/html": [
       "<div>\n",
       "<style scoped>\n",
       "    .dataframe tbody tr th:only-of-type {\n",
       "        vertical-align: middle;\n",
       "    }\n",
       "\n",
       "    .dataframe tbody tr th {\n",
       "        vertical-align: top;\n",
       "    }\n",
       "\n",
       "    .dataframe thead th {\n",
       "        text-align: right;\n",
       "    }\n",
       "</style>\n",
       "<table border=\"1\" class=\"dataframe\">\n",
       "  <thead>\n",
       "    <tr style=\"text-align: right;\">\n",
       "      <th></th>\n",
       "      <th>Date</th>\n",
       "      <th>Price</th>\n",
       "      <th>Open</th>\n",
       "      <th>High</th>\n",
       "      <th>Low</th>\n",
       "      <th>Vol.</th>\n",
       "      <th>Change %</th>\n",
       "    </tr>\n",
       "  </thead>\n",
       "  <tbody>\n",
       "    <tr>\n",
       "      <th>0</th>\n",
       "      <td>05/31/2023</td>\n",
       "      <td>327.97</td>\n",
       "      <td>325.31</td>\n",
       "      <td>329.35</td>\n",
       "      <td>323.00</td>\n",
       "      <td>182.05M</td>\n",
       "      <td>0.96%</td>\n",
       "    </tr>\n",
       "    <tr>\n",
       "      <th>1</th>\n",
       "      <td>05/30/2023</td>\n",
       "      <td>324.86</td>\n",
       "      <td>326.58</td>\n",
       "      <td>328.37</td>\n",
       "      <td>324.47</td>\n",
       "      <td>113.20M</td>\n",
       "      <td>-0.39%</td>\n",
       "    </tr>\n",
       "    <tr>\n",
       "      <th>2</th>\n",
       "      <td>05/26/2023</td>\n",
       "      <td>326.13</td>\n",
       "      <td>325.94</td>\n",
       "      <td>326.39</td>\n",
       "      <td>322.96</td>\n",
       "      <td>98.04M</td>\n",
       "      <td>-0.10%</td>\n",
       "    </tr>\n",
       "    <tr>\n",
       "      <th>3</th>\n",
       "      <td>05/25/2023</td>\n",
       "      <td>326.45</td>\n",
       "      <td>330.08</td>\n",
       "      <td>330.08</td>\n",
       "      <td>324.25</td>\n",
       "      <td>104.56M</td>\n",
       "      <td>-1.38%</td>\n",
       "    </tr>\n",
       "    <tr>\n",
       "      <th>4</th>\n",
       "      <td>05/24/2023</td>\n",
       "      <td>331.01</td>\n",
       "      <td>332.83</td>\n",
       "      <td>333.67</td>\n",
       "      <td>330.48</td>\n",
       "      <td>90.54M</td>\n",
       "      <td>-0.63%</td>\n",
       "    </tr>\n",
       "  </tbody>\n",
       "</table>\n",
       "</div>"
      ],
      "text/plain": [
       "         Date   Price    Open    High     Low     Vol. Change %\n",
       "0  05/31/2023  327.97  325.31  329.35  323.00  182.05M    0.96%\n",
       "1  05/30/2023  324.86  326.58  328.37  324.47  113.20M   -0.39%\n",
       "2  05/26/2023  326.13  325.94  326.39  322.96   98.04M   -0.10%\n",
       "3  05/25/2023  326.45  330.08  330.08  324.25  104.56M   -1.38%\n",
       "4  05/24/2023  331.01  332.83  333.67  330.48   90.54M   -0.63%"
      ]
     },
     "execution_count": 7,
     "metadata": {},
     "output_type": "execute_result"
    }
   ],
   "source": [
    "sp_utilities.head()"
   ]
  },
  {
   "cell_type": "code",
   "execution_count": 8,
   "id": "d8436f84-13f9-45af-a123-e6184de95dd6",
   "metadata": {},
   "outputs": [
    {
     "data": {
      "text/html": [
       "<div>\n",
       "<style scoped>\n",
       "    .dataframe tbody tr th:only-of-type {\n",
       "        vertical-align: middle;\n",
       "    }\n",
       "\n",
       "    .dataframe tbody tr th {\n",
       "        vertical-align: top;\n",
       "    }\n",
       "\n",
       "    .dataframe thead th {\n",
       "        text-align: right;\n",
       "    }\n",
       "</style>\n",
       "<table border=\"1\" class=\"dataframe\">\n",
       "  <thead>\n",
       "    <tr style=\"text-align: right;\">\n",
       "      <th></th>\n",
       "      <th>Date</th>\n",
       "      <th>Price</th>\n",
       "      <th>Open</th>\n",
       "      <th>High</th>\n",
       "      <th>Low</th>\n",
       "      <th>Vol.</th>\n",
       "      <th>Change %</th>\n",
       "    </tr>\n",
       "  </thead>\n",
       "  <tbody>\n",
       "    <tr>\n",
       "      <th>2614</th>\n",
       "      <td>01/08/2013</td>\n",
       "      <td>179.45</td>\n",
       "      <td>179.63</td>\n",
       "      <td>179.86</td>\n",
       "      <td>178.76</td>\n",
       "      <td>NaN</td>\n",
       "      <td>-0.18%</td>\n",
       "    </tr>\n",
       "    <tr>\n",
       "      <th>2615</th>\n",
       "      <td>01/07/2013</td>\n",
       "      <td>179.78</td>\n",
       "      <td>181.55</td>\n",
       "      <td>181.55</td>\n",
       "      <td>179.61</td>\n",
       "      <td>NaN</td>\n",
       "      <td>-1.14%</td>\n",
       "    </tr>\n",
       "    <tr>\n",
       "      <th>2616</th>\n",
       "      <td>01/04/2013</td>\n",
       "      <td>181.86</td>\n",
       "      <td>180.91</td>\n",
       "      <td>181.92</td>\n",
       "      <td>180.89</td>\n",
       "      <td>63.00M</td>\n",
       "      <td>0.54%</td>\n",
       "    </tr>\n",
       "    <tr>\n",
       "      <th>2617</th>\n",
       "      <td>01/03/2013</td>\n",
       "      <td>180.88</td>\n",
       "      <td>180.84</td>\n",
       "      <td>181.49</td>\n",
       "      <td>180.42</td>\n",
       "      <td>69.77M</td>\n",
       "      <td>0.00%</td>\n",
       "    </tr>\n",
       "    <tr>\n",
       "      <th>2618</th>\n",
       "      <td>01/02/2013</td>\n",
       "      <td>180.88</td>\n",
       "      <td>178.31</td>\n",
       "      <td>181.11</td>\n",
       "      <td>178.31</td>\n",
       "      <td>91.66M</td>\n",
       "      <td>1.81%</td>\n",
       "    </tr>\n",
       "  </tbody>\n",
       "</table>\n",
       "</div>"
      ],
      "text/plain": [
       "            Date   Price    Open    High     Low    Vol. Change %\n",
       "2614  01/08/2013  179.45  179.63  179.86  178.76     NaN   -0.18%\n",
       "2615  01/07/2013  179.78  181.55  181.55  179.61     NaN   -1.14%\n",
       "2616  01/04/2013  181.86  180.91  181.92  180.89  63.00M    0.54%\n",
       "2617  01/03/2013  180.88  180.84  181.49  180.42  69.77M    0.00%\n",
       "2618  01/02/2013  180.88  178.31  181.11  178.31  91.66M    1.81%"
      ]
     },
     "execution_count": 8,
     "metadata": {},
     "output_type": "execute_result"
    }
   ],
   "source": [
    "sp_utilities.tail()"
   ]
  },
  {
   "cell_type": "code",
   "execution_count": 10,
   "id": "b946b30a-4c2e-43c8-900c-3fc3c2bcddb8",
   "metadata": {},
   "outputs": [],
   "source": [
    "# Utilities has 10 years of data"
   ]
  },
  {
   "cell_type": "code",
   "execution_count": 8,
   "id": "0c92d816-5d8b-4545-b94f-95a3a5f00a76",
   "metadata": {},
   "outputs": [
    {
     "data": {
      "text/html": [
       "<div>\n",
       "<style scoped>\n",
       "    .dataframe tbody tr th:only-of-type {\n",
       "        vertical-align: middle;\n",
       "    }\n",
       "\n",
       "    .dataframe tbody tr th {\n",
       "        vertical-align: top;\n",
       "    }\n",
       "\n",
       "    .dataframe thead th {\n",
       "        text-align: right;\n",
       "    }\n",
       "</style>\n",
       "<table border=\"1\" class=\"dataframe\">\n",
       "  <thead>\n",
       "    <tr style=\"text-align: right;\">\n",
       "      <th></th>\n",
       "      <th>Date</th>\n",
       "      <th>Price</th>\n",
       "      <th>Open</th>\n",
       "      <th>High</th>\n",
       "      <th>Low</th>\n",
       "      <th>Vol.</th>\n",
       "      <th>Change %</th>\n",
       "    </tr>\n",
       "  </thead>\n",
       "  <tbody>\n",
       "    <tr>\n",
       "      <th>0</th>\n",
       "      <td>05/31/2023</td>\n",
       "      <td>225.65</td>\n",
       "      <td>224.55</td>\n",
       "      <td>226.00</td>\n",
       "      <td>222.94</td>\n",
       "      <td>167.82M</td>\n",
       "      <td>0.68%</td>\n",
       "    </tr>\n",
       "    <tr>\n",
       "      <th>1</th>\n",
       "      <td>05/30/2023</td>\n",
       "      <td>224.13</td>\n",
       "      <td>225.06</td>\n",
       "      <td>227.10</td>\n",
       "      <td>223.74</td>\n",
       "      <td>61.39M</td>\n",
       "      <td>0.30%</td>\n",
       "    </tr>\n",
       "    <tr>\n",
       "      <th>2</th>\n",
       "      <td>05/26/2023</td>\n",
       "      <td>223.45</td>\n",
       "      <td>221.43</td>\n",
       "      <td>223.90</td>\n",
       "      <td>220.49</td>\n",
       "      <td>53.55M</td>\n",
       "      <td>1.18%</td>\n",
       "    </tr>\n",
       "    <tr>\n",
       "      <th>3</th>\n",
       "      <td>05/25/2023</td>\n",
       "      <td>220.85</td>\n",
       "      <td>221.39</td>\n",
       "      <td>222.48</td>\n",
       "      <td>219.31</td>\n",
       "      <td>68.33M</td>\n",
       "      <td>0.27%</td>\n",
       "    </tr>\n",
       "    <tr>\n",
       "      <th>4</th>\n",
       "      <td>05/24/2023</td>\n",
       "      <td>220.26</td>\n",
       "      <td>224.57</td>\n",
       "      <td>224.61</td>\n",
       "      <td>219.98</td>\n",
       "      <td>56.90M</td>\n",
       "      <td>-2.22%</td>\n",
       "    </tr>\n",
       "  </tbody>\n",
       "</table>\n",
       "</div>"
      ],
      "text/plain": [
       "         Date   Price    Open    High     Low     Vol. Change %\n",
       "0  05/31/2023  225.65  224.55  226.00  222.94  167.82M    0.68%\n",
       "1  05/30/2023  224.13  225.06  227.10  223.74   61.39M    0.30%\n",
       "2  05/26/2023  223.45  221.43  223.90  220.49   53.55M    1.18%\n",
       "3  05/25/2023  220.85  221.39  222.48  219.31   68.33M    0.27%\n",
       "4  05/24/2023  220.26  224.57  224.61  219.98   56.90M   -2.22%"
      ]
     },
     "execution_count": 8,
     "metadata": {},
     "output_type": "execute_result"
    }
   ],
   "source": [
    "sp_real_estate.head()"
   ]
  },
  {
   "cell_type": "code",
   "execution_count": 10,
   "id": "41a96c46-c4d6-4010-bd96-c65951d01b2f",
   "metadata": {},
   "outputs": [
    {
     "data": {
      "text/html": [
       "<div>\n",
       "<style scoped>\n",
       "    .dataframe tbody tr th:only-of-type {\n",
       "        vertical-align: middle;\n",
       "    }\n",
       "\n",
       "    .dataframe tbody tr th {\n",
       "        vertical-align: top;\n",
       "    }\n",
       "\n",
       "    .dataframe thead th {\n",
       "        text-align: right;\n",
       "    }\n",
       "</style>\n",
       "<table border=\"1\" class=\"dataframe\">\n",
       "  <thead>\n",
       "    <tr style=\"text-align: right;\">\n",
       "      <th></th>\n",
       "      <th>Date</th>\n",
       "      <th>Price</th>\n",
       "      <th>Open</th>\n",
       "      <th>High</th>\n",
       "      <th>Low</th>\n",
       "      <th>Vol.</th>\n",
       "      <th>Change %</th>\n",
       "    </tr>\n",
       "  </thead>\n",
       "  <tbody>\n",
       "    <tr>\n",
       "      <th>2613</th>\n",
       "      <td>01/08/2013</td>\n",
       "      <td>153.77</td>\n",
       "      <td>153.92</td>\n",
       "      <td>154.15</td>\n",
       "      <td>153.20</td>\n",
       "      <td>NaN</td>\n",
       "      <td>-0.10%</td>\n",
       "    </tr>\n",
       "    <tr>\n",
       "      <th>2614</th>\n",
       "      <td>01/07/2013</td>\n",
       "      <td>153.92</td>\n",
       "      <td>153.52</td>\n",
       "      <td>154.06</td>\n",
       "      <td>153.18</td>\n",
       "      <td>NaN</td>\n",
       "      <td>0.19%</td>\n",
       "    </tr>\n",
       "    <tr>\n",
       "      <th>2615</th>\n",
       "      <td>01/04/2013</td>\n",
       "      <td>153.63</td>\n",
       "      <td>152.96</td>\n",
       "      <td>153.67</td>\n",
       "      <td>152.74</td>\n",
       "      <td>33.32M</td>\n",
       "      <td>0.48%</td>\n",
       "    </tr>\n",
       "    <tr>\n",
       "      <th>2616</th>\n",
       "      <td>01/03/2013</td>\n",
       "      <td>152.90</td>\n",
       "      <td>153.13</td>\n",
       "      <td>153.73</td>\n",
       "      <td>152.63</td>\n",
       "      <td>39.34M</td>\n",
       "      <td>-0.29%</td>\n",
       "    </tr>\n",
       "    <tr>\n",
       "      <th>2617</th>\n",
       "      <td>01/02/2013</td>\n",
       "      <td>153.35</td>\n",
       "      <td>151.38</td>\n",
       "      <td>153.67</td>\n",
       "      <td>151.38</td>\n",
       "      <td>40.61M</td>\n",
       "      <td>1.38%</td>\n",
       "    </tr>\n",
       "  </tbody>\n",
       "</table>\n",
       "</div>"
      ],
      "text/plain": [
       "            Date   Price    Open    High     Low    Vol. Change %\n",
       "2613  01/08/2013  153.77  153.92  154.15  153.20     NaN   -0.10%\n",
       "2614  01/07/2013  153.92  153.52  154.06  153.18     NaN    0.19%\n",
       "2615  01/04/2013  153.63  152.96  153.67  152.74  33.32M    0.48%\n",
       "2616  01/03/2013  152.90  153.13  153.73  152.63  39.34M   -0.29%\n",
       "2617  01/02/2013  153.35  151.38  153.67  151.38  40.61M    1.38%"
      ]
     },
     "execution_count": 10,
     "metadata": {},
     "output_type": "execute_result"
    }
   ],
   "source": [
    "sp_real_estate.tail()"
   ]
  },
  {
   "cell_type": "code",
   "execution_count": 11,
   "id": "93014a51-e3c0-44e2-bf8b-4a0779b4c8ff",
   "metadata": {},
   "outputs": [],
   "source": [
    "# Real Estate has 10 years of data"
   ]
  },
  {
   "cell_type": "markdown",
   "id": "4534642b-cdf6-4e81-8238-a9811e4d0d39",
   "metadata": {},
   "source": [
    "## We will plan on creating 12 data points, one for each month since we are limited by the IT dataset. \n",
    "> The end goal will be to show the average difference between the High and Low prices on a percentage basis. We will take the average on a monthly bassis from June 2022 to June 2023.These dates are chosen based on what is available in the IT dataset. With this format applied to each dataset we can merge all of the data together and assess correlation and divergence. "
   ]
  },
  {
   "cell_type": "markdown",
   "id": "7239f722-7f2d-4d21-afee-5451457fce29",
   "metadata": {},
   "source": [
    "# Step 1: Wrangle the data"
   ]
  },
  {
   "cell_type": "code",
   "execution_count": 14,
   "id": "1f42dd3b-b65b-4638-8f38-c84d131e5548",
   "metadata": {},
   "outputs": [],
   "source": [
    "# Here are the wrangline objectives\n",
    "\n",
    "# We need the Date in numeric format.\n",
    "\n",
    "# Create a column showing the difference between High and Low as a percent.\n",
    "\n",
    "# Create a new df with a '_W' at the end to indicate Wrangling with only necesary columns\n",
    "\n",
    "# Isolate Date range for June 2022 to June 2023\n",
    "\n",
    "# Parse the Dates \n",
    "\n",
    "# Group the data by month and calculate the mean\n",
    "\n",
    "# Create visualization for individual dataset"
   ]
  },
  {
   "cell_type": "code",
   "execution_count": 9,
   "id": "b670a6a8-fced-4ebf-8c22-170586aeb9af",
   "metadata": {},
   "outputs": [],
   "source": [
    "# Converting dates to datetime format\n",
    "sp_materials['Date'] = pd.to_datetime(sp_materials['Date'], format='%m/%d/%Y')\n",
    "sp_utilities['Date'] = pd.to_datetime(sp_utilities['Date'], format='%m/%d/%Y')\n",
    "sp_real_estate['Date'] = pd.to_datetime(sp_real_estate['Date'], format='%m/%d/%Y')"
   ]
  },
  {
   "cell_type": "markdown",
   "id": "2e4b3194-592e-42aa-8be4-53e4137245d3",
   "metadata": {},
   "source": [
    "### In the Consumer Staples Dataset (CommS) the prices are string Dtype. They must be converted to numeric for calculating the difference. "
   ]
  },
  {
   "cell_type": "code",
   "execution_count": 12,
   "id": "1110e904-a470-4007-95dd-8d65baca31cc",
   "metadata": {},
   "outputs": [],
   "source": [
    "CommS['High'] = pd.to_numeric(CommS['High'], errors='coerce')\n",
    "CommS['Low'] = pd.to_numeric(CommS['Low'], errors='coerce')\n",
    "#For Differend dataset"
   ]
  },
  {
   "cell_type": "code",
   "execution_count": 15,
   "id": "2eb25e3f-7388-490f-ba6e-126b6a7ea000",
   "metadata": {},
   "outputs": [],
   "source": [
    "# Create Column showing the difference beween the Open and Close price !!!as a percentage!!!\n",
    "# ** The percent changed is based on the opening price for the session\n",
    "\n",
    "# All of these columns will eventually be merged so we need to add a suffix to the colunms\n",
    "\n",
    "sp_materials['diff_sp_mat'] = ((sp_materials['High'] - sp_materials['Low'])/ sp_materials['Low']) * (100)\n",
    "sp_utilities['diff_sp_utilities'] = ((sp_utilities['High'] - sp_utilities['Low'])/ sp_utilities['Low']) * (100)\n",
    "sp_real_estate['diff_sp_real_estate'] = ((sp_real_estate['High'] - sp_real_estate['Low'])/ sp_real_estate['Low']) * (100)"
   ]
  },
  {
   "cell_type": "markdown",
   "id": "ff995c9c-b1e1-4b42-94ca-45defb6cf213",
   "metadata": {},
   "source": [
    "### Here we can inspect the changes before moving forward \n",
    "> Specifically we are looking at our difference column\n",
    "\n",
    "> The difference column require a unique ID for the data it represents since we are merging the datasets. The standard naming convention will be 'diff_suffix\""
   ]
  },
  {
   "cell_type": "code",
   "execution_count": 10,
   "id": "48eeef1a-c770-4435-9e10-1613b9ccfd8e",
   "metadata": {},
   "outputs": [
    {
     "data": {
      "text/html": [
       "<div>\n",
       "<style scoped>\n",
       "    .dataframe tbody tr th:only-of-type {\n",
       "        vertical-align: middle;\n",
       "    }\n",
       "\n",
       "    .dataframe tbody tr th {\n",
       "        vertical-align: top;\n",
       "    }\n",
       "\n",
       "    .dataframe thead th {\n",
       "        text-align: right;\n",
       "    }\n",
       "</style>\n",
       "<table border=\"1\" class=\"dataframe\">\n",
       "  <thead>\n",
       "    <tr style=\"text-align: right;\">\n",
       "      <th></th>\n",
       "      <th>Date</th>\n",
       "      <th>Price</th>\n",
       "      <th>Open</th>\n",
       "      <th>High</th>\n",
       "      <th>Low</th>\n",
       "      <th>Vol.</th>\n",
       "      <th>Change %</th>\n",
       "    </tr>\n",
       "  </thead>\n",
       "  <tbody>\n",
       "    <tr>\n",
       "      <th>0</th>\n",
       "      <td>2023-05-31</td>\n",
       "      <td>471.02</td>\n",
       "      <td>473.78</td>\n",
       "      <td>474.90</td>\n",
       "      <td>469.18</td>\n",
       "      <td>142.97M</td>\n",
       "      <td>-1.12%</td>\n",
       "    </tr>\n",
       "    <tr>\n",
       "      <th>1</th>\n",
       "      <td>2023-05-30</td>\n",
       "      <td>476.37</td>\n",
       "      <td>479.17</td>\n",
       "      <td>479.32</td>\n",
       "      <td>472.87</td>\n",
       "      <td>80.34M</td>\n",
       "      <td>-0.59%</td>\n",
       "    </tr>\n",
       "    <tr>\n",
       "      <th>2</th>\n",
       "      <td>2023-05-26</td>\n",
       "      <td>479.21</td>\n",
       "      <td>479.30</td>\n",
       "      <td>482.37</td>\n",
       "      <td>477.26</td>\n",
       "      <td>70.83M</td>\n",
       "      <td>0.42%</td>\n",
       "    </tr>\n",
       "    <tr>\n",
       "      <th>3</th>\n",
       "      <td>2023-05-25</td>\n",
       "      <td>477.22</td>\n",
       "      <td>478.85</td>\n",
       "      <td>479.46</td>\n",
       "      <td>474.69</td>\n",
       "      <td>78.10M</td>\n",
       "      <td>-0.38%</td>\n",
       "    </tr>\n",
       "    <tr>\n",
       "      <th>4</th>\n",
       "      <td>2023-05-24</td>\n",
       "      <td>479.04</td>\n",
       "      <td>483.45</td>\n",
       "      <td>483.45</td>\n",
       "      <td>478.16</td>\n",
       "      <td>75.35M</td>\n",
       "      <td>-1.12%</td>\n",
       "    </tr>\n",
       "  </tbody>\n",
       "</table>\n",
       "</div>"
      ],
      "text/plain": [
       "        Date   Price    Open    High     Low     Vol. Change %\n",
       "0 2023-05-31  471.02  473.78  474.90  469.18  142.97M   -1.12%\n",
       "1 2023-05-30  476.37  479.17  479.32  472.87   80.34M   -0.59%\n",
       "2 2023-05-26  479.21  479.30  482.37  477.26   70.83M    0.42%\n",
       "3 2023-05-25  477.22  478.85  479.46  474.69   78.10M   -0.38%\n",
       "4 2023-05-24  479.04  483.45  483.45  478.16   75.35M   -1.12%"
      ]
     },
     "execution_count": 10,
     "metadata": {},
     "output_type": "execute_result"
    }
   ],
   "source": [
    "sp_materials.head()"
   ]
  },
  {
   "cell_type": "code",
   "execution_count": 11,
   "id": "288fa2cf-c657-473b-9e12-7a02ea3d5a1c",
   "metadata": {},
   "outputs": [
    {
     "data": {
      "text/html": [
       "<div>\n",
       "<style scoped>\n",
       "    .dataframe tbody tr th:only-of-type {\n",
       "        vertical-align: middle;\n",
       "    }\n",
       "\n",
       "    .dataframe tbody tr th {\n",
       "        vertical-align: top;\n",
       "    }\n",
       "\n",
       "    .dataframe thead th {\n",
       "        text-align: right;\n",
       "    }\n",
       "</style>\n",
       "<table border=\"1\" class=\"dataframe\">\n",
       "  <thead>\n",
       "    <tr style=\"text-align: right;\">\n",
       "      <th></th>\n",
       "      <th>Date</th>\n",
       "      <th>Price</th>\n",
       "      <th>Open</th>\n",
       "      <th>High</th>\n",
       "      <th>Low</th>\n",
       "      <th>Vol.</th>\n",
       "      <th>Change %</th>\n",
       "    </tr>\n",
       "  </thead>\n",
       "  <tbody>\n",
       "    <tr>\n",
       "      <th>0</th>\n",
       "      <td>2023-05-31</td>\n",
       "      <td>327.97</td>\n",
       "      <td>325.31</td>\n",
       "      <td>329.35</td>\n",
       "      <td>323.00</td>\n",
       "      <td>182.05M</td>\n",
       "      <td>0.96%</td>\n",
       "    </tr>\n",
       "    <tr>\n",
       "      <th>1</th>\n",
       "      <td>2023-05-30</td>\n",
       "      <td>324.86</td>\n",
       "      <td>326.58</td>\n",
       "      <td>328.37</td>\n",
       "      <td>324.47</td>\n",
       "      <td>113.20M</td>\n",
       "      <td>-0.39%</td>\n",
       "    </tr>\n",
       "    <tr>\n",
       "      <th>2</th>\n",
       "      <td>2023-05-26</td>\n",
       "      <td>326.13</td>\n",
       "      <td>325.94</td>\n",
       "      <td>326.39</td>\n",
       "      <td>322.96</td>\n",
       "      <td>98.04M</td>\n",
       "      <td>-0.10%</td>\n",
       "    </tr>\n",
       "    <tr>\n",
       "      <th>3</th>\n",
       "      <td>2023-05-25</td>\n",
       "      <td>326.45</td>\n",
       "      <td>330.08</td>\n",
       "      <td>330.08</td>\n",
       "      <td>324.25</td>\n",
       "      <td>104.56M</td>\n",
       "      <td>-1.38%</td>\n",
       "    </tr>\n",
       "    <tr>\n",
       "      <th>4</th>\n",
       "      <td>2023-05-24</td>\n",
       "      <td>331.01</td>\n",
       "      <td>332.83</td>\n",
       "      <td>333.67</td>\n",
       "      <td>330.48</td>\n",
       "      <td>90.54M</td>\n",
       "      <td>-0.63%</td>\n",
       "    </tr>\n",
       "  </tbody>\n",
       "</table>\n",
       "</div>"
      ],
      "text/plain": [
       "        Date   Price    Open    High     Low     Vol. Change %\n",
       "0 2023-05-31  327.97  325.31  329.35  323.00  182.05M    0.96%\n",
       "1 2023-05-30  324.86  326.58  328.37  324.47  113.20M   -0.39%\n",
       "2 2023-05-26  326.13  325.94  326.39  322.96   98.04M   -0.10%\n",
       "3 2023-05-25  326.45  330.08  330.08  324.25  104.56M   -1.38%\n",
       "4 2023-05-24  331.01  332.83  333.67  330.48   90.54M   -0.63%"
      ]
     },
     "execution_count": 11,
     "metadata": {},
     "output_type": "execute_result"
    }
   ],
   "source": [
    "sp_utilities.head()"
   ]
  },
  {
   "cell_type": "code",
   "execution_count": 12,
   "id": "7c854cd4-84f3-4e2b-b62b-07940f5a2bf5",
   "metadata": {},
   "outputs": [
    {
     "data": {
      "text/html": [
       "<div>\n",
       "<style scoped>\n",
       "    .dataframe tbody tr th:only-of-type {\n",
       "        vertical-align: middle;\n",
       "    }\n",
       "\n",
       "    .dataframe tbody tr th {\n",
       "        vertical-align: top;\n",
       "    }\n",
       "\n",
       "    .dataframe thead th {\n",
       "        text-align: right;\n",
       "    }\n",
       "</style>\n",
       "<table border=\"1\" class=\"dataframe\">\n",
       "  <thead>\n",
       "    <tr style=\"text-align: right;\">\n",
       "      <th></th>\n",
       "      <th>Date</th>\n",
       "      <th>Price</th>\n",
       "      <th>Open</th>\n",
       "      <th>High</th>\n",
       "      <th>Low</th>\n",
       "      <th>Vol.</th>\n",
       "      <th>Change %</th>\n",
       "    </tr>\n",
       "  </thead>\n",
       "  <tbody>\n",
       "    <tr>\n",
       "      <th>0</th>\n",
       "      <td>2023-05-31</td>\n",
       "      <td>225.65</td>\n",
       "      <td>224.55</td>\n",
       "      <td>226.00</td>\n",
       "      <td>222.94</td>\n",
       "      <td>167.82M</td>\n",
       "      <td>0.68%</td>\n",
       "    </tr>\n",
       "    <tr>\n",
       "      <th>1</th>\n",
       "      <td>2023-05-30</td>\n",
       "      <td>224.13</td>\n",
       "      <td>225.06</td>\n",
       "      <td>227.10</td>\n",
       "      <td>223.74</td>\n",
       "      <td>61.39M</td>\n",
       "      <td>0.30%</td>\n",
       "    </tr>\n",
       "    <tr>\n",
       "      <th>2</th>\n",
       "      <td>2023-05-26</td>\n",
       "      <td>223.45</td>\n",
       "      <td>221.43</td>\n",
       "      <td>223.90</td>\n",
       "      <td>220.49</td>\n",
       "      <td>53.55M</td>\n",
       "      <td>1.18%</td>\n",
       "    </tr>\n",
       "    <tr>\n",
       "      <th>3</th>\n",
       "      <td>2023-05-25</td>\n",
       "      <td>220.85</td>\n",
       "      <td>221.39</td>\n",
       "      <td>222.48</td>\n",
       "      <td>219.31</td>\n",
       "      <td>68.33M</td>\n",
       "      <td>0.27%</td>\n",
       "    </tr>\n",
       "    <tr>\n",
       "      <th>4</th>\n",
       "      <td>2023-05-24</td>\n",
       "      <td>220.26</td>\n",
       "      <td>224.57</td>\n",
       "      <td>224.61</td>\n",
       "      <td>219.98</td>\n",
       "      <td>56.90M</td>\n",
       "      <td>-2.22%</td>\n",
       "    </tr>\n",
       "  </tbody>\n",
       "</table>\n",
       "</div>"
      ],
      "text/plain": [
       "        Date   Price    Open    High     Low     Vol. Change %\n",
       "0 2023-05-31  225.65  224.55  226.00  222.94  167.82M    0.68%\n",
       "1 2023-05-30  224.13  225.06  227.10  223.74   61.39M    0.30%\n",
       "2 2023-05-26  223.45  221.43  223.90  220.49   53.55M    1.18%\n",
       "3 2023-05-25  220.85  221.39  222.48  219.31   68.33M    0.27%\n",
       "4 2023-05-24  220.26  224.57  224.61  219.98   56.90M   -2.22%"
      ]
     },
     "execution_count": 12,
     "metadata": {},
     "output_type": "execute_result"
    }
   ],
   "source": [
    "sp_real_estate.head()"
   ]
  },
  {
   "cell_type": "markdown",
   "id": "0eba8ba1-9314-412a-889a-da70d2de233c",
   "metadata": {},
   "source": [
    "## Now we are creating our wrangled dataframe with '_W' suffix.\n",
    "> This dataset will be trimmed down containing only necessary data for the analysis."
   ]
  },
  {
   "cell_type": "code",
   "execution_count": 16,
   "id": "a7d401c9-b6f0-4cf9-aa27-d703ddaf3a7b",
   "metadata": {},
   "outputs": [],
   "source": [
    "sp_materials_W = sp_materials[['Date', 'diff_sp_mat']]\n",
    "sp_utilities_W = sp_utilities[['Date', 'diff_sp_utilities']]\n",
    "sp_real_estate_W = sp_real_estate[['Date','diff_sp_real_estate']]"
   ]
  },
  {
   "cell_type": "code",
   "execution_count": null,
   "id": "5c274e65-cf8a-4b92-961d-e4f83856f151",
   "metadata": {
    "tags": []
   },
   "outputs": [],
   "source": [
    "#### Take a look and make sure this is correct"
   ]
  },
  {
   "cell_type": "code",
   "execution_count": 17,
   "id": "192933a2-9995-4f60-83d9-b3613b050412",
   "metadata": {},
   "outputs": [
    {
     "data": {
      "text/html": [
       "<div>\n",
       "<style scoped>\n",
       "    .dataframe tbody tr th:only-of-type {\n",
       "        vertical-align: middle;\n",
       "    }\n",
       "\n",
       "    .dataframe tbody tr th {\n",
       "        vertical-align: top;\n",
       "    }\n",
       "\n",
       "    .dataframe thead th {\n",
       "        text-align: right;\n",
       "    }\n",
       "</style>\n",
       "<table border=\"1\" class=\"dataframe\">\n",
       "  <thead>\n",
       "    <tr style=\"text-align: right;\">\n",
       "      <th></th>\n",
       "      <th>Date</th>\n",
       "      <th>diff_sp_mat</th>\n",
       "    </tr>\n",
       "  </thead>\n",
       "  <tbody>\n",
       "    <tr>\n",
       "      <th>0</th>\n",
       "      <td>2023-05-31</td>\n",
       "      <td>1.219148</td>\n",
       "    </tr>\n",
       "    <tr>\n",
       "      <th>1</th>\n",
       "      <td>2023-05-30</td>\n",
       "      <td>1.364011</td>\n",
       "    </tr>\n",
       "  </tbody>\n",
       "</table>\n",
       "</div>"
      ],
      "text/plain": [
       "        Date  diff_sp_mat\n",
       "0 2023-05-31     1.219148\n",
       "1 2023-05-30     1.364011"
      ]
     },
     "execution_count": 17,
     "metadata": {},
     "output_type": "execute_result"
    }
   ],
   "source": [
    "sp_materials_W.head(2)"
   ]
  },
  {
   "cell_type": "code",
   "execution_count": 18,
   "id": "3b5f171a-5f5b-4e81-9699-4f998dc46e2a",
   "metadata": {},
   "outputs": [
    {
     "data": {
      "text/html": [
       "<div>\n",
       "<style scoped>\n",
       "    .dataframe tbody tr th:only-of-type {\n",
       "        vertical-align: middle;\n",
       "    }\n",
       "\n",
       "    .dataframe tbody tr th {\n",
       "        vertical-align: top;\n",
       "    }\n",
       "\n",
       "    .dataframe thead th {\n",
       "        text-align: right;\n",
       "    }\n",
       "</style>\n",
       "<table border=\"1\" class=\"dataframe\">\n",
       "  <thead>\n",
       "    <tr style=\"text-align: right;\">\n",
       "      <th></th>\n",
       "      <th>Date</th>\n",
       "      <th>diff_sp_utilities</th>\n",
       "    </tr>\n",
       "  </thead>\n",
       "  <tbody>\n",
       "    <tr>\n",
       "      <th>0</th>\n",
       "      <td>2023-05-31</td>\n",
       "      <td>1.965944</td>\n",
       "    </tr>\n",
       "    <tr>\n",
       "      <th>1</th>\n",
       "      <td>2023-05-30</td>\n",
       "      <td>1.201960</td>\n",
       "    </tr>\n",
       "  </tbody>\n",
       "</table>\n",
       "</div>"
      ],
      "text/plain": [
       "        Date  diff_sp_utilities\n",
       "0 2023-05-31           1.965944\n",
       "1 2023-05-30           1.201960"
      ]
     },
     "execution_count": 18,
     "metadata": {},
     "output_type": "execute_result"
    }
   ],
   "source": [
    "sp_utilities_W.head(2)"
   ]
  },
  {
   "cell_type": "code",
   "execution_count": 19,
   "id": "c15254c1-c43c-4ecd-8a9f-e5a098d9c7aa",
   "metadata": {},
   "outputs": [
    {
     "data": {
      "text/html": [
       "<div>\n",
       "<style scoped>\n",
       "    .dataframe tbody tr th:only-of-type {\n",
       "        vertical-align: middle;\n",
       "    }\n",
       "\n",
       "    .dataframe tbody tr th {\n",
       "        vertical-align: top;\n",
       "    }\n",
       "\n",
       "    .dataframe thead th {\n",
       "        text-align: right;\n",
       "    }\n",
       "</style>\n",
       "<table border=\"1\" class=\"dataframe\">\n",
       "  <thead>\n",
       "    <tr style=\"text-align: right;\">\n",
       "      <th></th>\n",
       "      <th>Date</th>\n",
       "      <th>diff_sp_real_estate</th>\n",
       "    </tr>\n",
       "  </thead>\n",
       "  <tbody>\n",
       "    <tr>\n",
       "      <th>0</th>\n",
       "      <td>2023-05-31</td>\n",
       "      <td>1.372567</td>\n",
       "    </tr>\n",
       "    <tr>\n",
       "      <th>1</th>\n",
       "      <td>2023-05-30</td>\n",
       "      <td>1.501743</td>\n",
       "    </tr>\n",
       "  </tbody>\n",
       "</table>\n",
       "</div>"
      ],
      "text/plain": [
       "        Date  diff_sp_real_estate\n",
       "0 2023-05-31             1.372567\n",
       "1 2023-05-30             1.501743"
      ]
     },
     "execution_count": 19,
     "metadata": {},
     "output_type": "execute_result"
    }
   ],
   "source": [
    "sp_real_estate_W.head(2)"
   ]
  },
  {
   "cell_type": "markdown",
   "id": "6f2ce85a-b7d6-4ae3-9df7-373bbda04fe8",
   "metadata": {},
   "source": [
    "## Trim the data down to only June 2022 to June 2023"
   ]
  },
  {
   "cell_type": "code",
   "execution_count": 20,
   "id": "8a215aa6-5429-491e-94ca-72a592064737",
   "metadata": {},
   "outputs": [],
   "source": [
    "# Assign the start and end dates we want to filter as a variable\n",
    "start_date = pd.to_datetime('2018-05-31')\n",
    "end_date = pd.to_datetime('2023-05-31')"
   ]
  },
  {
   "cell_type": "code",
   "execution_count": 21,
   "id": "eded9634-7634-4b4d-a65d-389acb2f06d0",
   "metadata": {},
   "outputs": [],
   "source": [
    "# Use stand and end dates to trim the data for the desired uniform dates. \n",
    "sp_materials_W = sp_materials_W[(sp_materials_W['Date'] >= start_date) & (sp_materials_W['Date'] <= end_date)]"
   ]
  },
  {
   "cell_type": "code",
   "execution_count": 22,
   "id": "040c6d37-6490-4161-8772-596e40d8f7e0",
   "metadata": {},
   "outputs": [],
   "source": [
    "# Use stand and end dates to trim the data for the desired uniform dates. \n",
    "sp_utilities_W = sp_utilities_W[(sp_utilities_W['Date'] >= start_date) & (sp_utilities_W['Date'] <= end_date)]"
   ]
  },
  {
   "cell_type": "code",
   "execution_count": 24,
   "id": "103ec01b-f063-474a-adf4-08040518b4cd",
   "metadata": {},
   "outputs": [],
   "source": [
    "# Use stand and end dates to trim the data for the desired uniform dates. \n",
    "sp_real_estate_W = sp_real_estate_W[(sp_real_estate_W['Date'] >= start_date) & (sp_real_estate_W['Date'] <= end_date)]"
   ]
  },
  {
   "cell_type": "markdown",
   "id": "cc8c18ed-4a84-4a02-b4a9-883a995c2be2",
   "metadata": {},
   "source": [
    "### sp_materials- Parse dates, calcuate mean, and generate visualization"
   ]
  },
  {
   "cell_type": "code",
   "execution_count": 25,
   "id": "598cea6d-f6e9-472a-a206-4ca176d0b7cd",
   "metadata": {
    "tags": []
   },
   "outputs": [],
   "source": [
    "# Extract year and month\n",
    "sp_materials_W['year_month'] = sp_materials_W['Date'].dt.strftime('%Y-%m')\n",
    "#sp_materials_W.loc[:, 'year_month'] = sp_materials_W['Date'].dt.strftime('%Y-%m'), can avoid potential errors in the future"
   ]
  },
  {
   "cell_type": "code",
   "execution_count": 26,
   "id": "9d0e3608-3765-4e97-92ae-bdf834192301",
   "metadata": {},
   "outputs": [
    {
     "data": {
      "text/html": [
       "<div>\n",
       "<style scoped>\n",
       "    .dataframe tbody tr th:only-of-type {\n",
       "        vertical-align: middle;\n",
       "    }\n",
       "\n",
       "    .dataframe tbody tr th {\n",
       "        vertical-align: top;\n",
       "    }\n",
       "\n",
       "    .dataframe thead th {\n",
       "        text-align: right;\n",
       "    }\n",
       "</style>\n",
       "<table border=\"1\" class=\"dataframe\">\n",
       "  <thead>\n",
       "    <tr style=\"text-align: right;\">\n",
       "      <th></th>\n",
       "      <th>Date</th>\n",
       "      <th>diff_sp_mat</th>\n",
       "      <th>year_month</th>\n",
       "    </tr>\n",
       "  </thead>\n",
       "  <tbody>\n",
       "    <tr>\n",
       "      <th>0</th>\n",
       "      <td>2023-05-31</td>\n",
       "      <td>1.219148</td>\n",
       "      <td>2023-05</td>\n",
       "    </tr>\n",
       "    <tr>\n",
       "      <th>1</th>\n",
       "      <td>2023-05-30</td>\n",
       "      <td>1.364011</td>\n",
       "      <td>2023-05</td>\n",
       "    </tr>\n",
       "  </tbody>\n",
       "</table>\n",
       "</div>"
      ],
      "text/plain": [
       "        Date  diff_sp_mat year_month\n",
       "0 2023-05-31     1.219148    2023-05\n",
       "1 2023-05-30     1.364011    2023-05"
      ]
     },
     "execution_count": 26,
     "metadata": {},
     "output_type": "execute_result"
    }
   ],
   "source": [
    "sp_materials_W.head(2)"
   ]
  },
  {
   "cell_type": "code",
   "execution_count": 27,
   "id": "59461311-b0cb-478a-ae9f-8d5b87350464",
   "metadata": {},
   "outputs": [],
   "source": [
    "# Group the data by month and get the mean of the daily percent\n",
    "\n",
    "sp_materials_mean = sp_materials_W.groupby('year_month')['diff_sp_mat'].mean()"
   ]
  },
  {
   "cell_type": "code",
   "execution_count": 28,
   "id": "2ad6f48b-7b4f-43fa-87d6-7204b0ca8979",
   "metadata": {},
   "outputs": [
    {
     "data": {
      "text/html": [
       "<div>\n",
       "<style scoped>\n",
       "    .dataframe tbody tr th:only-of-type {\n",
       "        vertical-align: middle;\n",
       "    }\n",
       "\n",
       "    .dataframe tbody tr th {\n",
       "        vertical-align: top;\n",
       "    }\n",
       "\n",
       "    .dataframe thead th {\n",
       "        text-align: right;\n",
       "    }\n",
       "</style>\n",
       "<table border=\"1\" class=\"dataframe\">\n",
       "  <thead>\n",
       "    <tr style=\"text-align: right;\">\n",
       "      <th></th>\n",
       "      <th>year_month</th>\n",
       "      <th>diff_sp_mat</th>\n",
       "    </tr>\n",
       "  </thead>\n",
       "  <tbody>\n",
       "    <tr>\n",
       "      <th>0</th>\n",
       "      <td>2018-05</td>\n",
       "      <td>1.035641</td>\n",
       "    </tr>\n",
       "    <tr>\n",
       "      <th>1</th>\n",
       "      <td>2018-06</td>\n",
       "      <td>1.177986</td>\n",
       "    </tr>\n",
       "    <tr>\n",
       "      <th>2</th>\n",
       "      <td>2018-07</td>\n",
       "      <td>1.072100</td>\n",
       "    </tr>\n",
       "    <tr>\n",
       "      <th>3</th>\n",
       "      <td>2018-08</td>\n",
       "      <td>1.109348</td>\n",
       "    </tr>\n",
       "    <tr>\n",
       "      <th>4</th>\n",
       "      <td>2018-09</td>\n",
       "      <td>1.010006</td>\n",
       "    </tr>\n",
       "  </tbody>\n",
       "</table>\n",
       "</div>"
      ],
      "text/plain": [
       "  year_month  diff_sp_mat\n",
       "0    2018-05     1.035641\n",
       "1    2018-06     1.177986\n",
       "2    2018-07     1.072100\n",
       "3    2018-08     1.109348\n",
       "4    2018-09     1.010006"
      ]
     },
     "execution_count": 28,
     "metadata": {},
     "output_type": "execute_result"
    }
   ],
   "source": [
    "# resetting the index corrects index to maintain column name integrity.\n",
    "sp_materials_mean = sp_materials_mean.reset_index()\n",
    "sp_materials_mean.head()"
   ]
  },
  {
   "cell_type": "code",
   "execution_count": 29,
   "id": "0211b260-fc50-4145-b469-9f3091b9640c",
   "metadata": {},
   "outputs": [
    {
     "data": {
      "image/png": "[encoded data removed]",
      "text/plain": [
       "<Figure size 640x480 with 1 Axes>"
      ]
     },
     "metadata": {},
     "output_type": "display_data"
    }
   ],
   "source": [
    "# Set the 'Year' column as the index\n",
    "\n",
    "sp_materials_mean = sp_materials_mean.reset_index() # resetting the index corrects index to maintain column name integrity.\n",
    "sp_materials_mean.set_index('year_month', inplace=True) # set_index assigns the date as the X axis\n",
    "\n",
    "# Plotting the Inflation Data as a line graph\n",
    "sp_materials_mean['diff_sp_mat'].plot() # This assigns the data to be plotted\n",
    "plt.xlabel('Month/Year')\n",
    "plt.ylabel('Average Percent Change')\n",
    "plt.title('Materials Average Daily Price Change(in percent)')\n",
    "plt.show()"
   ]
  },
  {
   "cell_type": "markdown",
   "id": "e55fa522-4ef6-4dd3-9216-a90ee130587a",
   "metadata": {},
   "source": [
    "### IT- Parse dates, calcuate mean, and generate visualization"
   ]
  },
  {
   "cell_type": "code",
   "execution_count": 30,
   "id": "cc246070-c571-41b7-a33e-6d79550637fa",
   "metadata": {},
   "outputs": [],
   "source": [
    "sp_utilities_W = sp_utilities_W.reset_index()"
   ]
  },
  {
   "cell_type": "code",
   "execution_count": 31,
   "id": "dc6154bc-fbf7-4aa5-892d-5469ce7d3746",
   "metadata": {
    "tags": []
   },
   "outputs": [],
   "source": [
    "# Extract year and month\n",
    "sp_utilities_W['year_month'] = sp_utilities_W['Date'].dt.strftime('%Y-%m')"
   ]
  },
  {
   "cell_type": "code",
   "execution_count": 32,
   "id": "eaba643c-5526-487b-98de-21d42d232596",
   "metadata": {},
   "outputs": [
    {
     "data": {
      "text/html": [
       "<div>\n",
       "<style scoped>\n",
       "    .dataframe tbody tr th:only-of-type {\n",
       "        vertical-align: middle;\n",
       "    }\n",
       "\n",
       "    .dataframe tbody tr th {\n",
       "        vertical-align: top;\n",
       "    }\n",
       "\n",
       "    .dataframe thead th {\n",
       "        text-align: right;\n",
       "    }\n",
       "</style>\n",
       "<table border=\"1\" class=\"dataframe\">\n",
       "  <thead>\n",
       "    <tr style=\"text-align: right;\">\n",
       "      <th></th>\n",
       "      <th>index</th>\n",
       "      <th>Date</th>\n",
       "      <th>diff_sp_utilities</th>\n",
       "      <th>year_month</th>\n",
       "    </tr>\n",
       "  </thead>\n",
       "  <tbody>\n",
       "    <tr>\n",
       "      <th>0</th>\n",
       "      <td>0</td>\n",
       "      <td>2023-05-31</td>\n",
       "      <td>1.965944</td>\n",
       "      <td>2023-05</td>\n",
       "    </tr>\n",
       "    <tr>\n",
       "      <th>1</th>\n",
       "      <td>1</td>\n",
       "      <td>2023-05-30</td>\n",
       "      <td>1.201960</td>\n",
       "      <td>2023-05</td>\n",
       "    </tr>\n",
       "  </tbody>\n",
       "</table>\n",
       "</div>"
      ],
      "text/plain": [
       "   index       Date  diff_sp_utilities year_month\n",
       "0      0 2023-05-31           1.965944    2023-05\n",
       "1      1 2023-05-30           1.201960    2023-05"
      ]
     },
     "execution_count": 32,
     "metadata": {},
     "output_type": "execute_result"
    }
   ],
   "source": [
    "sp_utilities_W.head(2)"
   ]
  },
  {
   "cell_type": "code",
   "execution_count": 33,
   "id": "1c21b10f-e43c-46e8-8927-5a2aa7b3cfa5",
   "metadata": {},
   "outputs": [],
   "source": [
    "# Group the data by month and get the mean of the daily percent\n",
    "\n",
    "sp_utilities_mean = sp_utilities_W.groupby('year_month')['diff_sp_utilities'].mean()"
   ]
  },
  {
   "cell_type": "code",
   "execution_count": 34,
   "id": "9c88f242-f981-4a24-a11b-b70408ee5419",
   "metadata": {},
   "outputs": [
    {
     "data": {
      "text/html": [
       "<div>\n",
       "<style scoped>\n",
       "    .dataframe tbody tr th:only-of-type {\n",
       "        vertical-align: middle;\n",
       "    }\n",
       "\n",
       "    .dataframe tbody tr th {\n",
       "        vertical-align: top;\n",
       "    }\n",
       "\n",
       "    .dataframe thead th {\n",
       "        text-align: right;\n",
       "    }\n",
       "</style>\n",
       "<table border=\"1\" class=\"dataframe\">\n",
       "  <thead>\n",
       "    <tr style=\"text-align: right;\">\n",
       "      <th></th>\n",
       "      <th>year_month</th>\n",
       "      <th>diff_sp_utilities</th>\n",
       "    </tr>\n",
       "  </thead>\n",
       "  <tbody>\n",
       "    <tr>\n",
       "      <th>0</th>\n",
       "      <td>2018-05</td>\n",
       "      <td>1.452062</td>\n",
       "    </tr>\n",
       "    <tr>\n",
       "      <th>1</th>\n",
       "      <td>2018-06</td>\n",
       "      <td>1.306953</td>\n",
       "    </tr>\n",
       "    <tr>\n",
       "      <th>2</th>\n",
       "      <td>2018-07</td>\n",
       "      <td>1.244638</td>\n",
       "    </tr>\n",
       "    <tr>\n",
       "      <th>3</th>\n",
       "      <td>2018-08</td>\n",
       "      <td>1.040203</td>\n",
       "    </tr>\n",
       "    <tr>\n",
       "      <th>4</th>\n",
       "      <td>2018-09</td>\n",
       "      <td>1.177992</td>\n",
       "    </tr>\n",
       "  </tbody>\n",
       "</table>\n",
       "</div>"
      ],
      "text/plain": [
       "  year_month  diff_sp_utilities\n",
       "0    2018-05           1.452062\n",
       "1    2018-06           1.306953\n",
       "2    2018-07           1.244638\n",
       "3    2018-08           1.040203\n",
       "4    2018-09           1.177992"
      ]
     },
     "execution_count": 34,
     "metadata": {},
     "output_type": "execute_result"
    }
   ],
   "source": [
    "# resetting the index corrects index to maintain column name integrity.\n",
    "sp_utilities_mean = sp_utilities_mean.reset_index()\n",
    "sp_utilities_mean.head()"
   ]
  },
  {
   "cell_type": "code",
   "execution_count": 35,
   "id": "e5fba8a6-613e-4399-b9bb-40dd73c10353",
   "metadata": {},
   "outputs": [
    {
     "data": {
      "image/png": "[encoded data removed]",
      "text/plain": [
       "<Figure size 640x480 with 1 Axes>"
      ]
     },
     "metadata": {},
     "output_type": "display_data"
    }
   ],
   "source": [
    "# Set the 'Year' column as the index\n",
    "\n",
    "sp_utilities_mean = sp_utilities_mean.reset_index() # resetting the index corrects index to maintain column name integrity.\n",
    "sp_utilities_mean.set_index('year_month', inplace=True) # set_index assigns the date as the X axis\n",
    "\n",
    "# Plotting the Inflation Data as a line graph\n",
    "sp_utilities_mean['diff_sp_utilities'].plot() # This assigns the data to be plotted\n",
    "plt.xlabel('Month/Year')\n",
    "plt.ylabel('Average Percent Change')\n",
    "plt.title('Utilities Average Daily Change(in percent)')\n",
    "plt.show()"
   ]
  },
  {
   "cell_type": "markdown",
   "id": "3091b295-ab42-457e-b870-81a172c63ae5",
   "metadata": {},
   "source": [
    "### CommS- Parse dates, calcuate mean, and generate visualization"
   ]
  },
  {
   "cell_type": "code",
   "execution_count": 36,
   "id": "c2e152bf-c54f-4d62-971f-26cff02c9c42",
   "metadata": {
    "tags": []
   },
   "outputs": [],
   "source": [
    "# Extract year and month\n",
    "sp_real_estate_W['year_month'] = sp_real_estate_W['Date'].dt.strftime('%Y-%m')"
   ]
  },
  {
   "cell_type": "code",
   "execution_count": 37,
   "id": "033a64fb-13ab-4062-a549-5d29bd3c928c",
   "metadata": {},
   "outputs": [
    {
     "data": {
      "text/html": [
       "<div>\n",
       "<style scoped>\n",
       "    .dataframe tbody tr th:only-of-type {\n",
       "        vertical-align: middle;\n",
       "    }\n",
       "\n",
       "    .dataframe tbody tr th {\n",
       "        vertical-align: top;\n",
       "    }\n",
       "\n",
       "    .dataframe thead th {\n",
       "        text-align: right;\n",
       "    }\n",
       "</style>\n",
       "<table border=\"1\" class=\"dataframe\">\n",
       "  <thead>\n",
       "    <tr style=\"text-align: right;\">\n",
       "      <th></th>\n",
       "      <th>Date</th>\n",
       "      <th>diff_sp_real_estate</th>\n",
       "      <th>year_month</th>\n",
       "    </tr>\n",
       "  </thead>\n",
       "  <tbody>\n",
       "    <tr>\n",
       "      <th>0</th>\n",
       "      <td>2023-05-31</td>\n",
       "      <td>1.372567</td>\n",
       "      <td>2023-05</td>\n",
       "    </tr>\n",
       "    <tr>\n",
       "      <th>1</th>\n",
       "      <td>2023-05-30</td>\n",
       "      <td>1.501743</td>\n",
       "      <td>2023-05</td>\n",
       "    </tr>\n",
       "  </tbody>\n",
       "</table>\n",
       "</div>"
      ],
      "text/plain": [
       "        Date  diff_sp_real_estate year_month\n",
       "0 2023-05-31             1.372567    2023-05\n",
       "1 2023-05-30             1.501743    2023-05"
      ]
     },
     "execution_count": 37,
     "metadata": {},
     "output_type": "execute_result"
    }
   ],
   "source": [
    "sp_real_estate_W.head(2)"
   ]
  },
  {
   "cell_type": "code",
   "execution_count": 38,
   "id": "a33e1025-7cee-43ce-b837-acec37bc779e",
   "metadata": {},
   "outputs": [],
   "source": [
    "# Group the data by month and get the mean of the daily percent\n",
    "\n",
    "sp_real_estate_mean = sp_real_estate_W.groupby('year_month')['diff_sp_real_estate'].mean()"
   ]
  },
  {
   "cell_type": "code",
   "execution_count": 39,
   "id": "664bd77d-1b4a-4a70-b200-82beb4093469",
   "metadata": {},
   "outputs": [
    {
     "data": {
      "text/html": [
       "<div>\n",
       "<style scoped>\n",
       "    .dataframe tbody tr th:only-of-type {\n",
       "        vertical-align: middle;\n",
       "    }\n",
       "\n",
       "    .dataframe tbody tr th {\n",
       "        vertical-align: top;\n",
       "    }\n",
       "\n",
       "    .dataframe thead th {\n",
       "        text-align: right;\n",
       "    }\n",
       "</style>\n",
       "<table border=\"1\" class=\"dataframe\">\n",
       "  <thead>\n",
       "    <tr style=\"text-align: right;\">\n",
       "      <th></th>\n",
       "      <th>year_month</th>\n",
       "      <th>diff_sp_real_estate</th>\n",
       "    </tr>\n",
       "  </thead>\n",
       "  <tbody>\n",
       "    <tr>\n",
       "      <th>0</th>\n",
       "      <td>2018-05</td>\n",
       "      <td>0.759690</td>\n",
       "    </tr>\n",
       "    <tr>\n",
       "      <th>1</th>\n",
       "      <td>2018-06</td>\n",
       "      <td>1.057051</td>\n",
       "    </tr>\n",
       "    <tr>\n",
       "      <th>2</th>\n",
       "      <td>2018-07</td>\n",
       "      <td>1.108908</td>\n",
       "    </tr>\n",
       "    <tr>\n",
       "      <th>3</th>\n",
       "      <td>2018-08</td>\n",
       "      <td>0.896781</td>\n",
       "    </tr>\n",
       "    <tr>\n",
       "      <th>4</th>\n",
       "      <td>2018-09</td>\n",
       "      <td>1.024071</td>\n",
       "    </tr>\n",
       "  </tbody>\n",
       "</table>\n",
       "</div>"
      ],
      "text/plain": [
       "  year_month  diff_sp_real_estate\n",
       "0    2018-05             0.759690\n",
       "1    2018-06             1.057051\n",
       "2    2018-07             1.108908\n",
       "3    2018-08             0.896781\n",
       "4    2018-09             1.024071"
      ]
     },
     "execution_count": 39,
     "metadata": {},
     "output_type": "execute_result"
    }
   ],
   "source": [
    "# resetting the index corrects index to maintain column name integrity.\n",
    "sp_real_estate_mean = sp_real_estate_mean.reset_index()\n",
    "sp_real_estate_mean.head()"
   ]
  },
  {
   "cell_type": "code",
   "execution_count": 40,
   "id": "7de005f9-d317-4f0b-8974-4be122148484",
   "metadata": {},
   "outputs": [
    {
     "data": {
      "image/png": "[encoded data removed]",
      "text/plain": [
       "<Figure size 640x480 with 1 Axes>"
      ]
     },
     "metadata": {},
     "output_type": "display_data"
    }
   ],
   "source": [
    "# Set the 'Year' column as the index\n",
    "\n",
    "sp_real_estate_mean = sp_real_estate_mean.reset_index() # resetting the index corrects index to maintain column name integrity.\n",
    "sp_real_estate_mean.set_index('year_month', inplace=True) # set_index assigns the date as the X axi\n",
    "\n",
    "# Plotting the Inflation Data as a line graph\n",
    "sp_real_estate_mean['diff_sp_real_estate'].plot() # This assigns the data to be plotted\n",
    "plt.xlabel('Month/Year')\n",
    "plt.ylabel('Average Percent Change')\n",
    "plt.title('Real Estate Daily Price Change(in percent)')\n",
    "plt.show()"
   ]
  },
  {
   "cell_type": "markdown",
   "id": "573e656e-11fd-4cb0-b618-d1ab36183d97",
   "metadata": {},
   "source": [
    "# Now we combine the Datasets and put them all in one graph"
   ]
  },
  {
   "cell_type": "code",
   "execution_count": 41,
   "id": "07a71135-c254-407f-a019-ca92cb4c151a",
   "metadata": {},
   "outputs": [],
   "source": [
    "# Merge materials data and IT data\n",
    "all_1 = pd.merge(sp_materials_mean, sp_utilities_mean, on='year_month', suffixes=('_mat', '_util'))"
   ]
  },
  {
   "cell_type": "code",
   "execution_count": 42,
   "id": "4cf92b9d-4dbe-4846-9049-2c87493348fe",
   "metadata": {},
   "outputs": [],
   "source": [
    "# Merge all_1 with Consumer Staples Data\n",
    "all_2 = pd.merge(all_1, sp_real_estate_mean, on='year_month',suffixes=('_all_1', '_RE'))"
   ]
  },
  {
   "cell_type": "code",
   "execution_count": 43,
   "id": "4b6e2bd4-d98f-4d6e-b21f-cae6e6149219",
   "metadata": {},
   "outputs": [
    {
     "data": {
      "text/html": [
       "<div>\n",
       "<style scoped>\n",
       "    .dataframe tbody tr th:only-of-type {\n",
       "        vertical-align: middle;\n",
       "    }\n",
       "\n",
       "    .dataframe tbody tr th {\n",
       "        vertical-align: top;\n",
       "    }\n",
       "\n",
       "    .dataframe thead th {\n",
       "        text-align: right;\n",
       "    }\n",
       "</style>\n",
       "<table border=\"1\" class=\"dataframe\">\n",
       "  <thead>\n",
       "    <tr style=\"text-align: right;\">\n",
       "      <th></th>\n",
       "      <th>index_mat</th>\n",
       "      <th>diff_sp_mat</th>\n",
       "      <th>index_util</th>\n",
       "      <th>diff_sp_utilities</th>\n",
       "      <th>index</th>\n",
       "      <th>diff_sp_real_estate</th>\n",
       "    </tr>\n",
       "    <tr>\n",
       "      <th>year_month</th>\n",
       "      <th></th>\n",
       "      <th></th>\n",
       "      <th></th>\n",
       "      <th></th>\n",
       "      <th></th>\n",
       "      <th></th>\n",
       "    </tr>\n",
       "  </thead>\n",
       "  <tbody>\n",
       "    <tr>\n",
       "      <th>2018-05</th>\n",
       "      <td>0</td>\n",
       "      <td>1.035641</td>\n",
       "      <td>0</td>\n",
       "      <td>1.452062</td>\n",
       "      <td>0</td>\n",
       "      <td>0.759690</td>\n",
       "    </tr>\n",
       "    <tr>\n",
       "      <th>2018-06</th>\n",
       "      <td>1</td>\n",
       "      <td>1.177986</td>\n",
       "      <td>1</td>\n",
       "      <td>1.306953</td>\n",
       "      <td>1</td>\n",
       "      <td>1.057051</td>\n",
       "    </tr>\n",
       "    <tr>\n",
       "      <th>2018-07</th>\n",
       "      <td>2</td>\n",
       "      <td>1.072100</td>\n",
       "      <td>2</td>\n",
       "      <td>1.244638</td>\n",
       "      <td>2</td>\n",
       "      <td>1.108908</td>\n",
       "    </tr>\n",
       "    <tr>\n",
       "      <th>2018-08</th>\n",
       "      <td>3</td>\n",
       "      <td>1.109348</td>\n",
       "      <td>3</td>\n",
       "      <td>1.040203</td>\n",
       "      <td>3</td>\n",
       "      <td>0.896781</td>\n",
       "    </tr>\n",
       "    <tr>\n",
       "      <th>2018-09</th>\n",
       "      <td>4</td>\n",
       "      <td>1.010006</td>\n",
       "      <td>4</td>\n",
       "      <td>1.177992</td>\n",
       "      <td>4</td>\n",
       "      <td>1.024071</td>\n",
       "    </tr>\n",
       "  </tbody>\n",
       "</table>\n",
       "</div>"
      ],
      "text/plain": [
       "            index_mat  diff_sp_mat  index_util  diff_sp_utilities  index   \n",
       "year_month                                                                 \n",
       "2018-05             0     1.035641           0           1.452062      0  \\\n",
       "2018-06             1     1.177986           1           1.306953      1   \n",
       "2018-07             2     1.072100           2           1.244638      2   \n",
       "2018-08             3     1.109348           3           1.040203      3   \n",
       "2018-09             4     1.010006           4           1.177992      4   \n",
       "\n",
       "            diff_sp_real_estate  \n",
       "year_month                       \n",
       "2018-05                0.759690  \n",
       "2018-06                1.057051  \n",
       "2018-07                1.108908  \n",
       "2018-08                0.896781  \n",
       "2018-09                1.024071  "
      ]
     },
     "execution_count": 43,
     "metadata": {},
     "output_type": "execute_result"
    }
   ],
   "source": [
    "all_2.head()"
   ]
  },
  {
   "cell_type": "code",
   "execution_count": 44,
   "id": "8604433a-8311-4a8d-aaf4-24b7747dff4d",
   "metadata": {},
   "outputs": [],
   "source": [
    "# Select only necessary columnns for analysis\n",
    "all_3 = all_2[['diff_sp_mat','diff_sp_utilities', 'diff_sp_real_estate']]"
   ]
  },
  {
   "cell_type": "markdown",
   "id": "a877fec4-9db8-4b44-89b5-d75387b51179",
   "metadata": {},
   "source": [
    "## Notice when all_3 is called without .reset_index() the year_month column is indexed properly with the other column names. \n",
    "> If you run all_3.columns 'year_month' will not display as a column name. Running .reset_index() remedies this"
   ]
  },
  {
   "cell_type": "code",
   "execution_count": 45,
   "id": "348183aa-c4f3-4022-b42c-d3e744f3bab9",
   "metadata": {},
   "outputs": [
    {
     "data": {
      "text/html": [
       "<div>\n",
       "<style scoped>\n",
       "    .dataframe tbody tr th:only-of-type {\n",
       "        vertical-align: middle;\n",
       "    }\n",
       "\n",
       "    .dataframe tbody tr th {\n",
       "        vertical-align: top;\n",
       "    }\n",
       "\n",
       "    .dataframe thead th {\n",
       "        text-align: right;\n",
       "    }\n",
       "</style>\n",
       "<table border=\"1\" class=\"dataframe\">\n",
       "  <thead>\n",
       "    <tr style=\"text-align: right;\">\n",
       "      <th></th>\n",
       "      <th>diff_sp_mat</th>\n",
       "      <th>diff_sp_utilities</th>\n",
       "      <th>diff_sp_real_estate</th>\n",
       "    </tr>\n",
       "    <tr>\n",
       "      <th>year_month</th>\n",
       "      <th></th>\n",
       "      <th></th>\n",
       "      <th></th>\n",
       "    </tr>\n",
       "  </thead>\n",
       "  <tbody>\n",
       "    <tr>\n",
       "      <th>2018-05</th>\n",
       "      <td>1.035641</td>\n",
       "      <td>1.452062</td>\n",
       "      <td>0.759690</td>\n",
       "    </tr>\n",
       "    <tr>\n",
       "      <th>2018-06</th>\n",
       "      <td>1.177986</td>\n",
       "      <td>1.306953</td>\n",
       "      <td>1.057051</td>\n",
       "    </tr>\n",
       "    <tr>\n",
       "      <th>2018-07</th>\n",
       "      <td>1.072100</td>\n",
       "      <td>1.244638</td>\n",
       "      <td>1.108908</td>\n",
       "    </tr>\n",
       "    <tr>\n",
       "      <th>2018-08</th>\n",
       "      <td>1.109348</td>\n",
       "      <td>1.040203</td>\n",
       "      <td>0.896781</td>\n",
       "    </tr>\n",
       "    <tr>\n",
       "      <th>2018-09</th>\n",
       "      <td>1.010006</td>\n",
       "      <td>1.177992</td>\n",
       "      <td>1.024071</td>\n",
       "    </tr>\n",
       "    <tr>\n",
       "      <th>...</th>\n",
       "      <td>...</td>\n",
       "      <td>...</td>\n",
       "      <td>...</td>\n",
       "    </tr>\n",
       "    <tr>\n",
       "      <th>2023-01</th>\n",
       "      <td>1.640410</td>\n",
       "      <td>1.508423</td>\n",
       "      <td>1.887216</td>\n",
       "    </tr>\n",
       "    <tr>\n",
       "      <th>2023-02</th>\n",
       "      <td>1.676064</td>\n",
       "      <td>1.744069</td>\n",
       "      <td>1.661028</td>\n",
       "    </tr>\n",
       "    <tr>\n",
       "      <th>2023-03</th>\n",
       "      <td>1.789037</td>\n",
       "      <td>1.997769</td>\n",
       "      <td>2.121913</td>\n",
       "    </tr>\n",
       "    <tr>\n",
       "      <th>2023-04</th>\n",
       "      <td>1.148121</td>\n",
       "      <td>1.255805</td>\n",
       "      <td>1.552254</td>\n",
       "    </tr>\n",
       "    <tr>\n",
       "      <th>2023-05</th>\n",
       "      <td>1.265943</td>\n",
       "      <td>1.416876</td>\n",
       "      <td>1.559618</td>\n",
       "    </tr>\n",
       "  </tbody>\n",
       "</table>\n",
       "<p>61 rows × 3 columns</p>\n",
       "</div>"
      ],
      "text/plain": [
       "            diff_sp_mat  diff_sp_utilities  diff_sp_real_estate\n",
       "year_month                                                     \n",
       "2018-05        1.035641           1.452062             0.759690\n",
       "2018-06        1.177986           1.306953             1.057051\n",
       "2018-07        1.072100           1.244638             1.108908\n",
       "2018-08        1.109348           1.040203             0.896781\n",
       "2018-09        1.010006           1.177992             1.024071\n",
       "...                 ...                ...                  ...\n",
       "2023-01        1.640410           1.508423             1.887216\n",
       "2023-02        1.676064           1.744069             1.661028\n",
       "2023-03        1.789037           1.997769             2.121913\n",
       "2023-04        1.148121           1.255805             1.552254\n",
       "2023-05        1.265943           1.416876             1.559618\n",
       "\n",
       "[61 rows x 3 columns]"
      ]
     },
     "execution_count": 45,
     "metadata": {},
     "output_type": "execute_result"
    }
   ],
   "source": [
    "\n",
    "all_3"
   ]
  },
  {
   "cell_type": "code",
   "execution_count": 46,
   "id": "bbf968b6-a1e8-4baf-aa17-e6af5569bf39",
   "metadata": {},
   "outputs": [
    {
     "data": {
      "text/plain": [
       "Index(['diff_sp_mat', 'diff_sp_utilities', 'diff_sp_real_estate'], dtype='object')"
      ]
     },
     "execution_count": 46,
     "metadata": {},
     "output_type": "execute_result"
    }
   ],
   "source": [
    "all_3.columns"
   ]
  },
  {
   "cell_type": "code",
   "execution_count": 47,
   "id": "aac19744-6978-406f-a245-a79bade269f5",
   "metadata": {},
   "outputs": [
    {
     "data": {
      "text/html": [
       "<div>\n",
       "<style scoped>\n",
       "    .dataframe tbody tr th:only-of-type {\n",
       "        vertical-align: middle;\n",
       "    }\n",
       "\n",
       "    .dataframe tbody tr th {\n",
       "        vertical-align: top;\n",
       "    }\n",
       "\n",
       "    .dataframe thead th {\n",
       "        text-align: right;\n",
       "    }\n",
       "</style>\n",
       "<table border=\"1\" class=\"dataframe\">\n",
       "  <thead>\n",
       "    <tr style=\"text-align: right;\">\n",
       "      <th></th>\n",
       "      <th>year_month</th>\n",
       "      <th>diff_sp_mat</th>\n",
       "      <th>diff_sp_utilities</th>\n",
       "      <th>diff_sp_real_estate</th>\n",
       "    </tr>\n",
       "  </thead>\n",
       "  <tbody>\n",
       "    <tr>\n",
       "      <th>0</th>\n",
       "      <td>2018-05</td>\n",
       "      <td>1.035641</td>\n",
       "      <td>1.452062</td>\n",
       "      <td>0.759690</td>\n",
       "    </tr>\n",
       "    <tr>\n",
       "      <th>1</th>\n",
       "      <td>2018-06</td>\n",
       "      <td>1.177986</td>\n",
       "      <td>1.306953</td>\n",
       "      <td>1.057051</td>\n",
       "    </tr>\n",
       "    <tr>\n",
       "      <th>2</th>\n",
       "      <td>2018-07</td>\n",
       "      <td>1.072100</td>\n",
       "      <td>1.244638</td>\n",
       "      <td>1.108908</td>\n",
       "    </tr>\n",
       "    <tr>\n",
       "      <th>3</th>\n",
       "      <td>2018-08</td>\n",
       "      <td>1.109348</td>\n",
       "      <td>1.040203</td>\n",
       "      <td>0.896781</td>\n",
       "    </tr>\n",
       "    <tr>\n",
       "      <th>4</th>\n",
       "      <td>2018-09</td>\n",
       "      <td>1.010006</td>\n",
       "      <td>1.177992</td>\n",
       "      <td>1.024071</td>\n",
       "    </tr>\n",
       "    <tr>\n",
       "      <th>...</th>\n",
       "      <td>...</td>\n",
       "      <td>...</td>\n",
       "      <td>...</td>\n",
       "      <td>...</td>\n",
       "    </tr>\n",
       "    <tr>\n",
       "      <th>56</th>\n",
       "      <td>2023-01</td>\n",
       "      <td>1.640410</td>\n",
       "      <td>1.508423</td>\n",
       "      <td>1.887216</td>\n",
       "    </tr>\n",
       "    <tr>\n",
       "      <th>57</th>\n",
       "      <td>2023-02</td>\n",
       "      <td>1.676064</td>\n",
       "      <td>1.744069</td>\n",
       "      <td>1.661028</td>\n",
       "    </tr>\n",
       "    <tr>\n",
       "      <th>58</th>\n",
       "      <td>2023-03</td>\n",
       "      <td>1.789037</td>\n",
       "      <td>1.997769</td>\n",
       "      <td>2.121913</td>\n",
       "    </tr>\n",
       "    <tr>\n",
       "      <th>59</th>\n",
       "      <td>2023-04</td>\n",
       "      <td>1.148121</td>\n",
       "      <td>1.255805</td>\n",
       "      <td>1.552254</td>\n",
       "    </tr>\n",
       "    <tr>\n",
       "      <th>60</th>\n",
       "      <td>2023-05</td>\n",
       "      <td>1.265943</td>\n",
       "      <td>1.416876</td>\n",
       "      <td>1.559618</td>\n",
       "    </tr>\n",
       "  </tbody>\n",
       "</table>\n",
       "<p>61 rows × 4 columns</p>\n",
       "</div>"
      ],
      "text/plain": [
       "   year_month  diff_sp_mat  diff_sp_utilities  diff_sp_real_estate\n",
       "0     2018-05     1.035641           1.452062             0.759690\n",
       "1     2018-06     1.177986           1.306953             1.057051\n",
       "2     2018-07     1.072100           1.244638             1.108908\n",
       "3     2018-08     1.109348           1.040203             0.896781\n",
       "4     2018-09     1.010006           1.177992             1.024071\n",
       "..        ...          ...                ...                  ...\n",
       "56    2023-01     1.640410           1.508423             1.887216\n",
       "57    2023-02     1.676064           1.744069             1.661028\n",
       "58    2023-03     1.789037           1.997769             2.121913\n",
       "59    2023-04     1.148121           1.255805             1.552254\n",
       "60    2023-05     1.265943           1.416876             1.559618\n",
       "\n",
       "[61 rows x 4 columns]"
      ]
     },
     "execution_count": 47,
     "metadata": {},
     "output_type": "execute_result"
    }
   ],
   "source": [
    "all_3 = all_3.reset_index()\n",
    "all_3"
   ]
  },
  {
   "cell_type": "markdown",
   "id": "00ea40c9-61c2-4252-877c-f6a53c6aaf08",
   "metadata": {},
   "source": [
    "# Visualizing the combined data"
   ]
  },
  {
   "cell_type": "code",
   "execution_count": 55,
   "id": "ad4eb70f-45ae-46e7-bc20-3695366b44d7",
   "metadata": {},
   "outputs": [
    {
     "data": {
      "image/png": "[encoded data removed]",
      "text/plain": [
       "<Figure size 640x480 with 1 Axes>"
      ]
     },
     "metadata": {},
     "output_type": "display_data"
    },
    {
     "data": {
      "text/plain": [
       "<Figure size 640x480 with 0 Axes>"
      ]
     },
     "metadata": {},
     "output_type": "display_data"
    }
   ],
   "source": [
    "\n",
    "\n",
    "# Set the 'Year' column as the index\n",
    "all_3 = all_3.reset_index()\n",
    "all_3.set_index('year_month', inplace=True)\n",
    "\n",
    "# Create the figure and axes\n",
    "fig, ax1 = plt.subplots()\n",
    "\n",
    "# Plotting the variables on the primary y-axis\n",
    "ax1.plot(all_3['diff_sp_mat'], label='Materials')\n",
    "ax1.plot(all_3['diff_sp_utilities'], label='Utilities')\n",
    "ax1.plot(all_3['diff_sp_real_estate'], label='Real_Estate')\n",
    "\n",
    "\n",
    "# Set the labels and title for the primary y-axis\n",
    "ax1.set_xlabel('Month/Year')\n",
    "ax1.set_ylabel('Percent Change')\n",
    "ax1.set_title('Average of Daily Volitility by month')\n",
    "\n",
    "#Sets the amount of ticks shown on the x-axis\n",
    "ax1.xaxis.set_major_locator(plt.MaxNLocator(21))\n",
    "\n",
    "# Rotate x-axis labels by 90 degrees\n",
    "plt.xticks(rotation=90)\n",
    "\n",
    "\n",
    "# Display the legend for both y-axes\n",
    "ax1.legend(loc='upper left') \n",
    "\n",
    "\n",
    "# Show the plot\n",
    "plt.show()\n",
    "\n",
    "#Improves layout and spacing of the plot elements\n",
    "plt.tight_layout()\n",
    "\n"
   ]
  },
  {
   "cell_type": "code",
   "execution_count": null,
   "id": "23b93c29-d971-4e8e-8040-c43f5485000b",
   "metadata": {},
   "outputs": [],
   "source": []
  }
 ],
 "metadata": {
  "kernelspec": {
   "display_name": "Python 3 (ipykernel)",
   "language": "python",
   "name": "python3"
  },
  "language_info": {
   "codemirror_mode": {
    "name": "ipython",
    "version": 3
   },
   "file_extension": ".py",
   "mimetype": "text/x-python",
   "name": "python",
   "nbconvert_exporter": "python",
   "pygments_lexer": "ipython3",
   "version": "3.10.10"
  }
 },
 "nbformat": 4,
 "nbformat_minor": 5
}
