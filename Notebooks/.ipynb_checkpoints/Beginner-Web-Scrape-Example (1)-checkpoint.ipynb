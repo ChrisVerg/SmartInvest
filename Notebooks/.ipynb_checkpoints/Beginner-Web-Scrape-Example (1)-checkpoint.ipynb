{
 "cells": [
  {
   "cell_type": "markdown",
   "id": "45d7e2ea-9c7c-4ae1-bc27-4b70a8eb667e",
   "metadata": {},
   "source": [
    "<hr style=\"height:5px;border-width:0;color:MediumAquamarine;background-color:MediumAquamarine\">\n",
    "\n",
    "# Data Scraping for SmartInvest\n",
    "\n",
    "- [API Reference]()\n",
    "- [Reference]()\n",
    "\n",
    "<hr style=\"height:5px;border-width:0;color:MediumAquamarine;background-color:MediumAquamarine\">"
   ]
  },
  {
   "cell_type": "raw",
   "id": "24ed0212-f288-4b76-8166-96c2e720c083",
   "metadata": {},
   "source": []
  },
  {
   "cell_type": "markdown",
   "id": "b31c8516-9011-4b84-b5d0-4048acad79fc",
   "metadata": {},
   "source": [
    "### Table of Contents <a class=\"anchor\" id=\"PSCRAPE_toc\"></a>\n",
    "\n",
    "* [Table of Contents](#PSCRAPE_toc)\n",
    "    * [1. Abstract](#PSCRAPE_page_1)\n",
    "    * [2. Imported Libraries](#PSCRAPE_page_2)\n",
    "    * [3. Import the Dataset](#PSCRAPE_page_3)\n",
    "    * [4. Setting Notebook Options](#PSCRAPE_page_4)\n",
    "    * [5. Looking at the Data](#PSCRAPE_page_5)\n",
    "    * [6. Checking the Column Names](#PSCRAPE_page_6)\n",
    "    * [7. Cleaning the Column Names](#PSCRAPE_page_7)\n",
    "    * [8. Creating a new Cleaned Dataset](#PSCRAPE_page_8)\n",
    "    * [9. Counting Columns](#PSCRAPE_page_9)\n",
    "    * [10. Get Info about the Dataset](#PSCRAPE_page_10)\n",
    "    * [11. Get Descriptive Statistics about the Dataset](#PSCRAPE_page_11)\n",
    "    * [12. Counting Rows and Removing any NANs](#PSCRAPE_page_12)\n",
    "    * [13. Correlation Analysis](#PSCRAPE_page_13)\n",
    "    * [14. Principal Component Analysis (PCA)](#PSCRAPE_page_14)\n",
    "    * [15. Group Comparison](#PSCRAPE_page_15)\n",
    "    * [16. TBD](#PSCRAPE_page_16)\n",
    "    * [17. Groupby Function](#PSCRAPE_page_17)"
   ]
  },
  {
   "cell_type": "markdown",
   "id": "5363eb5f-c618-401b-a3bb-f685ec7d91d2",
   "metadata": {},
   "source": [
    "<hr style=\"height:5px;border-width:0;color:MediumAquamarine;background-color:MediumAquamarine\">\n",
    "\n",
    "# Page 1 - Abstract <a class=\"anchor\" id=\"PSMA_page_1\"></a>\n",
    "\n",
    "[Back to Top](#PSCRAPE_toc)\n",
    "\n",
    "<hr style=\"height:5px;border-width:0;color:MediumAquamarine;background-color:MediumAquamarine\">"
   ]
  },
  {
   "cell_type": "markdown",
   "id": "3f871ff6-7f22-47fc-b437-e1fa97ee7300",
   "metadata": {},
   "source": [
    "This notebook will be the webscraping to generate the data for sentiment analysis. "
   ]
  },
  {
   "cell_type": "markdown",
   "id": "b8f607bd-beac-4b75-ade4-0d6f6debded9",
   "metadata": {},
   "source": [
    "<hr style=\"height:5px;border-width:0;color:MediumAquamarine;background-color:MediumAquamarine\">\n",
    "\n",
    "# Page 2 - Imported Libraries<a class=\"anchor\" id=\"PSCRPE_page_2\"></a>\n",
    "\n",
    "[Back to Top](#PSMA_toc)\n",
    "\n",
    "<hr style=\"height:5px;border-width:0;color:MediumAquamarine;background-color:MediumAquamarine\">\n"
   ]
  },
  {
   "cell_type": "code",
   "execution_count": 1,
   "id": "a3eb7332-75e3-4d6c-bfca-b4fd2f3da924",
   "metadata": {},
   "outputs": [],
   "source": [
    "import requests\n",
    "from bs4 import BeautifulSoup"
   ]
  },
  {
   "cell_type": "code",
   "execution_count": 2,
   "id": "3c2f68a1-e530-4932-95e8-6f01b8778b74",
   "metadata": {},
   "outputs": [],
   "source": [
    "# Create object URL\n",
    "URL = \"https://www.cnbc.com/\"\n",
    "#page = requests.get(URL)\n",
    "\n",
    "#soup = BeautifulSoup(page.content, \"html.parser\")"
   ]
  },
  {
   "cell_type": "code",
   "execution_count": 5,
   "id": "2d175dae-4292-4f85-866a-7fc1b32bb16d",
   "metadata": {},
   "outputs": [],
   "source": [
    "# Build error response into https request\n",
    "\n",
    "response = requests.get(URL)\n",
    "if response.status_code != 200:\n",
    "    print(\"Error fetching page\")\n",
    "    exit()\n",
    "else:\n",
    "    content = response.content\n",
    "#print(content)"
   ]
  },
  {
   "cell_type": "code",
   "execution_count": 8,
   "id": "7dc41706-c914-453d-8c74-25c6af7cdeb5",
   "metadata": {},
   "outputs": [],
   "source": [
    "# create object with BeautifulSoup with HTML parser \n",
    "# The page is the URL request\n",
    "# content\n",
    "soup = BeautifulSoup(page.content, \"html.parser\")"
   ]
  },
  {
   "cell_type": "code",
   "execution_count": 12,
   "id": "e1ff7f9c-f1b2-4efe-b60e-f5e8dfca206c",
   "metadata": {},
   "outputs": [
    {
     "data": {
      "text/plain": [
       "<h2 class=\"FeaturedCard-packagedCardTitle\"><a href=\"https://www.cnbc.com/2023/05/22/stock-market-today-live-updates.html\" title=\"S&amp;P 500 closes 1% lower Tuesday as debt ceiling talks drag on in Washington: Live updates\">S&amp;P 500 closes 1% lower Tuesday as debt ceiling talks drag on in Washington</a></h2>"
      ]
     },
     "execution_count": 12,
     "metadata": {},
     "output_type": "execute_result"
    }
   ],
   "source": [
    "soup.find('h2', class_=\"FeaturedCard-packagedCardTitle\")"
   ]
  },
  {
   "cell_type": "code",
   "execution_count": 13,
   "id": "620b9d13-64f9-4db6-906e-baaf65fb4864",
   "metadata": {},
   "outputs": [
    {
     "data": {
      "text/plain": [
       "'https://www.cnbc.com/2023/05/22/stock-market-today-live-updates.html'"
      ]
     },
     "execution_count": 13,
     "metadata": {},
     "output_type": "execute_result"
    }
   ],
   "source": [
    "article = soup.find('h2', class_=\"FeaturedCard-packagedCardTitle\").find('a')['href']\n",
    "article"
   ]
  },
  {
   "cell_type": "code",
   "execution_count": null,
   "id": "77e2a51b-dff4-4e84-89b5-d22476b02652",
   "metadata": {},
   "outputs": [],
   "source": [
    "Crate this loop after the above code runs \n",
    "response = requests.get(\"https://news.ycombinator.com/\")\n",
    "\n"
   ]
  },
  {
   "cell_type": "code",
   "execution_count": null,
   "id": "fad5600d-6062-447b-9e1d-31457d7c48ae",
   "metadata": {},
   "outputs": [],
   "source": [
    "if response.status_code != 200:\n",
    "    print(\"Error fetching page\")\n",
    "    exit()\n",
    "else:\n",
    "    3content = response.content\n",
    "    print(content)"
   ]
  },
  {
   "cell_type": "code",
   "execution_count": null,
   "id": "1931f45e-fa7f-4c47-9998-4b4c9e225a24",
   "metadata": {},
   "outputs": [],
   "source": []
  },
  {
   "cell_type": "code",
   "execution_count": null,
   "id": "cf2d7ff6-9b8e-420b-b049-220d395e86fe",
   "metadata": {},
   "outputs": [],
   "source": []
  },
  {
   "cell_type": "markdown",
   "id": "1e074828-6f35-4a32-9952-9456a74f9eb9",
   "metadata": {},
   "source": [
    "---\n",
    "# Article"
   ]
  },
  {
   "cell_type": "code",
   "execution_count": 31,
   "id": "363aa4fa-f073-4ecf-ae39-72c261004dc2",
   "metadata": {},
   "outputs": [],
   "source": [
    "URL = \"https://www.cnbc.com/2023/05/22/stock-market-today-live-updates.html\"\n",
    "page = requests.get(URL)\n",
    "\n",
    "soup = BeautifulSoup(page.content, \"html.parser\")"
   ]
  },
  {
   "cell_type": "code",
   "execution_count": 32,
   "id": "5a0707f5-5ff8-4b93-b119-cf2d185909f1",
   "metadata": {},
   "outputs": [],
   "source": [
    "# soup"
   ]
  },
  {
   "cell_type": "code",
   "execution_count": 33,
   "id": "2af7661d-f4db-4457-b79c-c96454672017",
   "metadata": {},
   "outputs": [
    {
     "data": {
      "text/plain": [
       "<h1 class=\"LiveBlogHeader-headline\">S&amp;P 500 closes 1% lower Tuesday as debt ceiling talks drag on in Washington: Live updates</h1>"
      ]
     },
     "execution_count": 33,
     "metadata": {},
     "output_type": "execute_result"
    }
   ],
   "source": [
    "soup.find('h1')"
   ]
  },
  {
   "cell_type": "code",
   "execution_count": 34,
   "id": "961c28b7-ef90-4104-9c73-5e079c41b48c",
   "metadata": {},
   "outputs": [
    {
     "data": {
      "text/plain": [
       "'S&P 500 closes 1% lower Tuesday as debt ceiling talks drag on in Washington: Live updates'"
      ]
     },
     "execution_count": 34,
     "metadata": {},
     "output_type": "execute_result"
    }
   ],
   "source": [
    "title = soup.find('h1').text\n",
    "title"
   ]
  },
  {
   "cell_type": "code",
   "execution_count": 35,
   "id": "8eef1449-6ff2-4f3e-a813-6e7b43c607a1",
   "metadata": {},
   "outputs": [
    {
     "data": {
      "text/plain": [
       "'Stocks fell Tuesday as ongoing debt ceiling discussions appeared to yield little progress.The S&P 500 dropped 1.12% to settle at 4,145.58, while the Nasdaq Composite pulled back 1.26% to close at 12,560.25. The Dow Jones Industrial Average lost 231.07 points, or 0.69%, to finish at 33,055.51.Some traders interpreted the lack of any major updates on negotiations as a sign that lawmakers, perhaps, are struggling to progress as hoped.'"
      ]
     },
     "execution_count": 35,
     "metadata": {},
     "output_type": "execute_result"
    }
   ],
   "source": [
    "content = soup.find('div', class_=\"group\").text\n",
    "content"
   ]
  },
  {
   "cell_type": "code",
   "execution_count": 36,
   "id": "e03e3a8c-b03e-4116-9a29-1ca755295429",
   "metadata": {},
   "outputs": [
    {
     "data": {
      "text/plain": [
       "'https://www.cnbc.com/2023/05/22/stock-market-today-live-updates.html'"
      ]
     },
     "execution_count": 36,
     "metadata": {},
     "output_type": "execute_result"
    }
   ],
   "source": [
    "url = URL\n",
    "url"
   ]
  },
  {
   "cell_type": "code",
   "execution_count": null,
   "id": "ed441ebf-67f9-4a2e-86fd-355680009c49",
   "metadata": {},
   "outputs": [],
   "source": []
  },
  {
   "cell_type": "markdown",
   "id": "0d82ec18-0437-401d-b103-e89dbf3e5fd3",
   "metadata": {},
   "source": [
    "# Putting it all together"
   ]
  },
  {
   "cell_type": "code",
   "execution_count": 37,
   "id": "749cc63f-9d9e-4bbb-9471-a3aee985e284",
   "metadata": {},
   "outputs": [],
   "source": [
    "import requests\n",
    "from bs4 import BeautifulSoup"
   ]
  },
  {
   "cell_type": "code",
   "execution_count": 38,
   "id": "19f5274b-2259-4d9e-b21a-3cf4c323c095",
   "metadata": {},
   "outputs": [],
   "source": [
    "URL = \"https://www.cnbc.com/\"\n",
    "page = requests.get(URL)\n",
    "\n",
    "soup = BeautifulSoup(page.content, \"html.parser\")"
   ]
  },
  {
   "cell_type": "code",
   "execution_count": 39,
   "id": "6a32ae14-e67d-4fe1-afbf-a6c51d75fc17",
   "metadata": {},
   "outputs": [],
   "source": [
    "result = soup.find_all('h2', class_=\"FeaturedCard-packagedCardTitle\")"
   ]
  },
  {
   "cell_type": "code",
   "execution_count": 40,
   "id": "3d63cc9f-fb5a-416c-8e5e-4924959f08c0",
   "metadata": {},
   "outputs": [
    {
     "name": "stdout",
     "output_type": "stream",
     "text": [
      "S&P 500 closes 1% lower Tuesday as debt ceiling talks drag on in Washington\n"
     ]
    }
   ],
   "source": [
    "for headline in soup.find_all('h2', class_=\"FeaturedCard-packagedCardTitle\"):\n",
    "    links = headline.find_all(\"a\")\n",
    "    for link in links:\n",
    "        print(link.text.strip())"
   ]
  },
  {
   "cell_type": "code",
   "execution_count": 41,
   "id": "64807a0a-b2e3-4fa4-87e0-dc81d0fc05d7",
   "metadata": {},
   "outputs": [],
   "source": [
    "list_urls = []"
   ]
  },
  {
   "cell_type": "code",
   "execution_count": 42,
   "id": "3cf11589-2283-4c6c-a793-a9efb53ccb14",
   "metadata": {},
   "outputs": [
    {
     "name": "stdout",
     "output_type": "stream",
     "text": [
      "https://www.cnbc.com/2023/05/22/stock-market-today-live-updates.html\n",
      "\n"
     ]
    }
   ],
   "source": [
    "for headline in soup.find_all('h2', class_=\"FeaturedCard-packagedCardTitle\"):\n",
    "    # -- snip --\n",
    "    links = headline.find_all(\"a\")\n",
    "    for link in links:\n",
    "        link_url = link[\"href\"]\n",
    "        print(f\"{link_url}\\n\")\n",
    "        list_urls.append(link_url)"
   ]
  },
  {
   "cell_type": "code",
   "execution_count": 43,
   "id": "12e510dc-3fe0-4fe8-81cf-b6533fc64571",
   "metadata": {},
   "outputs": [
    {
     "data": {
      "text/plain": [
       "['https://www.cnbc.com/2023/05/22/stock-market-today-live-updates.html']"
      ]
     },
     "execution_count": 43,
     "metadata": {},
     "output_type": "execute_result"
    }
   ],
   "source": [
    "list_urls"
   ]
  },
  {
   "cell_type": "code",
   "execution_count": 44,
   "id": "e509e02a-33d3-4c24-992e-62330b21135e",
   "metadata": {},
   "outputs": [],
   "source": [
    "list_titles = []"
   ]
  },
  {
   "cell_type": "code",
   "execution_count": 45,
   "id": "6884ca63-5359-4e6c-9358-44a4659e37c2",
   "metadata": {},
   "outputs": [
    {
     "name": "stdout",
     "output_type": "stream",
     "text": [
      "S&P 500 closes 1% lower Tuesday as debt ceiling talks drag on in Washington\n"
     ]
    }
   ],
   "source": [
    "for headline in soup.find_all('h2', class_=\"FeaturedCard-packagedCardTitle\"):\n",
    "    links = headline.find_all(\"a\")\n",
    "    for link in links:\n",
    "        title_text = link.text.strip()\n",
    "        print(title_text)\n",
    "        list_titles.append(title_text)"
   ]
  },
  {
   "cell_type": "code",
   "execution_count": 46,
   "id": "109180fb-1707-4cec-94ec-02ebdf37c6e0",
   "metadata": {},
   "outputs": [
    {
     "data": {
      "text/plain": [
       "['S&P 500 closes 1% lower Tuesday as debt ceiling talks drag on in Washington']"
      ]
     },
     "execution_count": 46,
     "metadata": {},
     "output_type": "execute_result"
    }
   ],
   "source": [
    "list_titles"
   ]
  },
  {
   "cell_type": "markdown",
   "id": "3d0ddcf8-0837-4338-b860-032e9c99d0d4",
   "metadata": {},
   "source": [
    "# Try to pull an entire article with a for loop"
   ]
  },
  {
   "cell_type": "code",
   "execution_count": 47,
   "id": "031a5933-924e-4ebe-9006-0da548c2945a",
   "metadata": {},
   "outputs": [],
   "source": [
    "import requests\n",
    "from bs4 import BeautifulSoup"
   ]
  },
  {
   "cell_type": "code",
   "execution_count": 48,
   "id": "d950c7f1-3ce1-439c-954f-1d5d363df19f",
   "metadata": {},
   "outputs": [],
   "source": [
    "URL = \"https://www.cnbc.com/\"\n",
    "page = requests.get(URL)\n",
    "\n",
    "soup = BeautifulSoup(page.content, \"html.parser\")"
   ]
  },
  {
   "cell_type": "code",
   "execution_count": 52,
   "id": "0b7e391e-5b6f-422d-9d06-e40250d1f463",
   "metadata": {},
   "outputs": [
    {
     "data": {
      "text/plain": [
       "'https://www.cnbc.com/2023/05/22/stock-market-today-live-updates.html'"
      ]
     },
     "execution_count": 52,
     "metadata": {},
     "output_type": "execute_result"
    }
   ],
   "source": [
    "# Pull the url for the article\n",
    "article = soup.find('h2', class_=\"FeaturedCard-packagedCardTitle\").find('a')['href']\n",
    "article"
   ]
  },
  {
   "cell_type": "code",
   "execution_count": 53,
   "id": "24d50880-2234-40de-a79e-d3d6236d3375",
   "metadata": {},
   "outputs": [
    {
     "ename": "AttributeError",
     "evalue": "'NoneType' object has no attribute 'text'",
     "output_type": "error",
     "traceback": [
      "\u001b[1;31m---------------------------------------------------------------------------\u001b[0m",
      "\u001b[1;31mAttributeError\u001b[0m                            Traceback (most recent call last)",
      "Cell \u001b[1;32mIn [53], line 1\u001b[0m\n\u001b[1;32m----> 1\u001b[0m content \u001b[38;5;241m=\u001b[39m \u001b[43msoup\u001b[49m\u001b[38;5;241;43m.\u001b[39;49m\u001b[43mfind\u001b[49m\u001b[43m(\u001b[49m\u001b[38;5;124;43m'\u001b[39;49m\u001b[38;5;124;43mdiv\u001b[39;49m\u001b[38;5;124;43m'\u001b[39;49m\u001b[43m,\u001b[49m\u001b[43m \u001b[49m\u001b[43mclass_\u001b[49m\u001b[38;5;241;43m=\u001b[39;49m\u001b[38;5;124;43m\"\u001b[39;49m\u001b[38;5;124;43mgroup\u001b[39;49m\u001b[38;5;124;43m\"\u001b[39;49m\u001b[43m)\u001b[49m\u001b[38;5;241;43m.\u001b[39;49m\u001b[43mtext\u001b[49m\n\u001b[0;32m      2\u001b[0m content\n",
      "\u001b[1;31mAttributeError\u001b[0m: 'NoneType' object has no attribute 'text'"
     ]
    }
   ],
   "source": [
    "content = soup.find('div', class_=\"group\").text\n",
    "content"
   ]
  },
  {
   "cell_type": "code",
   "execution_count": null,
   "id": "23519e70-eec7-4548-9651-1553ad77ce7d",
   "metadata": {},
   "outputs": [],
   "source": []
  },
  {
   "cell_type": "code",
   "execution_count": null,
   "id": "916f9d7f-aa63-45cc-a0f6-c2c6b124c7ff",
   "metadata": {},
   "outputs": [],
   "source": [
    "for headline in soup.find_all('h2', class_=\"FeaturedCard-packagedCardTitle\"):\n",
    "    links = headline.find_all(\"a\")\n",
    "    for link in links:\n",
    "        title_text = link.text.strip()\n",
    "        print(title_text)\n",
    "        list_titles.append(title_text)"
   ]
  },
  {
   "cell_type": "code",
   "execution_count": null,
   "id": "b29e3cbe-a214-441f-bc50-6fe1a0c763ec",
   "metadata": {},
   "outputs": [],
   "source": []
  },
  {
   "cell_type": "code",
   "execution_count": null,
   "id": "95839ea0-169f-4352-b699-bb09a717052a",
   "metadata": {},
   "outputs": [],
   "source": []
  },
  {
   "cell_type": "code",
   "execution_count": 17,
   "id": "d6892a64-8c7e-48f2-ae28-12689517850d",
   "metadata": {},
   "outputs": [],
   "source": [
    "import urllib"
   ]
  },
  {
   "cell_type": "code",
   "execution_count": null,
   "id": "d4201884-df66-4e65-ac5b-b5143c732267",
   "metadata": {},
   "outputs": [],
   "source": []
  },
  {
   "cell_type": "code",
   "execution_count": 19,
   "id": "48692bcc-79fd-444a-a986-9e60361be019",
   "metadata": {},
   "outputs": [],
   "source": [
    "import requests\n",
    "from bs4 import BeautifulSoup"
   ]
  },
  {
   "cell_type": "code",
   "execution_count": 21,
   "id": "48f07f42-55f3-411c-a07e-2ebf404c425e",
   "metadata": {},
   "outputs": [],
   "source": [
    "URL = \"https://www.nbcnews.com/us-news\"\n",
    "page = requests.get(URL)\n",
    "\n",
    "soup = BeautifulSoup(page.content, \"html.parser\")"
   ]
  },
  {
   "cell_type": "code",
   "execution_count": 25,
   "id": "426b0f20-70e4-4c5b-b63b-2145235d8434",
   "metadata": {},
   "outputs": [],
   "source": [
    "# soup"
   ]
  },
  {
   "cell_type": "code",
   "execution_count": 34,
   "id": "15883f13-a76e-408f-a013-e9973f45d8c6",
   "metadata": {},
   "outputs": [
    {
     "data": {
      "text/plain": [
       "<h2 class=\"styles_headline__ice3t\"><a href=\"https://www.nbcnews.com/news/us-news/colorado-cardiologist-accused-sexual-assault-case-named-9-women-met-hi-rcna85141\">Colorado cardiologist accused in sexual assault case named by 9 more women he met on Hinge dating app</a></h2>"
      ]
     },
     "execution_count": 34,
     "metadata": {},
     "output_type": "execute_result"
    }
   ],
   "source": [
    "soup.find('h2', class_=\"styles_headline__ice3t\")"
   ]
  },
  {
   "cell_type": "code",
   "execution_count": 31,
   "id": "01f668a7-1fe2-4f2c-9644-b27b8e38ae1e",
   "metadata": {},
   "outputs": [
    {
     "data": {
      "text/plain": [
       "'https://www.nbcnews.com/news/us-news/colorado-cardiologist-accused-sexual-assault-case-named-9-women-met-hi-rcna85141'"
      ]
     },
     "execution_count": 31,
     "metadata": {},
     "output_type": "execute_result"
    }
   ],
   "source": [
    "article = soup.find('h2', class_=\"styles_headline__ice3t\").find('a')['href']\n",
    "article"
   ]
  },
  {
   "cell_type": "code",
   "execution_count": null,
   "id": "e38f794c-efe8-4560-a207-b554ffa642c7",
   "metadata": {},
   "outputs": [],
   "source": []
  },
  {
   "cell_type": "code",
   "execution_count": null,
   "id": "9f0b8cac-3af1-406e-a3cf-dd62d36c7b72",
   "metadata": {},
   "outputs": [],
   "source": []
  },
  {
   "cell_type": "code",
   "execution_count": null,
   "id": "27acd83b-3b63-48dd-8dbe-921677603b79",
   "metadata": {},
   "outputs": [],
   "source": []
  },
  {
   "cell_type": "markdown",
   "id": "c7d6d264-492e-4960-a0b5-061a06698cf9",
   "metadata": {},
   "source": [
    "---\n",
    "# Article"
   ]
  },
  {
   "cell_type": "code",
   "execution_count": 36,
   "id": "e254eb39-88ca-42bb-976b-868b5c5a4ed7",
   "metadata": {},
   "outputs": [],
   "source": [
    "URL = \"https://www.nbcnews.com/news/us-news/8-year-old-girl-dies-us-border-patrol-custody-texas-migrant-rcna85019\"\n",
    "page = requests.get(URL)\n",
    "\n",
    "soup = BeautifulSoup(page.content, \"html.parser\")"
   ]
  },
  {
   "cell_type": "code",
   "execution_count": 3,
   "id": "7998b5ad-e1a0-4fc3-b51f-7a2d0fee7bb5",
   "metadata": {},
   "outputs": [],
   "source": [
    "# soup"
   ]
  },
  {
   "cell_type": "code",
   "execution_count": 6,
   "id": "5d69080a-17e0-49ee-a1ce-d42db82fd4ac",
   "metadata": {},
   "outputs": [
    {
     "data": {
      "text/plain": [
       "<h1 class=\"article-hero-headline__htag lh-none-print black-print article-hero-headline__htag--loading\">8-year-old girl dies in U.S. Border Patrol custody in Texas</h1>"
      ]
     },
     "execution_count": 6,
     "metadata": {},
     "output_type": "execute_result"
    }
   ],
   "source": [
    "soup.find('h1')"
   ]
  },
  {
   "cell_type": "code",
   "execution_count": 8,
   "id": "5d0b18e0-00a3-4a17-ba29-0e59af5c4645",
   "metadata": {},
   "outputs": [
    {
     "data": {
      "text/plain": [
       "'8-year-old girl dies in U.S. Border Patrol custody in Texas'"
      ]
     },
     "execution_count": 8,
     "metadata": {},
     "output_type": "execute_result"
    }
   ],
   "source": [
    "title = soup.find('h1').text\n",
    "title"
   ]
  },
  {
   "cell_type": "code",
   "execution_count": 16,
   "id": "136ff757-def5-461d-99e3-934d4abe1b1f",
   "metadata": {},
   "outputs": [
    {
     "data": {
      "text/plain": [
       "'An 8-year-old girl died after suffering a \"medical emergency\" while in U.S. Border Patrol custody in Texas on Wednesday, authorities said.The girl and her family were being held at a facility in the city of Harlingen, near the Mexico border, Customs and Border Protection said in a statement. No more details have been released about the girl\\'s identity.\"Emergency Medical Services were called to the station and transported her to the local hospital where she was pronounced dead,\" the statement said, adding that the Office of Professional Responsibility would conduct an investigation as is standard protocol in the case of a death. Illegal border crossings declined yesterday as tensions grow in citiesMay 16, 202301:28The agency said it had contacted the Department of Homeland Security’s Office of Inspector General and the Harlingen Police Department about the incident.Sgt. Larry Moore, a spokesman for the Harlingen Police Department, told the Associated Press he had no information about the death.The death comes days after a 17-year-old unaccompanied migrant from Honduras died at a facility run by the Department of Health and Human Services’ Office of Refugee Resettlement in Florida.The Honduran government named him as Ángel Eduardo Maradiaga Espinoza and called for a full investigation and a criminal investigation if any wrongdoing is found.On May 12, Title 42 was lifted — a Covid-19 pandemic-related restriction that put limits on immigration. Amid fears of a big influx of migrants, and after an initial surge, the numbers returned to normal.Blas Nuñez-Neto, assistant secretary for border & immigration policy at the Department for Homeland Security, told reporters in a briefing Wednesday that the daily average of “\\xa0“encounters” with migrants seeking to cross the border since May 12 had fallen from more than 10,000 to just over 4,400, including less than 4,000 on Tuesday and Wednesday.\"This represents a decrease of 56%, or less than half of the average encountered in the four days leading up to the title the lifting of Title 42 when the Border Patrol encountered an average of 10,100 individuals each day,\" he said.In the four days after Title 42 was lifted, Border Patrol processed and released more than 6,000 migrants into the U.S. without court dates or the ability to track them.Mexico, Colombia and Guatemala are currently the most popular countries of origin for migrants attempting to cross the border, he said.'"
      ]
     },
     "execution_count": 16,
     "metadata": {},
     "output_type": "execute_result"
    }
   ],
   "source": [
    "content = soup.find('div', class_=\"article-body__content\").text\n",
    "content"
   ]
  },
  {
   "cell_type": "code",
   "execution_count": 18,
   "id": "42ce49a9-e4b5-4e5d-bb23-f87ee93223b3",
   "metadata": {},
   "outputs": [
    {
     "data": {
      "text/plain": [
       "'https://www.nbcnews.com/news/us-news/8-year-old-girl-dies-us-border-patrol-custody-texas-migrant-rcna85019'"
      ]
     },
     "execution_count": 18,
     "metadata": {},
     "output_type": "execute_result"
    }
   ],
   "source": [
    "url = URL\n",
    "url"
   ]
  },
  {
   "cell_type": "code",
   "execution_count": null,
   "id": "a60555d3-4c6c-438b-81b1-f1e95fbcd600",
   "metadata": {},
   "outputs": [],
   "source": []
  },
  {
   "cell_type": "markdown",
   "id": "88ad3e72-7afe-41b1-8ba6-f12f83baae8e",
   "metadata": {},
   "source": [
    "# Putting it all together"
   ]
  },
  {
   "cell_type": "code",
   "execution_count": 38,
   "id": "6cfa8293-6647-4823-bab2-da387095608e",
   "metadata": {},
   "outputs": [],
   "source": [
    "import requests\n",
    "from bs4 import BeautifulSoup"
   ]
  },
  {
   "cell_type": "code",
   "execution_count": 39,
   "id": "8817b06a-1669-4120-8d29-5d61185ce9c6",
   "metadata": {},
   "outputs": [],
   "source": [
    "URL = \"https://www.nbcnews.com/us-news\"\n",
    "page = requests.get(URL)\n",
    "\n",
    "soup = BeautifulSoup(page.content, \"html.parser\")"
   ]
  },
  {
   "cell_type": "code",
   "execution_count": 45,
   "id": "1845b69d-98c1-4a48-8d19-5c70d336c97f",
   "metadata": {},
   "outputs": [],
   "source": [
    "result = soup.find_all('h2', class_=\"styles_headline__ice3t\")"
   ]
  },
  {
   "cell_type": "code",
   "execution_count": 64,
   "id": "e6c24bb2-7318-4b25-b84e-e57088be3645",
   "metadata": {},
   "outputs": [
    {
     "name": "stdout",
     "output_type": "stream",
     "text": [
      "Colorado cardiologist accused in sexual assault case named by 9 more women he met on Hinge dating app\n",
      "New Mexico teen gunman died in hail of police gunfire, likely his final wish, chief says\n",
      "States with abortion bans could drive away young doctors, survey finds\n",
      "Suspected overdose deaths of 2 girls at a high school lead to murder charges against student\n",
      "Woman who refused tuberculosis treatment is not in custody 2 months after arrest warrant issued\n",
      "GOP witnesses undermined Jan. 6 cases with conspiracy theories, FBI says\n",
      "FDA panel recommends the first shot to prevent RSV in infants by vaccinating pregnant mothers\n",
      "Disney scraps plan for new Florida campus amid DeSantis feud\n",
      "Wife of radiologist who drove Tesla off Calif. cliff with family inside said he did it 'on purpose,' unsealed docs reveal\n",
      "Groom whose wife was killed in wedding night crash sues driver and bars she allegedly visited\n",
      "The fractured GOP is leaning on Rep. Garret Graves to negotiate the debt ceiling and keep the party united\n",
      "Rep. Marjorie Taylor Greene introduces articles of impeachment against Biden\n",
      "Biden meets with Japan’s Prime Minister as U.S. tries to reach deal on debt ceiling\n",
      "Sen. Dianne Feinstein suffered previously undisclosed complications from shingles\n",
      "Robert Kennedy Jr. names Dennis Kucinich as 2024 campaign manager\n",
      "Colorado cardiologist accused in multiple sexual assault cases\n",
      "Fire engulfs construction site in Charlotte\n",
      "Dodgers disinvite Sisters of Perpetual Indulgence from Pride Night celebrations\n",
      "Lost hikers rescued after using iPhone SOS feature\n",
      "Demi Lovato opens up about her struggles with mental health\n"
     ]
    }
   ],
   "source": [
    "for job_element in soup.find_all('h2', class_=\"styles_headline__ice3t\"):\n",
    "    links = job_element.find_all(\"a\")\n",
    "    for link in links:\n",
    "        print(link.text.strip())"
   ]
  },
  {
   "cell_type": "code",
   "execution_count": 72,
   "id": "732245a1-3b06-4d47-b873-d318aa93b48c",
   "metadata": {},
   "outputs": [],
   "source": [
    "list_urls = []"
   ]
  },
  {
   "cell_type": "code",
   "execution_count": 73,
   "id": "c3c0f81e-47cb-4d5f-8416-6ae3ba67d3ae",
   "metadata": {},
   "outputs": [
    {
     "name": "stdout",
     "output_type": "stream",
     "text": [
      "https://www.nbcnews.com/news/us-news/colorado-cardiologist-accused-sexual-assault-case-named-9-women-met-hi-rcna85141\n",
      "\n",
      "https://www.nbcnews.com/news/us-news/new-mexico-shooting-new-details-women-shot-while-trying-to-help-victim-rcna85158\n",
      "\n",
      "https://www.nbcnews.com/health/health-news/states-abortion-bans-young-doctors-survey-rcna84899\n",
      "\n",
      "https://www.nbcnews.com/news/us-news/tennessee-student-charged-murder-overdose-deaths-high-school-girls-rcna85140\n",
      "\n",
      "https://www.nbcnews.com/news/us-news/woman-refused-tuberculosis-treatment-not-custody-2-months-arrest-warra-rcna85076\n",
      "\n",
      "https://www.nbcnews.com/politics/congress/gop-witnesses-undermined-jan-6-cases-conspiracy-theories-fbi-says-rcna85095\n",
      "\n",
      "https://www.nbcnews.com/health/kids-health/rsv-vaccine-infants-fda-panel-vote-rcna84740\n",
      "\n",
      "https://www.nbcnews.com/business/corporations/disney-scraps-plan-new-florida-campus-desantis-feud-rcna85130\n",
      "\n",
      "https://www.nbcnews.com/news/us-news/wife-radiologist-drove-tesla-ca-cliff-family-said-purpose-unsealed-doc-rcna85033\n",
      "\n",
      "https://www.nbcnews.com/news/crime-courts/groom-whose-wife-was-killed-wedding-night-crash-files-suit-driver-bars-rcna85031\n",
      "\n",
      "https://www.nbcnews.com/politics/congress/rep-graves-negotiating-debt-ceiling-keeping-fractured-gop-united-rcna84845\n",
      "\n",
      "https://www.nbcnews.com/politics/congress/marjorie-taylor-greene-introduces-biden-impeachment-articles-rcna85098\n",
      "\n",
      "https://www.nbcnews.com/nightly-news/video/biden-meets-with-japan-s-prime-minister-as-u-s-tries-to-reach-deal-on-debt-ceiling-174866501756\n",
      "\n",
      "https://www.nbcnews.com/politics/congress/sen-dianne-feinstein-suffered-previously-undisclosed-complications-shi-rcna85124\n",
      "\n",
      "https://www.nbcnews.com/politics/2024-election/robert-kennedy-jr-names-dennis-kucinich-2024-campaign-manager-rcna85177\n",
      "\n",
      "https://www.nbcnews.com/video/colorado-cardiologist-accused-in-multiple-sexual-assault-cases-174863941555\n",
      "\n",
      "https://www.nbcnews.com/now/video/fire-engulfs-construction-site-in-charlotte-174833221895\n",
      "\n",
      "https://www.nbcnews.com/video/dodgers-disinvite-lgbtq-nonprofit-from-pride-night-celebrations-174825541715\n",
      "\n",
      "https://www.nbcnews.com/now/video/lost-hikers-rescued-after-using-iphone-sos-feature-174790213834\n",
      "\n",
      "https://www.nbcnews.com/now/video/demi-lovato-opens-up-about-her-struggles-with-mental-health-174777925865\n",
      "\n"
     ]
    }
   ],
   "source": [
    "for job_element in soup.find_all('h2', class_=\"styles_headline__ice3t\"):\n",
    "    # -- snip --\n",
    "    links = job_element.find_all(\"a\")\n",
    "    for link in links:\n",
    "        link_url = link[\"href\"]\n",
    "        print(f\"{link_url}\\n\")\n",
    "        list_urls.append(link_url)"
   ]
  },
  {
   "cell_type": "code",
   "execution_count": 76,
   "id": "9e63be66-6274-4699-8526-d7cb76ced89b",
   "metadata": {},
   "outputs": [
    {
     "data": {
      "text/plain": [
       "['https://www.nbcnews.com/news/us-news/colorado-cardiologist-accused-sexual-assault-case-named-9-women-met-hi-rcna85141',\n",
       " 'https://www.nbcnews.com/news/us-news/new-mexico-shooting-new-details-women-shot-while-trying-to-help-victim-rcna85158',\n",
       " 'https://www.nbcnews.com/health/health-news/states-abortion-bans-young-doctors-survey-rcna84899',\n",
       " 'https://www.nbcnews.com/news/us-news/tennessee-student-charged-murder-overdose-deaths-high-school-girls-rcna85140',\n",
       " 'https://www.nbcnews.com/news/us-news/woman-refused-tuberculosis-treatment-not-custody-2-months-arrest-warra-rcna85076',\n",
       " 'https://www.nbcnews.com/politics/congress/gop-witnesses-undermined-jan-6-cases-conspiracy-theories-fbi-says-rcna85095',\n",
       " 'https://www.nbcnews.com/health/kids-health/rsv-vaccine-infants-fda-panel-vote-rcna84740',\n",
       " 'https://www.nbcnews.com/business/corporations/disney-scraps-plan-new-florida-campus-desantis-feud-rcna85130',\n",
       " 'https://www.nbcnews.com/news/us-news/wife-radiologist-drove-tesla-ca-cliff-family-said-purpose-unsealed-doc-rcna85033',\n",
       " 'https://www.nbcnews.com/news/crime-courts/groom-whose-wife-was-killed-wedding-night-crash-files-suit-driver-bars-rcna85031',\n",
       " 'https://www.nbcnews.com/politics/congress/rep-graves-negotiating-debt-ceiling-keeping-fractured-gop-united-rcna84845',\n",
       " 'https://www.nbcnews.com/politics/congress/marjorie-taylor-greene-introduces-biden-impeachment-articles-rcna85098',\n",
       " 'https://www.nbcnews.com/nightly-news/video/biden-meets-with-japan-s-prime-minister-as-u-s-tries-to-reach-deal-on-debt-ceiling-174866501756',\n",
       " 'https://www.nbcnews.com/politics/congress/sen-dianne-feinstein-suffered-previously-undisclosed-complications-shi-rcna85124',\n",
       " 'https://www.nbcnews.com/politics/2024-election/robert-kennedy-jr-names-dennis-kucinich-2024-campaign-manager-rcna85177',\n",
       " 'https://www.nbcnews.com/video/colorado-cardiologist-accused-in-multiple-sexual-assault-cases-174863941555',\n",
       " 'https://www.nbcnews.com/now/video/fire-engulfs-construction-site-in-charlotte-174833221895',\n",
       " 'https://www.nbcnews.com/video/dodgers-disinvite-lgbtq-nonprofit-from-pride-night-celebrations-174825541715',\n",
       " 'https://www.nbcnews.com/now/video/lost-hikers-rescued-after-using-iphone-sos-feature-174790213834',\n",
       " 'https://www.nbcnews.com/now/video/demi-lovato-opens-up-about-her-struggles-with-mental-health-174777925865']"
      ]
     },
     "execution_count": 76,
     "metadata": {},
     "output_type": "execute_result"
    }
   ],
   "source": [
    "list_urls"
   ]
  },
  {
   "cell_type": "code",
   "execution_count": 85,
   "id": "c43595ea-ee5d-413b-865c-98a6b3ca3d6b",
   "metadata": {},
   "outputs": [],
   "source": [
    "list_titles = []"
   ]
  },
  {
   "cell_type": "code",
   "execution_count": 86,
   "id": "37388c88-ba36-49a8-8084-4fdb9baf293c",
   "metadata": {},
   "outputs": [
    {
     "name": "stdout",
     "output_type": "stream",
     "text": [
      "Colorado cardiologist accused in sexual assault case named by 9 more women he met on Hinge dating app\n",
      "New Mexico teen gunman died in hail of police gunfire, likely his final wish, chief says\n",
      "States with abortion bans could drive away young doctors, survey finds\n",
      "Suspected overdose deaths of 2 girls at a high school lead to murder charges against student\n",
      "Woman who refused tuberculosis treatment is not in custody 2 months after arrest warrant issued\n",
      "GOP witnesses undermined Jan. 6 cases with conspiracy theories, FBI says\n",
      "FDA panel recommends the first shot to prevent RSV in infants by vaccinating pregnant mothers\n",
      "Disney scraps plan for new Florida campus amid DeSantis feud\n",
      "Wife of radiologist who drove Tesla off Calif. cliff with family inside said he did it 'on purpose,' unsealed docs reveal\n",
      "Groom whose wife was killed in wedding night crash sues driver and bars she allegedly visited\n",
      "The fractured GOP is leaning on Rep. Garret Graves to negotiate the debt ceiling and keep the party united\n",
      "Rep. Marjorie Taylor Greene introduces articles of impeachment against Biden\n",
      "Biden meets with Japan’s Prime Minister as U.S. tries to reach deal on debt ceiling\n",
      "Sen. Dianne Feinstein suffered previously undisclosed complications from shingles\n",
      "Robert Kennedy Jr. names Dennis Kucinich as 2024 campaign manager\n",
      "Colorado cardiologist accused in multiple sexual assault cases\n",
      "Fire engulfs construction site in Charlotte\n",
      "Dodgers disinvite Sisters of Perpetual Indulgence from Pride Night celebrations\n",
      "Lost hikers rescued after using iPhone SOS feature\n",
      "Demi Lovato opens up about her struggles with mental health\n"
     ]
    }
   ],
   "source": [
    "for job_element in soup.find_all('h2', class_=\"styles_headline__ice3t\"):\n",
    "    links = job_element.find_all(\"a\")\n",
    "    for link in links:\n",
    "        title_text = link.text.strip()\n",
    "        print(title_text)\n",
    "        list_titles.append(title_text)"
   ]
  },
  {
   "cell_type": "code",
   "execution_count": 87,
   "id": "fb425ad1-9c26-4aad-a237-4d0bae2c1d61",
   "metadata": {},
   "outputs": [
    {
     "data": {
      "text/plain": [
       "['Colorado cardiologist accused in sexual assault case named by 9 more women he met on Hinge dating app',\n",
       " 'New Mexico teen gunman died in hail of police gunfire, likely his final wish, chief says',\n",
       " 'States with abortion bans could drive away young doctors, survey finds',\n",
       " 'Suspected overdose deaths of 2 girls at a high school lead to murder charges against student',\n",
       " 'Woman who refused tuberculosis treatment is not in custody 2 months after arrest warrant issued',\n",
       " 'GOP witnesses undermined Jan. 6 cases with conspiracy theories, FBI says',\n",
       " 'FDA panel recommends the first shot to prevent RSV in infants by vaccinating pregnant mothers',\n",
       " 'Disney scraps plan for new Florida campus amid DeSantis feud',\n",
       " \"Wife of radiologist who drove Tesla off Calif. cliff with family inside said he did it 'on purpose,' unsealed docs reveal\",\n",
       " 'Groom whose wife was killed in wedding night crash sues driver and bars she allegedly visited',\n",
       " 'The fractured GOP is leaning on Rep. Garret Graves to negotiate the debt ceiling and keep the party united',\n",
       " 'Rep. Marjorie Taylor Greene introduces articles of impeachment against Biden',\n",
       " 'Biden meets with Japan’s Prime Minister as U.S. tries to reach deal on debt ceiling',\n",
       " 'Sen. Dianne Feinstein suffered previously undisclosed complications from shingles',\n",
       " 'Robert Kennedy Jr. names Dennis Kucinich as 2024 campaign manager',\n",
       " 'Colorado cardiologist accused in multiple sexual assault cases',\n",
       " 'Fire engulfs construction site in Charlotte',\n",
       " 'Dodgers disinvite Sisters of Perpetual Indulgence from Pride Night celebrations',\n",
       " 'Lost hikers rescued after using iPhone SOS feature',\n",
       " 'Demi Lovato opens up about her struggles with mental health']"
      ]
     },
     "execution_count": 87,
     "metadata": {},
     "output_type": "execute_result"
    }
   ],
   "source": [
    "list_titles"
   ]
  },
  {
   "cell_type": "code",
   "execution_count": null,
   "id": "f0535969-9ce4-4185-b01d-259e1e16d225",
   "metadata": {},
   "outputs": [],
   "source": []
  },
  {
   "cell_type": "code",
   "execution_count": null,
   "id": "acb70045-4253-4cbc-9a76-d10941516dc5",
   "metadata": {},
   "outputs": [],
   "source": []
  },
  {
   "cell_type": "code",
   "execution_count": null,
   "id": "02590c77-8741-42fc-9b08-bde0c0a3f32c",
   "metadata": {},
   "outputs": [],
   "source": []
  },
  {
   "cell_type": "code",
   "execution_count": null,
   "id": "3b5523cf-b09f-4f9c-b94f-8831ccceda4d",
   "metadata": {},
   "outputs": [],
   "source": []
  },
  {
   "cell_type": "code",
   "execution_count": 17,
   "id": "0aecf88b-c445-45a6-b825-f7d29e27b141",
   "metadata": {},
   "outputs": [],
   "source": [
    "import urllib"
   ]
  },
  {
   "cell_type": "code",
   "execution_count": null,
   "id": "18d6783a-4697-4d5e-91bb-bcfbe8234e81",
   "metadata": {},
   "outputs": [],
   "source": []
  }
 ],
 "metadata": {
  "kernelspec": {
   "display_name": "Python 3 (ipykernel)",
   "language": "python",
   "name": "python3"
  },
  "language_info": {
   "codemirror_mode": {
    "name": "ipython",
    "version": 3
   },
   "file_extension": ".py",
   "mimetype": "text/x-python",
   "name": "python",
   "nbconvert_exporter": "python",
   "pygments_lexer": "ipython3",
   "version": "3.11.2"
  }
 },
 "nbformat": 4,
 "nbformat_minor": 5
}
