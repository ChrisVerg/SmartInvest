{
 "cells": [
  {
   "cell_type": "markdown",
   "id": "a5716c1b-12ac-4d09-bffe-9d6d93e4c70a",
   "metadata": {},
   "source": [
    "<hr style=\"height:5px;border-width:0;color:MediumAquamarine;background-color:MediumAquamarine\">\n",
    "\n",
    "\n",
    "# Complete Automation\n",
    "\n",
    "\n",
    "<hr style=\"height:5px;border-width:0;color:MediumAquamarine;background-color:MediumAquamarine\">"
   ]
  },
  {
   "cell_type": "markdown",
   "id": "f843210e-0e94-4571-a0b3-c8f58e8adf4c",
   "metadata": {},
   "source": [
    ">This notebook contains code that retrieves current headlines from CNBC's homepage, compiles and prepares them for textual analysis. "
   ]
  },
  {
   "attachments": {
    "31e5c814-9083-4195-823a-87e326576d5e.png": {
     "image/png": "[encoded data removed]"
    }
   },
   "cell_type": "markdown",
   "id": "5984931c-dd32-40e8-9623-64aa544a29fa",
   "metadata": {},
   "source": [
    "> Jupyter Scheduler is used for the automation. As long as jupyter is running during the hours and days for the defined times this file will run, collect and process headlines.\n",
    "* So far Jupyter Scheduler has not tolerated relative path for the file path and requires absolute path. \n",
    "\n",
    "![image.png](attachment:31e5c814-9083-4195-823a-87e326576d5e.png)"
   ]
  },
  {
   "cell_type": "code",
   "execution_count": 4,
   "id": "2cb24dfc-13da-48c5-af9c-a425d679f042",
   "metadata": {},
   "outputs": [],
   "source": [
    "# Automate Collection \n",
    "\n",
    "\n",
    "# This block of code improves the format of the data collection\n",
    "\n",
    "\n",
    "# NLP Remove stop words\n",
    "import nltk\n",
    "from nltk.corpus import stopwords\n",
    "\n",
    "import pandas as pd\n",
    "import csv\n",
    "import requests\n",
    "from bs4 import BeautifulSoup\n",
    "\n",
    "# Add date and time to file\n",
    "import datetime\n",
    "\n",
    "\n",
    "url = \"https://www.cnbc.com/\"\n",
    "\n",
    "def preprocess_data(data):\n",
    "    # Apply any necessary preprocessing steps\n",
    "    # Remove characters not recognized by UTF-8\n",
    "    data = data.encode('utf-8', errors='ignore').decode('utf-8')\n",
    "    \n",
    "    # For example, convert text to lowercase or capitalize the first letter of each word\n",
    "    return data.lower()\n",
    "\n",
    "def append_data_to_csv(url):\n",
    "    file_path = 'C:/Users/chris/Desktop/GitHub/SmartInvest/Data/TestFormat_CV.csv'\n",
    "\n",
    "    # Fetch the data from the URL\n",
    "    page = requests.get(url)\n",
    "    soup = BeautifulSoup(page.content, \"html.parser\")\n",
    "\n",
    "    # Extract the headlines\n",
    "    headlines = set()\n",
    "    for headline in soup.find_all('div', class_=\"FeaturedCard-contentText\"):\n",
    "        links = headline.find_all(\"a\")\n",
    "        for link in links:\n",
    "            headlines.add(link.text.strip())\n",
    "\n",
    "    for headline in soup.find_all('div', class_=\"SecondaryCard-headline\"):\n",
    "        links = headline.find_all(\"a\")\n",
    "        for link in links:\n",
    "            headlines.add(link.text.strip())\n",
    "\n",
    "    for headline in soup.find_all('div', class_=\"LatestNews-headlineWrapper\"):\n",
    "        links = headline.find_all(\"a\")\n",
    "        for link in links:\n",
    "            headlines.add(link.text.strip())\n",
    "\n",
    "    # Process the headlines\n",
    "    processed_headlines = [preprocess_data(headline) for headline in headlines]\n",
    "\n",
    "    # Append the data to the CSV file\n",
    "    with open(file_path, \"a\", newline=\"\") as file:\n",
    "        writer = csv.writer(file)\n",
    "\n",
    "        # Check for duplicates before writing\n",
    "        existing_headlines = set()\n",
    "        try:\n",
    "            with open(file_path, \"r\") as existing_file:\n",
    "                existing_data = csv.reader(existing_file)\n",
    "                for row in existing_data:\n",
    "                    existing_headlines.update(row)\n",
    "        except FileNotFoundError:\n",
    "            pass\n",
    "\n",
    "        new_headlines = set(processed_headlines) - set(existing_headlines)\n",
    "        if new_headlines:\n",
    "            # Add date and time as a string\n",
    "            current_datetime = datetime.datetime.now().strftime(\"%Y-%m-%d %H:%M:%S\")\n",
    "            writer.writerow([str(current_datetime)])\n",
    "            \n",
    "            # Write each headline in a separate row\n",
    "            for headline in new_headlines:\n",
    "                writer.writerow([headline])\n",
    "\n",
    "URL = \"https://www.cnbc.com/\"\n",
    "append_data_to_csv(URL)\n"
   ]
  },
  {
   "cell_type": "code",
   "execution_count": 5,
   "id": "5daf141f-890f-4926-abc4-9fce769e28ec",
   "metadata": {},
   "outputs": [
    {
     "name": "stdout",
     "output_type": "stream",
     "text": [
      "                                 2023-06-01 12:28:17\n",
      "1  were encouraged by positive developments aroun...\n",
      "2  bofa says this littleknown software stock can ...\n",
      "3  trump was recorded acknowledging he kept class...\n",
      "4  jim cramers top 10 things to watch in the stoc...\n",
      "5  biden agrees to end student loan payment pause...\n"
     ]
    }
   ],
   "source": [
    "import pandas as pd\n",
    "import string\n",
    "import re\n",
    "\n",
    "def prepare_and_clean_data(file_path):\n",
    "    # Set no max rows and columns to view data\n",
    "    pd.set_option('display.max_rows', None)\n",
    "    pd.set_option('display.max_columns', None)\n",
    "\n",
    "    # Read the data from the CSV file\n",
    "    text = pd.read_csv(file_path, encoding='latin-1')\n",
    "\n",
    "    # Drop rows with null values\n",
    "    text_Nonull = text.dropna()\n",
    "\n",
    "    # Access the most recent column (last column added)\n",
    "    most_recent_column = text_Nonull.columns[-1]\n",
    "\n",
    "    # Remove unwanted characters from the most recent column, ignoring NaN (column names)\n",
    "    text_Nonull.loc[:, most_recent_column] = text_Nonull[most_recent_column].apply(lambda x: re.sub(r'[^a-zA-Z0-9\\s]', '', x) if isinstance(x, str) else x)\n",
    "\n",
    "    # Convert all string values in the DataFrame to lowercase\n",
    "    for column in text_Nonull.columns:\n",
    "        if text_Nonull[column].dtype == 'object':  # Only process columns with object dtype (string values)\n",
    "            text_Nonull.loc[:, column] = text_Nonull[column].str.lower()\n",
    "\n",
    "    return text_Nonull\n",
    "\n",
    "# Set the file path\n",
    "file_path = \"C:/Users/chris/Desktop/GitHub/SmartInvest/Data/TestFormat_CV.csv\"\n",
    "\n",
    "# Call the function to prepare and clean the data\n",
    "cleaned_data = prepare_and_clean_data(file_path)\n",
    "\n",
    "# Print the cleaned data\n",
    "print(cleaned_data.head())\n",
    "\n",
    "cleaned_data.to_csv('C:/Users/chris/Desktop/GitHub/SmartInvest/Data/Clean_Headlines_CV.csv')"
   ]
  },
  {
   "cell_type": "code",
   "execution_count": null,
   "id": "6408e141-9bee-4984-93b4-20cd20c9b5da",
   "metadata": {},
   "outputs": [],
   "source": []
  }
 ],
 "metadata": {
  "kernelspec": {
   "display_name": "Python 3 (ipykernel)",
   "language": "python",
   "name": "python3"
  },
  "language_info": {
   "codemirror_mode": {
    "name": "ipython",
    "version": 3
   },
   "file_extension": ".py",
   "mimetype": "text/x-python",
   "name": "python",
   "nbconvert_exporter": "python",
   "pygments_lexer": "ipython3",
   "version": "3.11.3"
  }
 },
 "nbformat": 4,
 "nbformat_minor": 5
}
