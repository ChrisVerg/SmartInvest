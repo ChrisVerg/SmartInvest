{
 "cells": [
  {
   "cell_type": "markdown",
   "id": "7ffab0c7-6b5d-4409-ab7b-04b435460999",
   "metadata": {},
   "source": [
    "<hr style=\"height:5px;border-width:0;color:MediumAquamarine;background-color:MediumAquamarine\">\n",
    "\n",
    "# SP500 Descriptive Analysis Guide\n",
    "\n",
    "\n",
    "<hr style=\"height:5px;border-width:0;color:MediumAquamarine;background-color:MediumAquamarine\">"
   ]
  },
  {
   "cell_type": "markdown",
   "id": "9dbbe5c1-6822-4206-ad6d-e5c6efc6670c",
   "metadata": {},
   "source": [
    "## Purpose\n",
    "\n",
    "> This code will create a visualization that represents daily volatility of sectors within the S&P500 Index. This Notebook is a guide for how to wrangle and format data in a uniform way so it can be replicated by multiple team members for their assigned sectors within the S&P500 Index. Using the high and low price for the day, calculate the difference(volatility) as a percent. Then get the average volatility for the month. Compare the volatility against the other sectors and evaluate for correlation, divergence and which sectors appear to have the most volatility."
   ]
  },
  {
   "cell_type": "markdown",
   "id": "c68959e2-37b1-46fb-bd7f-331d54146d0c",
   "metadata": {},
   "source": [
    "# Import Packages"
   ]
  },
  {
   "cell_type": "code",
   "execution_count": 1,
   "id": "29e237f8-c606-429b-b3bc-73ae03fe7e73",
   "metadata": {},
   "outputs": [],
   "source": [
    "import pandas as pd\n",
    "import numpy as np\n",
    "import matplotlib.pyplot as plt"
   ]
  },
  {
   "cell_type": "code",
   "execution_count": 2,
   "id": "afe9b66f-f4ba-4d46-a5a9-bef1859528a8",
   "metadata": {},
   "outputs": [],
   "source": [
    "# Israel Data\n",
    "Financials = pd.read_csv(\"../Data/Financials2_JV.csv\")"
   ]
  },
  {
   "cell_type": "code",
   "execution_count": 3,
   "id": "ac4ae6dc-cd96-4f7f-85e5-a151fff39967",
   "metadata": {},
   "outputs": [],
   "source": [
    "# Jorge Data\n",
    "Healthcare = pd.read_csv(\"../Data/Healthcare_JV.csv\")"
   ]
  },
  {
   "cell_type": "code",
   "execution_count": 4,
   "id": "a445718a-d123-4052-94a7-a92122e70c77",
   "metadata": {},
   "outputs": [],
   "source": [
    "# Jesus Data\n",
    "IT = pd.read_csv(\"../Data/IT(1)_JV.csv\")\n"
   ]
  },
  {
   "cell_type": "code",
   "execution_count": 5,
   "id": "a3c739b3-6a92-4e31-b293-005b06c4b06b",
   "metadata": {},
   "outputs": [],
   "source": [
    "CD = pd.read_csv (\"../Data/CD_JV.csv\")"
   ]
  },
  {
   "cell_type": "markdown",
   "id": "25f469a7-0fff-4b11-843d-d269b902f0b9",
   "metadata": {},
   "source": [
    "# We will all need to meet to work out the details but we are going to try to make the data uniform by selecting the average price on a monthly or yearly basis"
   ]
  },
  {
   "cell_type": "code",
   "execution_count": 24,
   "id": "c7dde523-e91c-4707-9959-a9ad74c61666",
   "metadata": {},
   "outputs": [
    {
     "name": "stdout",
     "output_type": "stream",
     "text": [
      "<class 'pandas.core.frame.DataFrame'>\n",
      "RangeIndex: 1258 entries, 0 to 1257\n",
      "Data columns (total 8 columns):\n",
      " #   Column           Non-Null Count  Dtype         \n",
      "---  ------           --------------  -----         \n",
      " 0   Date             1258 non-null   datetime64[ns]\n",
      " 1   Open             1258 non-null   float64       \n",
      " 2   High             1258 non-null   float64       \n",
      " 3   Low              1258 non-null   float64       \n",
      " 4   Close            1258 non-null   float64       \n",
      " 5   Adj Close        1258 non-null   float64       \n",
      " 6   Volume           1258 non-null   int64         \n",
      " 7   diff_financials  1258 non-null   float64       \n",
      "dtypes: datetime64[ns](1), float64(6), int64(1)\n",
      "memory usage: 78.8 KB\n"
     ]
    }
   ],
   "source": [
    "Financials.info()"
   ]
  },
  {
   "cell_type": "code",
   "execution_count": 25,
   "id": "e491efa5-3672-4058-9663-7ee5f2997491",
   "metadata": {},
   "outputs": [
    {
     "name": "stdout",
     "output_type": "stream",
     "text": [
      "<class 'pandas.core.frame.DataFrame'>\n",
      "RangeIndex: 252 entries, 0 to 251\n",
      "Data columns (total 5 columns):\n",
      " #   Column  Non-Null Count  Dtype         \n",
      "---  ------  --------------  -----         \n",
      " 0   Date    252 non-null    datetime64[ns]\n",
      " 1   Open    252 non-null    object        \n",
      " 2   High    252 non-null    object        \n",
      " 3   Low     252 non-null    object        \n",
      " 4   Close   252 non-null    object        \n",
      "dtypes: datetime64[ns](1), object(4)\n",
      "memory usage: 10.0+ KB\n"
     ]
    }
   ],
   "source": [
    "Healthcare.info()"
   ]
  },
  {
   "cell_type": "code",
   "execution_count": 26,
   "id": "6a3615bf-0b8b-4007-b46d-b6648d7929d6",
   "metadata": {},
   "outputs": [
    {
     "name": "stdout",
     "output_type": "stream",
     "text": [
      "<class 'pandas.core.frame.DataFrame'>\n",
      "RangeIndex: 1258 entries, 0 to 1257\n",
      "Data columns (total 8 columns):\n",
      " #   Column     Non-Null Count  Dtype         \n",
      "---  ------     --------------  -----         \n",
      " 0   Date       1258 non-null   datetime64[ns]\n",
      " 1   Open       1258 non-null   float64       \n",
      " 2   High       1258 non-null   float64       \n",
      " 3   Low        1258 non-null   float64       \n",
      " 4   Close      1258 non-null   float64       \n",
      " 5   Adj Close  1258 non-null   float64       \n",
      " 6   Volume     1258 non-null   int64         \n",
      " 7   diff_IT    1258 non-null   float64       \n",
      "dtypes: datetime64[ns](1), float64(6), int64(1)\n",
      "memory usage: 78.8 KB\n"
     ]
    }
   ],
   "source": [
    "IT.info()"
   ]
  },
  {
   "cell_type": "code",
   "execution_count": 27,
   "id": "c292ca94-baca-4731-915d-4fc4eeb93a1d",
   "metadata": {},
   "outputs": [
    {
     "name": "stdout",
     "output_type": "stream",
     "text": [
      "<class 'pandas.core.frame.DataFrame'>\n",
      "RangeIndex: 1258 entries, 0 to 1257\n",
      "Data columns (total 9 columns):\n",
      " #   Column        Non-Null Count  Dtype         \n",
      "---  ------        --------------  -----         \n",
      " 0   Unnamed: 0.1  1258 non-null   int64         \n",
      " 1   Unnamed: 0    1258 non-null   int64         \n",
      " 2   Date          1258 non-null   datetime64[ns]\n",
      " 3   Open          1258 non-null   object        \n",
      " 4   High          457 non-null    float64       \n",
      " 5   Low           484 non-null    float64       \n",
      " 6   Close*        1258 non-null   object        \n",
      " 7   Adj Close**   1258 non-null   object        \n",
      " 8   Volume        1257 non-null   object        \n",
      "dtypes: datetime64[ns](1), float64(2), int64(2), object(4)\n",
      "memory usage: 88.6+ KB\n"
     ]
    }
   ],
   "source": [
    "CD.info()"
   ]
  },
  {
   "cell_type": "markdown",
   "id": "deee7423-7a9f-4b0e-a559-f7d7e9653483",
   "metadata": {},
   "source": [
    "### Inspecting the data to see what wrangling needs to be done."
   ]
  },
  {
   "cell_type": "code",
   "execution_count": 6,
   "id": "407dd188-251b-4149-a1e4-92a558f36c1e",
   "metadata": {},
   "outputs": [
    {
     "data": {
      "text/html": [
       "<div>\n",
       "<style scoped>\n",
       "    .dataframe tbody tr th:only-of-type {\n",
       "        vertical-align: middle;\n",
       "    }\n",
       "\n",
       "    .dataframe tbody tr th {\n",
       "        vertical-align: top;\n",
       "    }\n",
       "\n",
       "    .dataframe thead th {\n",
       "        text-align: right;\n",
       "    }\n",
       "</style>\n",
       "<table border=\"1\" class=\"dataframe\">\n",
       "  <thead>\n",
       "    <tr style=\"text-align: right;\">\n",
       "      <th></th>\n",
       "      <th>Date</th>\n",
       "      <th>Open</th>\n",
       "      <th>High</th>\n",
       "      <th>Low</th>\n",
       "      <th>Close</th>\n",
       "      <th>Adj Close</th>\n",
       "      <th>Volume</th>\n",
       "    </tr>\n",
       "  </thead>\n",
       "  <tbody>\n",
       "    <tr>\n",
       "      <th>0</th>\n",
       "      <td>2018-06-18</td>\n",
       "      <td>69.629997</td>\n",
       "      <td>70.099998</td>\n",
       "      <td>69.330002</td>\n",
       "      <td>70.059998</td>\n",
       "      <td>62.412540</td>\n",
       "      <td>409300</td>\n",
       "    </tr>\n",
       "    <tr>\n",
       "      <th>1</th>\n",
       "      <td>2018-06-19</td>\n",
       "      <td>69.379997</td>\n",
       "      <td>70.099998</td>\n",
       "      <td>69.279999</td>\n",
       "      <td>69.940002</td>\n",
       "      <td>62.305649</td>\n",
       "      <td>438000</td>\n",
       "    </tr>\n",
       "    <tr>\n",
       "      <th>2</th>\n",
       "      <td>2018-06-20</td>\n",
       "      <td>70.360001</td>\n",
       "      <td>70.449997</td>\n",
       "      <td>69.779999</td>\n",
       "      <td>69.830002</td>\n",
       "      <td>62.207642</td>\n",
       "      <td>427600</td>\n",
       "    </tr>\n",
       "    <tr>\n",
       "      <th>3</th>\n",
       "      <td>2018-06-21</td>\n",
       "      <td>69.599998</td>\n",
       "      <td>69.980003</td>\n",
       "      <td>69.150002</td>\n",
       "      <td>69.620003</td>\n",
       "      <td>62.020561</td>\n",
       "      <td>1670900</td>\n",
       "    </tr>\n",
       "    <tr>\n",
       "      <th>4</th>\n",
       "      <td>2018-06-22</td>\n",
       "      <td>70.000000</td>\n",
       "      <td>70.099998</td>\n",
       "      <td>69.230003</td>\n",
       "      <td>69.250000</td>\n",
       "      <td>61.690964</td>\n",
       "      <td>300500</td>\n",
       "    </tr>\n",
       "  </tbody>\n",
       "</table>\n",
       "</div>"
      ],
      "text/plain": [
       "         Date       Open       High        Low      Close  Adj Close   Volume\n",
       "0  2018-06-18  69.629997  70.099998  69.330002  70.059998  62.412540   409300\n",
       "1  2018-06-19  69.379997  70.099998  69.279999  69.940002  62.305649   438000\n",
       "2  2018-06-20  70.360001  70.449997  69.779999  69.830002  62.207642   427600\n",
       "3  2018-06-21  69.599998  69.980003  69.150002  69.620003  62.020561  1670900\n",
       "4  2018-06-22  70.000000  70.099998  69.230003  69.250000  61.690964   300500"
      ]
     },
     "execution_count": 6,
     "metadata": {},
     "output_type": "execute_result"
    }
   ],
   "source": [
    "Financials.head()"
   ]
  },
  {
   "cell_type": "code",
   "execution_count": 7,
   "id": "72d674fb-ab84-4c0d-a00c-beac18ebb0da",
   "metadata": {},
   "outputs": [
    {
     "data": {
      "text/html": [
       "<div>\n",
       "<style scoped>\n",
       "    .dataframe tbody tr th:only-of-type {\n",
       "        vertical-align: middle;\n",
       "    }\n",
       "\n",
       "    .dataframe tbody tr th {\n",
       "        vertical-align: top;\n",
       "    }\n",
       "\n",
       "    .dataframe thead th {\n",
       "        text-align: right;\n",
       "    }\n",
       "</style>\n",
       "<table border=\"1\" class=\"dataframe\">\n",
       "  <thead>\n",
       "    <tr style=\"text-align: right;\">\n",
       "      <th></th>\n",
       "      <th>Date</th>\n",
       "      <th>Open</th>\n",
       "      <th>High</th>\n",
       "      <th>Low</th>\n",
       "      <th>Close</th>\n",
       "      <th>Adj Close</th>\n",
       "      <th>Volume</th>\n",
       "    </tr>\n",
       "  </thead>\n",
       "  <tbody>\n",
       "    <tr>\n",
       "      <th>1253</th>\n",
       "      <td>2023-06-09</td>\n",
       "      <td>80.180000</td>\n",
       "      <td>80.629997</td>\n",
       "      <td>80.080002</td>\n",
       "      <td>80.239998</td>\n",
       "      <td>80.239998</td>\n",
       "      <td>282600</td>\n",
       "    </tr>\n",
       "    <tr>\n",
       "      <th>1254</th>\n",
       "      <td>2023-06-12</td>\n",
       "      <td>80.239998</td>\n",
       "      <td>80.629997</td>\n",
       "      <td>79.639999</td>\n",
       "      <td>80.169998</td>\n",
       "      <td>80.169998</td>\n",
       "      <td>237200</td>\n",
       "    </tr>\n",
       "    <tr>\n",
       "      <th>1255</th>\n",
       "      <td>2023-06-13</td>\n",
       "      <td>80.250000</td>\n",
       "      <td>81.139999</td>\n",
       "      <td>80.139999</td>\n",
       "      <td>80.800003</td>\n",
       "      <td>80.800003</td>\n",
       "      <td>268000</td>\n",
       "    </tr>\n",
       "    <tr>\n",
       "      <th>1256</th>\n",
       "      <td>2023-06-14</td>\n",
       "      <td>81.000000</td>\n",
       "      <td>81.410004</td>\n",
       "      <td>80.169998</td>\n",
       "      <td>80.470001</td>\n",
       "      <td>80.470001</td>\n",
       "      <td>4293800</td>\n",
       "    </tr>\n",
       "    <tr>\n",
       "      <th>1257</th>\n",
       "      <td>2023-06-15</td>\n",
       "      <td>80.089996</td>\n",
       "      <td>81.629997</td>\n",
       "      <td>80.059998</td>\n",
       "      <td>81.489998</td>\n",
       "      <td>81.489998</td>\n",
       "      <td>333900</td>\n",
       "    </tr>\n",
       "  </tbody>\n",
       "</table>\n",
       "</div>"
      ],
      "text/plain": [
       "            Date       Open       High        Low      Close  Adj Close  \\\n",
       "1253  2023-06-09  80.180000  80.629997  80.080002  80.239998  80.239998   \n",
       "1254  2023-06-12  80.239998  80.629997  79.639999  80.169998  80.169998   \n",
       "1255  2023-06-13  80.250000  81.139999  80.139999  80.800003  80.800003   \n",
       "1256  2023-06-14  81.000000  81.410004  80.169998  80.470001  80.470001   \n",
       "1257  2023-06-15  80.089996  81.629997  80.059998  81.489998  81.489998   \n",
       "\n",
       "       Volume  \n",
       "1253   282600  \n",
       "1254   237200  \n",
       "1255   268000  \n",
       "1256  4293800  \n",
       "1257   333900  "
      ]
     },
     "execution_count": 7,
     "metadata": {},
     "output_type": "execute_result"
    }
   ],
   "source": [
    "Financials.tail()"
   ]
  },
  {
   "cell_type": "code",
   "execution_count": 8,
   "id": "ba882842-9a71-43c2-8e9f-231cf0d93d88",
   "metadata": {},
   "outputs": [],
   "source": [
    "# We have a good 10 years of data for Financials"
   ]
  },
  {
   "cell_type": "code",
   "execution_count": 9,
   "id": "cbb1c7be-0863-4f80-98fb-8ecdc9d3fb88",
   "metadata": {},
   "outputs": [
    {
     "data": {
      "text/html": [
       "<div>\n",
       "<style scoped>\n",
       "    .dataframe tbody tr th:only-of-type {\n",
       "        vertical-align: middle;\n",
       "    }\n",
       "\n",
       "    .dataframe tbody tr th {\n",
       "        vertical-align: top;\n",
       "    }\n",
       "\n",
       "    .dataframe thead th {\n",
       "        text-align: right;\n",
       "    }\n",
       "</style>\n",
       "<table border=\"1\" class=\"dataframe\">\n",
       "  <thead>\n",
       "    <tr style=\"text-align: right;\">\n",
       "      <th></th>\n",
       "      <th>Date</th>\n",
       "      <th>Open</th>\n",
       "      <th>High</th>\n",
       "      <th>Low</th>\n",
       "      <th>Close</th>\n",
       "      <th>Adj Close</th>\n",
       "      <th>Volume</th>\n",
       "    </tr>\n",
       "  </thead>\n",
       "  <tbody>\n",
       "    <tr>\n",
       "      <th>0</th>\n",
       "      <td>2018-06-18</td>\n",
       "      <td>137.679993</td>\n",
       "      <td>138.250000</td>\n",
       "      <td>136.699997</td>\n",
       "      <td>137.759995</td>\n",
       "      <td>137.759995</td>\n",
       "      <td>361400</td>\n",
       "    </tr>\n",
       "    <tr>\n",
       "      <th>1</th>\n",
       "      <td>2018-06-19</td>\n",
       "      <td>136.720001</td>\n",
       "      <td>137.789993</td>\n",
       "      <td>135.910004</td>\n",
       "      <td>137.199997</td>\n",
       "      <td>137.199997</td>\n",
       "      <td>539800</td>\n",
       "    </tr>\n",
       "    <tr>\n",
       "      <th>2</th>\n",
       "      <td>2018-06-20</td>\n",
       "      <td>137.320007</td>\n",
       "      <td>137.699997</td>\n",
       "      <td>136.039993</td>\n",
       "      <td>136.520004</td>\n",
       "      <td>136.520004</td>\n",
       "      <td>522400</td>\n",
       "    </tr>\n",
       "    <tr>\n",
       "      <th>3</th>\n",
       "      <td>2018-06-21</td>\n",
       "      <td>136.660004</td>\n",
       "      <td>137.229996</td>\n",
       "      <td>135.380005</td>\n",
       "      <td>135.820007</td>\n",
       "      <td>135.820007</td>\n",
       "      <td>318700</td>\n",
       "    </tr>\n",
       "    <tr>\n",
       "      <th>4</th>\n",
       "      <td>2018-06-22</td>\n",
       "      <td>136.080002</td>\n",
       "      <td>137.419998</td>\n",
       "      <td>134.639999</td>\n",
       "      <td>134.960007</td>\n",
       "      <td>134.960007</td>\n",
       "      <td>1090500</td>\n",
       "    </tr>\n",
       "  </tbody>\n",
       "</table>\n",
       "</div>"
      ],
      "text/plain": [
       "         Date        Open        High         Low       Close   Adj Close  \\\n",
       "0  2018-06-18  137.679993  138.250000  136.699997  137.759995  137.759995   \n",
       "1  2018-06-19  136.720001  137.789993  135.910004  137.199997  137.199997   \n",
       "2  2018-06-20  137.320007  137.699997  136.039993  136.520004  136.520004   \n",
       "3  2018-06-21  136.660004  137.229996  135.380005  135.820007  135.820007   \n",
       "4  2018-06-22  136.080002  137.419998  134.639999  134.960007  134.960007   \n",
       "\n",
       "    Volume  \n",
       "0   361400  \n",
       "1   539800  \n",
       "2   522400  \n",
       "3   318700  \n",
       "4  1090500  "
      ]
     },
     "execution_count": 9,
     "metadata": {},
     "output_type": "execute_result"
    }
   ],
   "source": [
    "IT.head()"
   ]
  },
  {
   "cell_type": "code",
   "execution_count": 10,
   "id": "d8436f84-13f9-45af-a123-e6184de95dd6",
   "metadata": {},
   "outputs": [
    {
     "data": {
      "text/html": [
       "<div>\n",
       "<style scoped>\n",
       "    .dataframe tbody tr th:only-of-type {\n",
       "        vertical-align: middle;\n",
       "    }\n",
       "\n",
       "    .dataframe tbody tr th {\n",
       "        vertical-align: top;\n",
       "    }\n",
       "\n",
       "    .dataframe thead th {\n",
       "        text-align: right;\n",
       "    }\n",
       "</style>\n",
       "<table border=\"1\" class=\"dataframe\">\n",
       "  <thead>\n",
       "    <tr style=\"text-align: right;\">\n",
       "      <th></th>\n",
       "      <th>Date</th>\n",
       "      <th>Open</th>\n",
       "      <th>High</th>\n",
       "      <th>Low</th>\n",
       "      <th>Close</th>\n",
       "      <th>Adj Close</th>\n",
       "      <th>Volume</th>\n",
       "    </tr>\n",
       "  </thead>\n",
       "  <tbody>\n",
       "    <tr>\n",
       "      <th>1253</th>\n",
       "      <td>2023-06-09</td>\n",
       "      <td>344.750000</td>\n",
       "      <td>348.290009</td>\n",
       "      <td>343.429993</td>\n",
       "      <td>344.549988</td>\n",
       "      <td>344.549988</td>\n",
       "      <td>458000</td>\n",
       "    </tr>\n",
       "    <tr>\n",
       "      <th>1254</th>\n",
       "      <td>2023-06-12</td>\n",
       "      <td>347.269989</td>\n",
       "      <td>353.779999</td>\n",
       "      <td>345.859985</td>\n",
       "      <td>352.339996</td>\n",
       "      <td>352.339996</td>\n",
       "      <td>414500</td>\n",
       "    </tr>\n",
       "    <tr>\n",
       "      <th>1255</th>\n",
       "      <td>2023-06-13</td>\n",
       "      <td>353.799988</td>\n",
       "      <td>357.489990</td>\n",
       "      <td>353.079987</td>\n",
       "      <td>354.850006</td>\n",
       "      <td>354.850006</td>\n",
       "      <td>518800</td>\n",
       "    </tr>\n",
       "    <tr>\n",
       "      <th>1256</th>\n",
       "      <td>2023-06-14</td>\n",
       "      <td>353.799988</td>\n",
       "      <td>357.440002</td>\n",
       "      <td>349.970001</td>\n",
       "      <td>352.369995</td>\n",
       "      <td>352.369995</td>\n",
       "      <td>472700</td>\n",
       "    </tr>\n",
       "    <tr>\n",
       "      <th>1257</th>\n",
       "      <td>2023-06-15</td>\n",
       "      <td>353.019989</td>\n",
       "      <td>358.149994</td>\n",
       "      <td>353.019989</td>\n",
       "      <td>356.190002</td>\n",
       "      <td>356.190002</td>\n",
       "      <td>529000</td>\n",
       "    </tr>\n",
       "  </tbody>\n",
       "</table>\n",
       "</div>"
      ],
      "text/plain": [
       "            Date        Open        High         Low       Close   Adj Close  \\\n",
       "1253  2023-06-09  344.750000  348.290009  343.429993  344.549988  344.549988   \n",
       "1254  2023-06-12  347.269989  353.779999  345.859985  352.339996  352.339996   \n",
       "1255  2023-06-13  353.799988  357.489990  353.079987  354.850006  354.850006   \n",
       "1256  2023-06-14  353.799988  357.440002  349.970001  352.369995  352.369995   \n",
       "1257  2023-06-15  353.019989  358.149994  353.019989  356.190002  356.190002   \n",
       "\n",
       "      Volume  \n",
       "1253  458000  \n",
       "1254  414500  \n",
       "1255  518800  \n",
       "1256  472700  \n",
       "1257  529000  "
      ]
     },
     "execution_count": 10,
     "metadata": {},
     "output_type": "execute_result"
    }
   ],
   "source": [
    "IT.tail()"
   ]
  },
  {
   "cell_type": "code",
   "execution_count": 11,
   "id": "b946b30a-4c2e-43c8-900c-3fc3c2bcddb8",
   "metadata": {},
   "outputs": [],
   "source": [
    "# It appears for IT we only have about 1 year of data"
   ]
  },
  {
   "cell_type": "code",
   "execution_count": 12,
   "id": "0c92d816-5d8b-4545-b94f-95a3a5f00a76",
   "metadata": {},
   "outputs": [
    {
     "data": {
      "text/html": [
       "<div>\n",
       "<style scoped>\n",
       "    .dataframe tbody tr th:only-of-type {\n",
       "        vertical-align: middle;\n",
       "    }\n",
       "\n",
       "    .dataframe tbody tr th {\n",
       "        vertical-align: top;\n",
       "    }\n",
       "\n",
       "    .dataframe thead th {\n",
       "        text-align: right;\n",
       "    }\n",
       "</style>\n",
       "<table border=\"1\" class=\"dataframe\">\n",
       "  <thead>\n",
       "    <tr style=\"text-align: right;\">\n",
       "      <th></th>\n",
       "      <th>Date</th>\n",
       "      <th>Open</th>\n",
       "      <th>High</th>\n",
       "      <th>Low</th>\n",
       "      <th>Close</th>\n",
       "    </tr>\n",
       "  </thead>\n",
       "  <tbody>\n",
       "    <tr>\n",
       "      <th>0</th>\n",
       "      <td>6/16/2023</td>\n",
       "      <td>1,536.36</td>\n",
       "      <td>1,536.25</td>\n",
       "      <td>1,536.25</td>\n",
       "      <td>1,536.25</td>\n",
       "    </tr>\n",
       "    <tr>\n",
       "      <th>1</th>\n",
       "      <td>6/15/2023</td>\n",
       "      <td>1,512.91</td>\n",
       "      <td>1,536.36</td>\n",
       "      <td>1,536.36</td>\n",
       "      <td>1,536.36</td>\n",
       "    </tr>\n",
       "    <tr>\n",
       "      <th>2</th>\n",
       "      <td>6/14/2023</td>\n",
       "      <td>1,530.05</td>\n",
       "      <td>1,512.91</td>\n",
       "      <td>1,512.91</td>\n",
       "      <td>1,512.91</td>\n",
       "    </tr>\n",
       "    <tr>\n",
       "      <th>3</th>\n",
       "      <td>6/13/2023</td>\n",
       "      <td>1,522.00</td>\n",
       "      <td>1,530.05</td>\n",
       "      <td>1,530.05</td>\n",
       "      <td>1,530.05</td>\n",
       "    </tr>\n",
       "    <tr>\n",
       "      <th>4</th>\n",
       "      <td>6/12/2023</td>\n",
       "      <td>1,515.05</td>\n",
       "      <td>1,522.00</td>\n",
       "      <td>1,522.00</td>\n",
       "      <td>1,522.00</td>\n",
       "    </tr>\n",
       "  </tbody>\n",
       "</table>\n",
       "</div>"
      ],
      "text/plain": [
       "        Date      Open      High       Low     Close\n",
       "0  6/16/2023  1,536.36  1,536.25  1,536.25  1,536.25\n",
       "1  6/15/2023  1,512.91  1,536.36  1,536.36  1,536.36\n",
       "2  6/14/2023  1,530.05  1,512.91  1,512.91  1,512.91\n",
       "3  6/13/2023  1,522.00  1,530.05  1,530.05  1,530.05\n",
       "4  6/12/2023  1,515.05  1,522.00  1,522.00  1,522.00"
      ]
     },
     "execution_count": 12,
     "metadata": {},
     "output_type": "execute_result"
    }
   ],
   "source": [
    "Healthcare.head()"
   ]
  },
  {
   "cell_type": "code",
   "execution_count": 13,
   "id": "41a96c46-c4d6-4010-bd96-c65951d01b2f",
   "metadata": {},
   "outputs": [
    {
     "data": {
      "text/html": [
       "<div>\n",
       "<style scoped>\n",
       "    .dataframe tbody tr th:only-of-type {\n",
       "        vertical-align: middle;\n",
       "    }\n",
       "\n",
       "    .dataframe tbody tr th {\n",
       "        vertical-align: top;\n",
       "    }\n",
       "\n",
       "    .dataframe thead th {\n",
       "        text-align: right;\n",
       "    }\n",
       "</style>\n",
       "<table border=\"1\" class=\"dataframe\">\n",
       "  <thead>\n",
       "    <tr style=\"text-align: right;\">\n",
       "      <th></th>\n",
       "      <th>Date</th>\n",
       "      <th>Open</th>\n",
       "      <th>High</th>\n",
       "      <th>Low</th>\n",
       "      <th>Close</th>\n",
       "    </tr>\n",
       "  </thead>\n",
       "  <tbody>\n",
       "    <tr>\n",
       "      <th>247</th>\n",
       "      <td>6/23/2022</td>\n",
       "      <td>1,450.41</td>\n",
       "      <td>1,482.55</td>\n",
       "      <td>1,482.55</td>\n",
       "      <td>1,482.55</td>\n",
       "    </tr>\n",
       "    <tr>\n",
       "      <th>248</th>\n",
       "      <td>6/22/2022</td>\n",
       "      <td>1,430.06</td>\n",
       "      <td>1,450.41</td>\n",
       "      <td>1,450.41</td>\n",
       "      <td>1,450.41</td>\n",
       "    </tr>\n",
       "    <tr>\n",
       "      <th>249</th>\n",
       "      <td>6/21/2022</td>\n",
       "      <td>1,393.22</td>\n",
       "      <td>1,430.06</td>\n",
       "      <td>1,430.06</td>\n",
       "      <td>1,430.06</td>\n",
       "    </tr>\n",
       "    <tr>\n",
       "      <th>250</th>\n",
       "      <td>6/17/2022</td>\n",
       "      <td>1,392.94</td>\n",
       "      <td>1,393.22</td>\n",
       "      <td>1,393.22</td>\n",
       "      <td>1,393.22</td>\n",
       "    </tr>\n",
       "    <tr>\n",
       "      <th>251</th>\n",
       "      <td>6/16/2022</td>\n",
       "      <td>1,414.45</td>\n",
       "      <td>1,392.94</td>\n",
       "      <td>1,392.94</td>\n",
       "      <td>1,392.94</td>\n",
       "    </tr>\n",
       "  </tbody>\n",
       "</table>\n",
       "</div>"
      ],
      "text/plain": [
       "          Date      Open      High       Low     Close\n",
       "247  6/23/2022  1,450.41  1,482.55  1,482.55  1,482.55\n",
       "248  6/22/2022  1,430.06  1,450.41  1,450.41  1,450.41\n",
       "249  6/21/2022  1,393.22  1,430.06  1,430.06  1,430.06\n",
       "250  6/17/2022  1,392.94  1,393.22  1,393.22  1,393.22\n",
       "251  6/16/2022  1,414.45  1,392.94  1,392.94  1,392.94"
      ]
     },
     "execution_count": 13,
     "metadata": {},
     "output_type": "execute_result"
    }
   ],
   "source": [
    "Healthcare.tail()"
   ]
  },
  {
   "cell_type": "code",
   "execution_count": 14,
   "id": "3ef1718a-30f9-4807-a7bd-e34d3112722f",
   "metadata": {},
   "outputs": [
    {
     "data": {
      "text/html": [
       "<div>\n",
       "<style scoped>\n",
       "    .dataframe tbody tr th:only-of-type {\n",
       "        vertical-align: middle;\n",
       "    }\n",
       "\n",
       "    .dataframe tbody tr th {\n",
       "        vertical-align: top;\n",
       "    }\n",
       "\n",
       "    .dataframe thead th {\n",
       "        text-align: right;\n",
       "    }\n",
       "</style>\n",
       "<table border=\"1\" class=\"dataframe\">\n",
       "  <thead>\n",
       "    <tr style=\"text-align: right;\">\n",
       "      <th></th>\n",
       "      <th>Unnamed: 0.1</th>\n",
       "      <th>Unnamed: 0</th>\n",
       "      <th>Date</th>\n",
       "      <th>Open</th>\n",
       "      <th>High</th>\n",
       "      <th>Low</th>\n",
       "      <th>Close*</th>\n",
       "      <th>Adj Close**</th>\n",
       "      <th>Volume</th>\n",
       "    </tr>\n",
       "  </thead>\n",
       "  <tbody>\n",
       "    <tr>\n",
       "      <th>0</th>\n",
       "      <td>0</td>\n",
       "      <td>0</td>\n",
       "      <td>Jun 16, 2023</td>\n",
       "      <td>1,309.45</td>\n",
       "      <td>1,310.06</td>\n",
       "      <td>1,297.96</td>\n",
       "      <td>1,298.65</td>\n",
       "      <td>1,298.65</td>\n",
       "      <td>610,126,300</td>\n",
       "    </tr>\n",
       "    <tr>\n",
       "      <th>1</th>\n",
       "      <td>1</td>\n",
       "      <td>1</td>\n",
       "      <td>Jun 15, 2023</td>\n",
       "      <td>1,281.80</td>\n",
       "      <td>1,305.70</td>\n",
       "      <td>1,278.47</td>\n",
       "      <td>1,301.04</td>\n",
       "      <td>1,301.04</td>\n",
       "      <td>494,538,800</td>\n",
       "    </tr>\n",
       "    <tr>\n",
       "      <th>2</th>\n",
       "      <td>2</td>\n",
       "      <td>2</td>\n",
       "      <td>Jun 14, 2023</td>\n",
       "      <td>1,295.86</td>\n",
       "      <td>1,299.41</td>\n",
       "      <td>1,275.46</td>\n",
       "      <td>1,292.23</td>\n",
       "      <td>1,292.23</td>\n",
       "      <td>508,152,400</td>\n",
       "    </tr>\n",
       "    <tr>\n",
       "      <th>3</th>\n",
       "      <td>3</td>\n",
       "      <td>3</td>\n",
       "      <td>Jun 13, 2023</td>\n",
       "      <td>1,292.28</td>\n",
       "      <td>1,294.55</td>\n",
       "      <td>1,280.39</td>\n",
       "      <td>1,293.65</td>\n",
       "      <td>1,293.65</td>\n",
       "      <td>494,163,200</td>\n",
       "    </tr>\n",
       "    <tr>\n",
       "      <th>4</th>\n",
       "      <td>4</td>\n",
       "      <td>4</td>\n",
       "      <td>Jun 12, 2023</td>\n",
       "      <td>1,267.53</td>\n",
       "      <td>1,282.99</td>\n",
       "      <td>1,263.15</td>\n",
       "      <td>1,280.79</td>\n",
       "      <td>1,280.79</td>\n",
       "      <td>535,114,300</td>\n",
       "    </tr>\n",
       "  </tbody>\n",
       "</table>\n",
       "</div>"
      ],
      "text/plain": [
       "   Unnamed: 0.1  Unnamed: 0          Date      Open      High       Low  \\\n",
       "0             0           0  Jun 16, 2023  1,309.45  1,310.06  1,297.96   \n",
       "1             1           1  Jun 15, 2023  1,281.80  1,305.70  1,278.47   \n",
       "2             2           2  Jun 14, 2023  1,295.86  1,299.41  1,275.46   \n",
       "3             3           3  Jun 13, 2023  1,292.28  1,294.55  1,280.39   \n",
       "4             4           4  Jun 12, 2023  1,267.53  1,282.99  1,263.15   \n",
       "\n",
       "     Close* Adj Close**       Volume  \n",
       "0  1,298.65    1,298.65  610,126,300  \n",
       "1  1,301.04    1,301.04  494,538,800  \n",
       "2  1,292.23    1,292.23  508,152,400  \n",
       "3  1,293.65    1,293.65  494,163,200  \n",
       "4  1,280.79    1,280.79  535,114,300  "
      ]
     },
     "execution_count": 14,
     "metadata": {},
     "output_type": "execute_result"
    }
   ],
   "source": [
    "CD.head()"
   ]
  },
  {
   "cell_type": "code",
   "execution_count": 15,
   "id": "4b180b21-49f7-4859-8c68-1f93999b0b55",
   "metadata": {},
   "outputs": [
    {
     "data": {
      "text/html": [
       "<div>\n",
       "<style scoped>\n",
       "    .dataframe tbody tr th:only-of-type {\n",
       "        vertical-align: middle;\n",
       "    }\n",
       "\n",
       "    .dataframe tbody tr th {\n",
       "        vertical-align: top;\n",
       "    }\n",
       "\n",
       "    .dataframe thead th {\n",
       "        text-align: right;\n",
       "    }\n",
       "</style>\n",
       "<table border=\"1\" class=\"dataframe\">\n",
       "  <thead>\n",
       "    <tr style=\"text-align: right;\">\n",
       "      <th></th>\n",
       "      <th>Unnamed: 0.1</th>\n",
       "      <th>Unnamed: 0</th>\n",
       "      <th>Date</th>\n",
       "      <th>Open</th>\n",
       "      <th>High</th>\n",
       "      <th>Low</th>\n",
       "      <th>Close*</th>\n",
       "      <th>Adj Close**</th>\n",
       "      <th>Volume</th>\n",
       "    </tr>\n",
       "  </thead>\n",
       "  <tbody>\n",
       "    <tr>\n",
       "      <th>1253</th>\n",
       "      <td>1253</td>\n",
       "      <td>1253</td>\n",
       "      <td>Jun 25, 2018</td>\n",
       "      <td>881.99</td>\n",
       "      <td>882.23</td>\n",
       "      <td>862.38</td>\n",
       "      <td>867.52</td>\n",
       "      <td>867.52</td>\n",
       "      <td>-</td>\n",
       "    </tr>\n",
       "    <tr>\n",
       "      <th>1254</th>\n",
       "      <td>1254</td>\n",
       "      <td>1254</td>\n",
       "      <td>Jun 22, 2018</td>\n",
       "      <td>892.64</td>\n",
       "      <td>893.14</td>\n",
       "      <td>886.10</td>\n",
       "      <td>886.81</td>\n",
       "      <td>886.81</td>\n",
       "      <td>-</td>\n",
       "    </tr>\n",
       "    <tr>\n",
       "      <th>1255</th>\n",
       "      <td>1255</td>\n",
       "      <td>1255</td>\n",
       "      <td>Jun 21, 2018</td>\n",
       "      <td>895.70</td>\n",
       "      <td>896.44</td>\n",
       "      <td>886.67</td>\n",
       "      <td>888.02</td>\n",
       "      <td>888.02</td>\n",
       "      <td>-</td>\n",
       "    </tr>\n",
       "    <tr>\n",
       "      <th>1256</th>\n",
       "      <td>1256</td>\n",
       "      <td>1256</td>\n",
       "      <td>Jun 20, 2018</td>\n",
       "      <td>895.18</td>\n",
       "      <td>897.11</td>\n",
       "      <td>891.43</td>\n",
       "      <td>894.32</td>\n",
       "      <td>894.32</td>\n",
       "      <td>-</td>\n",
       "    </tr>\n",
       "    <tr>\n",
       "      <th>1257</th>\n",
       "      <td>1257</td>\n",
       "      <td>1257</td>\n",
       "      <td>Jun 19, 2018</td>\n",
       "      <td>884.54</td>\n",
       "      <td>890.22</td>\n",
       "      <td>881.92</td>\n",
       "      <td>890.09</td>\n",
       "      <td>890.09</td>\n",
       "      <td>NaN</td>\n",
       "    </tr>\n",
       "  </tbody>\n",
       "</table>\n",
       "</div>"
      ],
      "text/plain": [
       "      Unnamed: 0.1  Unnamed: 0          Date    Open    High     Low  Close*  \\\n",
       "1253          1253        1253  Jun 25, 2018  881.99  882.23  862.38  867.52   \n",
       "1254          1254        1254  Jun 22, 2018  892.64  893.14  886.10  886.81   \n",
       "1255          1255        1255  Jun 21, 2018  895.70  896.44  886.67  888.02   \n",
       "1256          1256        1256  Jun 20, 2018  895.18  897.11  891.43  894.32   \n",
       "1257          1257        1257  Jun 19, 2018  884.54  890.22  881.92  890.09   \n",
       "\n",
       "     Adj Close** Volume  \n",
       "1253      867.52      -  \n",
       "1254      886.81      -  \n",
       "1255      888.02      -  \n",
       "1256      894.32      -  \n",
       "1257      890.09    NaN  "
      ]
     },
     "execution_count": 15,
     "metadata": {},
     "output_type": "execute_result"
    }
   ],
   "source": [
    "CD.tail()"
   ]
  },
  {
   "cell_type": "code",
   "execution_count": 16,
   "id": "93014a51-e3c0-44e2-bf8b-4a0779b4c8ff",
   "metadata": {},
   "outputs": [],
   "source": [
    "# Here we have a good 5 years of data"
   ]
  },
  {
   "cell_type": "markdown",
   "id": "4534642b-cdf6-4e81-8238-a9811e4d0d39",
   "metadata": {},
   "source": [
    "## We will plan on creating 12 data points, one for each month since we are limited by the IT dataset. \n",
    "> The end goal will be to show the average difference between the High and Low prices on a percentage basis. We will take the average on a monthly bassis from June 2022 to June 2023.These dates are chosen based on what is available in the IT dataset. With this format applied to each dataset we can merge all of the data together and assess correlation and divergence. "
   ]
  },
  {
   "cell_type": "markdown",
   "id": "7239f722-7f2d-4d21-afee-5451457fce29",
   "metadata": {},
   "source": [
    "# Step 1: Wrangle the data"
   ]
  },
  {
   "cell_type": "code",
   "execution_count": 17,
   "id": "1f42dd3b-b65b-4638-8f38-c84d131e5548",
   "metadata": {},
   "outputs": [],
   "source": [
    "# Here are the wrangline objectives\n",
    "\n",
    "# We need the Date in numeric format.\n",
    "\n",
    "# Create a column showing the difference between High and Low as a percent.\n",
    "\n",
    "# Create a new df with a '_W' at the end to indicate Wrangling with only necesary columns\n",
    "\n",
    "# Isolate Date range for June 2022 to June 2023\n",
    "\n",
    "# Parse the Dates \n",
    "\n",
    "# Group the data by month and calculate the mean\n",
    "\n",
    "# Create visualization for individual dataset"
   ]
  },
  {
   "cell_type": "code",
   "execution_count": 20,
   "id": "b670a6a8-fced-4ebf-8c22-170586aeb9af",
   "metadata": {},
   "outputs": [],
   "source": [
    "# Converting dates to datetime format\n",
    "\n",
    "Financials['Date'] = pd.to_datetime(Financials['Date'])\n",
    "IT['Date'] = pd.to_datetime(IT['Date'])\n",
    "Healthcare['Date'] = pd.to_datetime(Healthcare['Date'])\n",
    "CD['Date'] = pd.to_datetime(CD['Date'], format='%b %d, %Y')"
   ]
  },
  {
   "cell_type": "markdown",
   "id": "2e4b3194-592e-42aa-8be4-53e4137245d3",
   "metadata": {},
   "source": [
    "### In the Consumer Staples Dataset (Healthcare) the prices are string Dtype. They must be converted to numeric for calculating the difference. "
   ]
  },
  {
   "cell_type": "code",
   "execution_count": 22,
   "id": "1110e904-a470-4007-95dd-8d65baca31cc",
   "metadata": {},
   "outputs": [],
   "source": [
    "CD['High'] = pd.to_numeric(CD['High'], errors='coerce')\n",
    "CD['Low'] = pd.to_numeric(CD['Low'], errors='coerce')"
   ]
  },
  {
   "cell_type": "code",
   "execution_count": 28,
   "id": "bb39b507-7371-4ee5-8c21-28fb096675b3",
   "metadata": {},
   "outputs": [],
   "source": [
    "Healthcare['High'] = pd.to_numeric(Healthcare['High'], errors='coerce')\n",
    "Healthcare['Low'] = pd.to_numeric(Healthcare['Low'], errors='coerce')"
   ]
  },
  {
   "cell_type": "code",
   "execution_count": 40,
   "id": "273b51f1-bf25-454e-bb8a-d9684ae08fa7",
   "metadata": {},
   "outputs": [],
   "source": [
    "Healthcare['High'] = pd.to_numeric(Healthcare['High'])\n",
    "Healthcare['Low'] = pd.to_numeric(Healthcare['Low'])"
   ]
  },
  {
   "cell_type": "code",
   "execution_count": 41,
   "id": "9d7f4105-32f1-4ef1-b277-749bfb5cc155",
   "metadata": {},
   "outputs": [
    {
     "name": "stdout",
     "output_type": "stream",
     "text": [
      "<class 'pandas.core.frame.DataFrame'>\n",
      "RangeIndex: 252 entries, 0 to 251\n",
      "Data columns (total 6 columns):\n",
      " #   Column           Non-Null Count  Dtype         \n",
      "---  ------           --------------  -----         \n",
      " 0   Date             252 non-null    datetime64[ns]\n",
      " 1   Open             252 non-null    object        \n",
      " 2   High             0 non-null      float64       \n",
      " 3   Low              0 non-null      float64       \n",
      " 4   Close            252 non-null    object        \n",
      " 5   diff_Healthcare  0 non-null      float64       \n",
      "dtypes: datetime64[ns](1), float64(3), object(2)\n",
      "memory usage: 11.9+ KB\n"
     ]
    }
   ],
   "source": [
    "Healthcare.info()"
   ]
  },
  {
   "cell_type": "code",
   "execution_count": 29,
   "id": "2eb25e3f-7388-490f-ba6e-126b6a7ea000",
   "metadata": {},
   "outputs": [],
   "source": [
    "# Create Column showing the difference beween the Open and Close price !!!as a percentage!!!\n",
    "# ** The percent changed is based on the opening price for the session\n",
    "\n",
    "# All of these columns will eventually be merged so we need to add a suffix to the colunms\n",
    "\n",
    "Financials['diff_financials'] = ((Financials['High'] - Financials['Low'])/ Financials['Low']) * (100)\n",
    "IT['diff_IT'] = ((IT['High'] - IT['Low'])/ IT['Low']) * (100)\n",
    "Healthcare['diff_Healthcare'] = ((Healthcare['High'] - Healthcare['Low'])/ Healthcare['Low']) * (100)\n",
    "CD['diff_CD'] = ((CD['High'] - CD['Low'])/ CD['Low']) * (100)"
   ]
  },
  {
   "cell_type": "markdown",
   "id": "ff995c9c-b1e1-4b42-94ca-45defb6cf213",
   "metadata": {},
   "source": [
    "### Here we can inspect the changes before moving forward \n",
    "> Specifically we are looking at our difference column\n",
    "\n",
    "> The difference column require a unique ID for the data it represents since we are merging the datasets. The standard naming convention will be 'diff_suffix\""
   ]
  },
  {
   "cell_type": "code",
   "execution_count": 30,
   "id": "48eeef1a-c770-4435-9e10-1613b9ccfd8e",
   "metadata": {},
   "outputs": [
    {
     "data": {
      "text/html": [
       "<div>\n",
       "<style scoped>\n",
       "    .dataframe tbody tr th:only-of-type {\n",
       "        vertical-align: middle;\n",
       "    }\n",
       "\n",
       "    .dataframe tbody tr th {\n",
       "        vertical-align: top;\n",
       "    }\n",
       "\n",
       "    .dataframe thead th {\n",
       "        text-align: right;\n",
       "    }\n",
       "</style>\n",
       "<table border=\"1\" class=\"dataframe\">\n",
       "  <thead>\n",
       "    <tr style=\"text-align: right;\">\n",
       "      <th></th>\n",
       "      <th>Date</th>\n",
       "      <th>Open</th>\n",
       "      <th>High</th>\n",
       "      <th>Low</th>\n",
       "      <th>Close</th>\n",
       "      <th>Adj Close</th>\n",
       "      <th>Volume</th>\n",
       "      <th>diff_financials</th>\n",
       "    </tr>\n",
       "  </thead>\n",
       "  <tbody>\n",
       "    <tr>\n",
       "      <th>0</th>\n",
       "      <td>2018-06-18</td>\n",
       "      <td>69.629997</td>\n",
       "      <td>70.099998</td>\n",
       "      <td>69.330002</td>\n",
       "      <td>70.059998</td>\n",
       "      <td>62.412540</td>\n",
       "      <td>409300</td>\n",
       "      <td>1.110625</td>\n",
       "    </tr>\n",
       "    <tr>\n",
       "      <th>1</th>\n",
       "      <td>2018-06-19</td>\n",
       "      <td>69.379997</td>\n",
       "      <td>70.099998</td>\n",
       "      <td>69.279999</td>\n",
       "      <td>69.940002</td>\n",
       "      <td>62.305649</td>\n",
       "      <td>438000</td>\n",
       "      <td>1.183601</td>\n",
       "    </tr>\n",
       "    <tr>\n",
       "      <th>2</th>\n",
       "      <td>2018-06-20</td>\n",
       "      <td>70.360001</td>\n",
       "      <td>70.449997</td>\n",
       "      <td>69.779999</td>\n",
       "      <td>69.830002</td>\n",
       "      <td>62.207642</td>\n",
       "      <td>427600</td>\n",
       "      <td>0.960158</td>\n",
       "    </tr>\n",
       "    <tr>\n",
       "      <th>3</th>\n",
       "      <td>2018-06-21</td>\n",
       "      <td>69.599998</td>\n",
       "      <td>69.980003</td>\n",
       "      <td>69.150002</td>\n",
       "      <td>69.620003</td>\n",
       "      <td>62.020561</td>\n",
       "      <td>1670900</td>\n",
       "      <td>1.200291</td>\n",
       "    </tr>\n",
       "    <tr>\n",
       "      <th>4</th>\n",
       "      <td>2018-06-22</td>\n",
       "      <td>70.000000</td>\n",
       "      <td>70.099998</td>\n",
       "      <td>69.230003</td>\n",
       "      <td>69.250000</td>\n",
       "      <td>61.690964</td>\n",
       "      <td>300500</td>\n",
       "      <td>1.256673</td>\n",
       "    </tr>\n",
       "  </tbody>\n",
       "</table>\n",
       "</div>"
      ],
      "text/plain": [
       "        Date       Open       High        Low      Close  Adj Close   Volume  \\\n",
       "0 2018-06-18  69.629997  70.099998  69.330002  70.059998  62.412540   409300   \n",
       "1 2018-06-19  69.379997  70.099998  69.279999  69.940002  62.305649   438000   \n",
       "2 2018-06-20  70.360001  70.449997  69.779999  69.830002  62.207642   427600   \n",
       "3 2018-06-21  69.599998  69.980003  69.150002  69.620003  62.020561  1670900   \n",
       "4 2018-06-22  70.000000  70.099998  69.230003  69.250000  61.690964   300500   \n",
       "\n",
       "   diff_financials  \n",
       "0         1.110625  \n",
       "1         1.183601  \n",
       "2         0.960158  \n",
       "3         1.200291  \n",
       "4         1.256673  "
      ]
     },
     "execution_count": 30,
     "metadata": {},
     "output_type": "execute_result"
    }
   ],
   "source": [
    "Financials.head()"
   ]
  },
  {
   "cell_type": "code",
   "execution_count": 31,
   "id": "288fa2cf-c657-473b-9e12-7a02ea3d5a1c",
   "metadata": {},
   "outputs": [
    {
     "data": {
      "text/html": [
       "<div>\n",
       "<style scoped>\n",
       "    .dataframe tbody tr th:only-of-type {\n",
       "        vertical-align: middle;\n",
       "    }\n",
       "\n",
       "    .dataframe tbody tr th {\n",
       "        vertical-align: top;\n",
       "    }\n",
       "\n",
       "    .dataframe thead th {\n",
       "        text-align: right;\n",
       "    }\n",
       "</style>\n",
       "<table border=\"1\" class=\"dataframe\">\n",
       "  <thead>\n",
       "    <tr style=\"text-align: right;\">\n",
       "      <th></th>\n",
       "      <th>Date</th>\n",
       "      <th>Open</th>\n",
       "      <th>High</th>\n",
       "      <th>Low</th>\n",
       "      <th>Close</th>\n",
       "      <th>Adj Close</th>\n",
       "      <th>Volume</th>\n",
       "      <th>diff_IT</th>\n",
       "    </tr>\n",
       "  </thead>\n",
       "  <tbody>\n",
       "    <tr>\n",
       "      <th>0</th>\n",
       "      <td>2018-06-18</td>\n",
       "      <td>137.679993</td>\n",
       "      <td>138.250000</td>\n",
       "      <td>136.699997</td>\n",
       "      <td>137.759995</td>\n",
       "      <td>137.759995</td>\n",
       "      <td>361400</td>\n",
       "      <td>1.133872</td>\n",
       "    </tr>\n",
       "    <tr>\n",
       "      <th>1</th>\n",
       "      <td>2018-06-19</td>\n",
       "      <td>136.720001</td>\n",
       "      <td>137.789993</td>\n",
       "      <td>135.910004</td>\n",
       "      <td>137.199997</td>\n",
       "      <td>137.199997</td>\n",
       "      <td>539800</td>\n",
       "      <td>1.383260</td>\n",
       "    </tr>\n",
       "    <tr>\n",
       "      <th>2</th>\n",
       "      <td>2018-06-20</td>\n",
       "      <td>137.320007</td>\n",
       "      <td>137.699997</td>\n",
       "      <td>136.039993</td>\n",
       "      <td>136.520004</td>\n",
       "      <td>136.520004</td>\n",
       "      <td>522400</td>\n",
       "      <td>1.220232</td>\n",
       "    </tr>\n",
       "    <tr>\n",
       "      <th>3</th>\n",
       "      <td>2018-06-21</td>\n",
       "      <td>136.660004</td>\n",
       "      <td>137.229996</td>\n",
       "      <td>135.380005</td>\n",
       "      <td>135.820007</td>\n",
       "      <td>135.820007</td>\n",
       "      <td>318700</td>\n",
       "      <td>1.366517</td>\n",
       "    </tr>\n",
       "    <tr>\n",
       "      <th>4</th>\n",
       "      <td>2018-06-22</td>\n",
       "      <td>136.080002</td>\n",
       "      <td>137.419998</td>\n",
       "      <td>134.639999</td>\n",
       "      <td>134.960007</td>\n",
       "      <td>134.960007</td>\n",
       "      <td>1090500</td>\n",
       "      <td>2.064765</td>\n",
       "    </tr>\n",
       "  </tbody>\n",
       "</table>\n",
       "</div>"
      ],
      "text/plain": [
       "        Date        Open        High         Low       Close   Adj Close  \\\n",
       "0 2018-06-18  137.679993  138.250000  136.699997  137.759995  137.759995   \n",
       "1 2018-06-19  136.720001  137.789993  135.910004  137.199997  137.199997   \n",
       "2 2018-06-20  137.320007  137.699997  136.039993  136.520004  136.520004   \n",
       "3 2018-06-21  136.660004  137.229996  135.380005  135.820007  135.820007   \n",
       "4 2018-06-22  136.080002  137.419998  134.639999  134.960007  134.960007   \n",
       "\n",
       "    Volume   diff_IT  \n",
       "0   361400  1.133872  \n",
       "1   539800  1.383260  \n",
       "2   522400  1.220232  \n",
       "3   318700  1.366517  \n",
       "4  1090500  2.064765  "
      ]
     },
     "execution_count": 31,
     "metadata": {},
     "output_type": "execute_result"
    }
   ],
   "source": [
    "IT.head()"
   ]
  },
  {
   "cell_type": "code",
   "execution_count": 32,
   "id": "7c854cd4-84f3-4e2b-b62b-07940f5a2bf5",
   "metadata": {},
   "outputs": [
    {
     "data": {
      "text/html": [
       "<div>\n",
       "<style scoped>\n",
       "    .dataframe tbody tr th:only-of-type {\n",
       "        vertical-align: middle;\n",
       "    }\n",
       "\n",
       "    .dataframe tbody tr th {\n",
       "        vertical-align: top;\n",
       "    }\n",
       "\n",
       "    .dataframe thead th {\n",
       "        text-align: right;\n",
       "    }\n",
       "</style>\n",
       "<table border=\"1\" class=\"dataframe\">\n",
       "  <thead>\n",
       "    <tr style=\"text-align: right;\">\n",
       "      <th></th>\n",
       "      <th>Date</th>\n",
       "      <th>Open</th>\n",
       "      <th>High</th>\n",
       "      <th>Low</th>\n",
       "      <th>Close</th>\n",
       "      <th>diff_Healthcare</th>\n",
       "    </tr>\n",
       "  </thead>\n",
       "  <tbody>\n",
       "    <tr>\n",
       "      <th>0</th>\n",
       "      <td>2023-06-16</td>\n",
       "      <td>1,536.36</td>\n",
       "      <td>NaN</td>\n",
       "      <td>NaN</td>\n",
       "      <td>1,536.25</td>\n",
       "      <td>NaN</td>\n",
       "    </tr>\n",
       "    <tr>\n",
       "      <th>1</th>\n",
       "      <td>2023-06-15</td>\n",
       "      <td>1,512.91</td>\n",
       "      <td>NaN</td>\n",
       "      <td>NaN</td>\n",
       "      <td>1,536.36</td>\n",
       "      <td>NaN</td>\n",
       "    </tr>\n",
       "    <tr>\n",
       "      <th>2</th>\n",
       "      <td>2023-06-14</td>\n",
       "      <td>1,530.05</td>\n",
       "      <td>NaN</td>\n",
       "      <td>NaN</td>\n",
       "      <td>1,512.91</td>\n",
       "      <td>NaN</td>\n",
       "    </tr>\n",
       "    <tr>\n",
       "      <th>3</th>\n",
       "      <td>2023-06-13</td>\n",
       "      <td>1,522.00</td>\n",
       "      <td>NaN</td>\n",
       "      <td>NaN</td>\n",
       "      <td>1,530.05</td>\n",
       "      <td>NaN</td>\n",
       "    </tr>\n",
       "    <tr>\n",
       "      <th>4</th>\n",
       "      <td>2023-06-12</td>\n",
       "      <td>1,515.05</td>\n",
       "      <td>NaN</td>\n",
       "      <td>NaN</td>\n",
       "      <td>1,522.00</td>\n",
       "      <td>NaN</td>\n",
       "    </tr>\n",
       "  </tbody>\n",
       "</table>\n",
       "</div>"
      ],
      "text/plain": [
       "        Date      Open  High  Low     Close  diff_Healthcare\n",
       "0 2023-06-16  1,536.36   NaN  NaN  1,536.25              NaN\n",
       "1 2023-06-15  1,512.91   NaN  NaN  1,536.36              NaN\n",
       "2 2023-06-14  1,530.05   NaN  NaN  1,512.91              NaN\n",
       "3 2023-06-13  1,522.00   NaN  NaN  1,530.05              NaN\n",
       "4 2023-06-12  1,515.05   NaN  NaN  1,522.00              NaN"
      ]
     },
     "execution_count": 32,
     "metadata": {},
     "output_type": "execute_result"
    }
   ],
   "source": [
    "Healthcare.head()"
   ]
  },
  {
   "cell_type": "code",
   "execution_count": 33,
   "id": "9e0f6df9-e5df-40d3-8e3b-325e5e5352e1",
   "metadata": {},
   "outputs": [
    {
     "data": {
      "text/html": [
       "<div>\n",
       "<style scoped>\n",
       "    .dataframe tbody tr th:only-of-type {\n",
       "        vertical-align: middle;\n",
       "    }\n",
       "\n",
       "    .dataframe tbody tr th {\n",
       "        vertical-align: top;\n",
       "    }\n",
       "\n",
       "    .dataframe thead th {\n",
       "        text-align: right;\n",
       "    }\n",
       "</style>\n",
       "<table border=\"1\" class=\"dataframe\">\n",
       "  <thead>\n",
       "    <tr style=\"text-align: right;\">\n",
       "      <th></th>\n",
       "      <th>Unnamed: 0.1</th>\n",
       "      <th>Unnamed: 0</th>\n",
       "      <th>Date</th>\n",
       "      <th>Open</th>\n",
       "      <th>High</th>\n",
       "      <th>Low</th>\n",
       "      <th>Close*</th>\n",
       "      <th>Adj Close**</th>\n",
       "      <th>Volume</th>\n",
       "      <th>diff_CD</th>\n",
       "    </tr>\n",
       "  </thead>\n",
       "  <tbody>\n",
       "    <tr>\n",
       "      <th>0</th>\n",
       "      <td>0</td>\n",
       "      <td>0</td>\n",
       "      <td>2023-06-16</td>\n",
       "      <td>1,309.45</td>\n",
       "      <td>NaN</td>\n",
       "      <td>NaN</td>\n",
       "      <td>1,298.65</td>\n",
       "      <td>1,298.65</td>\n",
       "      <td>610,126,300</td>\n",
       "      <td>NaN</td>\n",
       "    </tr>\n",
       "    <tr>\n",
       "      <th>1</th>\n",
       "      <td>1</td>\n",
       "      <td>1</td>\n",
       "      <td>2023-06-15</td>\n",
       "      <td>1,281.80</td>\n",
       "      <td>NaN</td>\n",
       "      <td>NaN</td>\n",
       "      <td>1,301.04</td>\n",
       "      <td>1,301.04</td>\n",
       "      <td>494,538,800</td>\n",
       "      <td>NaN</td>\n",
       "    </tr>\n",
       "    <tr>\n",
       "      <th>2</th>\n",
       "      <td>2</td>\n",
       "      <td>2</td>\n",
       "      <td>2023-06-14</td>\n",
       "      <td>1,295.86</td>\n",
       "      <td>NaN</td>\n",
       "      <td>NaN</td>\n",
       "      <td>1,292.23</td>\n",
       "      <td>1,292.23</td>\n",
       "      <td>508,152,400</td>\n",
       "      <td>NaN</td>\n",
       "    </tr>\n",
       "    <tr>\n",
       "      <th>3</th>\n",
       "      <td>3</td>\n",
       "      <td>3</td>\n",
       "      <td>2023-06-13</td>\n",
       "      <td>1,292.28</td>\n",
       "      <td>NaN</td>\n",
       "      <td>NaN</td>\n",
       "      <td>1,293.65</td>\n",
       "      <td>1,293.65</td>\n",
       "      <td>494,163,200</td>\n",
       "      <td>NaN</td>\n",
       "    </tr>\n",
       "    <tr>\n",
       "      <th>4</th>\n",
       "      <td>4</td>\n",
       "      <td>4</td>\n",
       "      <td>2023-06-12</td>\n",
       "      <td>1,267.53</td>\n",
       "      <td>NaN</td>\n",
       "      <td>NaN</td>\n",
       "      <td>1,280.79</td>\n",
       "      <td>1,280.79</td>\n",
       "      <td>535,114,300</td>\n",
       "      <td>NaN</td>\n",
       "    </tr>\n",
       "  </tbody>\n",
       "</table>\n",
       "</div>"
      ],
      "text/plain": [
       "   Unnamed: 0.1  Unnamed: 0       Date      Open  High  Low    Close*  \\\n",
       "0             0           0 2023-06-16  1,309.45   NaN  NaN  1,298.65   \n",
       "1             1           1 2023-06-15  1,281.80   NaN  NaN  1,301.04   \n",
       "2             2           2 2023-06-14  1,295.86   NaN  NaN  1,292.23   \n",
       "3             3           3 2023-06-13  1,292.28   NaN  NaN  1,293.65   \n",
       "4             4           4 2023-06-12  1,267.53   NaN  NaN  1,280.79   \n",
       "\n",
       "  Adj Close**       Volume  diff_CD  \n",
       "0    1,298.65  610,126,300      NaN  \n",
       "1    1,301.04  494,538,800      NaN  \n",
       "2    1,292.23  508,152,400      NaN  \n",
       "3    1,293.65  494,163,200      NaN  \n",
       "4    1,280.79  535,114,300      NaN  "
      ]
     },
     "execution_count": 33,
     "metadata": {},
     "output_type": "execute_result"
    }
   ],
   "source": [
    "CD.head()"
   ]
  },
  {
   "cell_type": "markdown",
   "id": "0eba8ba1-9314-412a-889a-da70d2de233c",
   "metadata": {},
   "source": [
    "## Now we are creating our wrangled dataframe with '_W' suffix.\n",
    "> This dataset will be trimmed down containing only necessary data for the analysis."
   ]
  },
  {
   "cell_type": "code",
   "execution_count": 34,
   "id": "a7d401c9-b6f0-4cf9-aa27-d703ddaf3a7b",
   "metadata": {},
   "outputs": [],
   "source": [
    "Financials_W = Financials[['Date', 'diff_financials']]\n",
    "IT_W = IT[['Date', 'diff_IT']]\n",
    "Healthcare_W = Healthcare[['Date','diff_Healthcare']]\n",
    "CD_W = CD[['Date', 'diff_CD']]"
   ]
  },
  {
   "cell_type": "markdown",
   "id": "e396d35e-4363-4063-82f1-3f1bfbf50798",
   "metadata": {},
   "source": [
    "#### Take a look and make sure this is correct"
   ]
  },
  {
   "cell_type": "code",
   "execution_count": 35,
   "id": "192933a2-9995-4f60-83d9-b3613b050412",
   "metadata": {},
   "outputs": [
    {
     "data": {
      "text/html": [
       "<div>\n",
       "<style scoped>\n",
       "    .dataframe tbody tr th:only-of-type {\n",
       "        vertical-align: middle;\n",
       "    }\n",
       "\n",
       "    .dataframe tbody tr th {\n",
       "        vertical-align: top;\n",
       "    }\n",
       "\n",
       "    .dataframe thead th {\n",
       "        text-align: right;\n",
       "    }\n",
       "</style>\n",
       "<table border=\"1\" class=\"dataframe\">\n",
       "  <thead>\n",
       "    <tr style=\"text-align: right;\">\n",
       "      <th></th>\n",
       "      <th>Date</th>\n",
       "      <th>diff_financials</th>\n",
       "    </tr>\n",
       "  </thead>\n",
       "  <tbody>\n",
       "    <tr>\n",
       "      <th>0</th>\n",
       "      <td>2018-06-18</td>\n",
       "      <td>1.110625</td>\n",
       "    </tr>\n",
       "    <tr>\n",
       "      <th>1</th>\n",
       "      <td>2018-06-19</td>\n",
       "      <td>1.183601</td>\n",
       "    </tr>\n",
       "  </tbody>\n",
       "</table>\n",
       "</div>"
      ],
      "text/plain": [
       "        Date  diff_financials\n",
       "0 2018-06-18         1.110625\n",
       "1 2018-06-19         1.183601"
      ]
     },
     "execution_count": 35,
     "metadata": {},
     "output_type": "execute_result"
    }
   ],
   "source": [
    "Financials_W.head(2)"
   ]
  },
  {
   "cell_type": "code",
   "execution_count": 36,
   "id": "3b5f171a-5f5b-4e81-9699-4f998dc46e2a",
   "metadata": {},
   "outputs": [
    {
     "data": {
      "text/html": [
       "<div>\n",
       "<style scoped>\n",
       "    .dataframe tbody tr th:only-of-type {\n",
       "        vertical-align: middle;\n",
       "    }\n",
       "\n",
       "    .dataframe tbody tr th {\n",
       "        vertical-align: top;\n",
       "    }\n",
       "\n",
       "    .dataframe thead th {\n",
       "        text-align: right;\n",
       "    }\n",
       "</style>\n",
       "<table border=\"1\" class=\"dataframe\">\n",
       "  <thead>\n",
       "    <tr style=\"text-align: right;\">\n",
       "      <th></th>\n",
       "      <th>Date</th>\n",
       "      <th>diff_IT</th>\n",
       "    </tr>\n",
       "  </thead>\n",
       "  <tbody>\n",
       "    <tr>\n",
       "      <th>0</th>\n",
       "      <td>2018-06-18</td>\n",
       "      <td>1.133872</td>\n",
       "    </tr>\n",
       "    <tr>\n",
       "      <th>1</th>\n",
       "      <td>2018-06-19</td>\n",
       "      <td>1.383260</td>\n",
       "    </tr>\n",
       "  </tbody>\n",
       "</table>\n",
       "</div>"
      ],
      "text/plain": [
       "        Date   diff_IT\n",
       "0 2018-06-18  1.133872\n",
       "1 2018-06-19  1.383260"
      ]
     },
     "execution_count": 36,
     "metadata": {},
     "output_type": "execute_result"
    }
   ],
   "source": [
    "IT_W.head(2)"
   ]
  },
  {
   "cell_type": "code",
   "execution_count": 37,
   "id": "c15254c1-c43c-4ecd-8a9f-e5a098d9c7aa",
   "metadata": {},
   "outputs": [
    {
     "data": {
      "text/html": [
       "<div>\n",
       "<style scoped>\n",
       "    .dataframe tbody tr th:only-of-type {\n",
       "        vertical-align: middle;\n",
       "    }\n",
       "\n",
       "    .dataframe tbody tr th {\n",
       "        vertical-align: top;\n",
       "    }\n",
       "\n",
       "    .dataframe thead th {\n",
       "        text-align: right;\n",
       "    }\n",
       "</style>\n",
       "<table border=\"1\" class=\"dataframe\">\n",
       "  <thead>\n",
       "    <tr style=\"text-align: right;\">\n",
       "      <th></th>\n",
       "      <th>Date</th>\n",
       "      <th>diff_Healthcare</th>\n",
       "    </tr>\n",
       "  </thead>\n",
       "  <tbody>\n",
       "    <tr>\n",
       "      <th>0</th>\n",
       "      <td>2023-06-16</td>\n",
       "      <td>NaN</td>\n",
       "    </tr>\n",
       "    <tr>\n",
       "      <th>1</th>\n",
       "      <td>2023-06-15</td>\n",
       "      <td>NaN</td>\n",
       "    </tr>\n",
       "  </tbody>\n",
       "</table>\n",
       "</div>"
      ],
      "text/plain": [
       "        Date  diff_Healthcare\n",
       "0 2023-06-16              NaN\n",
       "1 2023-06-15              NaN"
      ]
     },
     "execution_count": 37,
     "metadata": {},
     "output_type": "execute_result"
    }
   ],
   "source": [
    "Healthcare_W.head(2)"
   ]
  },
  {
   "cell_type": "code",
   "execution_count": 38,
   "id": "777720f3-0c67-4270-bbbf-a30fc68d7e76",
   "metadata": {},
   "outputs": [
    {
     "data": {
      "text/html": [
       "<div>\n",
       "<style scoped>\n",
       "    .dataframe tbody tr th:only-of-type {\n",
       "        vertical-align: middle;\n",
       "    }\n",
       "\n",
       "    .dataframe tbody tr th {\n",
       "        vertical-align: top;\n",
       "    }\n",
       "\n",
       "    .dataframe thead th {\n",
       "        text-align: right;\n",
       "    }\n",
       "</style>\n",
       "<table border=\"1\" class=\"dataframe\">\n",
       "  <thead>\n",
       "    <tr style=\"text-align: right;\">\n",
       "      <th></th>\n",
       "      <th>Date</th>\n",
       "      <th>diff_CD</th>\n",
       "    </tr>\n",
       "  </thead>\n",
       "  <tbody>\n",
       "    <tr>\n",
       "      <th>0</th>\n",
       "      <td>2023-06-16</td>\n",
       "      <td>NaN</td>\n",
       "    </tr>\n",
       "    <tr>\n",
       "      <th>1</th>\n",
       "      <td>2023-06-15</td>\n",
       "      <td>NaN</td>\n",
       "    </tr>\n",
       "  </tbody>\n",
       "</table>\n",
       "</div>"
      ],
      "text/plain": [
       "        Date  diff_CD\n",
       "0 2023-06-16      NaN\n",
       "1 2023-06-15      NaN"
      ]
     },
     "execution_count": 38,
     "metadata": {},
     "output_type": "execute_result"
    }
   ],
   "source": [
    "CD_W.head(2)"
   ]
  },
  {
   "cell_type": "markdown",
   "id": "6f2ce85a-b7d6-4ae3-9df7-373bbda04fe8",
   "metadata": {},
   "source": [
    "## Trim the data down to only June 2022 to June 2023"
   ]
  },
  {
   "cell_type": "code",
   "execution_count": null,
   "id": "8a215aa6-5429-491e-94ca-72a592064737",
   "metadata": {},
   "outputs": [],
   "source": [
    "# Assign the start and end dates we want to filter as a variable\n",
    "start_date = pd.to_datetime('2022-06-01')\n",
    "end_date = pd.to_datetime('2023-06-30')"
   ]
  },
  {
   "cell_type": "code",
   "execution_count": null,
   "id": "eded9634-7634-4b4d-a65d-389acb2f06d0",
   "metadata": {},
   "outputs": [],
   "source": [
    "# Use stand and end dates to trim the data for the desired uniform dates. \n",
    "Financials_W = Financials_W[(Financials_W['Date'] >= start_date) & (Financials_W['Date'] <= end_date)]"
   ]
  },
  {
   "cell_type": "code",
   "execution_count": null,
   "id": "040c6d37-6490-4161-8772-596e40d8f7e0",
   "metadata": {},
   "outputs": [],
   "source": [
    "# Use stand and end dates to trim the data for the desired uniform dates. \n",
    "IT_W = IT_W[(IT_W['Date'] >= start_date) & (IT_W['Date'] <= end_date)]"
   ]
  },
  {
   "cell_type": "code",
   "execution_count": null,
   "id": "103ec01b-f063-474a-adf4-08040518b4cd",
   "metadata": {},
   "outputs": [],
   "source": [
    "# Use stand and end dates to trim the data for the desired uniform dates. \n",
    "Healthcare_W = Healthcare_W[(Healthcare_W['Date'] >= start_date) & (Healthcare_W['Date'] <= end_date)]"
   ]
  },
  {
   "cell_type": "code",
   "execution_count": null,
   "id": "f054b6a8-a3ad-46de-8fb1-6236d187cc26",
   "metadata": {},
   "outputs": [],
   "source": [
    "CD_W = CD_W[(CD_W['Date'] >= start_date) & (CD_W['Date'] <= end_date)]"
   ]
  },
  {
   "cell_type": "markdown",
   "id": "cc8c18ed-4a84-4a02-b4a9-883a995c2be2",
   "metadata": {},
   "source": [
    "### Financials- Parse dates, calcuate mean, and generate visualization"
   ]
  },
  {
   "cell_type": "code",
   "execution_count": null,
   "id": "598cea6d-f6e9-472a-a206-4ca176d0b7cd",
   "metadata": {
    "tags": []
   },
   "outputs": [],
   "source": [
    "# Extract year and month\n",
    "Financials_W['year_month'] = Financials_W['Date'].dt.strftime('%Y-%m')"
   ]
  },
  {
   "cell_type": "code",
   "execution_count": null,
   "id": "9d0e3608-3765-4e97-92ae-bdf834192301",
   "metadata": {},
   "outputs": [],
   "source": [
    "Financials_W.head(2)"
   ]
  },
  {
   "cell_type": "code",
   "execution_count": null,
   "id": "59461311-b0cb-478a-ae9f-8d5b87350464",
   "metadata": {},
   "outputs": [],
   "source": [
    "# Group the data by month and get the mean of the daily percent\n",
    "\n",
    "Financials_mean = Financials_W.groupby('year_month')['diff_financials'].mean()"
   ]
  },
  {
   "cell_type": "code",
   "execution_count": null,
   "id": "2ad6f48b-7b4f-43fa-87d6-7204b0ca8979",
   "metadata": {},
   "outputs": [],
   "source": [
    "# resetting the index corrects index to maintain column name integrity.\n",
    "Financials_mean = Financials_mean.reset_index()\n",
    "Financials_mean.head()"
   ]
  },
  {
   "cell_type": "code",
   "execution_count": null,
   "id": "0211b260-fc50-4145-b469-9f3091b9640c",
   "metadata": {},
   "outputs": [],
   "source": [
    "# Set the 'Year' column as the index\n",
    "\n",
    "Financials_mean = Financials_mean.reset_index() # resetting the index corrects index to maintain column name integrity.\n",
    "Financials_mean.set_index('year_month', inplace=True) # set_index assigns the date as the X axis\n",
    "\n",
    "# Plotting the Inflation Data as a line graph\n",
    "Financials_mean['diff_financials'].plot() # This assigns the data to be plotted\n",
    "plt.xlabel('Month/Year')\n",
    "plt.ylabel('Average Percent Change')\n",
    "plt.title('Materials Average Daily Price Change(in percent)')\n",
    "plt.show()"
   ]
  },
  {
   "cell_type": "markdown",
   "id": "e55fa522-4ef6-4dd3-9216-a90ee130587a",
   "metadata": {},
   "source": [
    "### IT- Parse dates, calcuate mean, and generate visualization"
   ]
  },
  {
   "cell_type": "code",
   "execution_count": null,
   "id": "dc6154bc-fbf7-4aa5-892d-5469ce7d3746",
   "metadata": {
    "tags": []
   },
   "outputs": [],
   "source": [
    "# Extract year and month\n",
    "IT_W['year_month'] = IT_W['Date'].dt.strftime('%Y-%m')"
   ]
  },
  {
   "cell_type": "code",
   "execution_count": null,
   "id": "eaba643c-5526-487b-98de-21d42d232596",
   "metadata": {},
   "outputs": [],
   "source": [
    "IT_W.head(2)"
   ]
  },
  {
   "cell_type": "code",
   "execution_count": null,
   "id": "1c21b10f-e43c-46e8-8927-5a2aa7b3cfa5",
   "metadata": {},
   "outputs": [],
   "source": [
    "# Group the data by month and get the mean of the daily percent\n",
    "\n",
    "IT_mean = IT_W.groupby('year_month')['diff_IT'].mean()"
   ]
  },
  {
   "cell_type": "code",
   "execution_count": null,
   "id": "9c88f242-f981-4a24-a11b-b70408ee5419",
   "metadata": {},
   "outputs": [],
   "source": [
    "# resetting the index corrects index to maintain column name integrity.\n",
    "IT_mean = IT_mean.reset_index()\n",
    "IT_mean.head()"
   ]
  },
  {
   "cell_type": "code",
   "execution_count": null,
   "id": "e5fba8a6-613e-4399-b9bb-40dd73c10353",
   "metadata": {},
   "outputs": [],
   "source": [
    "# Set the 'Year' column as the index\n",
    "\n",
    "IT_mean = IT_mean.reset_index() # resetting the index corrects index to maintain column name integrity.\n",
    "IT_mean.set_index('year_month', inplace=True) # set_index assigns the date as the X axis\n",
    "\n",
    "# Plotting the Inflation Data as a line graph\n",
    "IT_mean['diff_IT'].plot() # This assigns the data to be plotted\n",
    "plt.xlabel('Month/Year')\n",
    "plt.ylabel('Average Percent Change')\n",
    "plt.title('Information Technology Average Daily Price Change(in percent)')\n",
    "plt.show()"
   ]
  },
  {
   "cell_type": "markdown",
   "id": "3091b295-ab42-457e-b870-81a172c63ae5",
   "metadata": {},
   "source": [
    "### Healthcare- Parse dates, calcuate mean, and generate visualization"
   ]
  },
  {
   "cell_type": "code",
   "execution_count": null,
   "id": "c2e152bf-c54f-4d62-971f-26cff02c9c42",
   "metadata": {
    "tags": []
   },
   "outputs": [],
   "source": [
    "# Extract year and month\n",
    "Healthcare_W['year_month'] = Healthcare_W['Date'].dt.strftime('%Y-%m')"
   ]
  },
  {
   "cell_type": "code",
   "execution_count": null,
   "id": "033a64fb-13ab-4062-a549-5d29bd3c928c",
   "metadata": {},
   "outputs": [],
   "source": [
    "Healthcare_W.head(2)"
   ]
  },
  {
   "cell_type": "code",
   "execution_count": null,
   "id": "a33e1025-7cee-43ce-b837-acec37bc779e",
   "metadata": {},
   "outputs": [],
   "source": [
    "# Group the data by month and get the mean of the daily percent\n",
    "\n",
    "Healthcare_mean = Healthcare_W.groupby('year_month')['diff_Healthcare'].mean()"
   ]
  },
  {
   "cell_type": "code",
   "execution_count": null,
   "id": "664bd77d-1b4a-4a70-b200-82beb4093469",
   "metadata": {},
   "outputs": [],
   "source": [
    "# resetting the index corrects index to maintain column name integrity.\n",
    "Healthcare_mean = Healthcare_mean.reset_index()\n",
    "Healthcare_mean.head()"
   ]
  },
  {
   "cell_type": "code",
   "execution_count": null,
   "id": "7de005f9-d317-4f0b-8974-4be122148484",
   "metadata": {},
   "outputs": [],
   "source": [
    "# Set the 'Year' column as the index\n",
    "\n",
    "Healthcare_mean = Healthcare_mean.reset_index() # resetting the index corrects index to maintain column name integrity.\n",
    "Healthcare_mean.set_index('year_month', inplace=True) # set_index assigns the date as the X axi\n",
    "\n",
    "# Plotting the Inflation Data as a line graph\n",
    "Healthcare_mean['diff_Healthcare'].plot() # This assigns the data to be plotted\n",
    "plt.xlabel('Month/Year')\n",
    "plt.ylabel('Average Percent Change')\n",
    "plt.title('Consumer Staples Average Daily Price Change(in percent)')\n",
    "plt.show()"
   ]
  },
  {
   "cell_type": "code",
   "execution_count": null,
   "id": "e5056707-e370-43fc-9cf8-690f2c165354",
   "metadata": {},
   "outputs": [],
   "source": []
  },
  {
   "cell_type": "markdown",
   "id": "7ef15823-52a2-413e-921a-bc621c874391",
   "metadata": {},
   "source": [
    "### Consumer Discretionary(CD)- Parse dates, calcuate mean, and generate visualization"
   ]
  },
  {
   "cell_type": "code",
   "execution_count": null,
   "id": "071f5cc7-d30d-4fb0-abbf-34b332ca3679",
   "metadata": {
    "tags": []
   },
   "outputs": [],
   "source": [
    "# Extract year and month\n",
    "CD_W['year_month'] = CD_W['Date'].dt.strftime('%Y-%m')"
   ]
  },
  {
   "cell_type": "code",
   "execution_count": null,
   "id": "325d61b0-0f0e-45d8-aa16-941e7392e522",
   "metadata": {},
   "outputs": [],
   "source": [
    "CD_W.head(2)"
   ]
  },
  {
   "cell_type": "code",
   "execution_count": null,
   "id": "a7a085bc-6930-4a62-968b-9a64ae63d601",
   "metadata": {},
   "outputs": [],
   "source": [
    "# Group the data by month and get the mean of the daily percent\n",
    "\n",
    "CD_mean = CD_W.groupby('year_month')['diff_CD'].mean()"
   ]
  },
  {
   "cell_type": "code",
   "execution_count": null,
   "id": "a7a072a2-8006-4b16-9f4c-354a86220e07",
   "metadata": {},
   "outputs": [],
   "source": [
    "# resetting the index corrects index to maintain column name integrity.\n",
    "CD_mean = CD_mean.reset_index()\n",
    "CD_mean.head()"
   ]
  },
  {
   "cell_type": "code",
   "execution_count": null,
   "id": "85e990d3-c025-4c5d-8629-40875d7b98f2",
   "metadata": {},
   "outputs": [],
   "source": [
    "# Set the 'Year' column as the index\n",
    "\n",
    "CD_mean = CD_mean.reset_index() # resetting the index corrects index to maintain column name integrity.\n",
    "CD_mean.set_index('year_month', inplace=True) # set_index assigns the date as the X axi\n",
    "\n",
    "# Plotting the Inflation Data as a line graph\n",
    "CD_mean['diff_CD'].plot() # This assigns the data to be plotted\n",
    "plt.xlabel('Month/Year')\n",
    "plt.ylabel('Average Percent Change')\n",
    "plt.title('Consumer Discretionary Average Daily Price Change(in percent)')\n",
    "plt.show()"
   ]
  },
  {
   "cell_type": "markdown",
   "id": "573e656e-11fd-4cb0-b618-d1ab36183d97",
   "metadata": {},
   "source": [
    "# Now we combine the Datasets and put them all in one graph"
   ]
  },
  {
   "cell_type": "code",
   "execution_count": null,
   "id": "07a71135-c254-407f-a019-ca92cb4c151a",
   "metadata": {},
   "outputs": [],
   "source": [
    "# Merge materials data and IT data\n",
    "all_1 = pd.merge(Financials_mean, IT_mean, on='year_month', suffixes=('_mat', '_IT'))"
   ]
  },
  {
   "cell_type": "code",
   "execution_count": null,
   "id": "4cf92b9d-4dbe-4846-9049-2c87493348fe",
   "metadata": {},
   "outputs": [],
   "source": [
    "# Merge all_1 with Consumer Staples Data\n",
    "all_2 = pd.merge(all_1, Healthcare_mean, on='year_month',suffixes=('_all_1', '_Healthcare'))"
   ]
  },
  {
   "cell_type": "code",
   "execution_count": null,
   "id": "5e668b65-e8fa-4bb3-8212-7b43bc07d27f",
   "metadata": {},
   "outputs": [],
   "source": [
    "all_3 = pd.merge(all_2, CD_mean, on='year_month',suffixes=('_all_2', '_CD'))"
   ]
  },
  {
   "cell_type": "code",
   "execution_count": null,
   "id": "4b6e2bd4-d98f-4d6e-b21f-cae6e6149219",
   "metadata": {},
   "outputs": [],
   "source": [
    "all_3.head()"
   ]
  },
  {
   "cell_type": "code",
   "execution_count": null,
   "id": "8604433a-8311-4a8d-aaf4-24b7747dff4d",
   "metadata": {},
   "outputs": [],
   "source": [
    "# Select only necessary columnns for analysis\n",
    "all_4 = all_3[['diff_financials','diff_IT', 'diff_Healthcare']]"
   ]
  },
  {
   "cell_type": "markdown",
   "id": "a877fec4-9db8-4b44-89b5-d75387b51179",
   "metadata": {},
   "source": [
    "## Notice when all_3 is called without .reset_index() the year_month column is indexed properly with the other column names. \n",
    "> If you run all_3.columns 'year_month' will not display as a column name. Running .reset_index() remedies this"
   ]
  },
  {
   "cell_type": "code",
   "execution_count": null,
   "id": "348183aa-c4f3-4022-b42c-d3e744f3bab9",
   "metadata": {},
   "outputs": [],
   "source": [
    "\n",
    "all_4"
   ]
  },
  {
   "cell_type": "code",
   "execution_count": null,
   "id": "bbf968b6-a1e8-4baf-aa17-e6af5569bf39",
   "metadata": {},
   "outputs": [],
   "source": [
    "all_4.columns"
   ]
  },
  {
   "cell_type": "code",
   "execution_count": null,
   "id": "aac19744-6978-406f-a245-a79bade269f5",
   "metadata": {},
   "outputs": [],
   "source": [
    "all_4 = all_4.reset_index()\n",
    "all_4"
   ]
  },
  {
   "cell_type": "markdown",
   "id": "00ea40c9-61c2-4252-877c-f6a53c6aaf08",
   "metadata": {},
   "source": [
    "# Visualizing the combined data"
   ]
  },
  {
   "cell_type": "code",
   "execution_count": null,
   "id": "ad4eb70f-45ae-46e7-bc20-3695366b44d7",
   "metadata": {},
   "outputs": [],
   "source": [
    "\n",
    "\n",
    "# Set the 'Year' column as the index\n",
    "all_4 = all_4.reset_index()\n",
    "all_4.set_index('year_month', inplace=True)\n",
    "\n",
    "# Create the figure and axes\n",
    "fig, ax1 = plt.subplots()\n",
    "\n",
    "# Plotting the variables on the primary y-axis\n",
    "ax1.plot(all_4['diff_financials'], label='Financials')\n",
    "ax1.plot(all_4['diff_IT'], label='Information Techmology')\n",
    "ax1.plot(all_4['diff_Healthcare'], label='Healthcare')\n",
    "ax1.plot(all_4['diff_CD'], label='Consumer Discrationary')\n",
    "\n",
    "# Set the labels and title for the primary y-axis\n",
    "ax1.set_xlabel('Month/Year')\n",
    "ax1.set_ylabel('Percent Change')\n",
    "ax1.set_title('Average of Daily Volitility by month')\n",
    "\n",
    "# Rotate x-axis labels by 90 degrees\n",
    "plt.xticks(rotation=90)\n",
    "\n",
    "\n",
    "# Display the legend for both y-axes\n",
    "ax1.legend(loc='upper left') \n",
    "\n",
    "\n",
    "# Show the plot\n",
    "plt.show()\n"
   ]
  }
 ],
 "metadata": {
  "kernelspec": {
   "display_name": "Python 3 (ipykernel)",
   "language": "python",
   "name": "python3"
  },
  "language_info": {
   "codemirror_mode": {
    "name": "ipython",
    "version": 3
   },
   "file_extension": ".py",
   "mimetype": "text/x-python",
   "name": "python",
   "nbconvert_exporter": "python",
   "pygments_lexer": "ipython3",
   "version": "3.10.7"
  }
 },
 "nbformat": 4,
 "nbformat_minor": 5
}
