{
 "cells": [
  {
   "cell_type": "markdown",
   "id": "553ad5c3-b317-40ab-a865-d8e9da85717b",
   "metadata": {},
   "source": [
    "# Sentiment Analysis"
   ]
  },
  {
   "cell_type": "code",
   "execution_count": 3,
   "id": "4c061fee-238c-4833-b956-4fd90c75e4be",
   "metadata": {},
   "outputs": [],
   "source": [
    "# Requirements\n",
    "# Install PyTorch use the line below in command prompt\n",
    "\n",
    "# pip3 install torch torchvision torchaudio\n",
    "\n",
    "# Ensure you have the most up to date versio of pip by running\n",
    "# py -m pip install --upgrade pip\n",
    "\n",
    "# Install virtualenv to prevent global conflicts between package versions. Install by running:\n",
    "# py -m pip install --user virtualenv"
   ]
  },
  {
   "cell_type": "markdown",
   "id": "626d1beb-488c-40e3-ab64-be46fad35aa8",
   "metadata": {},
   "source": [
    "> Import Packages"
   ]
  },
  {
   "cell_type": "code",
   "execution_count": 1,
   "id": "829f2f0e-16e3-42f0-8057-734b70f9bb22",
   "metadata": {},
   "outputs": [
    {
     "ename": "ModuleNotFoundError",
     "evalue": "No module named 'transformers'",
     "output_type": "error",
     "traceback": [
      "\u001b[1;31m---------------------------------------------------------------------------\u001b[0m",
      "\u001b[1;31mModuleNotFoundError\u001b[0m                       Traceback (most recent call last)",
      "Cell \u001b[1;32mIn [1], line 5\u001b[0m\n\u001b[0;32m      2\u001b[0m \u001b[38;5;28;01mimport\u001b[39;00m \u001b[38;5;21;01mpandas\u001b[39;00m \u001b[38;5;28;01mas\u001b[39;00m \u001b[38;5;21;01mpd\u001b[39;00m\n\u001b[0;32m      4\u001b[0m \u001b[38;5;66;03m# Using hugging face package 'transformers' load function 'pipeline'\u001b[39;00m\n\u001b[1;32m----> 5\u001b[0m \u001b[38;5;28;01mfrom\u001b[39;00m \u001b[38;5;21;01mtransformers\u001b[39;00m \u001b[38;5;28;01mimport\u001b[39;00m pipeline\n",
      "\u001b[1;31mModuleNotFoundError\u001b[0m: No module named 'transformers'"
     ]
    }
   ],
   "source": [
    "# Data import and manipulation\n",
    "import pandas as pd\n",
    "\n",
    "# Using hugging face package 'transformers' load function 'pipeline'\n",
    "from transformers import pipeline"
   ]
  },
  {
   "cell_type": "code",
   "execution_count": null,
   "id": "278ea9ee-cc48-466e-a422-0f26e44ba809",
   "metadata": {},
   "outputs": [],
   "source": []
  }
 ],
 "metadata": {
  "kernelspec": {
   "display_name": "Python 3 (ipykernel)",
   "language": "python",
   "name": "python3"
  },
  "language_info": {
   "codemirror_mode": {
    "name": "ipython",
    "version": 3
   },
   "file_extension": ".py",
   "mimetype": "text/x-python",
   "name": "python",
   "nbconvert_exporter": "python",
   "pygments_lexer": "ipython3",
   "version": "3.11.3"
  }
 },
 "nbformat": 4,
 "nbformat_minor": 5
}
